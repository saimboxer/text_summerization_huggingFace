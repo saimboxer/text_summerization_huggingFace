{
 "cells": [
  {
   "cell_type": "code",
   "execution_count": 3,
   "metadata": {},
   "outputs": [
    {
     "name": "stdout",
     "output_type": "stream",
     "text": [
      "SacreBLEU score: 100.00000000000004\n"
     ]
    }
   ],
   "source": [
    "\"\"\"\n",
    "This helper script demonstrates how to use the sacrebleu library for evaluating \n",
    "the quality of machine-generated text against human reference texts. The BLEU \n",
    "(Bilingual Evaluation Understudy) score is a metric commonly used in natural language \n",
    "processing tasks such as machine translation and text summarization. This script \n",
    "shows how to load the sacrebleu metric, add predictions and references, and compute \n",
    "the BLEU score.\n",
    "\n",
    "Dependencies:\n",
    "- datasets\n",
    "\"\"\"\n",
    "\n",
    "from datasets import load_metric\n",
    "\n",
    "# Load the sacrebleu metric with trust_remote_code=True to allow the execution of custom code necessary for the metric\n",
    "bleu_metric = load_metric('sacrebleu', trust_remote_code=True)\n",
    "\n",
    "# Example generated summaries (these are the machine-generated texts to be evaluated)\n",
    "generated_summaries = [\"The cat is on the mat.\"]\n",
    "\n",
    "# Example reference summaries (these are the human-generated texts to compare against)\n",
    "reference_summaries = [[\"The cat is on the mat.\", \"There is a cat on the mat.\"]]\n",
    "\n",
    "# Add batches of predictions and references to the metric for evaluation\n",
    "bleu_metric.add_batch(predictions=generated_summaries, references=reference_summaries)\n",
    "\n",
    "# Compute the BLEU score using the accumulated data\n",
    "score = bleu_metric.compute()\n",
    "\n",
    "# Print the computed SacreBLEU score\n",
    "print(f\"SacreBLEU score: {score['score']}\")\n"
   ]
  },
  {
   "cell_type": "code",
   "execution_count": 7,
   "metadata": {},
   "outputs": [
    {
     "name": "stdout",
     "output_type": "stream",
     "text": [
      "Tokenized text: ['▁', 'T', 'h', 'i', 's', '▁i', 's', '▁a', 'n', '▁', 'e', 'x', 'a', 'm', 'p', 'l', 'e', '▁sentence', '▁f', 'or', '▁to', 'k', 'en', 'i', 'z', 'a', 't', 'i', 'o', 'n', '.']\n",
      "Detokenized text: This is an example sentence for tokenization.\n"
     ]
    }
   ],
   "source": [
    "\"\"\"\n",
    "This helper script demonstrates how to use the SentencePiece library for tokenizing text. \n",
    "SentencePiece is a text tokenizer and detokenizer that is especially useful for preprocessing text data for \n",
    "machine learning tasks such as text generation, translation, and summarization. This script shows \n",
    "how to train a SentencePiece model, tokenize text, and detokenize text.\n",
    "\n",
    "Dependencies:\n",
    "- sentencepiece\n",
    "\"\"\"\n",
    "\n",
    "import sentencepiece as spm\n",
    "\n",
    "# Generate a sample text corpus file if it does not exist\n",
    "sample_text = \"\"\"This is the first sentence.\n",
    "Here is another sentence.\n",
    "SentencePiece is a useful tool for tokenization.\n",
    "Let's add a few more sentences for good measure.\n",
    "This is the last sentence in the text corpus.\n",
    "\"\"\"\n",
    "\n",
    "with open('text_corpus.txt', 'w') as file:\n",
    "    file.write(sample_text)\n",
    "\n",
    "# Train a SentencePiece model\n",
    "input_file = 'text_corpus.txt'\n",
    "model_prefix = 'mymodel'\n",
    "vocab_size = 48  # Reduced vocabulary size\n",
    "\n",
    "spm.SentencePieceTrainer.Train(f'--input={input_file} --model_prefix={model_prefix} --vocab_size={vocab_size}')\n",
    "\n",
    "# Load the trained SentencePiece model\n",
    "sp = spm.SentencePieceProcessor()\n",
    "sp.load(f'{model_prefix}.model')\n",
    "\n",
    "# Example text to be tokenized\n",
    "text = \"This is an example sentence for tokenization.\"\n",
    "\n",
    "# Tokenize the text\n",
    "tokenized_text = sp.encode_as_pieces(text)\n",
    "print(f\"Tokenized text: {tokenized_text}\")\n",
    "\n",
    "# Detokenize the text\n",
    "detokenized_text = sp.decode_pieces(tokenized_text)\n",
    "print(f\"Detokenized text: {detokenized_text}\")\n"
   ]
  },
  {
   "cell_type": "code",
   "execution_count": 6,
   "metadata": {},
   "outputs": [
    {
     "name": "stdout",
     "output_type": "stream",
     "text": [
      "GET request status code: 200\n",
      "Response content: [\n",
      "  {\n",
      "    \"userId\": 1,\n",
      "    \"id\": 1,\n",
      "    \"title\": \"sunt aut facere repellat provident occaecati excepturi optio reprehenderit\",\n",
      "    \"body\": \"quia et suscipit\\nsuscipit recusandae consequuntur expedita et cum\\nreprehenderit molestiae ut ut quas totam\\nnostrum rerum est autem sunt rem eveniet architecto\"\n",
      "  },\n",
      "  {\n",
      "    \"userId\": 1,\n",
      "    \"id\": 2,\n",
      "    \"title\": \"qui est esse\",\n",
      "    \"body\": \"est rerum tempore vitae\\nsequi sint nihil reprehenderit dolor beatae ea dolores neque\\nfugiat blanditiis voluptate porro vel nihil molestiae ut reiciendis\\nqui aperiam non debitis possimus qui neque nisi nulla\"\n",
      "  },\n",
      "  {\n",
      "    \"userId\": 1,\n",
      "    \"id\": 3,\n",
      "    \"title\": \"ea molestias quasi exercitationem repellat qui ipsa sit aut\",\n",
      "    \"body\": \"et iusto sed quo iure\\nvoluptatem occaecati omnis eligendi aut ad\\nvoluptatem doloribus vel accusantium quis pariatur\\nmolestiae porro eius odio et labore et velit aut\"\n",
      "  },\n",
      "  {\n",
      "    \"userId\": 1,\n",
      "    \"id\": 4,\n",
      "    \"title\": \"eum et est occaecati\",\n",
      "    \"body\": \"ullam et saepe reiciendis voluptatem adipisci\\nsit amet autem assumenda provident rerum culpa\\nquis hic commodi nesciunt rem tenetur doloremque ipsam iure\\nquis sunt voluptatem rerum illo velit\"\n",
      "  },\n",
      "  {\n",
      "    \"userId\": 1,\n",
      "    \"id\": 5,\n",
      "    \"title\": \"nesciunt quas odio\",\n",
      "    \"body\": \"repudiandae veniam quaerat sunt sed\\nalias aut fugiat sit autem sed est\\nvoluptatem omnis possimus esse voluptatibus quis\\nest aut tenetur dolor neque\"\n",
      "  },\n",
      "  {\n",
      "    \"userId\": 1,\n",
      "    \"id\": 6,\n",
      "    \"title\": \"dolorem eum magni eos aperiam quia\",\n",
      "    \"body\": \"ut aspernatur corporis harum nihil quis provident sequi\\nmollitia nobis aliquid molestiae\\nperspiciatis et ea nemo ab reprehenderit accusantium quas\\nvoluptate dolores velit et doloremque molestiae\"\n",
      "  },\n",
      "  {\n",
      "    \"userId\": 1,\n",
      "    \"id\": 7,\n",
      "    \"title\": \"magnam facilis autem\",\n",
      "    \"body\": \"dolore placeat quibusdam ea quo vitae\\nmagni quis enim qui quis quo nemo aut saepe\\nquidem repellat excepturi ut quia\\nsunt ut sequi eos ea sed quas\"\n",
      "  },\n",
      "  {\n",
      "    \"userId\": 1,\n",
      "    \"id\": 8,\n",
      "    \"title\": \"dolorem dolore est ipsam\",\n",
      "    \"body\": \"dignissimos aperiam dolorem qui eum\\nfacilis quibusdam animi sint suscipit qui sint possimus cum\\nquaerat magni maiores excepturi\\nipsam ut commodi dolor voluptatum modi aut vitae\"\n",
      "  },\n",
      "  {\n",
      "    \"userId\": 1,\n",
      "    \"id\": 9,\n",
      "    \"title\": \"nesciunt iure omnis dolorem tempora et accusantium\",\n",
      "    \"body\": \"consectetur animi nesciunt iure dolore\\nenim quia ad\\nveniam autem ut quam aut nobis\\net est aut quod aut provident voluptas autem voluptas\"\n",
      "  },\n",
      "  {\n",
      "    \"userId\": 1,\n",
      "    \"id\": 10,\n",
      "    \"title\": \"optio molestias id quia eum\",\n",
      "    \"body\": \"quo et expedita modi cum officia vel magni\\ndoloribus qui repudiandae\\nvero nisi sit\\nquos veniam quod sed accusamus veritatis error\"\n",
      "  },\n",
      "  {\n",
      "    \"userId\": 2,\n",
      "    \"id\": 11,\n",
      "    \"title\": \"et ea vero quia laudantium autem\",\n",
      "    \"body\": \"delectus reiciendis molestiae occaecati non minima eveniet qui voluptatibus\\naccusamus in eum beatae sit\\nvel qui neque voluptates ut commodi qui incidunt\\nut animi commodi\"\n",
      "  },\n",
      "  {\n",
      "    \"userId\": 2,\n",
      "    \"id\": 12,\n",
      "    \"title\": \"in quibusdam tempore odit est dolorem\",\n",
      "    \"body\": \"itaque id aut magnam\\npraesentium quia et ea odit et ea voluptas et\\nsapiente quia nihil amet occaecati quia id voluptatem\\nincidunt ea est distinctio odio\"\n",
      "  },\n",
      "  {\n",
      "    \"userId\": 2,\n",
      "    \"id\": 13,\n",
      "    \"title\": \"dolorum ut in voluptas mollitia et saepe quo animi\",\n",
      "    \"body\": \"aut dicta possimus sint mollitia voluptas commodi quo doloremque\\niste corrupti reiciendis voluptatem eius rerum\\nsit cumque quod eligendi laborum minima\\nperferendis recusandae assumenda consectetur porro architecto ipsum ipsam\"\n",
      "  },\n",
      "  {\n",
      "    \"userId\": 2,\n",
      "    \"id\": 14,\n",
      "    \"title\": \"voluptatem eligendi optio\",\n",
      "    \"body\": \"fuga et accusamus dolorum perferendis illo voluptas\\nnon doloremque neque facere\\nad qui dolorum molestiae beatae\\nsed aut voluptas totam sit illum\"\n",
      "  },\n",
      "  {\n",
      "    \"userId\": 2,\n",
      "    \"id\": 15,\n",
      "    \"title\": \"eveniet quod temporibus\",\n",
      "    \"body\": \"reprehenderit quos placeat\\nvelit minima officia dolores impedit repudiandae molestiae nam\\nvoluptas recusandae quis delectus\\nofficiis harum fugiat vitae\"\n",
      "  },\n",
      "  {\n",
      "    \"userId\": 2,\n",
      "    \"id\": 16,\n",
      "    \"title\": \"sint suscipit perspiciatis velit dolorum rerum ipsa laboriosam odio\",\n",
      "    \"body\": \"suscipit nam nisi quo aperiam aut\\nasperiores eos fugit maiores voluptatibus quia\\nvoluptatem quis ullam qui in alias quia est\\nconsequatur magni mollitia accusamus ea nisi voluptate dicta\"\n",
      "  },\n",
      "  {\n",
      "    \"userId\": 2,\n",
      "    \"id\": 17,\n",
      "    \"title\": \"fugit voluptas sed molestias voluptatem provident\",\n",
      "    \"body\": \"eos voluptas et aut odit natus earum\\naspernatur fuga molestiae ullam\\ndeserunt ratione qui eos\\nqui nihil ratione nemo velit ut aut id quo\"\n",
      "  },\n",
      "  {\n",
      "    \"userId\": 2,\n",
      "    \"id\": 18,\n",
      "    \"title\": \"voluptate et itaque vero tempora molestiae\",\n",
      "    \"body\": \"eveniet quo quis\\nlaborum totam consequatur non dolor\\nut et est repudiandae\\nest voluptatem vel debitis et magnam\"\n",
      "  },\n",
      "  {\n",
      "    \"userId\": 2,\n",
      "    \"id\": 19,\n",
      "    \"title\": \"adipisci placeat illum aut reiciendis qui\",\n",
      "    \"body\": \"illum quis cupiditate provident sit magnam\\nea sed aut omnis\\nveniam maiores ullam consequatur atque\\nadipisci quo iste expedita sit quos voluptas\"\n",
      "  },\n",
      "  {\n",
      "    \"userId\": 2,\n",
      "    \"id\": 20,\n",
      "    \"title\": \"doloribus ad provident suscipit at\",\n",
      "    \"body\": \"qui consequuntur ducimus possimus quisquam amet similique\\nsuscipit porro ipsam amet\\neos veritatis officiis exercitationem vel fugit aut necessitatibus totam\\nomnis rerum consequatur expedita quidem cumque explicabo\"\n",
      "  },\n",
      "  {\n",
      "    \"userId\": 3,\n",
      "    \"id\": 21,\n",
      "    \"title\": \"asperiores ea ipsam voluptatibus modi minima quia sint\",\n",
      "    \"body\": \"repellat aliquid praesentium dolorem quo\\nsed totam minus non itaque\\nnihil labore molestiae sunt dolor eveniet hic recusandae veniam\\ntempora et tenetur expedita sunt\"\n",
      "  },\n",
      "  {\n",
      "    \"userId\": 3,\n",
      "    \"id\": 22,\n",
      "    \"title\": \"dolor sint quo a velit explicabo quia nam\",\n",
      "    \"body\": \"eos qui et ipsum ipsam suscipit aut\\nsed omnis non odio\\nexpedita earum mollitia molestiae aut atque rem suscipit\\nnam impedit esse\"\n",
      "  },\n",
      "  {\n",
      "    \"userId\": 3,\n",
      "    \"id\": 23,\n",
      "    \"title\": \"maxime id vitae nihil numquam\",\n",
      "    \"body\": \"veritatis unde neque eligendi\\nquae quod architecto quo neque vitae\\nest illo sit tempora doloremque fugit quod\\net et vel beatae sequi ullam sed tenetur perspiciatis\"\n",
      "  },\n",
      "  {\n",
      "    \"userId\": 3,\n",
      "    \"id\": 24,\n",
      "    \"title\": \"autem hic labore sunt dolores incidunt\",\n",
      "    \"body\": \"enim et ex nulla\\nomnis voluptas quia qui\\nvoluptatem consequatur numquam aliquam sunt\\ntotam recusandae id dignissimos aut sed asperiores deserunt\"\n",
      "  },\n",
      "  {\n",
      "    \"userId\": 3,\n",
      "    \"id\": 25,\n",
      "    \"title\": \"rem alias distinctio quo quis\",\n",
      "    \"body\": \"ullam consequatur ut\\nomnis quis sit vel consequuntur\\nipsa eligendi ipsum molestiae et omnis error nostrum\\nmolestiae illo tempore quia et distinctio\"\n",
      "  },\n",
      "  {\n",
      "    \"userId\": 3,\n",
      "    \"id\": 26,\n",
      "    \"title\": \"est et quae odit qui non\",\n",
      "    \"body\": \"similique esse doloribus nihil accusamus\\nomnis dolorem fuga consequuntur reprehenderit fugit recusandae temporibus\\nperspiciatis cum ut laudantium\\nomnis aut molestiae vel vero\"\n",
      "  },\n",
      "  {\n",
      "    \"userId\": 3,\n",
      "    \"id\": 27,\n",
      "    \"title\": \"quasi id et eos tenetur aut quo autem\",\n",
      "    \"body\": \"eum sed dolores ipsam sint possimus debitis occaecati\\ndebitis qui qui et\\nut placeat enim earum aut odit facilis\\nconsequatur suscipit necessitatibus rerum sed inventore temporibus consequatur\"\n",
      "  },\n",
      "  {\n",
      "    \"userId\": 3,\n",
      "    \"id\": 28,\n",
      "    \"title\": \"delectus ullam et corporis nulla voluptas sequi\",\n",
      "    \"body\": \"non et quaerat ex quae ad maiores\\nmaiores recusandae totam aut blanditiis mollitia quas illo\\nut voluptatibus voluptatem\\nsimilique nostrum eum\"\n",
      "  },\n",
      "  {\n",
      "    \"userId\": 3,\n",
      "    \"id\": 29,\n",
      "    \"title\": \"iusto eius quod necessitatibus culpa ea\",\n",
      "    \"body\": \"odit magnam ut saepe sed non qui\\ntempora atque nihil\\naccusamus illum doloribus illo dolor\\neligendi repudiandae odit magni similique sed cum maiores\"\n",
      "  },\n",
      "  {\n",
      "    \"userId\": 3,\n",
      "    \"id\": 30,\n",
      "    \"title\": \"a quo magni similique perferendis\",\n",
      "    \"body\": \"alias dolor cumque\\nimpedit blanditiis non eveniet odio maxime\\nblanditiis amet eius quis tempora quia autem rem\\na provident perspiciatis quia\"\n",
      "  },\n",
      "  {\n",
      "    \"userId\": 4,\n",
      "    \"id\": 31,\n",
      "    \"title\": \"ullam ut quidem id aut vel consequuntur\",\n",
      "    \"body\": \"debitis eius sed quibusdam non quis consectetur vitae\\nimpedit ut qui consequatur sed aut in\\nquidem sit nostrum et maiores adipisci atque\\nquaerat voluptatem adipisci repudiandae\"\n",
      "  },\n",
      "  {\n",
      "    \"userId\": 4,\n",
      "    \"id\": 32,\n",
      "    \"title\": \"doloremque illum aliquid sunt\",\n",
      "    \"body\": \"deserunt eos nobis asperiores et hic\\nest debitis repellat molestiae optio\\nnihil ratione ut eos beatae quibusdam distinctio maiores\\nearum voluptates et aut adipisci ea maiores voluptas maxime\"\n",
      "  },\n",
      "  {\n",
      "    \"userId\": 4,\n",
      "    \"id\": 33,\n",
      "    \"title\": \"qui explicabo molestiae dolorem\",\n",
      "    \"body\": \"rerum ut et numquam laborum odit est sit\\nid qui sint in\\nquasi tenetur tempore aperiam et quaerat qui in\\nrerum officiis sequi cumque quod\"\n",
      "  },\n",
      "  {\n",
      "    \"userId\": 4,\n",
      "    \"id\": 34,\n",
      "    \"title\": \"magnam ut rerum iure\",\n",
      "    \"body\": \"ea velit perferendis earum ut voluptatem voluptate itaque iusto\\ntotam pariatur in\\nnemo voluptatem voluptatem autem magni tempora minima in\\nest distinctio qui assumenda accusamus dignissimos officia nesciunt nobis\"\n",
      "  },\n",
      "  {\n",
      "    \"userId\": 4,\n",
      "    \"id\": 35,\n",
      "    \"title\": \"id nihil consequatur molestias animi provident\",\n",
      "    \"body\": \"nisi error delectus possimus ut eligendi vitae\\nplaceat eos harum cupiditate facilis reprehenderit voluptatem beatae\\nmodi ducimus quo illum voluptas eligendi\\net nobis quia fugit\"\n",
      "  },\n",
      "  {\n",
      "    \"userId\": 4,\n",
      "    \"id\": 36,\n",
      "    \"title\": \"fuga nam accusamus voluptas reiciendis itaque\",\n",
      "    \"body\": \"ad mollitia et omnis minus architecto odit\\nvoluptas doloremque maxime aut non ipsa qui alias veniam\\nblanditiis culpa aut quia nihil cumque facere et occaecati\\nqui aspernatur quia eaque ut aperiam inventore\"\n",
      "  },\n",
      "  {\n",
      "    \"userId\": 4,\n",
      "    \"id\": 37,\n",
      "    \"title\": \"provident vel ut sit ratione est\",\n",
      "    \"body\": \"debitis et eaque non officia sed nesciunt pariatur vel\\nvoluptatem iste vero et ea\\nnumquam aut expedita ipsum nulla in\\nvoluptates omnis consequatur aut enim officiis in quam qui\"\n",
      "  },\n",
      "  {\n",
      "    \"userId\": 4,\n",
      "    \"id\": 38,\n",
      "    \"title\": \"explicabo et eos deleniti nostrum ab id repellendus\",\n",
      "    \"body\": \"animi esse sit aut sit nesciunt assumenda eum voluptas\\nquia voluptatibus provident quia necessitatibus ea\\nrerum repudiandae quia voluptatem delectus fugit aut id quia\\nratione optio eos iusto veniam iure\"\n",
      "  },\n",
      "  {\n",
      "    \"userId\": 4,\n",
      "    \"id\": 39,\n",
      "    \"title\": \"eos dolorem iste accusantium est eaque quam\",\n",
      "    \"body\": \"corporis rerum ducimus vel eum accusantium\\nmaxime aspernatur a porro possimus iste omnis\\nest in deleniti asperiores fuga aut\\nvoluptas sapiente vel dolore minus voluptatem incidunt ex\"\n",
      "  },\n",
      "  {\n",
      "    \"userId\": 4,\n",
      "    \"id\": 40,\n",
      "    \"title\": \"enim quo cumque\",\n",
      "    \"body\": \"ut voluptatum aliquid illo tenetur nemo sequi quo facilis\\nipsum rem optio mollitia quas\\nvoluptatem eum voluptas qui\\nunde omnis voluptatem iure quasi maxime voluptas nam\"\n",
      "  },\n",
      "  {\n",
      "    \"userId\": 5,\n",
      "    \"id\": 41,\n",
      "    \"title\": \"non est facere\",\n",
      "    \"body\": \"molestias id nostrum\\nexcepturi molestiae dolore omnis repellendus quaerat saepe\\nconsectetur iste quaerat tenetur asperiores accusamus ex ut\\nnam quidem est ducimus sunt debitis saepe\"\n",
      "  },\n",
      "  {\n",
      "    \"userId\": 5,\n",
      "    \"id\": 42,\n",
      "    \"title\": \"commodi ullam sint et excepturi error explicabo praesentium voluptas\",\n",
      "    \"body\": \"odio fugit voluptatum ducimus earum autem est incidunt voluptatem\\nodit reiciendis aliquam sunt sequi nulla dolorem\\nnon facere repellendus voluptates quia\\nratione harum vitae ut\"\n",
      "  },\n",
      "  {\n",
      "    \"userId\": 5,\n",
      "    \"id\": 43,\n",
      "    \"title\": \"eligendi iste nostrum consequuntur adipisci praesentium sit beatae perferendis\",\n",
      "    \"body\": \"similique fugit est\\nillum et dolorum harum et voluptate eaque quidem\\nexercitationem quos nam commodi possimus cum odio nihil nulla\\ndolorum exercitationem magnam ex et a et distinctio debitis\"\n",
      "  },\n",
      "  {\n",
      "    \"userId\": 5,\n",
      "    \"id\": 44,\n",
      "    \"title\": \"optio dolor molestias sit\",\n",
      "    \"body\": \"temporibus est consectetur dolore\\net libero debitis vel velit laboriosam quia\\nipsum quibusdam qui itaque fuga rem aut\\nea et iure quam sed maxime ut distinctio quae\"\n",
      "  },\n",
      "  {\n",
      "    \"userId\": 5,\n",
      "    \"id\": 45,\n",
      "    \"title\": \"ut numquam possimus omnis eius suscipit laudantium iure\",\n",
      "    \"body\": \"est natus reiciendis nihil possimus aut provident\\nex et dolor\\nrepellat pariatur est\\nnobis rerum repellendus dolorem autem\"\n",
      "  },\n",
      "  {\n",
      "    \"userId\": 5,\n",
      "    \"id\": 46,\n",
      "    \"title\": \"aut quo modi neque nostrum ducimus\",\n",
      "    \"body\": \"voluptatem quisquam iste\\nvoluptatibus natus officiis facilis dolorem\\nquis quas ipsam\\nvel et voluptatum in aliquid\"\n",
      "  },\n",
      "  {\n",
      "    \"userId\": 5,\n",
      "    \"id\": 47,\n",
      "    \"title\": \"quibusdam cumque rem aut deserunt\",\n",
      "    \"body\": \"voluptatem assumenda ut qui ut cupiditate aut impedit veniam\\noccaecati nemo illum voluptatem laudantium\\nmolestiae beatae rerum ea iure soluta nostrum\\neligendi et voluptate\"\n",
      "  },\n",
      "  {\n",
      "    \"userId\": 5,\n",
      "    \"id\": 48,\n",
      "    \"title\": \"ut voluptatem illum ea doloribus itaque eos\",\n",
      "    \"body\": \"voluptates quo voluptatem facilis iure occaecati\\nvel assumenda rerum officia et\\nillum perspiciatis ab deleniti\\nlaudantium repellat ad ut et autem reprehenderit\"\n",
      "  },\n",
      "  {\n",
      "    \"userId\": 5,\n",
      "    \"id\": 49,\n",
      "    \"title\": \"laborum non sunt aut ut assumenda perspiciatis voluptas\",\n",
      "    \"body\": \"inventore ab sint\\nnatus fugit id nulla sequi architecto nihil quaerat\\neos tenetur in in eum veritatis non\\nquibusdam officiis aspernatur cumque aut commodi aut\"\n",
      "  },\n",
      "  {\n",
      "    \"userId\": 5,\n",
      "    \"id\": 50,\n",
      "    \"title\": \"repellendus qui recusandae incidunt voluptates tenetur qui omnis exercitationem\",\n",
      "    \"body\": \"error suscipit maxime adipisci consequuntur recusandae\\nvoluptas eligendi et est et voluptates\\nquia distinctio ab amet quaerat molestiae et vitae\\nadipisci impedit sequi nesciunt quis consectetur\"\n",
      "  },\n",
      "  {\n",
      "    \"userId\": 6,\n",
      "    \"id\": 51,\n",
      "    \"title\": \"soluta aliquam aperiam consequatur illo quis voluptas\",\n",
      "    \"body\": \"sunt dolores aut doloribus\\ndolore doloribus voluptates tempora et\\ndoloremque et quo\\ncum asperiores sit consectetur dolorem\"\n",
      "  },\n",
      "  {\n",
      "    \"userId\": 6,\n",
      "    \"id\": 52,\n",
      "    \"title\": \"qui enim et consequuntur quia animi quis voluptate quibusdam\",\n",
      "    \"body\": \"iusto est quibusdam fuga quas quaerat molestias\\na enim ut sit accusamus enim\\ntemporibus iusto accusantium provident architecto\\nsoluta esse reprehenderit qui laborum\"\n",
      "  },\n",
      "  {\n",
      "    \"userId\": 6,\n",
      "    \"id\": 53,\n",
      "    \"title\": \"ut quo aut ducimus alias\",\n",
      "    \"body\": \"minima harum praesentium eum rerum illo dolore\\nquasi exercitationem rerum nam\\nporro quis neque quo\\nconsequatur minus dolor quidem veritatis sunt non explicabo similique\"\n",
      "  },\n",
      "  {\n",
      "    \"userId\": 6,\n",
      "    \"id\": 54,\n",
      "    \"title\": \"sit asperiores ipsam eveniet odio non quia\",\n",
      "    \"body\": \"totam corporis dignissimos\\nvitae dolorem ut occaecati accusamus\\nex velit deserunt\\net exercitationem vero incidunt corrupti mollitia\"\n",
      "  },\n",
      "  {\n",
      "    \"userId\": 6,\n",
      "    \"id\": 55,\n",
      "    \"title\": \"sit vel voluptatem et non libero\",\n",
      "    \"body\": \"debitis excepturi ea perferendis harum libero optio\\neos accusamus cum fuga ut sapiente repudiandae\\net ut incidunt omnis molestiae\\nnihil ut eum odit\"\n",
      "  },\n",
      "  {\n",
      "    \"userId\": 6,\n",
      "    \"id\": 56,\n",
      "    \"title\": \"qui et at rerum necessitatibus\",\n",
      "    \"body\": \"aut est omnis dolores\\nneque rerum quod ea rerum velit pariatur beatae excepturi\\net provident voluptas corrupti\\ncorporis harum reprehenderit dolores eligendi\"\n",
      "  },\n",
      "  {\n",
      "    \"userId\": 6,\n",
      "    \"id\": 57,\n",
      "    \"title\": \"sed ab est est\",\n",
      "    \"body\": \"at pariatur consequuntur earum quidem\\nquo est laudantium soluta voluptatem\\nqui ullam et est\\net cum voluptas voluptatum repellat est\"\n",
      "  },\n",
      "  {\n",
      "    \"userId\": 6,\n",
      "    \"id\": 58,\n",
      "    \"title\": \"voluptatum itaque dolores nisi et quasi\",\n",
      "    \"body\": \"veniam voluptatum quae adipisci id\\net id quia eos ad et dolorem\\naliquam quo nisi sunt eos impedit error\\nad similique veniam\"\n",
      "  },\n",
      "  {\n",
      "    \"userId\": 6,\n",
      "    \"id\": 59,\n",
      "    \"title\": \"qui commodi dolor at maiores et quis id accusantium\",\n",
      "    \"body\": \"perspiciatis et quam ea autem temporibus non voluptatibus qui\\nbeatae a earum officia nesciunt dolores suscipit voluptas et\\nanimi doloribus cum rerum quas et magni\\net hic ut ut commodi expedita sunt\"\n",
      "  },\n",
      "  {\n",
      "    \"userId\": 6,\n",
      "    \"id\": 60,\n",
      "    \"title\": \"consequatur placeat omnis quisquam quia reprehenderit fugit veritatis facere\",\n",
      "    \"body\": \"asperiores sunt ab assumenda cumque modi velit\\nqui esse omnis\\nvoluptate et fuga perferendis voluptas\\nillo ratione amet aut et omnis\"\n",
      "  },\n",
      "  {\n",
      "    \"userId\": 7,\n",
      "    \"id\": 61,\n",
      "    \"title\": \"voluptatem doloribus consectetur est ut ducimus\",\n",
      "    \"body\": \"ab nemo optio odio\\ndelectus tenetur corporis similique nobis repellendus rerum omnis facilis\\nvero blanditiis debitis in nesciunt doloribus dicta dolores\\nmagnam minus velit\"\n",
      "  },\n",
      "  {\n",
      "    \"userId\": 7,\n",
      "    \"id\": 62,\n",
      "    \"title\": \"beatae enim quia vel\",\n",
      "    \"body\": \"enim aspernatur illo distinctio quae praesentium\\nbeatae alias amet delectus qui voluptate distinctio\\nodit sint accusantium autem omnis\\nquo molestiae omnis ea eveniet optio\"\n",
      "  },\n",
      "  {\n",
      "    \"userId\": 7,\n",
      "    \"id\": 63,\n",
      "    \"title\": \"voluptas blanditiis repellendus animi ducimus error sapiente et suscipit\",\n",
      "    \"body\": \"enim adipisci aspernatur nemo\\nnumquam omnis facere dolorem dolor ex quis temporibus incidunt\\nab delectus culpa quo reprehenderit blanditiis asperiores\\naccusantium ut quam in voluptatibus voluptas ipsam dicta\"\n",
      "  },\n",
      "  {\n",
      "    \"userId\": 7,\n",
      "    \"id\": 64,\n",
      "    \"title\": \"et fugit quas eum in in aperiam quod\",\n",
      "    \"body\": \"id velit blanditiis\\neum ea voluptatem\\nmolestiae sint occaecati est eos perspiciatis\\nincidunt a error provident eaque aut aut qui\"\n",
      "  },\n",
      "  {\n",
      "    \"userId\": 7,\n",
      "    \"id\": 65,\n",
      "    \"title\": \"consequatur id enim sunt et et\",\n",
      "    \"body\": \"voluptatibus ex esse\\nsint explicabo est aliquid cumque adipisci fuga repellat labore\\nmolestiae corrupti ex saepe at asperiores et perferendis\\nnatus id esse incidunt pariatur\"\n",
      "  },\n",
      "  {\n",
      "    \"userId\": 7,\n",
      "    \"id\": 66,\n",
      "    \"title\": \"repudiandae ea animi iusto\",\n",
      "    \"body\": \"officia veritatis tenetur vero qui itaque\\nsint non ratione\\nsed et ut asperiores iusto eos molestiae nostrum\\nveritatis quibusdam et nemo iusto saepe\"\n",
      "  },\n",
      "  {\n",
      "    \"userId\": 7,\n",
      "    \"id\": 67,\n",
      "    \"title\": \"aliquid eos sed fuga est maxime repellendus\",\n",
      "    \"body\": \"reprehenderit id nostrum\\nvoluptas doloremque pariatur sint et accusantium quia quod aspernatur\\net fugiat amet\\nnon sapiente et consequatur necessitatibus molestiae\"\n",
      "  },\n",
      "  {\n",
      "    \"userId\": 7,\n",
      "    \"id\": 68,\n",
      "    \"title\": \"odio quis facere architecto reiciendis optio\",\n",
      "    \"body\": \"magnam molestiae perferendis quisquam\\nqui cum reiciendis\\nquaerat animi amet hic inventore\\nea quia deleniti quidem saepe porro velit\"\n",
      "  },\n",
      "  {\n",
      "    \"userId\": 7,\n",
      "    \"id\": 69,\n",
      "    \"title\": \"fugiat quod pariatur odit minima\",\n",
      "    \"body\": \"officiis error culpa consequatur modi asperiores et\\ndolorum assumenda voluptas et vel qui aut vel rerum\\nvoluptatum quisquam perspiciatis quia rerum consequatur totam quas\\nsequi commodi repudiandae asperiores et saepe a\"\n",
      "  },\n",
      "  {\n",
      "    \"userId\": 7,\n",
      "    \"id\": 70,\n",
      "    \"title\": \"voluptatem laborum magni\",\n",
      "    \"body\": \"sunt repellendus quae\\nest asperiores aut deleniti esse accusamus repellendus quia aut\\nquia dolorem unde\\neum tempora esse dolore\"\n",
      "  },\n",
      "  {\n",
      "    \"userId\": 8,\n",
      "    \"id\": 71,\n",
      "    \"title\": \"et iusto veniam et illum aut fuga\",\n",
      "    \"body\": \"occaecati a doloribus\\niste saepe consectetur placeat eum voluptate dolorem et\\nqui quo quia voluptas\\nrerum ut id enim velit est perferendis\"\n",
      "  },\n",
      "  {\n",
      "    \"userId\": 8,\n",
      "    \"id\": 72,\n",
      "    \"title\": \"sint hic doloribus consequatur eos non id\",\n",
      "    \"body\": \"quam occaecati qui deleniti consectetur\\nconsequatur aut facere quas exercitationem aliquam hic voluptas\\nneque id sunt ut aut accusamus\\nsunt consectetur expedita inventore velit\"\n",
      "  },\n",
      "  {\n",
      "    \"userId\": 8,\n",
      "    \"id\": 73,\n",
      "    \"title\": \"consequuntur deleniti eos quia temporibus ab aliquid at\",\n",
      "    \"body\": \"voluptatem cumque tenetur consequatur expedita ipsum nemo quia explicabo\\naut eum minima consequatur\\ntempore cumque quae est et\\net in consequuntur voluptatem voluptates aut\"\n",
      "  },\n",
      "  {\n",
      "    \"userId\": 8,\n",
      "    \"id\": 74,\n",
      "    \"title\": \"enim unde ratione doloribus quas enim ut sit sapiente\",\n",
      "    \"body\": \"odit qui et et necessitatibus sint veniam\\nmollitia amet doloremque molestiae commodi similique magnam et quam\\nblanditiis est itaque\\nquo et tenetur ratione occaecati molestiae tempora\"\n",
      "  },\n",
      "  {\n",
      "    \"userId\": 8,\n",
      "    \"id\": 75,\n",
      "    \"title\": \"dignissimos eum dolor ut enim et delectus in\",\n",
      "    \"body\": \"commodi non non omnis et voluptas sit\\nautem aut nobis magnam et sapiente voluptatem\\net laborum repellat qui delectus facilis temporibus\\nrerum amet et nemo voluptate expedita adipisci error dolorem\"\n",
      "  },\n",
      "  {\n",
      "    \"userId\": 8,\n",
      "    \"id\": 76,\n",
      "    \"title\": \"doloremque officiis ad et non perferendis\",\n",
      "    \"body\": \"ut animi facere\\ntotam iusto tempore\\nmolestiae eum aut et dolorem aperiam\\nquaerat recusandae totam odio\"\n",
      "  },\n",
      "  {\n",
      "    \"userId\": 8,\n",
      "    \"id\": 77,\n",
      "    \"title\": \"necessitatibus quasi exercitationem odio\",\n",
      "    \"body\": \"modi ut in nulla repudiandae dolorum nostrum eos\\naut consequatur omnis\\nut incidunt est omnis iste et quam\\nvoluptates sapiente aliquam asperiores nobis amet corrupti repudiandae provident\"\n",
      "  },\n",
      "  {\n",
      "    \"userId\": 8,\n",
      "    \"id\": 78,\n",
      "    \"title\": \"quam voluptatibus rerum veritatis\",\n",
      "    \"body\": \"nobis facilis odit tempore cupiditate quia\\nassumenda doloribus rerum qui ea\\nillum et qui totam\\naut veniam repellendus\"\n",
      "  },\n",
      "  {\n",
      "    \"userId\": 8,\n",
      "    \"id\": 79,\n",
      "    \"title\": \"pariatur consequatur quia magnam autem omnis non amet\",\n",
      "    \"body\": \"libero accusantium et et facere incidunt sit dolorem\\nnon excepturi qui quia sed laudantium\\nquisquam molestiae ducimus est\\nofficiis esse molestiae iste et quos\"\n",
      "  },\n",
      "  {\n",
      "    \"userId\": 8,\n",
      "    \"id\": 80,\n",
      "    \"title\": \"labore in ex et explicabo corporis aut quas\",\n",
      "    \"body\": \"ex quod dolorem ea eum iure qui provident amet\\nquia qui facere excepturi et repudiandae\\nasperiores molestias provident\\nminus incidunt vero fugit rerum sint sunt excepturi provident\"\n",
      "  },\n",
      "  {\n",
      "    \"userId\": 9,\n",
      "    \"id\": 81,\n",
      "    \"title\": \"tempora rem veritatis voluptas quo dolores vero\",\n",
      "    \"body\": \"facere qui nesciunt est voluptatum voluptatem nisi\\nsequi eligendi necessitatibus ea at rerum itaque\\nharum non ratione velit laboriosam quis consequuntur\\nex officiis minima doloremque voluptas ut aut\"\n",
      "  },\n",
      "  {\n",
      "    \"userId\": 9,\n",
      "    \"id\": 82,\n",
      "    \"title\": \"laudantium voluptate suscipit sunt enim enim\",\n",
      "    \"body\": \"ut libero sit aut totam inventore sunt\\nporro sint qui sunt molestiae\\nconsequatur cupiditate qui iste ducimus adipisci\\ndolor enim assumenda soluta laboriosam amet iste delectus hic\"\n",
      "  },\n",
      "  {\n",
      "    \"userId\": 9,\n",
      "    \"id\": 83,\n",
      "    \"title\": \"odit et voluptates doloribus alias odio et\",\n",
      "    \"body\": \"est molestiae facilis quis tempora numquam nihil qui\\nvoluptate sapiente consequatur est qui\\nnecessitatibus autem aut ipsa aperiam modi dolore numquam\\nreprehenderit eius rem quibusdam\"\n",
      "  },\n",
      "  {\n",
      "    \"userId\": 9,\n",
      "    \"id\": 84,\n",
      "    \"title\": \"optio ipsam molestias necessitatibus occaecati facilis veritatis dolores aut\",\n",
      "    \"body\": \"sint molestiae magni a et quos\\neaque et quasi\\nut rerum debitis similique veniam\\nrecusandae dignissimos dolor incidunt consequatur odio\"\n",
      "  },\n",
      "  {\n",
      "    \"userId\": 9,\n",
      "    \"id\": 85,\n",
      "    \"title\": \"dolore veritatis porro provident adipisci blanditiis et sunt\",\n",
      "    \"body\": \"similique sed nisi voluptas iusto omnis\\nmollitia et quo\\nassumenda suscipit officia magnam sint sed tempora\\nenim provident pariatur praesentium atque animi amet ratione\"\n",
      "  },\n",
      "  {\n",
      "    \"userId\": 9,\n",
      "    \"id\": 86,\n",
      "    \"title\": \"placeat quia et porro iste\",\n",
      "    \"body\": \"quasi excepturi consequatur iste autem temporibus sed molestiae beatae\\net quaerat et esse ut\\nvoluptatem occaecati et vel explicabo autem\\nasperiores pariatur deserunt optio\"\n",
      "  },\n",
      "  {\n",
      "    \"userId\": 9,\n",
      "    \"id\": 87,\n",
      "    \"title\": \"nostrum quis quasi placeat\",\n",
      "    \"body\": \"eos et molestiae\\nnesciunt ut a\\ndolores perspiciatis repellendus repellat aliquid\\nmagnam sint rem ipsum est\"\n",
      "  },\n",
      "  {\n",
      "    \"userId\": 9,\n",
      "    \"id\": 88,\n",
      "    \"title\": \"sapiente omnis fugit eos\",\n",
      "    \"body\": \"consequatur omnis est praesentium\\nducimus non iste\\nneque hic deserunt\\nvoluptatibus veniam cum et rerum sed\"\n",
      "  },\n",
      "  {\n",
      "    \"userId\": 9,\n",
      "    \"id\": 89,\n",
      "    \"title\": \"sint soluta et vel magnam aut ut sed qui\",\n",
      "    \"body\": \"repellat aut aperiam totam temporibus autem et\\narchitecto magnam ut\\nconsequatur qui cupiditate rerum quia soluta dignissimos nihil iure\\ntempore quas est\"\n",
      "  },\n",
      "  {\n",
      "    \"userId\": 9,\n",
      "    \"id\": 90,\n",
      "    \"title\": \"ad iusto omnis odit dolor voluptatibus\",\n",
      "    \"body\": \"minus omnis soluta quia\\nqui sed adipisci voluptates illum ipsam voluptatem\\neligendi officia ut in\\neos soluta similique molestias praesentium blanditiis\"\n",
      "  },\n",
      "  {\n",
      "    \"userId\": 10,\n",
      "    \"id\": 91,\n",
      "    \"title\": \"aut amet sed\",\n",
      "    \"body\": \"libero voluptate eveniet aperiam sed\\nsunt placeat suscipit molestias\\nsimilique fugit nam natus\\nexpedita consequatur consequatur dolores quia eos et placeat\"\n",
      "  },\n",
      "  {\n",
      "    \"userId\": 10,\n",
      "    \"id\": 92,\n",
      "    \"title\": \"ratione ex tenetur perferendis\",\n",
      "    \"body\": \"aut et excepturi dicta laudantium sint rerum nihil\\nlaudantium et at\\na neque minima officia et similique libero et\\ncommodi voluptate qui\"\n",
      "  },\n",
      "  {\n",
      "    \"userId\": 10,\n",
      "    \"id\": 93,\n",
      "    \"title\": \"beatae soluta recusandae\",\n",
      "    \"body\": \"dolorem quibusdam ducimus consequuntur dicta aut quo laboriosam\\nvoluptatem quis enim recusandae ut sed sunt\\nnostrum est odit totam\\nsit error sed sunt eveniet provident qui nulla\"\n",
      "  },\n",
      "  {\n",
      "    \"userId\": 10,\n",
      "    \"id\": 94,\n",
      "    \"title\": \"qui qui voluptates illo iste minima\",\n",
      "    \"body\": \"aspernatur expedita soluta quo ab ut similique\\nexpedita dolores amet\\nsed temporibus distinctio magnam saepe deleniti\\nomnis facilis nam ipsum natus sint similique omnis\"\n",
      "  },\n",
      "  {\n",
      "    \"userId\": 10,\n",
      "    \"id\": 95,\n",
      "    \"title\": \"id minus libero illum nam ad officiis\",\n",
      "    \"body\": \"earum voluptatem facere provident blanditiis velit laboriosam\\npariatur accusamus odio saepe\\ncumque dolor qui a dicta ab doloribus consequatur omnis\\ncorporis cupiditate eaque assumenda ad nesciunt\"\n",
      "  },\n",
      "  {\n",
      "    \"userId\": 10,\n",
      "    \"id\": 96,\n",
      "    \"title\": \"quaerat velit veniam amet cupiditate aut numquam ut sequi\",\n",
      "    \"body\": \"in non odio excepturi sint eum\\nlabore voluptates vitae quia qui et\\ninventore itaque rerum\\nveniam non exercitationem delectus aut\"\n",
      "  },\n",
      "  {\n",
      "    \"userId\": 10,\n",
      "    \"id\": 97,\n",
      "    \"title\": \"quas fugiat ut perspiciatis vero provident\",\n",
      "    \"body\": \"eum non blanditiis soluta porro quibusdam voluptas\\nvel voluptatem qui placeat dolores qui velit aut\\nvel inventore aut cumque culpa explicabo aliquid at\\nperspiciatis est et voluptatem dignissimos dolor itaque sit nam\"\n",
      "  },\n",
      "  {\n",
      "    \"userId\": 10,\n",
      "    \"id\": 98,\n",
      "    \"title\": \"laboriosam dolor voluptates\",\n",
      "    \"body\": \"doloremque ex facilis sit sint culpa\\nsoluta assumenda eligendi non ut eius\\nsequi ducimus vel quasi\\nveritatis est dolores\"\n",
      "  },\n",
      "  {\n",
      "    \"userId\": 10,\n",
      "    \"id\": 99,\n",
      "    \"title\": \"temporibus sit alias delectus eligendi possimus magni\",\n",
      "    \"body\": \"quo deleniti praesentium dicta non quod\\naut est molestias\\nmolestias et officia quis nihil\\nitaque dolorem quia\"\n",
      "  },\n",
      "  {\n",
      "    \"userId\": 10,\n",
      "    \"id\": 100,\n",
      "    \"title\": \"at nam consequatur ea labore ea harum\",\n",
      "    \"body\": \"cupiditate quo est a modi nesciunt soluta\\nipsa voluptas error itaque dicta in\\nautem qui minus magnam et distinctio eum\\naccusamus ratione error aut\"\n",
      "  }\n",
      "]\n",
      "GET request with params status code: 200\n",
      "Response content: [\n",
      "  {\n",
      "    \"userId\": 1,\n",
      "    \"id\": 1,\n",
      "    \"title\": \"sunt aut facere repellat provident occaecati excepturi optio reprehenderit\",\n",
      "    \"body\": \"quia et suscipit\\nsuscipit recusandae consequuntur expedita et cum\\nreprehenderit molestiae ut ut quas totam\\nnostrum rerum est autem sunt rem eveniet architecto\"\n",
      "  },\n",
      "  {\n",
      "    \"userId\": 1,\n",
      "    \"id\": 2,\n",
      "    \"title\": \"qui est esse\",\n",
      "    \"body\": \"est rerum tempore vitae\\nsequi sint nihil reprehenderit dolor beatae ea dolores neque\\nfugiat blanditiis voluptate porro vel nihil molestiae ut reiciendis\\nqui aperiam non debitis possimus qui neque nisi nulla\"\n",
      "  },\n",
      "  {\n",
      "    \"userId\": 1,\n",
      "    \"id\": 3,\n",
      "    \"title\": \"ea molestias quasi exercitationem repellat qui ipsa sit aut\",\n",
      "    \"body\": \"et iusto sed quo iure\\nvoluptatem occaecati omnis eligendi aut ad\\nvoluptatem doloribus vel accusantium quis pariatur\\nmolestiae porro eius odio et labore et velit aut\"\n",
      "  },\n",
      "  {\n",
      "    \"userId\": 1,\n",
      "    \"id\": 4,\n",
      "    \"title\": \"eum et est occaecati\",\n",
      "    \"body\": \"ullam et saepe reiciendis voluptatem adipisci\\nsit amet autem assumenda provident rerum culpa\\nquis hic commodi nesciunt rem tenetur doloremque ipsam iure\\nquis sunt voluptatem rerum illo velit\"\n",
      "  },\n",
      "  {\n",
      "    \"userId\": 1,\n",
      "    \"id\": 5,\n",
      "    \"title\": \"nesciunt quas odio\",\n",
      "    \"body\": \"repudiandae veniam quaerat sunt sed\\nalias aut fugiat sit autem sed est\\nvoluptatem omnis possimus esse voluptatibus quis\\nest aut tenetur dolor neque\"\n",
      "  },\n",
      "  {\n",
      "    \"userId\": 1,\n",
      "    \"id\": 6,\n",
      "    \"title\": \"dolorem eum magni eos aperiam quia\",\n",
      "    \"body\": \"ut aspernatur corporis harum nihil quis provident sequi\\nmollitia nobis aliquid molestiae\\nperspiciatis et ea nemo ab reprehenderit accusantium quas\\nvoluptate dolores velit et doloremque molestiae\"\n",
      "  },\n",
      "  {\n",
      "    \"userId\": 1,\n",
      "    \"id\": 7,\n",
      "    \"title\": \"magnam facilis autem\",\n",
      "    \"body\": \"dolore placeat quibusdam ea quo vitae\\nmagni quis enim qui quis quo nemo aut saepe\\nquidem repellat excepturi ut quia\\nsunt ut sequi eos ea sed quas\"\n",
      "  },\n",
      "  {\n",
      "    \"userId\": 1,\n",
      "    \"id\": 8,\n",
      "    \"title\": \"dolorem dolore est ipsam\",\n",
      "    \"body\": \"dignissimos aperiam dolorem qui eum\\nfacilis quibusdam animi sint suscipit qui sint possimus cum\\nquaerat magni maiores excepturi\\nipsam ut commodi dolor voluptatum modi aut vitae\"\n",
      "  },\n",
      "  {\n",
      "    \"userId\": 1,\n",
      "    \"id\": 9,\n",
      "    \"title\": \"nesciunt iure omnis dolorem tempora et accusantium\",\n",
      "    \"body\": \"consectetur animi nesciunt iure dolore\\nenim quia ad\\nveniam autem ut quam aut nobis\\net est aut quod aut provident voluptas autem voluptas\"\n",
      "  },\n",
      "  {\n",
      "    \"userId\": 1,\n",
      "    \"id\": 10,\n",
      "    \"title\": \"optio molestias id quia eum\",\n",
      "    \"body\": \"quo et expedita modi cum officia vel magni\\ndoloribus qui repudiandae\\nvero nisi sit\\nquos veniam quod sed accusamus veritatis error\"\n",
      "  }\n",
      "]\n",
      "POST request status code: 201\n",
      "Response content: {\n",
      "  \"title\": \"foo\",\n",
      "  \"body\": \"bar\",\n",
      "  \"userId\": \"1\",\n",
      "  \"id\": 101\n",
      "}\n",
      "POST request with JSON status code: 201\n",
      "Response content: {\n",
      "  \"title\": \"foo\",\n",
      "  \"body\": \"bar\",\n",
      "  \"userId\": 1,\n",
      "  \"id\": 101\n",
      "}\n",
      "JSON response: [{'userId': 1, 'id': 1, 'title': 'sunt aut facere repellat provident occaecati excepturi optio reprehenderit', 'body': 'quia et suscipit\\nsuscipit recusandae consequuntur expedita et cum\\nreprehenderit molestiae ut ut quas totam\\nnostrum rerum est autem sunt rem eveniet architecto'}, {'userId': 1, 'id': 2, 'title': 'qui est esse', 'body': 'est rerum tempore vitae\\nsequi sint nihil reprehenderit dolor beatae ea dolores neque\\nfugiat blanditiis voluptate porro vel nihil molestiae ut reiciendis\\nqui aperiam non debitis possimus qui neque nisi nulla'}, {'userId': 1, 'id': 3, 'title': 'ea molestias quasi exercitationem repellat qui ipsa sit aut', 'body': 'et iusto sed quo iure\\nvoluptatem occaecati omnis eligendi aut ad\\nvoluptatem doloribus vel accusantium quis pariatur\\nmolestiae porro eius odio et labore et velit aut'}, {'userId': 1, 'id': 4, 'title': 'eum et est occaecati', 'body': 'ullam et saepe reiciendis voluptatem adipisci\\nsit amet autem assumenda provident rerum culpa\\nquis hic commodi nesciunt rem tenetur doloremque ipsam iure\\nquis sunt voluptatem rerum illo velit'}, {'userId': 1, 'id': 5, 'title': 'nesciunt quas odio', 'body': 'repudiandae veniam quaerat sunt sed\\nalias aut fugiat sit autem sed est\\nvoluptatem omnis possimus esse voluptatibus quis\\nest aut tenetur dolor neque'}, {'userId': 1, 'id': 6, 'title': 'dolorem eum magni eos aperiam quia', 'body': 'ut aspernatur corporis harum nihil quis provident sequi\\nmollitia nobis aliquid molestiae\\nperspiciatis et ea nemo ab reprehenderit accusantium quas\\nvoluptate dolores velit et doloremque molestiae'}, {'userId': 1, 'id': 7, 'title': 'magnam facilis autem', 'body': 'dolore placeat quibusdam ea quo vitae\\nmagni quis enim qui quis quo nemo aut saepe\\nquidem repellat excepturi ut quia\\nsunt ut sequi eos ea sed quas'}, {'userId': 1, 'id': 8, 'title': 'dolorem dolore est ipsam', 'body': 'dignissimos aperiam dolorem qui eum\\nfacilis quibusdam animi sint suscipit qui sint possimus cum\\nquaerat magni maiores excepturi\\nipsam ut commodi dolor voluptatum modi aut vitae'}, {'userId': 1, 'id': 9, 'title': 'nesciunt iure omnis dolorem tempora et accusantium', 'body': 'consectetur animi nesciunt iure dolore\\nenim quia ad\\nveniam autem ut quam aut nobis\\net est aut quod aut provident voluptas autem voluptas'}, {'userId': 1, 'id': 10, 'title': 'optio molestias id quia eum', 'body': 'quo et expedita modi cum officia vel magni\\ndoloribus qui repudiandae\\nvero nisi sit\\nquos veniam quod sed accusamus veritatis error'}, {'userId': 2, 'id': 11, 'title': 'et ea vero quia laudantium autem', 'body': 'delectus reiciendis molestiae occaecati non minima eveniet qui voluptatibus\\naccusamus in eum beatae sit\\nvel qui neque voluptates ut commodi qui incidunt\\nut animi commodi'}, {'userId': 2, 'id': 12, 'title': 'in quibusdam tempore odit est dolorem', 'body': 'itaque id aut magnam\\npraesentium quia et ea odit et ea voluptas et\\nsapiente quia nihil amet occaecati quia id voluptatem\\nincidunt ea est distinctio odio'}, {'userId': 2, 'id': 13, 'title': 'dolorum ut in voluptas mollitia et saepe quo animi', 'body': 'aut dicta possimus sint mollitia voluptas commodi quo doloremque\\niste corrupti reiciendis voluptatem eius rerum\\nsit cumque quod eligendi laborum minima\\nperferendis recusandae assumenda consectetur porro architecto ipsum ipsam'}, {'userId': 2, 'id': 14, 'title': 'voluptatem eligendi optio', 'body': 'fuga et accusamus dolorum perferendis illo voluptas\\nnon doloremque neque facere\\nad qui dolorum molestiae beatae\\nsed aut voluptas totam sit illum'}, {'userId': 2, 'id': 15, 'title': 'eveniet quod temporibus', 'body': 'reprehenderit quos placeat\\nvelit minima officia dolores impedit repudiandae molestiae nam\\nvoluptas recusandae quis delectus\\nofficiis harum fugiat vitae'}, {'userId': 2, 'id': 16, 'title': 'sint suscipit perspiciatis velit dolorum rerum ipsa laboriosam odio', 'body': 'suscipit nam nisi quo aperiam aut\\nasperiores eos fugit maiores voluptatibus quia\\nvoluptatem quis ullam qui in alias quia est\\nconsequatur magni mollitia accusamus ea nisi voluptate dicta'}, {'userId': 2, 'id': 17, 'title': 'fugit voluptas sed molestias voluptatem provident', 'body': 'eos voluptas et aut odit natus earum\\naspernatur fuga molestiae ullam\\ndeserunt ratione qui eos\\nqui nihil ratione nemo velit ut aut id quo'}, {'userId': 2, 'id': 18, 'title': 'voluptate et itaque vero tempora molestiae', 'body': 'eveniet quo quis\\nlaborum totam consequatur non dolor\\nut et est repudiandae\\nest voluptatem vel debitis et magnam'}, {'userId': 2, 'id': 19, 'title': 'adipisci placeat illum aut reiciendis qui', 'body': 'illum quis cupiditate provident sit magnam\\nea sed aut omnis\\nveniam maiores ullam consequatur atque\\nadipisci quo iste expedita sit quos voluptas'}, {'userId': 2, 'id': 20, 'title': 'doloribus ad provident suscipit at', 'body': 'qui consequuntur ducimus possimus quisquam amet similique\\nsuscipit porro ipsam amet\\neos veritatis officiis exercitationem vel fugit aut necessitatibus totam\\nomnis rerum consequatur expedita quidem cumque explicabo'}, {'userId': 3, 'id': 21, 'title': 'asperiores ea ipsam voluptatibus modi minima quia sint', 'body': 'repellat aliquid praesentium dolorem quo\\nsed totam minus non itaque\\nnihil labore molestiae sunt dolor eveniet hic recusandae veniam\\ntempora et tenetur expedita sunt'}, {'userId': 3, 'id': 22, 'title': 'dolor sint quo a velit explicabo quia nam', 'body': 'eos qui et ipsum ipsam suscipit aut\\nsed omnis non odio\\nexpedita earum mollitia molestiae aut atque rem suscipit\\nnam impedit esse'}, {'userId': 3, 'id': 23, 'title': 'maxime id vitae nihil numquam', 'body': 'veritatis unde neque eligendi\\nquae quod architecto quo neque vitae\\nest illo sit tempora doloremque fugit quod\\net et vel beatae sequi ullam sed tenetur perspiciatis'}, {'userId': 3, 'id': 24, 'title': 'autem hic labore sunt dolores incidunt', 'body': 'enim et ex nulla\\nomnis voluptas quia qui\\nvoluptatem consequatur numquam aliquam sunt\\ntotam recusandae id dignissimos aut sed asperiores deserunt'}, {'userId': 3, 'id': 25, 'title': 'rem alias distinctio quo quis', 'body': 'ullam consequatur ut\\nomnis quis sit vel consequuntur\\nipsa eligendi ipsum molestiae et omnis error nostrum\\nmolestiae illo tempore quia et distinctio'}, {'userId': 3, 'id': 26, 'title': 'est et quae odit qui non', 'body': 'similique esse doloribus nihil accusamus\\nomnis dolorem fuga consequuntur reprehenderit fugit recusandae temporibus\\nperspiciatis cum ut laudantium\\nomnis aut molestiae vel vero'}, {'userId': 3, 'id': 27, 'title': 'quasi id et eos tenetur aut quo autem', 'body': 'eum sed dolores ipsam sint possimus debitis occaecati\\ndebitis qui qui et\\nut placeat enim earum aut odit facilis\\nconsequatur suscipit necessitatibus rerum sed inventore temporibus consequatur'}, {'userId': 3, 'id': 28, 'title': 'delectus ullam et corporis nulla voluptas sequi', 'body': 'non et quaerat ex quae ad maiores\\nmaiores recusandae totam aut blanditiis mollitia quas illo\\nut voluptatibus voluptatem\\nsimilique nostrum eum'}, {'userId': 3, 'id': 29, 'title': 'iusto eius quod necessitatibus culpa ea', 'body': 'odit magnam ut saepe sed non qui\\ntempora atque nihil\\naccusamus illum doloribus illo dolor\\neligendi repudiandae odit magni similique sed cum maiores'}, {'userId': 3, 'id': 30, 'title': 'a quo magni similique perferendis', 'body': 'alias dolor cumque\\nimpedit blanditiis non eveniet odio maxime\\nblanditiis amet eius quis tempora quia autem rem\\na provident perspiciatis quia'}, {'userId': 4, 'id': 31, 'title': 'ullam ut quidem id aut vel consequuntur', 'body': 'debitis eius sed quibusdam non quis consectetur vitae\\nimpedit ut qui consequatur sed aut in\\nquidem sit nostrum et maiores adipisci atque\\nquaerat voluptatem adipisci repudiandae'}, {'userId': 4, 'id': 32, 'title': 'doloremque illum aliquid sunt', 'body': 'deserunt eos nobis asperiores et hic\\nest debitis repellat molestiae optio\\nnihil ratione ut eos beatae quibusdam distinctio maiores\\nearum voluptates et aut adipisci ea maiores voluptas maxime'}, {'userId': 4, 'id': 33, 'title': 'qui explicabo molestiae dolorem', 'body': 'rerum ut et numquam laborum odit est sit\\nid qui sint in\\nquasi tenetur tempore aperiam et quaerat qui in\\nrerum officiis sequi cumque quod'}, {'userId': 4, 'id': 34, 'title': 'magnam ut rerum iure', 'body': 'ea velit perferendis earum ut voluptatem voluptate itaque iusto\\ntotam pariatur in\\nnemo voluptatem voluptatem autem magni tempora minima in\\nest distinctio qui assumenda accusamus dignissimos officia nesciunt nobis'}, {'userId': 4, 'id': 35, 'title': 'id nihil consequatur molestias animi provident', 'body': 'nisi error delectus possimus ut eligendi vitae\\nplaceat eos harum cupiditate facilis reprehenderit voluptatem beatae\\nmodi ducimus quo illum voluptas eligendi\\net nobis quia fugit'}, {'userId': 4, 'id': 36, 'title': 'fuga nam accusamus voluptas reiciendis itaque', 'body': 'ad mollitia et omnis minus architecto odit\\nvoluptas doloremque maxime aut non ipsa qui alias veniam\\nblanditiis culpa aut quia nihil cumque facere et occaecati\\nqui aspernatur quia eaque ut aperiam inventore'}, {'userId': 4, 'id': 37, 'title': 'provident vel ut sit ratione est', 'body': 'debitis et eaque non officia sed nesciunt pariatur vel\\nvoluptatem iste vero et ea\\nnumquam aut expedita ipsum nulla in\\nvoluptates omnis consequatur aut enim officiis in quam qui'}, {'userId': 4, 'id': 38, 'title': 'explicabo et eos deleniti nostrum ab id repellendus', 'body': 'animi esse sit aut sit nesciunt assumenda eum voluptas\\nquia voluptatibus provident quia necessitatibus ea\\nrerum repudiandae quia voluptatem delectus fugit aut id quia\\nratione optio eos iusto veniam iure'}, {'userId': 4, 'id': 39, 'title': 'eos dolorem iste accusantium est eaque quam', 'body': 'corporis rerum ducimus vel eum accusantium\\nmaxime aspernatur a porro possimus iste omnis\\nest in deleniti asperiores fuga aut\\nvoluptas sapiente vel dolore minus voluptatem incidunt ex'}, {'userId': 4, 'id': 40, 'title': 'enim quo cumque', 'body': 'ut voluptatum aliquid illo tenetur nemo sequi quo facilis\\nipsum rem optio mollitia quas\\nvoluptatem eum voluptas qui\\nunde omnis voluptatem iure quasi maxime voluptas nam'}, {'userId': 5, 'id': 41, 'title': 'non est facere', 'body': 'molestias id nostrum\\nexcepturi molestiae dolore omnis repellendus quaerat saepe\\nconsectetur iste quaerat tenetur asperiores accusamus ex ut\\nnam quidem est ducimus sunt debitis saepe'}, {'userId': 5, 'id': 42, 'title': 'commodi ullam sint et excepturi error explicabo praesentium voluptas', 'body': 'odio fugit voluptatum ducimus earum autem est incidunt voluptatem\\nodit reiciendis aliquam sunt sequi nulla dolorem\\nnon facere repellendus voluptates quia\\nratione harum vitae ut'}, {'userId': 5, 'id': 43, 'title': 'eligendi iste nostrum consequuntur adipisci praesentium sit beatae perferendis', 'body': 'similique fugit est\\nillum et dolorum harum et voluptate eaque quidem\\nexercitationem quos nam commodi possimus cum odio nihil nulla\\ndolorum exercitationem magnam ex et a et distinctio debitis'}, {'userId': 5, 'id': 44, 'title': 'optio dolor molestias sit', 'body': 'temporibus est consectetur dolore\\net libero debitis vel velit laboriosam quia\\nipsum quibusdam qui itaque fuga rem aut\\nea et iure quam sed maxime ut distinctio quae'}, {'userId': 5, 'id': 45, 'title': 'ut numquam possimus omnis eius suscipit laudantium iure', 'body': 'est natus reiciendis nihil possimus aut provident\\nex et dolor\\nrepellat pariatur est\\nnobis rerum repellendus dolorem autem'}, {'userId': 5, 'id': 46, 'title': 'aut quo modi neque nostrum ducimus', 'body': 'voluptatem quisquam iste\\nvoluptatibus natus officiis facilis dolorem\\nquis quas ipsam\\nvel et voluptatum in aliquid'}, {'userId': 5, 'id': 47, 'title': 'quibusdam cumque rem aut deserunt', 'body': 'voluptatem assumenda ut qui ut cupiditate aut impedit veniam\\noccaecati nemo illum voluptatem laudantium\\nmolestiae beatae rerum ea iure soluta nostrum\\neligendi et voluptate'}, {'userId': 5, 'id': 48, 'title': 'ut voluptatem illum ea doloribus itaque eos', 'body': 'voluptates quo voluptatem facilis iure occaecati\\nvel assumenda rerum officia et\\nillum perspiciatis ab deleniti\\nlaudantium repellat ad ut et autem reprehenderit'}, {'userId': 5, 'id': 49, 'title': 'laborum non sunt aut ut assumenda perspiciatis voluptas', 'body': 'inventore ab sint\\nnatus fugit id nulla sequi architecto nihil quaerat\\neos tenetur in in eum veritatis non\\nquibusdam officiis aspernatur cumque aut commodi aut'}, {'userId': 5, 'id': 50, 'title': 'repellendus qui recusandae incidunt voluptates tenetur qui omnis exercitationem', 'body': 'error suscipit maxime adipisci consequuntur recusandae\\nvoluptas eligendi et est et voluptates\\nquia distinctio ab amet quaerat molestiae et vitae\\nadipisci impedit sequi nesciunt quis consectetur'}, {'userId': 6, 'id': 51, 'title': 'soluta aliquam aperiam consequatur illo quis voluptas', 'body': 'sunt dolores aut doloribus\\ndolore doloribus voluptates tempora et\\ndoloremque et quo\\ncum asperiores sit consectetur dolorem'}, {'userId': 6, 'id': 52, 'title': 'qui enim et consequuntur quia animi quis voluptate quibusdam', 'body': 'iusto est quibusdam fuga quas quaerat molestias\\na enim ut sit accusamus enim\\ntemporibus iusto accusantium provident architecto\\nsoluta esse reprehenderit qui laborum'}, {'userId': 6, 'id': 53, 'title': 'ut quo aut ducimus alias', 'body': 'minima harum praesentium eum rerum illo dolore\\nquasi exercitationem rerum nam\\nporro quis neque quo\\nconsequatur minus dolor quidem veritatis sunt non explicabo similique'}, {'userId': 6, 'id': 54, 'title': 'sit asperiores ipsam eveniet odio non quia', 'body': 'totam corporis dignissimos\\nvitae dolorem ut occaecati accusamus\\nex velit deserunt\\net exercitationem vero incidunt corrupti mollitia'}, {'userId': 6, 'id': 55, 'title': 'sit vel voluptatem et non libero', 'body': 'debitis excepturi ea perferendis harum libero optio\\neos accusamus cum fuga ut sapiente repudiandae\\net ut incidunt omnis molestiae\\nnihil ut eum odit'}, {'userId': 6, 'id': 56, 'title': 'qui et at rerum necessitatibus', 'body': 'aut est omnis dolores\\nneque rerum quod ea rerum velit pariatur beatae excepturi\\net provident voluptas corrupti\\ncorporis harum reprehenderit dolores eligendi'}, {'userId': 6, 'id': 57, 'title': 'sed ab est est', 'body': 'at pariatur consequuntur earum quidem\\nquo est laudantium soluta voluptatem\\nqui ullam et est\\net cum voluptas voluptatum repellat est'}, {'userId': 6, 'id': 58, 'title': 'voluptatum itaque dolores nisi et quasi', 'body': 'veniam voluptatum quae adipisci id\\net id quia eos ad et dolorem\\naliquam quo nisi sunt eos impedit error\\nad similique veniam'}, {'userId': 6, 'id': 59, 'title': 'qui commodi dolor at maiores et quis id accusantium', 'body': 'perspiciatis et quam ea autem temporibus non voluptatibus qui\\nbeatae a earum officia nesciunt dolores suscipit voluptas et\\nanimi doloribus cum rerum quas et magni\\net hic ut ut commodi expedita sunt'}, {'userId': 6, 'id': 60, 'title': 'consequatur placeat omnis quisquam quia reprehenderit fugit veritatis facere', 'body': 'asperiores sunt ab assumenda cumque modi velit\\nqui esse omnis\\nvoluptate et fuga perferendis voluptas\\nillo ratione amet aut et omnis'}, {'userId': 7, 'id': 61, 'title': 'voluptatem doloribus consectetur est ut ducimus', 'body': 'ab nemo optio odio\\ndelectus tenetur corporis similique nobis repellendus rerum omnis facilis\\nvero blanditiis debitis in nesciunt doloribus dicta dolores\\nmagnam minus velit'}, {'userId': 7, 'id': 62, 'title': 'beatae enim quia vel', 'body': 'enim aspernatur illo distinctio quae praesentium\\nbeatae alias amet delectus qui voluptate distinctio\\nodit sint accusantium autem omnis\\nquo molestiae omnis ea eveniet optio'}, {'userId': 7, 'id': 63, 'title': 'voluptas blanditiis repellendus animi ducimus error sapiente et suscipit', 'body': 'enim adipisci aspernatur nemo\\nnumquam omnis facere dolorem dolor ex quis temporibus incidunt\\nab delectus culpa quo reprehenderit blanditiis asperiores\\naccusantium ut quam in voluptatibus voluptas ipsam dicta'}, {'userId': 7, 'id': 64, 'title': 'et fugit quas eum in in aperiam quod', 'body': 'id velit blanditiis\\neum ea voluptatem\\nmolestiae sint occaecati est eos perspiciatis\\nincidunt a error provident eaque aut aut qui'}, {'userId': 7, 'id': 65, 'title': 'consequatur id enim sunt et et', 'body': 'voluptatibus ex esse\\nsint explicabo est aliquid cumque adipisci fuga repellat labore\\nmolestiae corrupti ex saepe at asperiores et perferendis\\nnatus id esse incidunt pariatur'}, {'userId': 7, 'id': 66, 'title': 'repudiandae ea animi iusto', 'body': 'officia veritatis tenetur vero qui itaque\\nsint non ratione\\nsed et ut asperiores iusto eos molestiae nostrum\\nveritatis quibusdam et nemo iusto saepe'}, {'userId': 7, 'id': 67, 'title': 'aliquid eos sed fuga est maxime repellendus', 'body': 'reprehenderit id nostrum\\nvoluptas doloremque pariatur sint et accusantium quia quod aspernatur\\net fugiat amet\\nnon sapiente et consequatur necessitatibus molestiae'}, {'userId': 7, 'id': 68, 'title': 'odio quis facere architecto reiciendis optio', 'body': 'magnam molestiae perferendis quisquam\\nqui cum reiciendis\\nquaerat animi amet hic inventore\\nea quia deleniti quidem saepe porro velit'}, {'userId': 7, 'id': 69, 'title': 'fugiat quod pariatur odit minima', 'body': 'officiis error culpa consequatur modi asperiores et\\ndolorum assumenda voluptas et vel qui aut vel rerum\\nvoluptatum quisquam perspiciatis quia rerum consequatur totam quas\\nsequi commodi repudiandae asperiores et saepe a'}, {'userId': 7, 'id': 70, 'title': 'voluptatem laborum magni', 'body': 'sunt repellendus quae\\nest asperiores aut deleniti esse accusamus repellendus quia aut\\nquia dolorem unde\\neum tempora esse dolore'}, {'userId': 8, 'id': 71, 'title': 'et iusto veniam et illum aut fuga', 'body': 'occaecati a doloribus\\niste saepe consectetur placeat eum voluptate dolorem et\\nqui quo quia voluptas\\nrerum ut id enim velit est perferendis'}, {'userId': 8, 'id': 72, 'title': 'sint hic doloribus consequatur eos non id', 'body': 'quam occaecati qui deleniti consectetur\\nconsequatur aut facere quas exercitationem aliquam hic voluptas\\nneque id sunt ut aut accusamus\\nsunt consectetur expedita inventore velit'}, {'userId': 8, 'id': 73, 'title': 'consequuntur deleniti eos quia temporibus ab aliquid at', 'body': 'voluptatem cumque tenetur consequatur expedita ipsum nemo quia explicabo\\naut eum minima consequatur\\ntempore cumque quae est et\\net in consequuntur voluptatem voluptates aut'}, {'userId': 8, 'id': 74, 'title': 'enim unde ratione doloribus quas enim ut sit sapiente', 'body': 'odit qui et et necessitatibus sint veniam\\nmollitia amet doloremque molestiae commodi similique magnam et quam\\nblanditiis est itaque\\nquo et tenetur ratione occaecati molestiae tempora'}, {'userId': 8, 'id': 75, 'title': 'dignissimos eum dolor ut enim et delectus in', 'body': 'commodi non non omnis et voluptas sit\\nautem aut nobis magnam et sapiente voluptatem\\net laborum repellat qui delectus facilis temporibus\\nrerum amet et nemo voluptate expedita adipisci error dolorem'}, {'userId': 8, 'id': 76, 'title': 'doloremque officiis ad et non perferendis', 'body': 'ut animi facere\\ntotam iusto tempore\\nmolestiae eum aut et dolorem aperiam\\nquaerat recusandae totam odio'}, {'userId': 8, 'id': 77, 'title': 'necessitatibus quasi exercitationem odio', 'body': 'modi ut in nulla repudiandae dolorum nostrum eos\\naut consequatur omnis\\nut incidunt est omnis iste et quam\\nvoluptates sapiente aliquam asperiores nobis amet corrupti repudiandae provident'}, {'userId': 8, 'id': 78, 'title': 'quam voluptatibus rerum veritatis', 'body': 'nobis facilis odit tempore cupiditate quia\\nassumenda doloribus rerum qui ea\\nillum et qui totam\\naut veniam repellendus'}, {'userId': 8, 'id': 79, 'title': 'pariatur consequatur quia magnam autem omnis non amet', 'body': 'libero accusantium et et facere incidunt sit dolorem\\nnon excepturi qui quia sed laudantium\\nquisquam molestiae ducimus est\\nofficiis esse molestiae iste et quos'}, {'userId': 8, 'id': 80, 'title': 'labore in ex et explicabo corporis aut quas', 'body': 'ex quod dolorem ea eum iure qui provident amet\\nquia qui facere excepturi et repudiandae\\nasperiores molestias provident\\nminus incidunt vero fugit rerum sint sunt excepturi provident'}, {'userId': 9, 'id': 81, 'title': 'tempora rem veritatis voluptas quo dolores vero', 'body': 'facere qui nesciunt est voluptatum voluptatem nisi\\nsequi eligendi necessitatibus ea at rerum itaque\\nharum non ratione velit laboriosam quis consequuntur\\nex officiis minima doloremque voluptas ut aut'}, {'userId': 9, 'id': 82, 'title': 'laudantium voluptate suscipit sunt enim enim', 'body': 'ut libero sit aut totam inventore sunt\\nporro sint qui sunt molestiae\\nconsequatur cupiditate qui iste ducimus adipisci\\ndolor enim assumenda soluta laboriosam amet iste delectus hic'}, {'userId': 9, 'id': 83, 'title': 'odit et voluptates doloribus alias odio et', 'body': 'est molestiae facilis quis tempora numquam nihil qui\\nvoluptate sapiente consequatur est qui\\nnecessitatibus autem aut ipsa aperiam modi dolore numquam\\nreprehenderit eius rem quibusdam'}, {'userId': 9, 'id': 84, 'title': 'optio ipsam molestias necessitatibus occaecati facilis veritatis dolores aut', 'body': 'sint molestiae magni a et quos\\neaque et quasi\\nut rerum debitis similique veniam\\nrecusandae dignissimos dolor incidunt consequatur odio'}, {'userId': 9, 'id': 85, 'title': 'dolore veritatis porro provident adipisci blanditiis et sunt', 'body': 'similique sed nisi voluptas iusto omnis\\nmollitia et quo\\nassumenda suscipit officia magnam sint sed tempora\\nenim provident pariatur praesentium atque animi amet ratione'}, {'userId': 9, 'id': 86, 'title': 'placeat quia et porro iste', 'body': 'quasi excepturi consequatur iste autem temporibus sed molestiae beatae\\net quaerat et esse ut\\nvoluptatem occaecati et vel explicabo autem\\nasperiores pariatur deserunt optio'}, {'userId': 9, 'id': 87, 'title': 'nostrum quis quasi placeat', 'body': 'eos et molestiae\\nnesciunt ut a\\ndolores perspiciatis repellendus repellat aliquid\\nmagnam sint rem ipsum est'}, {'userId': 9, 'id': 88, 'title': 'sapiente omnis fugit eos', 'body': 'consequatur omnis est praesentium\\nducimus non iste\\nneque hic deserunt\\nvoluptatibus veniam cum et rerum sed'}, {'userId': 9, 'id': 89, 'title': 'sint soluta et vel magnam aut ut sed qui', 'body': 'repellat aut aperiam totam temporibus autem et\\narchitecto magnam ut\\nconsequatur qui cupiditate rerum quia soluta dignissimos nihil iure\\ntempore quas est'}, {'userId': 9, 'id': 90, 'title': 'ad iusto omnis odit dolor voluptatibus', 'body': 'minus omnis soluta quia\\nqui sed adipisci voluptates illum ipsam voluptatem\\neligendi officia ut in\\neos soluta similique molestias praesentium blanditiis'}, {'userId': 10, 'id': 91, 'title': 'aut amet sed', 'body': 'libero voluptate eveniet aperiam sed\\nsunt placeat suscipit molestias\\nsimilique fugit nam natus\\nexpedita consequatur consequatur dolores quia eos et placeat'}, {'userId': 10, 'id': 92, 'title': 'ratione ex tenetur perferendis', 'body': 'aut et excepturi dicta laudantium sint rerum nihil\\nlaudantium et at\\na neque minima officia et similique libero et\\ncommodi voluptate qui'}, {'userId': 10, 'id': 93, 'title': 'beatae soluta recusandae', 'body': 'dolorem quibusdam ducimus consequuntur dicta aut quo laboriosam\\nvoluptatem quis enim recusandae ut sed sunt\\nnostrum est odit totam\\nsit error sed sunt eveniet provident qui nulla'}, {'userId': 10, 'id': 94, 'title': 'qui qui voluptates illo iste minima', 'body': 'aspernatur expedita soluta quo ab ut similique\\nexpedita dolores amet\\nsed temporibus distinctio magnam saepe deleniti\\nomnis facilis nam ipsum natus sint similique omnis'}, {'userId': 10, 'id': 95, 'title': 'id minus libero illum nam ad officiis', 'body': 'earum voluptatem facere provident blanditiis velit laboriosam\\npariatur accusamus odio saepe\\ncumque dolor qui a dicta ab doloribus consequatur omnis\\ncorporis cupiditate eaque assumenda ad nesciunt'}, {'userId': 10, 'id': 96, 'title': 'quaerat velit veniam amet cupiditate aut numquam ut sequi', 'body': 'in non odio excepturi sint eum\\nlabore voluptates vitae quia qui et\\ninventore itaque rerum\\nveniam non exercitationem delectus aut'}, {'userId': 10, 'id': 97, 'title': 'quas fugiat ut perspiciatis vero provident', 'body': 'eum non blanditiis soluta porro quibusdam voluptas\\nvel voluptatem qui placeat dolores qui velit aut\\nvel inventore aut cumque culpa explicabo aliquid at\\nperspiciatis est et voluptatem dignissimos dolor itaque sit nam'}, {'userId': 10, 'id': 98, 'title': 'laboriosam dolor voluptates', 'body': 'doloremque ex facilis sit sint culpa\\nsoluta assumenda eligendi non ut eius\\nsequi ducimus vel quasi\\nveritatis est dolores'}, {'userId': 10, 'id': 99, 'title': 'temporibus sit alias delectus eligendi possimus magni', 'body': 'quo deleniti praesentium dicta non quod\\naut est molestias\\nmolestias et officia quis nihil\\nitaque dolorem quia'}, {'userId': 10, 'id': 100, 'title': 'at nam consequatur ea labore ea harum', 'body': 'cupiditate quo est a modi nesciunt soluta\\nipsa voluptas error itaque dicta in\\nautem qui minus magnam et distinctio eum\\naccusamus ratione error aut'}]\n"
     ]
    }
   ],
   "source": [
    "\"\"\"\n",
    "This helper script demonstrates how to use the requests library for making HTTP requests.\n",
    "The requests library is a simple and elegant Python HTTP library. It allows you to send HTTP requests\n",
    "and handle responses easily. This script shows how to perform common HTTP methods such as GET and POST,\n",
    "handle query parameters, headers, and parse JSON responses.\n",
    "\n",
    "Dependencies:\n",
    "- requests\n",
    "\"\"\"\n",
    "\n",
    "import requests\n",
    "\n",
    "# Example of a GET request\n",
    "def get_example(url):\n",
    "    \"\"\"\n",
    "    Sends a GET request to the specified URL.\n",
    "    \n",
    "    Args:\n",
    "        url (str): The URL to send the GET request to.\n",
    "    \n",
    "    Returns:\n",
    "        response: The response object from the GET request.\n",
    "    \"\"\"\n",
    "    response = requests.get(url)\n",
    "    return response\n",
    "\n",
    "# Example of a GET request with query parameters\n",
    "def get_with_params_example(url, params):\n",
    "    \"\"\"\n",
    "    Sends a GET request to the specified URL with query parameters.\n",
    "    \n",
    "    Args:\n",
    "        url (str): The URL to send the GET request to.\n",
    "        params (dict): The query parameters to include in the request.\n",
    "    \n",
    "    Returns:\n",
    "        response: The response object from the GET request.\n",
    "    \"\"\"\n",
    "    response = requests.get(url, params=params)\n",
    "    return response\n",
    "\n",
    "# Example of a POST request\n",
    "def post_example(url, data):\n",
    "    \"\"\"\n",
    "    Sends a POST request to the specified URL with form data.\n",
    "    \n",
    "    Args:\n",
    "        url (str): The URL to send the POST request to.\n",
    "        data (dict): The form data to include in the request.\n",
    "    \n",
    "    Returns:\n",
    "        response: The response object from the POST request.\n",
    "    \"\"\"\n",
    "    response = requests.post(url, data=data)\n",
    "    return response\n",
    "\n",
    "# Example of a POST request with JSON data\n",
    "def post_json_example(url, json_data):\n",
    "    \"\"\"\n",
    "    Sends a POST request to the specified URL with JSON data.\n",
    "    \n",
    "    Args:\n",
    "        url (str): The URL to send the POST request to.\n",
    "        json_data (dict): The JSON data to include in the request.\n",
    "    \n",
    "    Returns:\n",
    "        response: The response object from the POST request.\n",
    "    \"\"\"\n",
    "    response = requests.post(url, json=json_data)\n",
    "    return response\n",
    "\n",
    "# Example of handling JSON response\n",
    "def get_json_response(url):\n",
    "    \"\"\"\n",
    "    Sends a GET request to the specified URL and parses the JSON response.\n",
    "    \n",
    "    Args:\n",
    "        url (str): The URL to send the GET request to.\n",
    "    \n",
    "    Returns:\n",
    "        json_data: The parsed JSON data from the response.\n",
    "    \"\"\"\n",
    "    response = requests.get(url)\n",
    "    json_data = response.json()  # Parse JSON response\n",
    "    return json_data\n",
    "\n",
    "# Example usage of the helper functions\n",
    "if __name__ == \"__main__\":\n",
    "    # Define a URL for example requests\n",
    "    example_url = \"https://jsonplaceholder.typicode.com/posts\"\n",
    "\n",
    "    # Perform a simple GET request\n",
    "    response = get_example(example_url)\n",
    "    print(f\"GET request status code: {response.status_code}\")\n",
    "    print(f\"Response content: {response.text}\")\n",
    "\n",
    "    # Perform a GET request with query parameters\n",
    "    params = {'userId': 1}\n",
    "    response = get_with_params_example(example_url, params)\n",
    "    print(f\"GET request with params status code: {response.status_code}\")\n",
    "    print(f\"Response content: {response.text}\")\n",
    "\n",
    "    # Perform a POST request with form data\n",
    "    data = {'title': 'foo', 'body': 'bar', 'userId': 1}\n",
    "    response = post_example(example_url, data)\n",
    "    print(f\"POST request status code: {response.status_code}\")\n",
    "    print(f\"Response content: {response.text}\")\n",
    "\n",
    "    # Perform a POST request with JSON data\n",
    "    json_data = {'title': 'foo', 'body': 'bar', 'userId': 1}\n",
    "    response = post_json_example(example_url, json_data)\n",
    "    print(f\"POST request with JSON status code: {response.status_code}\")\n",
    "    print(f\"Response content: {response.text}\")\n",
    "\n",
    "    # Perform a GET request and parse the JSON response\n",
    "    json_response = get_json_response(example_url)\n",
    "    print(f\"JSON response: {json_response}\")\n"
   ]
  },
  {
   "cell_type": "code",
   "execution_count": 8,
   "metadata": {},
   "outputs": [
    {
     "name": "stdout",
     "output_type": "stream",
     "text": [
      "Table written to example.parquet\n",
      "Pandas DataFrame:\n",
      "      name  age         city\n",
      "0    Alice   25     New York\n",
      "1      Bob   30  Los Angeles\n",
      "2  Charlie   35      Chicago\n",
      "PyArrow Table:\n",
      "pyarrow.Table\n",
      "name: string\n",
      "age: int64\n",
      "city: string\n",
      "----\n",
      "name: [[\"Alice\",\"Bob\",\"Charlie\"]]\n",
      "age: [[25,30,35]]\n",
      "city: [[\"New York\",\"Los Angeles\",\"Chicago\"]]\n"
     ]
    }
   ],
   "source": [
    "\"\"\"\n",
    "This helper script demonstrates how to use the pyarrow library for handling Arrow data formats.\n",
    "PyArrow is a library that provides tools for working with Apache Arrow, a columnar data format\n",
    "optimized for analytics. It enables efficient reading and writing of Arrow files, conversion between\n",
    "Arrow and Pandas DataFrames, and support for various file formats.\n",
    "\n",
    "Dependencies:\n",
    "- pyarrow\n",
    "\"\"\"\n",
    "\n",
    "import pyarrow as pa\n",
    "import pyarrow.parquet as pq\n",
    "import pandas as pd\n",
    "\n",
    "# Example of creating a PyArrow Table\n",
    "def create_arrow_table(data):\n",
    "    \"\"\"\n",
    "    Creates a PyArrow Table from a dictionary of lists.\n",
    "    \n",
    "    Args:\n",
    "        data (dict): Dictionary where keys are column names and values are lists of column data.\n",
    "    \n",
    "    Returns:\n",
    "        table: The created PyArrow Table.\n",
    "    \"\"\"\n",
    "    table = pa.Table.from_pandas(pd.DataFrame(data))\n",
    "    return table\n",
    "\n",
    "# Example of writing a PyArrow Table to a Parquet file\n",
    "def write_parquet_file(table, file_path):\n",
    "    \"\"\"\n",
    "    Writes a PyArrow Table to a Parquet file.\n",
    "    \n",
    "    Args:\n",
    "        table (pa.Table): The PyArrow Table to write to file.\n",
    "        file_path (str): Path to the output Parquet file.\n",
    "    \"\"\"\n",
    "    pq.write_table(table, file_path)\n",
    "    print(f\"Table written to {file_path}\")\n",
    "\n",
    "# Example of reading a Parquet file into a PyArrow Table\n",
    "def read_parquet_file(file_path):\n",
    "    \"\"\"\n",
    "    Reads a Parquet file into a PyArrow Table.\n",
    "    \n",
    "    Args:\n",
    "        file_path (str): Path to the Parquet file to read.\n",
    "    \n",
    "    Returns:\n",
    "        table: The PyArrow Table read from the file.\n",
    "    \"\"\"\n",
    "    table = pq.read_table(file_path)\n",
    "    return table\n",
    "\n",
    "# Example of converting a PyArrow Table to a Pandas DataFrame\n",
    "def table_to_dataframe(table):\n",
    "    \"\"\"\n",
    "    Converts a PyArrow Table to a Pandas DataFrame.\n",
    "    \n",
    "    Args:\n",
    "        table (pa.Table): The PyArrow Table to convert.\n",
    "    \n",
    "    Returns:\n",
    "        df: The resulting Pandas DataFrame.\n",
    "    \"\"\"\n",
    "    df = table.to_pandas()\n",
    "    return df\n",
    "\n",
    "# Example of converting a Pandas DataFrame to a PyArrow Table\n",
    "def dataframe_to_table(df):\n",
    "    \"\"\"\n",
    "    Converts a Pandas DataFrame to a PyArrow Table.\n",
    "    \n",
    "    Args:\n",
    "        df (pd.DataFrame): The Pandas DataFrame to convert.\n",
    "    \n",
    "    Returns:\n",
    "        table: The resulting PyArrow Table.\n",
    "    \"\"\"\n",
    "    table = pa.Table.from_pandas(df)\n",
    "    return table\n",
    "\n",
    "# Example usage of the helper functions\n",
    "if __name__ == \"__main__\":\n",
    "    # Define some example data\n",
    "    example_data = {\n",
    "        'name': ['Alice', 'Bob', 'Charlie'],\n",
    "        'age': [25, 30, 35],\n",
    "        'city': ['New York', 'Los Angeles', 'Chicago']\n",
    "    }\n",
    "    \n",
    "    # Create a PyArrow Table from the example data\n",
    "    table = create_arrow_table(example_data)\n",
    "    \n",
    "    # Write the table to a Parquet file\n",
    "    parquet_file = 'example.parquet'\n",
    "    write_parquet_file(table, parquet_file)\n",
    "    \n",
    "    # Read the table from the Parquet file\n",
    "    table_from_file = read_parquet_file(parquet_file)\n",
    "    \n",
    "    # Convert the PyArrow Table to a Pandas DataFrame\n",
    "    df = table_to_dataframe(table_from_file)\n",
    "    print(\"Pandas DataFrame:\")\n",
    "    print(df)\n",
    "    \n",
    "    # Convert the Pandas DataFrame back to a PyArrow Table\n",
    "    table_from_df = dataframe_to_table(df)\n",
    "    print(\"PyArrow Table:\")\n",
    "    print(table_from_df)\n"
   ]
  },
  {
   "cell_type": "code",
   "execution_count": 9,
   "metadata": {},
   "outputs": [
    {
     "name": "stdout",
     "output_type": "stream",
     "text": [
      "      name  age         city\n",
      "0    Alice   25     New York\n",
      "1      Bob   30  Los Angeles\n",
      "2  Charlie   35      Chicago\n"
     ]
    }
   ],
   "source": [
    "import pyarrow as pa\n",
    "import pyarrow.parquet as pq\n",
    "\n",
    "# Create a PyArrow Table\n",
    "data = {\n",
    "    'name': ['Alice', 'Bob', 'Charlie'],\n",
    "    'age': [25, 30, 35],\n",
    "    'city': ['New York', 'Los Angeles', 'Chicago']\n",
    "}\n",
    "df = pd.DataFrame(data)\n",
    "table = pa.Table.from_pandas(df)\n",
    "\n",
    "# Write Table to Parquet File\n",
    "pq.write_table(table, 'example.parquet')\n",
    "\n",
    "# Read Table from Parquet File\n",
    "table_read = pq.read_table('example.parquet')\n",
    "\n",
    "# Convert Table to Pandas DataFrame\n",
    "df_read = table_read.to_pandas()\n",
    "print(df_read)\n"
   ]
  },
  {
   "cell_type": "markdown",
   "metadata": {},
   "source": [
    "py7zr library"
   ]
  },
  {
   "cell_type": "code",
   "execution_count": 11,
   "metadata": {},
   "outputs": [
    {
     "data": {
      "text/plain": [
       "'\\nThis helper script demonstrates how to use the py7zr library to work with 7z compressed files. \\nThe py7zr library allows for the extraction and creation of 7z archives, which are known for their high compression ratios. \\nThis script shows how to extract files from a 7z archive and create a new 7z archive from a directory or set of files.\\n\\nDependencies:\\n- py7zr\\n'"
      ]
     },
     "execution_count": 11,
     "metadata": {},
     "output_type": "execute_result"
    }
   ],
   "source": [
    "\"\"\"\n",
    "This helper script demonstrates how to use the py7zr library to work with 7z compressed files. \n",
    "The py7zr library allows for the extraction and creation of 7z archives, which are known for their high compression ratios. \n",
    "This script shows how to extract files from a 7z archive and create a new 7z archive from a directory or set of files.\n",
    "\n",
    "Dependencies:\n",
    "- py7zr\n",
    "\"\"\"\n"
   ]
  },
  {
   "cell_type": "code",
   "execution_count": 14,
   "metadata": {},
   "outputs": [
    {
     "name": "stdout",
     "output_type": "stream",
     "text": [
      "Dataset Structure: DatasetDict({\n",
      "    train: Dataset({\n",
      "        features: ['id', 'dialogue', 'summary'],\n",
      "        num_rows: 14732\n",
      "    })\n",
      "    test: Dataset({\n",
      "        features: ['id', 'dialogue', 'summary'],\n",
      "        num_rows: 819\n",
      "    })\n",
      "    validation: Dataset({\n",
      "        features: ['id', 'dialogue', 'summary'],\n",
      "        num_rows: 818\n",
      "    })\n",
      "})\n",
      "First Sample in Training Set: {'id': '13818513', 'dialogue': \"Amanda: I baked  cookies. Do you want some?\\r\\nJerry: Sure!\\r\\nAmanda: I'll bring you tomorrow :-)\", 'summary': 'Amanda baked cookies and will bring Jerry some tomorrow.'}\n",
      "Dialogue: Amanda: I baked  cookies. Do you want some?\n",
      "Jerry: Sure!\n",
      "Amanda: I'll bring you tomorrow :-)\n",
      "Summary: Amanda baked cookies and will bring Jerry some tomorrow.\n"
     ]
    }
   ],
   "source": [
    "\"\"\"\n",
    "The datasets library is designed to facilitate easy access to a wide variety of datasets, including those commonly used\n",
    "in machine learning, natural language processing (NLP), computer vision, and more. It provides a consistent and efficient\n",
    "interface for loading, processing, and utilizing datasets, making it easier for developers and researchers to work\n",
    "with data.\n",
    "\n",
    "Dependencies:\n",
    "- datasets\n",
    "- transformers\n",
    "\"\"\"\n",
    "\n",
    "from datasets import load_dataset\n",
    "from transformers import PegasusTokenizer\n",
    "\n",
    "# Load the 'samsum' dataset with trust_remote_code=True\n",
    "dataset = load_dataset(\"samsum\", trust_remote_code=True)\n",
    "\n",
    "# Print the dataset structure\n",
    "print(\"Dataset Structure:\", dataset)\n",
    "\n",
    "# Access the first sample in the training set\n",
    "first_sample = dataset['train'][0]\n",
    "print(\"First Sample in Training Set:\", first_sample)\n",
    "\n",
    "# Access dialogue and summary\n",
    "first_dialogue = first_sample['dialogue']\n",
    "first_summary = first_sample['summary']\n",
    "print(\"Dialogue:\", first_dialogue)\n",
    "print(\"Summary:\", first_summary)\n",
    "\n",
    "# Load a tokenizer for the Pegasus model\n",
    "tokenizer = PegasusTokenizer.from_pretrained('google/pegasus-xsum')\n",
    "\n",
    "# Token\n"
   ]
  },
  {
   "cell_type": "code",
   "execution_count": 17,
   "metadata": {},
   "outputs": [
    {
     "name": "stdout",
     "output_type": "stream",
     "text": [
      "ROUGE scores: {'rouge1': Score(precision=0.7142857142857143, recall=0.8333333333333334, fmeasure=0.7692307692307692), 'rouge2': Score(precision=0.3333333333333333, recall=0.4, fmeasure=0.3636363636363636), 'rougeL': Score(precision=0.5714285714285714, recall=0.6666666666666666, fmeasure=0.6153846153846153)}\n"
     ]
    },
    {
     "data": {
      "text/plain": [
       "'\\nSummary\\nThe ROUGE scores indicate the level of similarity between the generated summary and the reference summary:\\n\\nROUGE-1: High precision (0.714) and recall (0.833) indicate a strong unigram overlap.\\nROUGE-2: Lower precision (0.333) and recall (0.4) indicate less overlap in bigrams.\\nROUGE-L: Intermediate precision (0.571) and recall (0.667) indicate moderate overlap in the longest common subsequence.\\n\\nThese scores help evaluate the quality of the generated summary, with higher scores indicating greater similarity to\\nthe reference summary.\\n\\nIn the context of evaluating text summarization or machine translation models using metrics like ROUGE,\\nstrong overlap is generally considered better\\n\\n'"
      ]
     },
     "execution_count": 17,
     "metadata": {},
     "output_type": "execute_result"
    }
   ],
   "source": [
    "\"\"\"\n",
    "The rouge_score library computes several ROUGE metrics, including ROUGE-1, ROUGE-2, and ROUGE-L, which measure the\n",
    "overlap of n-grams, word sequences, and longest common subsequences between the generated text and reference texts.\n",
    "\n",
    "Key Features\n",
    "ROUGE-1: Measures the overlap of unigrams (single words) between the generated text and reference texts.\n",
    "ROUGE-2: Measures the overlap of bigrams (two-word sequences) between the generated text and reference texts.\n",
    "ROUGE-L: Measures the longest common subsequence between the generated text and reference texts.\n",
    "\n",
    "Dependencies:\n",
    "- rouge_score\n",
    "\"\"\"\n",
    "\n",
    "from rouge_score import rouge_scorer\n",
    "\n",
    "# Example generated summaries (these are the machine-generated texts to be evaluated)\n",
    "generated_summary = \"The cat is on the mat.\"\n",
    "\n",
    "# Example reference summaries (these are the human-generated texts to compare against)\n",
    "reference_summary = \"There is a cat on the mat.\"\n",
    "\n",
    "# Create a ROUGE scorer with the desired ROUGE metrics\n",
    "scorer = rouge_scorer.RougeScorer(['rouge1', 'rouge2', 'rougeL'], use_stemmer=True)\n",
    "\n",
    "# Compute ROUGE scores using the scorer\n",
    "scores = scorer.score(generated_summary, reference_summary)\n",
    "\n",
    "# Print the computed ROUGE scores\n",
    "# These scores indicate how closely the machine-generated summaries match the human references\n",
    "print(\"ROUGE scores:\", scores)\n",
    "\n",
    "\"\"\"\n",
    "Summary\n",
    "The ROUGE scores indicate the level of similarity between the generated summary and the reference summary:\n",
    "\n",
    "ROUGE-1: High precision (0.714) and recall (0.833) indicate a strong unigram overlap.\n",
    "ROUGE-2: Lower precision (0.333) and recall (0.4) indicate less overlap in bigrams.\n",
    "ROUGE-L: Intermediate precision (0.571) and recall (0.667) indicate moderate overlap in the longest common subsequence.\n",
    "\n",
    "These scores help evaluate the quality of the generated summary, with higher scores indicating greater similarity to\n",
    "the reference summary.\n",
    "\n",
    "In the context of evaluating text summarization or machine translation models using metrics like ROUGE,\n",
    "strong overlap is generally considered better\n",
    "\n",
    "\"\"\""
   ]
  },
  {
   "cell_type": "code",
   "execution_count": 3,
   "metadata": {},
   "outputs": [
    {
     "name": "stdout",
     "output_type": "stream",
     "text": [
      "Dataset Splits Explained\n",
      "\n",
      "Training Set (train):\n",
      "Purpose: The training set is used to train the model. It contains examples that the model learns from.\n",
      "Details: The model adjusts its weights based on the data in this set to minimize the error on the training examples. It’s the core dataset for learning the patterns and relationships within the data.\n",
      "Size: The training set has 14732 examples.\n",
      "\n",
      "Validation Set (validation):\n",
      "Purpose: The validation set is used to tune the model’s hyperparameters and make decisions about the model’s architecture. It helps in assessing the model’s performance on unseen data during training.\n",
      "Details: This set allows you to test the model's performance and adjust parameters without using the test set. It helps in preventing overfitting by ensuring that the model generalizes well to new data.\n",
      "Size: The validation set contains 818 examples.\n",
      "\n",
      "Test Set (test):\n",
      "Purpose: The test set is used to evaluate the final model’s performance. It provides an unbiased evaluation metric because the model has not seen this data during training or validation.\n",
      "Details: The test set is crucial for assessing how well the model will perform on real-world, unseen data. It gives an indication of how the model generalizes to new examples.\n",
      "Size: The test set has 819 examples.\n",
      "\n"
     ]
    }
   ],
   "source": [
    "from datasets import load_dataset\n",
    "\n",
    "# Load the SAMSum dataset\n",
    "dataset_samsum = load_dataset(\"samsum\")\n",
    "\n",
    "# Print dataset split information with explanations\n",
    "def print_dataset_explanation():\n",
    "    print(\"Dataset Splits Explained\\n\")\n",
    "    \n",
    "    # Training Set\n",
    "    print(\"Training Set (train):\")\n",
    "    print(\"Purpose: The training set is used to train the model. It contains examples that the model learns from.\")\n",
    "    print(\"Details: The model adjusts its weights based on the data in this set to minimize the error on the training examples. It’s the core dataset for learning the patterns and relationships within the data.\")\n",
    "    print(f\"Size: The training set has {len(dataset_samsum['train'])} examples.\\n\")\n",
    "    \n",
    "    # Validation Set\n",
    "    print(\"Validation Set (validation):\")\n",
    "    print(\"Purpose: The validation set is used to tune the model’s hyperparameters and make decisions about the model’s architecture. It helps in assessing the model’s performance on unseen data during training.\")\n",
    "    print(\"Details: This set allows you to test the model's performance and adjust parameters without using the test set. It helps in preventing overfitting by ensuring that the model generalizes well to new data.\")\n",
    "    print(f\"Size: The validation set contains {len(dataset_samsum['validation'])} examples.\\n\")\n",
    "    \n",
    "    # Test Set\n",
    "    print(\"Test Set (test):\")\n",
    "    print(\"Purpose: The test set is used to evaluate the final model’s performance. It provides an unbiased evaluation metric because the model has not seen this data during training or validation.\")\n",
    "    print(\"Details: The test set is crucial for assessing how well the model will perform on real-world, unseen data. It gives an indication of how the model generalizes to new examples.\")\n",
    "    print(f\"Size: The test set has {len(dataset_samsum['test'])} examples.\\n\")\n",
    "\n",
    "# Call the function to print the explanations\n",
    "print_dataset_explanation()\n"
   ]
  },
  {
   "cell_type": "markdown",
   "metadata": {},
   "source": [
    "Tasks we can perform using pipe"
   ]
  },
  {
   "cell_type": "code",
   "execution_count": 4,
   "metadata": {},
   "outputs": [
    {
     "name": "stderr",
     "output_type": "stream",
     "text": [
      "No model was supplied, defaulted to distilbert/distilbert-base-uncased-finetuned-sst-2-english and revision af0f99b (https://huggingface.co/distilbert/distilbert-base-uncased-finetuned-sst-2-english).\n",
      "Using a pipeline without specifying a model name and revision in production is not recommended.\n"
     ]
    },
    {
     "data": {
      "application/vnd.jupyter.widget-view+json": {
       "model_id": "6bf045f61e2f4e858f1308317f9bacef",
       "version_major": 2,
       "version_minor": 0
      },
      "text/plain": [
       "config.json:   0%|          | 0.00/629 [00:00<?, ?B/s]"
      ]
     },
     "metadata": {},
     "output_type": "display_data"
    },
    {
     "name": "stderr",
     "output_type": "stream",
     "text": [
      "c:\\Users\\saima\\Documents\\virtualenvs\\text_summarization_huggingFace\\Lib\\site-packages\\huggingface_hub\\file_download.py:159: UserWarning: `huggingface_hub` cache-system uses symlinks by default to efficiently store duplicated files but your machine does not support them in C:\\Users\\saima\\.cache\\huggingface\\hub\\models--distilbert--distilbert-base-uncased-finetuned-sst-2-english. Caching files will still work but in a degraded version that might require more space on your disk. This warning can be disabled by setting the `HF_HUB_DISABLE_SYMLINKS_WARNING` environment variable. For more details, see https://huggingface.co/docs/huggingface_hub/how-to-cache#limitations.\n",
      "To support symlinks on Windows, you either need to activate Developer Mode or to run Python as an administrator. In order to see activate developer mode, see this article: https://docs.microsoft.com/en-us/windows/apps/get-started/enable-your-device-for-development\n",
      "  warnings.warn(message)\n"
     ]
    },
    {
     "data": {
      "application/vnd.jupyter.widget-view+json": {
       "model_id": "339d2d72ad5641e2af68532aec2437c2",
       "version_major": 2,
       "version_minor": 0
      },
      "text/plain": [
       "model.safetensors:   0%|          | 0.00/268M [00:00<?, ?B/s]"
      ]
     },
     "metadata": {},
     "output_type": "display_data"
    },
    {
     "data": {
      "application/vnd.jupyter.widget-view+json": {
       "model_id": "5f53489b2d114d2ead3b58eaa9399f71",
       "version_major": 2,
       "version_minor": 0
      },
      "text/plain": [
       "tokenizer_config.json:   0%|          | 0.00/48.0 [00:00<?, ?B/s]"
      ]
     },
     "metadata": {},
     "output_type": "display_data"
    },
    {
     "data": {
      "application/vnd.jupyter.widget-view+json": {
       "model_id": "6de3a2141fb846c6a8aad2c51a8e4e56",
       "version_major": 2,
       "version_minor": 0
      },
      "text/plain": [
       "vocab.txt:   0%|          | 0.00/232k [00:00<?, ?B/s]"
      ]
     },
     "metadata": {},
     "output_type": "display_data"
    },
    {
     "name": "stderr",
     "output_type": "stream",
     "text": [
      "No model was supplied, defaulted to dbmdz/bert-large-cased-finetuned-conll03-english and revision f2482bf (https://huggingface.co/dbmdz/bert-large-cased-finetuned-conll03-english).\n",
      "Using a pipeline without specifying a model name and revision in production is not recommended.\n"
     ]
    },
    {
     "name": "stdout",
     "output_type": "stream",
     "text": [
      "[{'label': 'POSITIVE', 'score': 0.9998764991760254}]\n"
     ]
    },
    {
     "data": {
      "application/vnd.jupyter.widget-view+json": {
       "model_id": "bcebbc3729fb46d49c4ce68d36ba0d7b",
       "version_major": 2,
       "version_minor": 0
      },
      "text/plain": [
       "config.json:   0%|          | 0.00/998 [00:00<?, ?B/s]"
      ]
     },
     "metadata": {},
     "output_type": "display_data"
    },
    {
     "name": "stderr",
     "output_type": "stream",
     "text": [
      "c:\\Users\\saima\\Documents\\virtualenvs\\text_summarization_huggingFace\\Lib\\site-packages\\huggingface_hub\\file_download.py:159: UserWarning: `huggingface_hub` cache-system uses symlinks by default to efficiently store duplicated files but your machine does not support them in C:\\Users\\saima\\.cache\\huggingface\\hub\\models--dbmdz--bert-large-cased-finetuned-conll03-english. Caching files will still work but in a degraded version that might require more space on your disk. This warning can be disabled by setting the `HF_HUB_DISABLE_SYMLINKS_WARNING` environment variable. For more details, see https://huggingface.co/docs/huggingface_hub/how-to-cache#limitations.\n",
      "To support symlinks on Windows, you either need to activate Developer Mode or to run Python as an administrator. In order to see activate developer mode, see this article: https://docs.microsoft.com/en-us/windows/apps/get-started/enable-your-device-for-development\n",
      "  warnings.warn(message)\n"
     ]
    },
    {
     "data": {
      "application/vnd.jupyter.widget-view+json": {
       "model_id": "c03b7ff9f02b4ed8b0f9540f43a2d70a",
       "version_major": 2,
       "version_minor": 0
      },
      "text/plain": [
       "model.safetensors:   0%|          | 0.00/1.33G [00:00<?, ?B/s]"
      ]
     },
     "metadata": {},
     "output_type": "display_data"
    },
    {
     "name": "stderr",
     "output_type": "stream",
     "text": [
      "Some weights of the model checkpoint at dbmdz/bert-large-cased-finetuned-conll03-english were not used when initializing BertForTokenClassification: ['bert.pooler.dense.bias', 'bert.pooler.dense.weight']\n",
      "- This IS expected if you are initializing BertForTokenClassification from the checkpoint of a model trained on another task or with another architecture (e.g. initializing a BertForSequenceClassification model from a BertForPreTraining model).\n",
      "- This IS NOT expected if you are initializing BertForTokenClassification from the checkpoint of a model that you expect to be exactly identical (initializing a BertForSequenceClassification model from a BertForSequenceClassification model).\n"
     ]
    },
    {
     "data": {
      "application/vnd.jupyter.widget-view+json": {
       "model_id": "6588bc09d16e41dc84f7c4870c083460",
       "version_major": 2,
       "version_minor": 0
      },
      "text/plain": [
       "tokenizer_config.json:   0%|          | 0.00/60.0 [00:00<?, ?B/s]"
      ]
     },
     "metadata": {},
     "output_type": "display_data"
    },
    {
     "data": {
      "application/vnd.jupyter.widget-view+json": {
       "model_id": "0b84d46107324c4b9f962bce869e9b49",
       "version_major": 2,
       "version_minor": 0
      },
      "text/plain": [
       "vocab.txt:   0%|          | 0.00/213k [00:00<?, ?B/s]"
      ]
     },
     "metadata": {},
     "output_type": "display_data"
    },
    {
     "name": "stderr",
     "output_type": "stream",
     "text": [
      "No model was supplied, defaulted to distilbert/distilbert-base-cased-distilled-squad and revision 626af31 (https://huggingface.co/distilbert/distilbert-base-cased-distilled-squad).\n",
      "Using a pipeline without specifying a model name and revision in production is not recommended.\n"
     ]
    },
    {
     "name": "stdout",
     "output_type": "stream",
     "text": [
      "[{'entity': 'I-ORG', 'score': 0.9992662, 'index': 1, 'word': 'Hu', 'start': 0, 'end': 2}, {'entity': 'I-ORG', 'score': 0.9808883, 'index': 2, 'word': '##gging', 'start': 2, 'end': 7}, {'entity': 'I-ORG', 'score': 0.99536246, 'index': 3, 'word': 'Face', 'start': 8, 'end': 12}, {'entity': 'I-ORG', 'score': 0.9993383, 'index': 4, 'word': 'Inc', 'start': 13, 'end': 16}, {'entity': 'I-LOC', 'score': 0.9990269, 'index': 11, 'word': 'New', 'start': 40, 'end': 43}, {'entity': 'I-LOC', 'score': 0.9988483, 'index': 12, 'word': 'York', 'start': 44, 'end': 48}, {'entity': 'I-LOC', 'score': 0.9991774, 'index': 13, 'word': 'City', 'start': 49, 'end': 53}]\n"
     ]
    },
    {
     "data": {
      "application/vnd.jupyter.widget-view+json": {
       "model_id": "4c8ed4a5fdc14616a723f4030000bcb1",
       "version_major": 2,
       "version_minor": 0
      },
      "text/plain": [
       "config.json:   0%|          | 0.00/473 [00:00<?, ?B/s]"
      ]
     },
     "metadata": {},
     "output_type": "display_data"
    },
    {
     "name": "stderr",
     "output_type": "stream",
     "text": [
      "c:\\Users\\saima\\Documents\\virtualenvs\\text_summarization_huggingFace\\Lib\\site-packages\\huggingface_hub\\file_download.py:159: UserWarning: `huggingface_hub` cache-system uses symlinks by default to efficiently store duplicated files but your machine does not support them in C:\\Users\\saima\\.cache\\huggingface\\hub\\models--distilbert--distilbert-base-cased-distilled-squad. Caching files will still work but in a degraded version that might require more space on your disk. This warning can be disabled by setting the `HF_HUB_DISABLE_SYMLINKS_WARNING` environment variable. For more details, see https://huggingface.co/docs/huggingface_hub/how-to-cache#limitations.\n",
      "To support symlinks on Windows, you either need to activate Developer Mode or to run Python as an administrator. In order to see activate developer mode, see this article: https://docs.microsoft.com/en-us/windows/apps/get-started/enable-your-device-for-development\n",
      "  warnings.warn(message)\n"
     ]
    },
    {
     "data": {
      "application/vnd.jupyter.widget-view+json": {
       "model_id": "c4fc9964d8164333b3dac7b2a5adecc2",
       "version_major": 2,
       "version_minor": 0
      },
      "text/plain": [
       "model.safetensors:   0%|          | 0.00/261M [00:00<?, ?B/s]"
      ]
     },
     "metadata": {},
     "output_type": "display_data"
    },
    {
     "data": {
      "application/vnd.jupyter.widget-view+json": {
       "model_id": "ba980c4d80b241c28c541b6d11189c69",
       "version_major": 2,
       "version_minor": 0
      },
      "text/plain": [
       "tokenizer_config.json:   0%|          | 0.00/49.0 [00:00<?, ?B/s]"
      ]
     },
     "metadata": {},
     "output_type": "display_data"
    },
    {
     "data": {
      "application/vnd.jupyter.widget-view+json": {
       "model_id": "8b4b395162fd44f094b6471d5a8c149b",
       "version_major": 2,
       "version_minor": 0
      },
      "text/plain": [
       "vocab.txt:   0%|          | 0.00/213k [00:00<?, ?B/s]"
      ]
     },
     "metadata": {},
     "output_type": "display_data"
    },
    {
     "data": {
      "application/vnd.jupyter.widget-view+json": {
       "model_id": "0e15232a1e2646eabd185ddfe804304b",
       "version_major": 2,
       "version_minor": 0
      },
      "text/plain": [
       "tokenizer.json:   0%|          | 0.00/436k [00:00<?, ?B/s]"
      ]
     },
     "metadata": {},
     "output_type": "display_data"
    },
    {
     "name": "stderr",
     "output_type": "stream",
     "text": [
      "No model was supplied, defaulted to openai-community/gpt2 and revision 6c0e608 (https://huggingface.co/openai-community/gpt2).\n",
      "Using a pipeline without specifying a model name and revision in production is not recommended.\n"
     ]
    },
    {
     "name": "stdout",
     "output_type": "stream",
     "text": [
      "{'score': 0.9875813722610474, 'start': 25, 'end': 30, 'answer': 'Paris'}\n"
     ]
    },
    {
     "data": {
      "application/vnd.jupyter.widget-view+json": {
       "model_id": "fa494a561abf437695b125622fb6a49d",
       "version_major": 2,
       "version_minor": 0
      },
      "text/plain": [
       "config.json:   0%|          | 0.00/665 [00:00<?, ?B/s]"
      ]
     },
     "metadata": {},
     "output_type": "display_data"
    },
    {
     "name": "stderr",
     "output_type": "stream",
     "text": [
      "c:\\Users\\saima\\Documents\\virtualenvs\\text_summarization_huggingFace\\Lib\\site-packages\\huggingface_hub\\file_download.py:159: UserWarning: `huggingface_hub` cache-system uses symlinks by default to efficiently store duplicated files but your machine does not support them in C:\\Users\\saima\\.cache\\huggingface\\hub\\models--openai-community--gpt2. Caching files will still work but in a degraded version that might require more space on your disk. This warning can be disabled by setting the `HF_HUB_DISABLE_SYMLINKS_WARNING` environment variable. For more details, see https://huggingface.co/docs/huggingface_hub/how-to-cache#limitations.\n",
      "To support symlinks on Windows, you either need to activate Developer Mode or to run Python as an administrator. In order to see activate developer mode, see this article: https://docs.microsoft.com/en-us/windows/apps/get-started/enable-your-device-for-development\n",
      "  warnings.warn(message)\n"
     ]
    },
    {
     "data": {
      "application/vnd.jupyter.widget-view+json": {
       "model_id": "43fbe502308b49d7ba8ee9673b28f15b",
       "version_major": 2,
       "version_minor": 0
      },
      "text/plain": [
       "model.safetensors:   0%|          | 0.00/548M [00:00<?, ?B/s]"
      ]
     },
     "metadata": {},
     "output_type": "display_data"
    },
    {
     "data": {
      "application/vnd.jupyter.widget-view+json": {
       "model_id": "8439b9124d994a04aa768fff4d356069",
       "version_major": 2,
       "version_minor": 0
      },
      "text/plain": [
       "generation_config.json:   0%|          | 0.00/124 [00:00<?, ?B/s]"
      ]
     },
     "metadata": {},
     "output_type": "display_data"
    },
    {
     "data": {
      "application/vnd.jupyter.widget-view+json": {
       "model_id": "20c3802c009049bf8d9d4ff81de6f4ec",
       "version_major": 2,
       "version_minor": 0
      },
      "text/plain": [
       "tokenizer_config.json:   0%|          | 0.00/26.0 [00:00<?, ?B/s]"
      ]
     },
     "metadata": {},
     "output_type": "display_data"
    },
    {
     "data": {
      "application/vnd.jupyter.widget-view+json": {
       "model_id": "1680a179cdb7461b8d96b5ee162579a9",
       "version_major": 2,
       "version_minor": 0
      },
      "text/plain": [
       "vocab.json:   0%|          | 0.00/1.04M [00:00<?, ?B/s]"
      ]
     },
     "metadata": {},
     "output_type": "display_data"
    },
    {
     "data": {
      "application/vnd.jupyter.widget-view+json": {
       "model_id": "36ca986e1ef2423e97c8d9a02b315cac",
       "version_major": 2,
       "version_minor": 0
      },
      "text/plain": [
       "merges.txt:   0%|          | 0.00/456k [00:00<?, ?B/s]"
      ]
     },
     "metadata": {},
     "output_type": "display_data"
    },
    {
     "data": {
      "application/vnd.jupyter.widget-view+json": {
       "model_id": "4edd1359a5c543a2ae92ec1b064bd448",
       "version_major": 2,
       "version_minor": 0
      },
      "text/plain": [
       "tokenizer.json:   0%|          | 0.00/1.36M [00:00<?, ?B/s]"
      ]
     },
     "metadata": {},
     "output_type": "display_data"
    },
    {
     "name": "stderr",
     "output_type": "stream",
     "text": [
      "Setting `pad_token_id` to `eos_token_id`:50256 for open-end generation.\n",
      "No model was supplied, defaulted to google-t5/t5-base and revision 686f1db (https://huggingface.co/google-t5/t5-base).\n",
      "Using a pipeline without specifying a model name and revision in production is not recommended.\n"
     ]
    },
    {
     "name": "stdout",
     "output_type": "stream",
     "text": [
      "[{'generated_text': 'Once upon a time, in my generation, I was raised as a fan of the TV show Mad Men by a mother who had been inspired by Mary Shelley and was very much my own mom, even though she was in love with her, and was'}]\n"
     ]
    },
    {
     "data": {
      "application/vnd.jupyter.widget-view+json": {
       "model_id": "3b3cc056439c40bba21d431316b156e3",
       "version_major": 2,
       "version_minor": 0
      },
      "text/plain": [
       "config.json:   0%|          | 0.00/1.21k [00:00<?, ?B/s]"
      ]
     },
     "metadata": {},
     "output_type": "display_data"
    },
    {
     "name": "stderr",
     "output_type": "stream",
     "text": [
      "c:\\Users\\saima\\Documents\\virtualenvs\\text_summarization_huggingFace\\Lib\\site-packages\\huggingface_hub\\file_download.py:159: UserWarning: `huggingface_hub` cache-system uses symlinks by default to efficiently store duplicated files but your machine does not support them in C:\\Users\\saima\\.cache\\huggingface\\hub\\models--google-t5--t5-base. Caching files will still work but in a degraded version that might require more space on your disk. This warning can be disabled by setting the `HF_HUB_DISABLE_SYMLINKS_WARNING` environment variable. For more details, see https://huggingface.co/docs/huggingface_hub/how-to-cache#limitations.\n",
      "To support symlinks on Windows, you either need to activate Developer Mode or to run Python as an administrator. In order to see activate developer mode, see this article: https://docs.microsoft.com/en-us/windows/apps/get-started/enable-your-device-for-development\n",
      "  warnings.warn(message)\n"
     ]
    },
    {
     "data": {
      "application/vnd.jupyter.widget-view+json": {
       "model_id": "ec7dac4b44fd49ff8a906cab5de5958c",
       "version_major": 2,
       "version_minor": 0
      },
      "text/plain": [
       "model.safetensors:   0%|          | 0.00/892M [00:00<?, ?B/s]"
      ]
     },
     "metadata": {},
     "output_type": "display_data"
    },
    {
     "data": {
      "application/vnd.jupyter.widget-view+json": {
       "model_id": "d62543104c7e49e1930ee1b4a9e86125",
       "version_major": 2,
       "version_minor": 0
      },
      "text/plain": [
       "generation_config.json:   0%|          | 0.00/147 [00:00<?, ?B/s]"
      ]
     },
     "metadata": {},
     "output_type": "display_data"
    },
    {
     "data": {
      "application/vnd.jupyter.widget-view+json": {
       "model_id": "907556447faf40eca57306cd0ef30104",
       "version_major": 2,
       "version_minor": 0
      },
      "text/plain": [
       "spiece.model:   0%|          | 0.00/792k [00:00<?, ?B/s]"
      ]
     },
     "metadata": {},
     "output_type": "display_data"
    },
    {
     "data": {
      "application/vnd.jupyter.widget-view+json": {
       "model_id": "a1c6e333694241b0bc9560b40fa4e769",
       "version_major": 2,
       "version_minor": 0
      },
      "text/plain": [
       "tokenizer.json:   0%|          | 0.00/1.39M [00:00<?, ?B/s]"
      ]
     },
     "metadata": {},
     "output_type": "display_data"
    },
    {
     "name": "stderr",
     "output_type": "stream",
     "text": [
      "No model was supplied, defaulted to sshleifer/distilbart-cnn-12-6 and revision a4f8f3e (https://huggingface.co/sshleifer/distilbart-cnn-12-6).\n",
      "Using a pipeline without specifying a model name and revision in production is not recommended.\n"
     ]
    },
    {
     "name": "stdout",
     "output_type": "stream",
     "text": [
      "[{'translation_text': 'Bonjour, comment êtes-vous?'}]\n"
     ]
    },
    {
     "data": {
      "application/vnd.jupyter.widget-view+json": {
       "model_id": "e41617e6209440f09382eee89c85ca3a",
       "version_major": 2,
       "version_minor": 0
      },
      "text/plain": [
       "config.json:   0%|          | 0.00/1.80k [00:00<?, ?B/s]"
      ]
     },
     "metadata": {},
     "output_type": "display_data"
    },
    {
     "name": "stderr",
     "output_type": "stream",
     "text": [
      "c:\\Users\\saima\\Documents\\virtualenvs\\text_summarization_huggingFace\\Lib\\site-packages\\huggingface_hub\\file_download.py:159: UserWarning: `huggingface_hub` cache-system uses symlinks by default to efficiently store duplicated files but your machine does not support them in C:\\Users\\saima\\.cache\\huggingface\\hub\\models--sshleifer--distilbart-cnn-12-6. Caching files will still work but in a degraded version that might require more space on your disk. This warning can be disabled by setting the `HF_HUB_DISABLE_SYMLINKS_WARNING` environment variable. For more details, see https://huggingface.co/docs/huggingface_hub/how-to-cache#limitations.\n",
      "To support symlinks on Windows, you either need to activate Developer Mode or to run Python as an administrator. In order to see activate developer mode, see this article: https://docs.microsoft.com/en-us/windows/apps/get-started/enable-your-device-for-development\n",
      "  warnings.warn(message)\n"
     ]
    },
    {
     "data": {
      "application/vnd.jupyter.widget-view+json": {
       "model_id": "750026808cc54844a5b1c1353596bdfa",
       "version_major": 2,
       "version_minor": 0
      },
      "text/plain": [
       "pytorch_model.bin:   0%|          | 0.00/1.22G [00:00<?, ?B/s]"
      ]
     },
     "metadata": {},
     "output_type": "display_data"
    },
    {
     "data": {
      "application/vnd.jupyter.widget-view+json": {
       "model_id": "a797f7ff52714b979fe559cd7ca96683",
       "version_major": 2,
       "version_minor": 0
      },
      "text/plain": [
       "tokenizer_config.json:   0%|          | 0.00/26.0 [00:00<?, ?B/s]"
      ]
     },
     "metadata": {},
     "output_type": "display_data"
    },
    {
     "data": {
      "application/vnd.jupyter.widget-view+json": {
       "model_id": "d45f4fdfceea42d79b522393d3fc31ec",
       "version_major": 2,
       "version_minor": 0
      },
      "text/plain": [
       "vocab.json:   0%|          | 0.00/899k [00:00<?, ?B/s]"
      ]
     },
     "metadata": {},
     "output_type": "display_data"
    },
    {
     "data": {
      "application/vnd.jupyter.widget-view+json": {
       "model_id": "785287cfbfd74fc9bbbbda763604d847",
       "version_major": 2,
       "version_minor": 0
      },
      "text/plain": [
       "merges.txt:   0%|          | 0.00/456k [00:00<?, ?B/s]"
      ]
     },
     "metadata": {},
     "output_type": "display_data"
    },
    {
     "name": "stderr",
     "output_type": "stream",
     "text": [
      "Your max_length is set to 142, but your input_length is only 25. Since this is a summarization task, where outputs shorter than the input are typically wanted, you might consider decreasing max_length manually, e.g. summarizer('...', max_length=12)\n",
      "No model was supplied, defaulted to google-t5/t5-base and revision 686f1db (https://huggingface.co/google-t5/t5-base).\n",
      "Using a pipeline without specifying a model name and revision in production is not recommended.\n"
     ]
    },
    {
     "name": "stdout",
     "output_type": "stream",
     "text": [
      "[{'summary_text': \" The Eiffel Tower is a wrought-iron lattice tower on the Champ de Mars in Paris, France . It was built in the 1920s and is located in the French capital Paris . It is one of the world's most famous tourist attractions, and is the tallest tower in the world .\"}]\n"
     ]
    },
    {
     "name": "stderr",
     "output_type": "stream",
     "text": [
      "c:\\Users\\saima\\Documents\\virtualenvs\\text_summarization_huggingFace\\Lib\\site-packages\\transformers\\generation\\utils.py:1259: UserWarning: Using the model-agnostic default `max_length` (=20) to control the generation length. We recommend setting `max_new_tokens` to control the maximum length of the generation.\n",
      "  warnings.warn(\n",
      "No model was supplied, defaulted to distilbert/distilbert-base-cased and revision 935ac13 (https://huggingface.co/distilbert/distilbert-base-cased).\n",
      "Using a pipeline without specifying a model name and revision in production is not recommended.\n"
     ]
    },
    {
     "name": "stdout",
     "output_type": "stream",
     "text": [
      "[{'generated_text': 'Hallo'}]\n"
     ]
    },
    {
     "data": {
      "application/vnd.jupyter.widget-view+json": {
       "model_id": "1d38e718e70049e693f88242b9a87d46",
       "version_major": 2,
       "version_minor": 0
      },
      "text/plain": [
       "config.json:   0%|          | 0.00/465 [00:00<?, ?B/s]"
      ]
     },
     "metadata": {},
     "output_type": "display_data"
    },
    {
     "name": "stderr",
     "output_type": "stream",
     "text": [
      "c:\\Users\\saima\\Documents\\virtualenvs\\text_summarization_huggingFace\\Lib\\site-packages\\huggingface_hub\\file_download.py:159: UserWarning: `huggingface_hub` cache-system uses symlinks by default to efficiently store duplicated files but your machine does not support them in C:\\Users\\saima\\.cache\\huggingface\\hub\\models--distilbert--distilbert-base-cased. Caching files will still work but in a degraded version that might require more space on your disk. This warning can be disabled by setting the `HF_HUB_DISABLE_SYMLINKS_WARNING` environment variable. For more details, see https://huggingface.co/docs/huggingface_hub/how-to-cache#limitations.\n",
      "To support symlinks on Windows, you either need to activate Developer Mode or to run Python as an administrator. In order to see activate developer mode, see this article: https://docs.microsoft.com/en-us/windows/apps/get-started/enable-your-device-for-development\n",
      "  warnings.warn(message)\n"
     ]
    },
    {
     "data": {
      "application/vnd.jupyter.widget-view+json": {
       "model_id": "f163ac026a8347dca309e0102e08350e",
       "version_major": 2,
       "version_minor": 0
      },
      "text/plain": [
       "model.safetensors:   0%|          | 0.00/263M [00:00<?, ?B/s]"
      ]
     },
     "metadata": {},
     "output_type": "display_data"
    },
    {
     "data": {
      "application/vnd.jupyter.widget-view+json": {
       "model_id": "0e981473488447b89724889fc9779355",
       "version_major": 2,
       "version_minor": 0
      },
      "text/plain": [
       "tokenizer_config.json:   0%|          | 0.00/49.0 [00:00<?, ?B/s]"
      ]
     },
     "metadata": {},
     "output_type": "display_data"
    },
    {
     "data": {
      "application/vnd.jupyter.widget-view+json": {
       "model_id": "bed6df3968784865be877a9ee43963ef",
       "version_major": 2,
       "version_minor": 0
      },
      "text/plain": [
       "vocab.txt:   0%|          | 0.00/213k [00:00<?, ?B/s]"
      ]
     },
     "metadata": {},
     "output_type": "display_data"
    },
    {
     "data": {
      "application/vnd.jupyter.widget-view+json": {
       "model_id": "4a7100302a4048cab4abbd6a0a1b33ab",
       "version_major": 2,
       "version_minor": 0
      },
      "text/plain": [
       "tokenizer.json:   0%|          | 0.00/436k [00:00<?, ?B/s]"
      ]
     },
     "metadata": {},
     "output_type": "display_data"
    },
    {
     "name": "stderr",
     "output_type": "stream",
     "text": [
      "No model was supplied, defaulted to facebook/bart-large-mnli and revision c626438 (https://huggingface.co/facebook/bart-large-mnli).\n",
      "Using a pipeline without specifying a model name and revision in production is not recommended.\n"
     ]
    },
    {
     "name": "stdout",
     "output_type": "stream",
     "text": [
      "[[[0.5277762413024902, 0.012752849608659744, -0.24740900099277496, -0.2788694202899933, -0.32935041189193726, -0.07941136509180069, 0.21565823256969452, -0.24703820049762726, 0.2152896672487259, -1.1967986822128296, -0.2569701373577118, -0.09218212962150574, -0.04500536248087883, -0.13331523537635803, -0.49310266971588135, -0.10082495212554932, 0.046399764716625214, 0.11916016042232513, 0.042893774807453156, -0.2023313045501709, 0.12270345538854599, -0.3450155258178711, 0.5449188947677612, -0.3359999358654022, 0.12103448808193207, 0.07919768244028091, 0.21688944101333618, 0.27065446972846985, -0.21318380534648895, 0.5044148564338684, -0.21606312692165375, 0.21239592134952545, -0.11544475704431534, -0.04205246642231941, -0.19596818089485168, 0.12039360404014587, 0.0013785064220428467, -0.4341977834701538, -0.034675177186727524, -0.10566279292106628, -0.34618109464645386, 0.2018921673297882, 0.7164987325668335, -0.12461850047111511, -0.11393070220947266, -0.4325113296508789, -0.06378588080406189, 0.15470488369464874, -0.006907127797603607, 0.1753237247467041, -0.03621834143996239, -0.07434128224849701, -0.06956654787063599, -0.06642906367778778, 0.16286805272102356, -0.08408708870410919, -0.09253797680139542, 0.11079047620296478, -0.40064358711242676, 0.11698503792285919, 0.03798917680978775, -0.05154503509402275, 0.20455220341682434, 0.2147005796432495, -0.17703768610954285, -0.1350449174642563, -0.1357826590538025, 0.16756606101989746, -0.33976760506629944, -0.10567879676818848, -0.2948569059371948, 0.25509220361709595, 0.3277970254421234, 0.864848256111145, 0.4272957146167755, -0.23799431324005127, 0.40791577100753784, 0.28078827261924744, -0.025692112743854523, 0.1844935417175293, 0.10209600627422333, 0.07424542307853699, -0.020083945244550705, 0.010565243661403656, -0.15294302999973297, -0.2065291553735733, 0.0731833428144455, 0.05012042820453644, -0.0807957723736763, 0.22764579951763153, 0.01705743372440338, -0.1620456725358963, -0.3579038381576538, -0.21512368321418762, 0.07195591926574707, 0.14709702134132385, 0.08354571461677551, 0.2412301003932953, 6.619138717651367, -0.014249577187001705, -0.2572110891342163, -0.08168889582157135, 0.12203096598386765, -0.11484955996274948, 0.37023279070854187, -0.34957653284072876, -0.09768252074718475, -0.4792448878288269, 0.2624971270561218, 0.5684905052185059, 0.39094626903533936, 0.022862009704113007, 0.16049924492835999, -0.2004902958869934, 0.07075471431016922, -0.029094893485307693, 0.13063280284404755, -0.04825863987207413, 0.12267155200242996, -0.29215192794799805, -0.08508645743131638, -0.20878511667251587, 1.0546998977661133, 0.20243124663829803, -0.28738170862197876, -0.150847926735878, -0.09205257147550583, 0.044619277119636536, 0.3657746911048889, -0.2510623335838318, -0.7646854519844055, -0.17913348972797394, -0.17748238146305084, 0.002703990787267685, 0.06840118765830994, 0.07785704731941223, -0.17907431721687317, 0.1576324850320816, -0.684646487236023, 0.17468847334384918, 0.1330847144126892, -0.245260089635849, -0.010391246527433395, -0.03217114508152008, -0.4498562216758728, 3.077800750732422, -0.06983796507120132, 0.13770630955696106, -0.2034008800983429, -0.25903305411338806, -0.12894797325134277, -0.15782754123210907, -0.4289737641811371, 0.11790041625499725, -0.13880307972431183, -0.050822921097278595, -0.04006762430071831, -0.03770745173096657, -0.12017687410116196, -0.11438402533531189, -0.9071071147918701, -0.027664363384246826, -0.35580018162727356, 0.27044162154197693, -0.01613558828830719, -0.19620557129383087, 0.35145848989486694, -0.711682140827179, 0.32341739535331726, 0.36892765760421753, -0.11599999666213989, -0.3058497905731201, -2.2481815814971924, 0.2637560963630676, 0.18216796219348907, 0.2065662145614624, 0.2573363482952118, -0.08283108472824097, 0.1600332111120224, -0.18695005774497986, -0.22878201305866241, 0.14282819628715515, -0.025741346180438995, -0.0709422156214714, -0.487596720457077, 0.19002662599086761, 0.01512230560183525, 0.11291796714067459, 0.1573999524116516, 0.14355593919754028, 0.08595310151576996, -0.2623014450073242, 0.09724356979131699, -0.07563004642724991, 0.12912225723266602, 0.014756843447685242, -0.04219366982579231, 0.0018143132328987122, -0.11359134316444397, 0.23371022939682007, -0.17303670942783356, -0.09869163483381271, -0.3348747789859772, 0.07621332257986069, 0.5158742070198059, -0.03307628631591797, -0.12506787478923798, 0.0036882497370243073, 0.28068122267723083, 0.04690627008676529, -0.24975569546222687, -0.005022156983613968, 0.14499935507774353, 0.35384976863861084, 0.3563733696937561, -0.19531987607479095, -0.19749976694583893, -0.2001246213912964, -0.03601560741662979, -0.10587301850318909, -0.13341352343559265, 0.12041369825601578, -0.3693273663520813, -0.18755660951137543, -0.12192168831825256, 0.16130173206329346, 0.310998797416687, 0.051664695143699646, -0.09116239845752716, -0.33511602878570557, 0.16911597549915314, -0.04417537897825241, 0.25462010502815247, -0.13046620786190033, 0.022831270471215248, -0.24479153752326965, -0.21285396814346313, 0.1151147335767746, 0.08506797254085541, 0.335952490568161, -0.01403687335550785, -0.10085505992174149, 0.27456921339035034, -0.11894307285547256, -0.03444541618227959, 0.25632762908935547, 0.3963050842285156, 0.28277453780174255, 0.0391789935529232, -0.1662057489156723, 0.8532246947288513, 0.00015169382095336914, -0.045820824801921844, -0.22531387209892273, -0.5059630870819092, -0.14953719079494476, -0.08123275637626648, -1.5322104692459106, -0.31049126386642456, 0.16938413679599762, 0.162983700633049, -2.89949369430542, 0.16297647356987, 0.28278881311416626, 0.10666731745004654, -0.17882941663265228, 0.3456551134586334, -0.2117920070886612, -0.1948918104171753, 0.120711550116539, -0.6940370798110962, -0.20051199197769165, -0.5415422320365906, 0.14549271762371063, -0.16682739555835724, 0.05640565603971481, -0.15867066383361816, 0.17340615391731262, 0.09344915300607681, -0.1778297871351242, -0.25558507442474365, 0.14707255363464355, -0.47975394129753113, 0.39782485365867615, -0.3541155755519867, 0.5535564422607422, 0.2786485254764557, 0.15208394825458527, 0.10794652998447418, 4.100847244262695, 0.08024108409881592, -0.10083476454019547, 0.32808950543403625, -0.3409406542778015, -0.03408871591091156, 0.05610579252243042, -0.4769156277179718, 0.0779997855424881, 0.0183342806994915, 0.13999581336975098, -0.26597708463668823, -0.1975250244140625, -0.6413025856018066, -0.027206648141145706, -0.5452739596366882, 0.07354187965393066, 0.05055347830057144, 0.16680704057216644, -0.8310258388519287, -0.01289076916873455, 0.19942951202392578, 0.09832996129989624, 0.004110049456357956, 0.033917516469955444, -0.22154447436332703, -0.20949006080627441, -0.43740713596343994, 0.5440394282341003, 0.0151128601282835, -0.846818208694458, -0.06878764927387238, 0.007635943591594696, -0.33982405066490173, -0.10331102460622787, -0.014809424057602882, -0.12421604990959167, 0.15815578401088715, 0.00412808358669281, -0.1644686758518219, -0.06588158011436462, -0.06774143129587173, 0.07520269602537155, -0.2859237790107727, -0.2456904798746109, 0.07523457705974579, -0.15076056122779846, 0.026737000793218613, 0.23749785125255585, 0.1251072883605957, 0.3423190116882324, -0.21656331419944763, 0.07614482939243317, -0.23877273499965668, 0.05999916419386864, 0.27221226692199707, 0.008448349311947823, 0.16805273294448853, -0.011730000376701355, 0.15591418743133545, 0.09238018840551376, 0.05002554506063461, 0.1572180986404419, -0.005967162549495697, 0.2296151965856552, 0.20938865840435028, -0.09123405069112778, -0.16146311163902283, -0.29676353931427, -0.03302840515971184, 0.06550738215446472, 0.006986953318119049, -2.2952659130096436, 0.15342701971530914, 0.11851400136947632, -0.15938222408294678, 0.036734554916620255, -0.05138196796178818, 0.1983490139245987, 0.0028155073523521423, 0.368155837059021, 0.23992016911506653, -0.01128273457288742, 0.27994880080223083, 0.22501900792121887, -0.6413508653640747, 0.32764601707458496, 0.07896887511014938, 0.7323023676872253, 0.2797682583332062, -0.25639551877975464, -0.27446338534355164, 0.04546727240085602, 0.004706371575593948, -0.029767272993922234, -0.03583398833870888, 0.016710815951228142, -0.06980743259191513, -0.26941558718681335, 0.1305575966835022, 0.17553618550300598, 0.5942695140838623, -0.06628838181495667, -0.03327026218175888, -0.19744586944580078, -0.06645923107862473, 0.14220957458019257, -0.13063836097717285, 0.19899031519889832, 0.24225084483623505, -0.12878328561782837, -0.3530028164386749, 0.27919667959213257, 0.0009119585156440735, 0.020579902455210686, -0.2498065084218979, -0.001054033637046814, 0.2449931651353836, -0.23125915229320526, -1.44207763671875, -0.04451645165681839, -0.12609803676605225, -0.28612035512924194, 0.021180810406804085, -0.03578381612896919, 0.344433456659317, -0.08654556423425674, 0.0947597548365593, 0.04746364802122116, 0.33793342113494873, 0.029358651489019394, 0.20644253492355347, 0.16799330711364746, 0.13559480011463165, -0.20571744441986084, 0.17463332414627075, 0.2819843888282776, -0.08613228797912598, -0.14793677628040314, -0.05973299592733383, 0.1246841698884964, -0.620561420917511, -0.10294263064861298, 0.0777331218123436, -0.18472425639629364, -0.09993449598550797, -0.3293509781360626, 0.12383762001991272, -0.26010099053382874, -0.025441067293286324, 5.150740623474121, -0.29121705889701843, 0.17050951719284058, 0.1245521530508995, -0.1849636435508728, -0.1648322492837906, 0.28969627618789673, 0.02944609522819519, 0.7917510867118835, 0.15205803513526917, -0.39746442437171936, -0.30897876620292664, -0.0855787992477417, 0.1025320291519165, -0.3610800504684448, 0.15098746120929718, -0.12961266934871674, -0.04419926181435585, -0.1375245451927185, -0.1347716599702835, 0.019788892939686775, -0.25735044479370117, 0.049277838319540024, -0.2647659182548523, 0.21998797357082367, 0.1751699149608612, 0.05012769624590874, -0.2662854790687561, -0.0314268097281456, -0.36111122369766235, -0.4090355932712555, 0.2467195689678192, 0.21829397976398468, 0.12902235984802246, 0.10585679113864899, 0.012341860681772232, 0.08381280303001404, 0.08379565179347992, 0.06144671142101288, 0.16798436641693115, 0.3367897570133209, 0.1735035628080368, 0.8467394113540649, 0.025302868336439133, 0.6300368905067444, 0.35202905535697937, 0.12232673168182373, -0.17789912223815918, 0.23762963712215424, 0.09107143431901932, -0.020744018256664276, 0.37208521366119385, 0.14569704234600067, -0.3137110471725464, 0.18111182749271393, -0.07317999005317688, 0.17032897472381592, -0.11619967222213745, 0.11822572350502014, 0.17913208901882172, -0.12468201667070389, -0.5337762832641602, -0.19578269124031067, -0.2397889792919159, 0.13965541124343872, 0.12489048391580582, 0.10434771329164505, -0.22532695531845093, -0.24635228514671326, -0.1862204670906067, -0.33750060200691223, 0.21974675357341766, -0.22800371050834656, 0.07899710536003113, 0.228887140750885, 0.056820787489414215, -0.28660616278648376, 0.2130102515220642, -0.08680936694145203, -0.14136016368865967, -0.1652880609035492, -0.1360536813735962, -0.11865193396806717, -0.25664007663726807, 0.14495493471622467, -0.2891286611557007, -0.4523066580295563, -0.49214738607406616, 0.00013227947056293488, 0.24306853115558624, 0.0441088043153286, -0.020842120051383972, -0.06581079214811325, -0.08877964317798615, 0.06673209369182587, 0.2073689103126526, -0.04288005828857422, -0.14076636731624603, -0.1748034954071045, 0.18294848501682281, 0.49772727489471436, 0.15553820133209229, -0.054903049021959305, 0.04711413010954857, 0.029513327404856682, -0.2207939475774765, -0.3368159234523773, 0.05330534651875496, -0.10040777921676636, 0.05162792652845383, 0.34782445430755615, 0.05889156088232994, -0.03211222589015961, 0.14668425917625427, -0.12959547340869904, 0.294890433549881, -0.20686616003513336, -0.42249244451522827, -6.760889530181885, 0.269085556268692, 0.002606108784675598, 0.25478824973106384, -0.3812413215637207, -0.08946263045072556, 0.1495569348335266, 0.23407785594463348, 0.2196696400642395, -0.04390937089920044, -0.22764049470424652, -0.0636618509888649, -2.144277811050415, 0.11866439878940582, -0.009982572868466377, 0.16196754574775696, -0.0658954456448555, -0.9240350127220154, -0.25130411982536316, 0.43812042474746704, -0.0926947146654129, 0.23737074434757233, 0.15872444212436676, 0.3807421922683716, 0.25777485966682434, 0.12838855385780334, 0.03713013231754303, 0.013294082134962082, 0.04488490894436836, -0.2025434821844101, 0.15855570137500763, -0.049485139548778534, 0.36851754784584045, -0.16315986216068268, -0.34924396872520447, -0.006976739969104528, -0.039887167513370514, -0.04470839351415634, 0.40352654457092285, -0.2553965747356415, -0.10248089581727982, 0.09907443821430206, 0.07602093368768692, 0.0703740268945694, -0.5450738668441772, -0.23685701191425323, -0.5334139466285706, -2.019019365310669, -0.0009672641754150391, -0.044086482375860214, 0.24775192141532898, 0.05627204477787018, -0.010013744235038757, 0.08275611698627472, -0.29416632652282715, 0.05513095110654831, -0.050948578864336014, -0.050776515156030655, 0.43275612592697144, -0.05111663416028023, -0.25846439599990845, -0.08172003924846649, 0.18763954937458038, 0.13940125703811646, -0.03623468056321144, 0.07061813771724701, -0.3308870792388916, -0.00847221165895462, 0.06983478367328644, -0.08467219024896622, -0.05271168053150177, -0.25099748373031616, -0.05476709455251694, 0.12225523591041565, 0.0793389230966568, 0.256856232881546, -0.001532040536403656, -0.06814821064472198, -0.12534856796264648, -0.14558419585227966, -0.45074549317359924, -0.14439700543880463, 0.28798383474349976, 0.055293645709753036, 0.08392240107059479, 0.08897404372692108, 0.020940080285072327, 0.34356221556663513, -0.054873522371053696, 0.10125390440225601, 0.213020920753479, 0.0525045245885849, -0.02303663268685341, 0.07284288853406906, -0.13393697142601013, 0.24119368195533752, -0.17448830604553223, 0.10515017807483673, -0.3734115958213806, -0.2812356650829315, -0.18592116236686707, 0.1851418912410736, 0.20867294073104858, -0.4470869302749634, -0.2534143924713135, -0.07609014958143234, 2.6581242084503174, 0.11772129684686661, -0.1322506070137024, 0.042038869112730026, 0.130371555685997, 0.18968325853347778, 0.23829640448093414, 0.28549623489379883, 1.8570550680160522, -0.16969755291938782, -0.035083428025245667, 0.027194086462259293, 0.04890277981758118, 0.21336853504180908, 0.024701137095689774, 0.4286695718765259, -0.006776347756385803, 0.056199390441179276, -0.1477126181125641, 0.03987861052155495, 0.4064902067184448, -0.21911214292049408, 0.07610674947500229, -0.11865462362766266, 0.11656113713979721, -0.122635118663311, -0.3422735631465912, -0.21038706600666046, -0.00845765694975853, -0.1596512794494629, 0.015771936625242233, -0.10275222361087799, -0.08012387156486511, 0.7082621455192566, -0.14321818947792053, 0.20555701851844788, 0.39529329538345337, -0.08296159654855728, -0.10487805306911469, -0.4455740451812744, -0.10244487971067429, -0.2023402452468872, -0.5684542059898376, 0.4907824993133545, -0.18095311522483826, -0.06565091758966446, -0.035851672291755676, 0.01951303333044052, 0.16072280704975128, 0.07242825627326965, -0.28558993339538574, -0.5803870558738708, -0.2552880644798279, 0.2915276885032654, 0.04473281651735306, 0.09747463464736938, -0.4203588664531708, -0.21944348514080048, 0.3375881314277649, 0.015997208654880524, -0.08087445050477982, -0.001816262025386095, -0.031218096613883972, -0.2132420390844345, -0.11376801878213882, -0.08482774347066879, 0.17254088819026947, -0.2327946126461029, -0.0886429026722908, -0.36389902234077454, -0.1428757607936859, 0.19317451119422913, -2.3338747024536133, -0.09859687834978104, -0.023266281932592392, -0.5434713363647461, -0.3966265022754669, -0.2299553006887436, 0.23613357543945312, 0.02365509793162346, 0.24110180139541626, 0.02781919203698635, -0.09696575254201889, 2.1516926288604736, 0.02545718103647232, -0.020780637860298157, -0.04193186014890671, -0.17347541451454163, 0.28802427649497986, 0.014529307372868061, -0.05868113413453102, -0.17843429744243622, -0.13951964676380157, 1.6550835371017456, 0.17523795366287231, 0.23038694262504578, 0.2994092106819153, -0.02008518949151039, -0.17459352314472198, 0.17066225409507751, 0.03503572940826416, 0.020733438432216644, -0.2642470896244049, 0.21117353439331055, -0.03194717317819595], [0.18151548504829407, -0.29736053943634033, 0.011961579322814941, 0.006314861588180065, -0.46364426612854004, 0.14912833273410797, 0.05992785841226578, 0.1499229222536087, 0.0938510149717331, -0.15997347235679626, 0.03493117168545723, -0.1751037985086441, 0.27563437819480896, 0.26487696170806885, -0.08621376752853394, 0.07833141088485718, 0.1471678614616394, 0.3151978552341461, -0.2113087773323059, 0.055967025458812714, 0.0863671600818634, -0.4472114145755768, -0.125620499253273, -0.3160301744937897, 0.05552186816930771, 0.25319424271583557, 0.15431641042232513, 0.12615011632442474, -0.3096047639846802, 0.1975485235452652, -0.03777473047375679, 0.33561211824417114, -0.08722230046987534, 0.14809885621070862, -0.5795035362243652, 0.22337333858013153, 0.27069270610809326, 0.2059255838394165, 0.12253765016794205, 0.1745826005935669, 0.6439177989959717, 0.1982402801513672, 0.2793388366699219, -0.33371129631996155, 0.2799025774002075, 0.052936896681785583, -0.005257005337625742, 0.23017975687980652, -0.1183457002043724, 0.36721450090408325, 0.09250897914171219, -0.5671603083610535, -0.2676854133605957, 0.038599006831645966, 0.08952803909778595, -0.34781455993652344, -0.156180277466774, -0.11002938449382782, -0.08557024598121643, 0.2499852180480957, -0.3926309049129486, 0.027907120063900948, 0.2288437783718109, -0.20241720974445343, -0.23367588222026825, -0.0669851154088974, 0.1363963931798935, 0.24098306894302368, 0.06944599002599716, 0.10209077596664429, -0.31345677375793457, -0.1438155472278595, 0.05665212124586105, 0.08317868411540985, 0.32093244791030884, 0.09686465561389923, 0.05219249799847603, 0.5246043801307678, 0.40699824690818787, -0.08777937293052673, 0.03431988134980202, 0.02367653325200081, 0.36796456575393677, -0.15346074104309082, -0.03317352384328842, 0.31664401292800903, -0.07233671844005585, -0.1275450736284256, 0.22614407539367676, -0.000635046511888504, 0.0446489043533802, -0.1264590620994568, 0.4032655358314514, -0.10665655136108398, 0.4088435769081116, -0.1499459445476532, -0.2677884101867676, 0.20418547093868256, 0.6581774353981018, 0.08608239144086838, 0.02357315644621849, 0.05559641495347023, -0.2725690007209778, -0.12588754296302795, -0.025975162163376808, -0.13672935962677002, 0.08172202110290527, -0.1826392561197281, 0.21912075579166412, 0.010866202414035797, 0.3271474242210388, 0.288836270570755, 0.22179743647575378, -0.11737851053476334, 0.13249632716178894, -0.13834302127361298, -0.17269006371498108, 0.251413494348526, 0.1529369056224823, -0.23304621875286102, -0.1397259682416916, 0.1830887794494629, -0.09675014019012451, 0.3520425856113434, -0.010776801034808159, 0.2475479394197464, -0.006471714004874229, 0.14310768246650696, 0.04358116164803505, 0.0879320427775383, 0.18489395081996918, -0.2555009126663208, 0.1601719856262207, -0.1757352203130722, -0.25064629316329956, 0.1475505530834198, 0.005729407072067261, 0.15192991495132446, -0.4077516496181488, -0.22586789727210999, -0.2857549786567688, -0.26707854866981506, 0.27308738231658936, 0.015176333487033844, 0.05221650004386902, 0.23790645599365234, -0.33222997188568115, -0.028682343661785126, -0.009782589972019196, -0.12520809471607208, 0.13580478727817535, 0.3500962257385254, 0.030550915747880936, -0.18112103641033173, -0.23063518106937408, 0.2448098361492157, -0.1766667664051056, 0.19480925798416138, -0.004481784999370575, -0.10503412783145905, -0.31065207719802856, -0.018662050366401672, -0.1086004376411438, -0.05724373459815979, -0.14465095102787018, 0.22889912128448486, -0.5080274343490601, -0.054832156747579575, -0.20149551331996918, 0.5619258880615234, -0.10073590278625488, 0.3655814826488495, -0.737892210483551, 0.3235785663127899, -0.12498833984136581, -0.6397300958633423, 0.4433797597885132, -0.35979795455932617, -0.22763492166996002, 0.03191947564482689, 0.13677284121513367, 0.298496812582016, -0.06366705894470215, -0.25792521238327026, 0.13623854517936707, -0.012867438606917858, -0.08636654913425446, -0.1215420514345169, -0.15176983177661896, 0.03480372577905655, -0.034765418618917465, 0.19101253151893616, -0.16827422380447388, 0.15992471575737, 0.33121538162231445, -0.33149659633636475, -0.3016432225704193, -0.11745154857635498, 0.06980270892381668, 0.5245806574821472, -0.32423135638237, 0.020446568727493286, -0.10107186436653137, -0.05101050063967705, 0.22503168880939484, 0.04990126192569733, 0.37597978115081787, -0.5497083067893982, -0.08794791996479034, -0.31358760595321655, -0.39643463492393494, 0.051382485777139664, -0.11391858756542206, -0.1660022735595703, -0.15971195697784424, -0.18558269739151, -0.08142109215259552, -0.3456151485443115, -0.2349453717470169, -0.3954245448112488, 0.2550329267978668, -0.40053266286849976, 0.24082595109939575, 0.15484930574893951, -0.28397178649902344, 0.0005284026265144348, -0.02001337707042694, -0.07157108187675476, -0.1971868872642517, 0.07898372411727905, 0.20919859409332275, 0.40189260244369507, 0.42377182841300964, -0.043891552835702896, -0.044083938002586365, -0.2978997826576233, -0.08255232870578766, 0.19711381196975708, -0.07481203973293304, 0.37478864192962646, 0.042579926550388336, 0.11242090165615082, 0.23694312572479248, -0.03170054405927658, 0.15225471556186676, 0.14038822054862976, -0.20310425758361816, 0.028294885531067848, 0.40420278906822205, 0.1811298131942749, 0.36638733744621277, -0.2500072121620178, 0.03742530196905136, -0.12808692455291748, 0.21308186650276184, 0.20346412062644958, 0.1545608639717102, -0.018978124484419823, -0.005480177700519562, 0.1594303399324417, 0.3604282736778259, -0.42823895812034607, -0.12882032990455627, 0.08964356780052185, 0.3288244605064392, 0.1709037572145462, -0.05348587408661842, 0.2886091470718384, -0.18680386245250702, -0.10439382493495941, -0.07992512732744217, -0.20854872465133667, -0.08123242855072021, 0.5233966112136841, -0.35966742038726807, -0.04186946898698807, 0.3350127935409546, 0.4253692924976349, 0.36556997895240784, -0.3903470039367676, 0.3046170473098755, 0.03784623742103577, 0.0631154328584671, 0.5538554191589355, 0.17463937401771545, 0.1659518927335739, 0.41409948468208313, 0.08200716227293015, -0.0025626402348279953, 0.560911238193512, 0.016605189070105553, 0.2020341157913208, -0.13250955939292908, 0.5829364657402039, 0.29204368591308594, -0.10524314641952515, -0.06686243414878845, 0.17906473577022552, -0.05882662534713745, 0.014333140105009079, 0.0011881552636623383, -0.19085970520973206, -0.5329704284667969, 0.10492182523012161, -0.032861314713954926, 0.026660894975066185, -0.2427108734846115, 0.19099701941013336, -0.4009286165237427, 0.2181451916694641, 0.08130137622356415, -0.1871100515127182, 0.3817563056945801, -0.04628274589776993, -0.43264883756637573, -0.25002118945121765, -0.13655592501163483, 0.10591234266757965, -0.047093551605939865, -0.07780233025550842, 0.2782488465309143, -0.030354991555213928, -0.01587590202689171, -0.00047607626765966415, 0.08955315500497818, -0.5551719665527344, -0.010688597336411476, -0.09640972316265106, -0.12443199753761292, -0.37476879358291626, -0.23924902081489563, -0.07010743767023087, -0.04335810989141464, 0.48419713973999023, 0.08951376378536224, -0.41097480058670044, -0.022729165852069855, 0.1713472604751587, -0.5789403319358826, 0.24861742556095123, -0.4058263301849365, 0.16585329174995422, -0.174169659614563, -0.032340485602617264, -0.055398307740688324, -0.056354399770498276, 0.03655363246798515, 0.00142776221036911, 0.1327972561120987, 0.0477411188185215, 0.0766623392701149, 0.12266784906387329, -0.25120627880096436, 0.060800306499004364, 0.14484383165836334, -0.26331308484077454, -0.06132064759731293, 0.06698871403932571, -0.160979762673378, 0.17863300442695618, 0.5442330241203308, -0.1260003298521042, 0.2535470128059387, 0.09260600805282593, 0.2348649948835373, 0.5221095085144043, 0.19257088005542755, 0.209747776389122, 0.017780974507331848, -0.15112535655498505, 0.07760162651538849, 0.4447980225086212, -0.05231733247637749, -0.17035925388336182, -0.21010327339172363, -0.22062501311302185, -0.03545664995908737, 0.031244739890098572, 0.027021614834666252, -0.19959545135498047, -0.008513547480106354, 0.09418052434921265, -0.01564626768231392, 0.23264797031879425, -0.10217230021953583, 0.019010184332728386, 0.1623118817806244, -0.44780391454696655, -0.11770269274711609, 0.01248113438487053, -0.1898023784160614, 0.3130822777748108, -0.45957037806510925, -0.3585657775402069, 0.05448015779256821, -0.12663505971431732, 0.11516115814447403, 0.015437407419085503, -0.04356952756643295, -0.27221235632896423, -0.10804612934589386, 0.34713447093963623, -0.16735371947288513, 0.3143206536769867, 0.16657544672489166, -0.36888372898101807, -0.23696696758270264, -0.038930781185626984, -0.09615752100944519, 0.18632753193378448, -0.2285943627357483, -0.11581619828939438, 0.2134324461221695, 0.2535568177700043, -0.057726237922906876, -0.03739144280552864, 0.4252207279205322, 0.18293242156505585, 0.25978904962539673, 0.12762369215488434, 0.2705270051956177, -0.43269336223602295, 0.27689462900161743, -0.23335933685302734, -0.005861298181116581, 0.05454576015472412, -0.2028246372938156, 0.0552825853228569, 0.1078854650259018, -0.02616775408387184, -0.15938670933246613, 0.025897575542330742, -0.2725902199745178, 0.03883441165089607, -0.07073918730020523, -0.042446792125701904, -0.028043590486049652, 0.10173112154006958, 0.04887640103697777, 0.1719266176223755, 0.2815089523792267, -0.14331209659576416, -0.1212981641292572, -0.05311334505677223, -0.1225680261850357, 0.1284790188074112, 0.14582228660583496, 0.4292677044868469, 0.18735161423683167, -0.1700344979763031, 0.032539110630750656, 0.14283490180969238, -0.011402015574276447, -0.3989918828010559, 0.15119515359401703, 0.006612394005060196, -0.3565015196800232, -0.34620994329452515, -0.12705110013484955, -0.008731331676244736, -0.2704842686653137, 0.10059641301631927, -0.05792035534977913, 0.2784442603588104, -0.34968724846839905, 0.16374380886554718, -0.30771225690841675, 0.35620832443237305, -0.19908854365348816, -0.1250610500574112, 0.2640429735183716, 0.0557442307472229, 0.19920171797275543, 0.5374983549118042, -0.4739478528499603, 0.05327123776078224, 0.13924656808376312, 0.1552012413740158, -0.21837657690048218, -0.16087567806243896, 0.04469402879476547, 0.4182085692882538, -0.04682418704032898, 0.2013390064239502, 0.5407343506813049, -0.1465030163526535, 0.05076528340578079, 0.09350550919771194, 0.025173507630825043, -0.02913021668791771, 0.16305485367774963, 0.43041303753852844, -0.2063354253768921, 0.18177339434623718, 0.24197974801063538, -0.013199545443058014, 0.19264832139015198, 0.33664703369140625, 0.17487448453903198, -0.14356878399848938, -0.48811593651771545, -0.5104042291641235, -0.3126692473888397, 0.1797129213809967, -0.414885014295578, 0.0620746985077858, 0.26459360122680664, -0.07579972594976425, 0.1278633177280426, -0.09247834235429764, 0.5367870926856995, -0.013286218047142029, 0.23712021112442017, -0.03257163241505623, 0.07444966584444046, -0.2216666042804718, -0.019484959542751312, -0.3680809438228607, 0.05908629298210144, -0.36036086082458496, 0.21328367292881012, 0.001721598207950592, -0.15396322309970856, -0.3587018549442291, -0.6426994800567627, -0.14557939767837524, 0.020306173712015152, 0.4679417610168457, 0.05090830475091934, 0.3055476248264313, -0.20031245052814484, 0.1849256008863449, -0.043858762830495834, 0.14106878638267517, 0.3927055895328522, 0.23178809881210327, 0.13223835825920105, -0.22260570526123047, -0.41869768500328064, 0.6978821754455566, 0.256695032119751, 0.65727698802948, -0.2755902409553528, -0.060341715812683105, -0.07380197197198868, 0.025424014776945114, 0.08670589327812195, 0.08406683057546616, 0.4017691910266876, 0.10514303296804428, 0.06700792908668518, -0.03674016892910004, -0.3161516785621643, -0.05081617832183838, 0.1631390005350113, -0.3312603235244751, -0.09379050135612488, -9.290870666503906, 0.051235128194093704, -0.0030114278197288513, -0.04075969010591507, 0.41797080636024475, 0.10064654052257538, -0.41267478466033936, 0.04639197140932083, -0.02060987614095211, 0.2665186822414398, -0.128973588347435, -0.02639813721179962, -0.12632587552070618, -0.5227091312408447, 0.3046652376651764, -0.00219721719622612, -0.2149038314819336, -0.18857082724571228, -0.1470215916633606, -0.06117887794971466, 0.12248492985963821, 0.0021469497587531805, 0.0024254098534584045, 0.1541634052991867, 0.2980138957500458, 0.2150191068649292, -0.039758432656526566, -0.4378471076488495, 0.07940723747015, -0.09825349599123001, -0.00047185271978378296, 0.036392420530319214, -0.059633444994688034, 0.20510737597942352, -0.2279038280248642, -0.14969441294670105, -0.2525079846382141, -0.20276489853858948, 0.1235075443983078, -0.18334698677062988, 0.02359471470117569, 0.14585073292255402, 0.30420106649398804, 0.385187029838562, -0.3193568289279938, 0.11253228783607483, 0.18981744349002838, 0.1697317212820053, -0.40613624453544617, -0.2029602974653244, -0.006131812930107117, -0.3213312029838562, -0.5051072835922241, 0.23173320293426514, -0.41105079650878906, -0.0725819319486618, -0.10593652725219727, 0.1724931001663208, 0.042180463671684265, -0.06519506871700287, 0.20997431874275208, -0.028842493891716003, 0.055380165576934814, 0.10259713977575302, 0.21095220744609833, -0.42421358823776245, -0.1604468822479248, 0.30933067202568054, 0.43497270345687866, 0.40517154335975647, 0.05853566527366638, 0.38796067237854004, 0.05353274196386337, -0.16060511767864227, 0.07306230813264847, -0.23286159336566925, 0.26342689990997314, -0.10822649300098419, -0.02329126000404358, 0.5388819575309753, -0.35553842782974243, 0.14488831162452698, -0.03578910231590271, -0.2120080292224884, -0.34390875697135925, -0.00681626982986927, -0.30759117007255554, 0.5543403029441833, 0.11565819382667542, 0.3460785150527954, 0.32485446333885193, -0.322775661945343, -0.21744084358215332, 0.07101450115442276, -0.019822757691144943, 0.27003705501556396, -0.08684413135051727, -0.035956285893917084, -0.03709318861365318, -0.0700898990035057, -0.4544500410556793, 0.19706718623638153, 0.5441871285438538, -0.21292278170585632, 0.0738385021686554, -0.039762333035469055, 0.26540514826774597, -0.08467385172843933, -0.142816960811615, -0.1062176451086998, 0.260291188955307, -0.14336198568344116, -0.12396688759326935, 0.48000574111938477, 0.26785388588905334, 0.27281898260116577, 0.18876031041145325, 0.18777242302894592, 0.0389021560549736, -0.09170831739902496, 0.1531236320734024, -0.21583783626556396, 0.6845717430114746, 0.26283976435661316, 0.0010871253907680511, 0.0017707273364067078, -0.23360630869865417, 0.2580967843532562, -0.3362138569355011, -0.28496548533439636, 0.40233129262924194, -0.12842018902301788, -0.3598519265651703, 0.18712981045246124, 0.02146429941058159, 0.2020839899778366, 0.28559306263923645, -0.20948223769664764, -0.34662631154060364, -0.17085306346416473, -0.19792619347572327, -0.23571713268756866, -0.07680676877498627, 0.3645293712615967, 0.1274908035993576, 0.2728821337223053, 0.04106609523296356, -0.6219804286956787, -0.14997856318950653, -0.19214937090873718, -0.11948772519826889, 0.1674836128950119, 0.09906791150569916, -0.14886650443077087, 0.5623501539230347, 0.05236947908997536, -0.436887264251709, -0.11443832516670227, -0.42780736088752747, 0.2951999306678772, 0.2452155351638794, 0.07057105004787445, 0.25018996000289917, 0.07289401441812515, 0.02372359111905098, 0.21627755463123322, 0.009825842455029488, 0.018555887043476105, 0.25696200132369995, -0.7886542081832886, -0.22738197445869446, 0.053169190883636475, 0.09331761300563812, 0.08134131133556366, -0.22894638776779175, 0.11933014541864395, 0.18371161818504333, 0.022756636142730713, -0.47585976123809814, 0.14493155479431152, 0.14314313232898712, 0.0657440721988678, 0.04001070559024811, -0.08454422652721405, 0.09748762100934982, -0.24404805898666382, -0.03577949479222298, -0.01578960195183754, -0.2522794306278229, 0.47729313373565674, 0.010622620582580566, 0.0043267905712127686, -0.18480145931243896, -0.012007131241261959, -0.13439451158046722, 0.2615826427936554, -0.3681832253932953, 0.07063933461904526, 0.16119356453418732, 0.06333823502063751, 0.04608979821205139, -0.35789012908935547, 0.040441613644361496, -0.06634832173585892, 0.03493012487888336, 0.07165940850973129, -0.18261152505874634, 0.12670592963695526, -0.21637742221355438, 0.03957640379667282, 0.0010540252551436424], [-0.024773214012384415, -0.09516772627830505, 0.06141999363899231, -0.09427706897258759, -0.4111134707927704, -0.13129110634326935, 0.08505246043205261, -0.03022545389831066, -0.02691756933927536, -0.2459232211112976, -0.0285894013941288, 0.3070096969604492, 0.10579834133386612, -0.05801223963499069, -0.018715016543865204, 0.07795975357294083, -0.21420107781887054, 0.0979076698422432, 0.057749807834625244, -0.1765664666891098, -0.13849282264709473, -0.4095306098461151, -0.04116996005177498, -0.409426212310791, 0.009313419461250305, -0.033713385462760925, -0.03447416052222252, 0.25264468789100647, 0.0018184930086135864, 0.4802769422531128, -0.0531560443341732, 0.05743655189871788, -0.01868393085896969, -0.09776395559310913, -0.13711008429527283, 0.004367221146821976, 0.08226130157709122, 0.028514819219708443, 0.23227712512016296, 0.13913322985172272, 0.43473801016807556, -0.12576910853385925, 0.4670332968235016, -0.3844435214996338, 0.06957505643367767, -0.0895979106426239, 0.12138064205646515, 0.4073323607444763, 0.03637779504060745, 0.18231160938739777, 0.21620486676692963, -0.27991241216659546, -0.32032322883605957, 0.4271853268146515, -0.02186695672571659, -0.16149376332759857, -0.041338615119457245, -0.3006090521812439, 0.00506056472659111, 0.15336169302463531, -0.25455933809280396, 0.210157111287117, -0.01500634104013443, 0.1514555960893631, -0.26075154542922974, -0.18456418812274933, -0.046820662915706635, 0.3125322163105011, 0.17414936423301697, -0.01662907376885414, 0.12165466696023941, 0.10301892459392548, 0.13481488823890686, -0.11318084597587585, -0.036550235003232956, -0.1058538556098938, 0.19356884062290192, 0.10665804147720337, -0.15974199771881104, 0.06668386608362198, -0.20022481679916382, 0.049601562321186066, 0.13558438420295715, 0.24936380982398987, -0.07882563024759293, 0.16797244548797607, -0.37115025520324707, 0.22159647941589355, 0.10202887654304504, 0.19837556779384613, 0.2853682041168213, -0.26683923602104187, -0.2178504914045334, -0.23404476046562195, 0.1381257176399231, 0.17172639071941376, 0.18403246998786926, 0.23242919147014618, -0.026026878505945206, 0.2475946843624115, 0.19191443920135498, 0.2135382443666458, 0.20133736729621887, 0.25994226336479187, 0.17423608899116516, -0.2470645308494568, 0.5083845853805542, -0.5122954845428467, 0.07169772684574127, 0.12777191400527954, 0.3378707766532898, 0.01357356458902359, -0.14111056923866272, -0.1731829047203064, -0.34414875507354736, -0.08345989882946014, 0.19664813578128815, 0.2306888997554779, 0.05794316530227661, -0.036768198013305664, -0.16035804152488708, -0.4779350757598877, 0.17747756838798523, 0.27926093339920044, 0.04755635932087898, -0.1483391374349594, -0.16565877199172974, 0.18790936470031738, 0.33515700697898865, 0.0846329852938652, -0.35425686836242676, 0.07154472172260284, 0.12041062116622925, -0.21384212374687195, -0.06368719041347504, 0.09118741750717163, -0.18120144307613373, 0.45329099893569946, -0.4615215063095093, 0.12076190114021301, -0.026345960795879364, -0.08855688571929932, 0.18705269694328308, 0.1733415424823761, 0.27404242753982544, -0.15160855650901794, -0.17989368736743927, 0.25626325607299805, 0.1239357739686966, 0.31348973512649536, 0.11237593740224838, -0.16889715194702148, -0.1422850638628006, -0.057326480746269226, -0.02121400274336338, 0.12117708474397659, -0.08090002834796906, -0.03266811743378639, 0.236921489238739, 0.3059796988964081, 0.19813479483127594, -0.3878996670246124, -0.16866973042488098, -0.0065147727727890015, -0.09807432442903519, -0.14688700437545776, -0.05641387403011322, 0.07986558973789215, -0.12368786334991455, 0.5259954929351807, -0.3185756802558899, -0.06115178018808365, -0.346388578414917, 0.12924212217330933, 0.14819909632205963, -0.09712308645248413, 0.0182501133531332, -0.28678542375564575, 0.40450233221054077, 0.11659436672925949, 0.15221133828163147, -0.17492732405662537, 0.09236632287502289, -0.3506614863872528, -0.0637103021144867, -0.22796142101287842, -0.017676424235105515, -0.022033289074897766, 0.08483046293258667, 0.09850204735994339, -0.10304535925388336, 0.17503154277801514, 0.15303654968738556, -0.012356441468000412, 0.01144469529390335, 0.07059339433908463, -0.06880000233650208, 0.10342475026845932, -0.21102984249591827, 0.13515399396419525, -0.3330592215061188, 0.08569580316543579, -0.15220850706100464, 0.19084784388542175, 0.23418644070625305, -0.12912018597126007, 0.10600056499242783, -0.15997418761253357, -0.05777651071548462, 0.11489229649305344, -0.164739727973938, 0.10305631160736084, 0.14345739781856537, -0.02819899283349514, 0.07551880180835724, -0.1170516312122345, -0.34894612431526184, -0.19810079038143158, -0.408703088760376, -0.050828225910663605, 0.2359958291053772, 0.1038697138428688, -0.0856332927942276, -0.03638794273138046, -0.2812892496585846, 0.020607054233551025, 0.327018141746521, 0.04979205131530762, -0.05917486920952797, -0.06292939186096191, 0.09915153682231903, -0.0029934197664260864, 0.10523727536201477, 0.08382642269134521, 0.15471264719963074, -0.67057865858078, 0.0025479495525360107, 0.00584770180284977, -0.5671958923339844, 0.08338460326194763, -0.15207254886627197, 0.018289661034941673, -0.10173764079809189, 0.17115503549575806, 0.19489674270153046, 0.5087724924087524, -0.20684561133384705, 0.2476392388343811, 0.08705379068851471, 0.07197698950767517, 0.08404519408941269, -0.06760979443788528, 0.5650014877319336, -0.5211789011955261, 0.16041633486747742, -0.20445528626441956, 0.038256626576185226, -0.039277590811252594, -0.11644887924194336, -0.13947930932044983, 0.2662389874458313, -0.19547466933727264, 0.19026388227939606, -0.12251590192317963, 0.07660441845655441, -0.2548433840274811, -0.24683865904808044, 0.23582416772842407, 0.04764677584171295, 0.05843931809067726, -0.13771459460258484, -0.0947173535823822, -0.20946136116981506, 0.21400445699691772, 0.06224534660577774, 0.014880016446113586, 0.08411300182342529, 0.06667864322662354, 0.19666139781475067, -0.5622696876525879, 0.4812719225883484, 0.4730103015899658, 0.2270515263080597, 0.19662408530712128, -0.2660081088542938, 0.24465514719486237, 0.07050894945859909, 0.033236920833587646, 0.00042704492807388306, -0.02109963819384575, -0.13730521500110626, -0.05289808288216591, -0.15528005361557007, 0.24758324027061462, 0.13415248692035675, -0.14098887145519257, -0.2149011492729187, 0.382819265127182, -0.17653264105319977, 0.33535778522491455, 0.23618337512016296, -0.28908562660217285, -0.6621651649475098, 0.2014985829591751, -0.22655150294303894, -0.08141077309846878, -0.05080399662256241, -0.2502657473087311, -0.4132726192474365, -0.15797024965286255, 0.03503049910068512, -0.14775855839252472, 0.13999295234680176, -0.2401639074087143, -0.36894991993904114, 0.15281757712364197, -0.43844518065452576, -0.19556832313537598, -0.2874406576156616, -0.16502174735069275, 0.15628625452518463, 0.060751162469387054, -0.17590318620204926, -0.1477934867143631, 0.1904705911874771, 0.2701713740825653, 0.1610298454761505, 0.3578861355781555, -0.04440516233444214, -0.0067143626511096954, 0.187814861536026, 0.37727993726730347, -0.18852606415748596, -0.08873670548200607, -0.3351697027683258, -0.24513453245162964, 0.24904395639896393, 0.6044143438339233, -0.22154729068279266, 0.36844778060913086, 0.0050115808844566345, 0.16198039054870605, -0.09828567504882812, -0.36397457122802734, 0.07002657651901245, -0.4985072910785675, 0.10178669542074203, -0.3142644166946411, -0.01971646025776863, 0.08699406683444977, -0.13740524649620056, 0.1717502623796463, -0.448137491941452, -0.07476277649402618, 0.20987090468406677, 0.13487327098846436, 0.018515972420573235, 0.20573340356349945, 0.032276708632707596, 0.17894025146961212, 0.3164130449295044, -0.1562771201133728, 0.046415045857429504, -0.03423511981964111, 0.072500079870224, 0.4211151897907257, 0.07798399776220322, 0.3172561526298523, -0.22007259726524353, -0.0965343564748764, 0.24701495468616486, -0.2707110643386841, 0.23049134016036987, 0.0014968551695346832, -0.22072796523571014, 0.044889580458402634, 0.04738154634833336, 0.3511844873428345, 0.11119687557220459, -0.18342158198356628, -0.017124496400356293, 0.0499480701982975, -0.20859283208847046, 0.16965694725513458, 0.1541842520236969, -0.21150033175945282, 0.06401099264621735, -0.18320533633232117, 0.46450075507164, 0.0705605149269104, 0.2743645906448364, 0.11728368699550629, 0.21985679864883423, 0.10324084758758545, -0.03885386884212494, -0.13186688721179962, 0.20271168649196625, 0.2028508484363556, 0.12172722816467285, -0.11109305918216705, -0.16825257241725922, 0.25373223423957825, 0.142682284116745, 0.0174242053180933, -0.20451094210147858, -0.2751975655555725, -0.05678612366318703, 0.20083551108837128, 0.05930178612470627, -0.010794881731271744, -0.2922120690345764, -0.23465678095817566, -0.07903552055358887, -0.04750235751271248, 0.2787356972694397, -0.14562155306339264, 0.2127348780632019, 0.20714527368545532, -0.057637348771095276, -0.2021465003490448, -0.11006300896406174, -0.3772464096546173, 0.2085452377796173, -0.13258874416351318, 0.10058096051216125, 0.03862789273262024, -0.2769678235054016, -0.10419563949108124, -0.2550656199455261, 0.18211379647254944, 0.026171013712882996, 0.14878766238689423, 0.027434639632701874, -0.07479700446128845, 0.0952400416135788, 0.13164953887462616, 0.1076517254114151, 0.11002223193645477, -0.364993155002594, -0.18221347033977509, 0.044310312718153, 0.041460733860731125, 0.3533857762813568, -0.26028862595558167, -0.08686220645904541, 0.07048475742340088, 0.2527708113193512, 0.025572748854756355, 0.1311558187007904, -0.10309737920761108, 0.09949682652950287, -0.321271151304245, 0.2847967743873596, -0.03562822937965393, 0.036510758101940155, -0.0578816719353199, -0.23780463635921478, 0.022671066224575043, 0.16121022403240204, -0.20848140120506287, -0.13383784890174866, 0.14471083879470825, 0.08295194804668427, 0.04242224991321564, 0.15983101725578308, 0.023524200543761253, 0.03181794285774231, 0.5667039752006531, 0.020234055817127228, -0.1923355758190155, 0.23060500621795654, 0.2502937912940979, 0.24974575638771057, 0.31790101528167725, -0.023995863273739815, 0.4298703968524933, -0.026591969653964043, 0.10885796695947647, -0.17337438464164734, -0.011962808668613434, 0.03930406644940376, 0.14178413152694702, -0.2845526337623596, 0.4892680048942566, 0.275256872177124, 0.09212087094783783, 0.15369325876235962, 0.19385361671447754, -0.27213600277900696, 0.30334240198135376, 0.19376638531684875, -0.18388250470161438, 0.35848507285118103, 0.10219814628362656, 0.12337443232536316, 0.005953757558017969, 0.039635926485061646, 0.5806608200073242, 0.1949981451034546, -0.09020505845546722, -0.6588927507400513, -0.08304673433303833, -0.07300736010074615, 0.09575016796588898, 0.09978862851858139, 0.02123872935771942, 0.10174703598022461, 0.10188183933496475, 0.3067333698272705, -0.17464782297611237, 0.30872440338134766, 0.16326840221881866, 0.16802752017974854, -0.34446799755096436, -0.01331661269068718, -0.2673569321632385, -0.11066056787967682, 0.20170535147190094, 0.3294673562049866, 0.16843731701374054, 0.11959192156791687, -0.10245242714881897, -0.051802102476358414, 0.06303764879703522, -0.36131390929222107, 0.039157528430223465, -0.010397903621196747, 0.5876680612564087, -0.06732209026813507, -0.09184861928224564, -0.00517040491104126, -0.10504802316427231, 0.05069752782583237, 0.018185943365097046, 0.6010051369667053, 0.13184839487075806, 0.1331891119480133, -0.3434743285179138, -0.24255448579788208, 0.021151352673768997, 0.24107682704925537, 0.23925991356372833, -0.1823437362909317, 0.03492395579814911, 0.05545581877231598, -0.17805638909339905, 0.017004117369651794, -0.13777661323547363, 0.2929820716381073, 0.07439667731523514, 0.0636516809463501, 0.05987090617418289, 0.020470455288887024, 0.13326174020767212, 0.29533806443214417, -0.2986067533493042, -0.12809205055236816, -9.390939712524414, -0.010510076768696308, 0.03279435634613037, 0.4131476581096649, -0.0685272365808487, 0.07899586856365204, -0.05936858057975769, 0.022154733538627625, 0.48936691880226135, 0.00976961012929678, -0.1579330563545227, 0.04647388309240341, 0.04428465664386749, -0.07129562646150589, 0.2537883222103119, 0.04728032276034355, -0.003715652972459793, 0.033835817128419876, -0.054919932037591934, 0.18373145163059235, -0.020682135596871376, 0.09362003952264786, -0.06841698288917542, 0.4258490800857544, 0.1203635111451149, 0.12315087765455246, -0.2601775825023651, -0.35439878702163696, 0.33006682991981506, 0.002315932884812355, -0.00023681297898292542, -0.05010553449392319, -0.2810896933078766, 0.03146236017346382, -0.11683966964483261, 0.009079869836568832, -0.24707020819187164, 0.29399603605270386, -0.0013909023255109787, -0.0894109383225441, 0.14869670569896698, 0.26648521423339844, 0.29988688230514526, -0.08891783654689789, -0.03065701574087143, -0.2641841173171997, 0.20615653693675995, 0.37374579906463623, -0.23569728434085846, -0.20359812676906586, 0.2872987687587738, -0.08605651557445526, -0.1906753033399582, 0.10273668169975281, -0.3440489172935486, 0.2002304494380951, -0.06681323051452637, 0.43537136912345886, 0.0009424369782209396, -0.2206880897283554, 0.12445958703756332, 0.10610394179821014, 0.020240703597664833, -0.008473865687847137, 0.10156871378421783, 0.17360557615756989, -0.2327445149421692, 0.2679517865180969, -0.08653445541858673, 0.3402974307537079, -0.15110860764980316, -0.12062013149261475, 0.14279115200042725, 0.2625379264354706, -0.24644890427589417, -0.06880103796720505, 0.22668728232383728, -0.17588931322097778, 0.21766851842403412, 0.20494592189788818, -0.6025012731552124, 0.14062954485416412, 0.034532587975263596, -0.1362009048461914, -0.15724320709705353, 0.15939219295978546, -0.18231630325317383, 0.46308672428131104, -0.009554557502269745, 0.0760585218667984, -0.1563238650560379, -0.26049965620040894, -0.041203781962394714, 0.24481070041656494, -0.2762886583805084, 0.008710522204637527, -0.1849137842655182, -0.02057170867919922, -0.23440244793891907, -0.4754140377044678, -0.22666877508163452, -0.002260960638523102, 0.24735179543495178, -0.10919348150491714, -0.2878245413303375, 0.3405798077583313, 0.04017547518014908, -0.04075432941317558, -0.11723587661981583, 0.4979666769504547, 0.2164885401725769, -0.0023166872560977936, 0.2767135500907898, 0.2745388150215149, -0.048893801867961884, 0.09099043905735016, 0.09860271215438843, 0.023462001234292984, -0.16144254803657532, 0.0672076866030693, 0.06287995725870132, 0.209615558385849, 0.480272114276886, -0.35029932856559753, -0.20982402563095093, -0.22091293334960938, -0.04777739569544792, 0.17946653068065643, -0.11241006851196289, -0.049028072506189346, 0.2932839095592499, 0.06777185201644897, -0.16539129614830017, 0.20222173631191254, -0.2703257203102112, -0.0349665991961956, 0.16089953482151031, 0.05984349176287651, -0.1538667231798172, -0.16331686079502106, -0.5523864030838013, -0.006076037883758545, 0.31655123829841614, 0.4133255183696747, 0.046793244779109955, 0.03001033328473568, -0.01744520664215088, -0.40217041969299316, -0.2960873544216156, 0.09914202243089676, -0.10171853005886078, 0.10589815676212311, -0.029050102457404137, -0.059326328337192535, 0.30796581506729126, 0.0931168794631958, -0.23375128209590912, -0.036472875624895096, -0.23790007829666138, -0.007510058581829071, -0.004670228809118271, 0.13669398427009583, 0.2770156264305115, -0.06685040891170502, 0.14846248924732208, 0.17542794346809387, -0.09600982815027237, -0.007557995151728392, 0.042620085179805756, 0.1127312034368515, -0.26016488671302795, -0.09238558262586594, -0.303475022315979, -0.31004875898361206, 0.12409959733486176, 0.2658700942993164, -0.5525556206703186, -0.06809861958026886, 0.27382928133010864, -0.07469279319047928, -0.017757385969161987, -0.015625398606061935, -0.13991382718086243, -0.6039519309997559, 0.07936067879199982, -0.12029668688774109, -0.023036809638142586, -0.009105714038014412, 0.13160376250743866, 0.29180920124053955, 0.06013173609972, -0.14241832494735718, 0.11617983877658844, -0.04971771314740181, -0.03546507656574249, 0.1889372617006302, -0.1300676316022873, 0.29036077857017517, -0.03669394552707672, 0.08618773519992828, 0.04155169427394867, -0.18726447224617004, -0.522438108921051, -0.014835014939308167, -0.09885549545288086, -5.198642611503601e-05, -0.25963443517684937, 0.33238741755485535, -0.18434521555900574, -0.1544041782617569, -0.1609169840812683], [0.1334020048379898, 0.19635245203971863, 0.02624368481338024, 0.06705689430236816, -0.4783344864845276, 0.06866852194070816, -0.04021243005990982, 0.1769319325685501, 0.2733098566532135, -0.07874846458435059, -0.09062850475311279, -0.1533123403787613, -0.16921651363372803, 0.029143448919057846, -0.5095832943916321, 0.03773277625441551, -0.09502440690994263, 0.06315416097640991, -0.07669571787118912, -0.1161126047372818, -0.12204457074403763, -0.577533483505249, -0.006946345791220665, -0.20178085565567017, -0.09744419157505035, 0.18170788884162903, 0.42473703622817993, 0.09928563237190247, -0.16169188916683197, 0.4150245189666748, -0.18797606229782104, 0.38788095116615295, -0.11037814617156982, 0.07027404755353928, -0.11701889336109161, -0.21686729788780212, 0.26002073287963867, -0.11239960789680481, 0.37263011932373047, 0.1316346824169159, 0.2453468143939972, 0.017462387681007385, 0.22607317566871643, -0.09418331831693649, 0.013888344168663025, -0.09847558289766312, 0.053433723747730255, 0.5822388529777527, -0.178523451089859, 0.4577580988407135, 0.07276830077171326, -0.12166610360145569, -0.33321529626846313, -0.007009193301200867, -0.07858286798000336, -0.09701018035411835, -0.179914653301239, -0.06461630761623383, -0.12194601446390152, -0.1315501630306244, -0.429596483707428, 0.03171879053115845, -0.16216455399990082, 0.3064017593860626, -0.34702351689338684, -0.11641035974025726, -0.10847365856170654, 0.38252708315849304, 0.17652320861816406, 0.2710420489311218, -0.12922272086143494, -0.13151514530181885, 0.12959197163581848, 0.01562272384762764, 0.35835549235343933, 0.06512810289859772, -0.02965444326400757, 0.3361514210700989, 0.09543153643608093, 0.17165496945381165, 0.1118694543838501, 0.22445763647556305, 0.2420601099729538, 0.28904974460601807, -0.2216411978006363, 0.1707681119441986, -0.11706317216157913, 0.21888169646263123, 0.17642444372177124, 0.09883985668420792, 0.2279367446899414, -0.19421979784965515, -0.24076534807682037, -0.09382196515798569, 0.19511930644512177, 0.18206192553043365, -0.04886053130030632, 0.25054943561553955, 0.008518781512975693, 0.27079764008522034, -0.0717931017279625, 0.02197328582406044, -0.11211902648210526, -0.15031273663043976, 0.4171920120716095, -0.11813229322433472, 0.13407036662101746, -0.14728446304798126, 0.3471463918685913, 0.3457880914211273, 0.20288856327533722, 0.175744891166687, -0.20177794992923737, -0.1270321160554886, -0.14709201455116272, 0.13000333309173584, 0.2069716453552246, -0.1282576024532318, -0.1944940686225891, -0.25501978397369385, -0.3197873830795288, -0.3229124844074249, -0.04322854056954384, 0.3401874601840973, -0.3269193470478058, 0.05724945291876793, -0.02654438465833664, 0.14190120995044708, 0.40860024094581604, 0.069048672914505, -0.3025698959827423, 0.046887245029211044, 0.3898928463459015, -0.05542730540037155, -0.0933234840631485, -0.18600663542747498, 0.28833842277526855, 0.2937955856323242, -0.5580254197120667, 0.08061559498310089, -0.2859758734703064, 0.013920553028583527, -0.021129947155714035, 0.01396872103214264, -0.052765391767024994, 0.2955821454524994, -0.38828355073928833, 0.11988671123981476, -0.1124597042798996, 0.1203778088092804, -0.018119648098945618, -0.10071428120136261, -0.34016647934913635, 0.0467621311545372, -0.00212041474878788, -0.04143669456243515, -0.296514630317688, -0.32554805278778076, -0.061159491539001465, 0.18590086698532104, 0.5507032871246338, -0.09035887569189072, -0.14486567676067352, -0.09495973587036133, -0.1328568160533905, 0.19866496324539185, 0.011601466685533524, 0.05026915296912193, 0.30916187167167664, 0.563629150390625, -0.06679460406303406, -0.2928538918495178, -0.2036026120185852, 0.1409449428319931, 0.22140824794769287, -0.08385224640369415, 0.2902413010597229, -0.6119839549064636, 0.13536405563354492, -0.052036136388778687, 0.1316247284412384, 0.02411579340696335, 0.17397856712341309, -0.33501675724983215, -0.10718050599098206, 0.1612449288368225, 0.055839717388153076, 0.0052312761545181274, 0.4197096526622772, -0.10819579660892487, -0.2429080307483673, 0.12637057900428772, -0.037058956921100616, 0.06746344268321991, 0.14030884206295013, -0.40292006731033325, -0.1238485723733902, -0.03622675687074661, -0.16222062706947327, -0.05425502732396126, 0.027793018147349358, 0.010248113423585892, -0.10714699327945709, -0.04781961441040039, 0.23655642569065094, -0.04352955520153046, -0.005560379475355148, -0.19787508249282837, 0.2145010083913803, -0.15528994798660278, -0.41117557883262634, 0.0738217830657959, 0.09344907850027084, -0.07522070407867432, -0.22311200201511383, -0.004303131252527237, 0.017368685454130173, -0.3679101765155792, -0.3288489282131195, -0.13952608406543732, 0.21191152930259705, -0.007777057588100433, -0.22676290571689606, -0.10709239542484283, -0.29159849882125854, 0.23244677484035492, 0.2926645874977112, -0.1294700801372528, -0.24471035599708557, 0.06858496367931366, -0.128596693277359, 0.21045929193496704, 0.19533124566078186, 0.02814241498708725, 0.31006962060928345, -0.24702730774879456, -0.07822258770465851, 0.09495173394680023, -0.24550175666809082, 0.1543290764093399, -0.11997310072183609, 0.23364101350307465, -0.17470741271972656, 0.23020896315574646, 0.022026004269719124, 0.1755317747592926, -0.19913527369499207, 0.3235628604888916, 0.3826533555984497, 0.11716212332248688, 0.21701233088970184, -0.20453691482543945, 0.2112053632736206, -0.16640523076057434, 0.15716439485549927, -0.035211436450481415, 0.09413494169712067, -0.21056149899959564, 0.026549942791461945, -0.15605853497982025, 0.49951276183128357, 0.20839416980743408, -0.2266172468662262, -0.05312860757112503, 0.35573506355285645, -0.2863018810749054, 0.04335098713636398, 0.06241875886917114, -0.030487999320030212, 0.2745819389820099, -0.23362219333648682, -0.1631084680557251, -0.2524039149284363, 0.3634205162525177, -0.08252165466547012, -0.09216687083244324, 0.16526037454605103, 0.09406328201293945, 0.33546093106269836, -0.26429471373558044, 0.21920987963676453, 0.3536566495895386, 0.07121917605400085, 0.40390267968177795, -0.37093812227249146, 0.27505993843078613, 0.47470012307167053, -0.1378917098045349, 0.23793859779834747, 0.06469302624464035, -0.056183550506830215, -0.15021255612373352, 0.01849718764424324, 0.09585369378328323, 0.21783410012722015, 0.03997228667140007, -0.19384074211120605, 0.5956718921661377, -0.19403530657291412, 0.10372775793075562, -0.17121517658233643, -0.22109514474868774, -0.46529656648635864, 0.1445184051990509, -0.2939773499965668, 0.12344921380281448, 0.10203857719898224, 0.05723000317811966, -0.20990344882011414, -0.019054030999541283, 0.029818017035722733, -0.006380733102560043, 0.044612668454647064, 0.20369167625904083, -0.36446645855903625, 0.1621021032333374, -0.2840387523174286, -0.24813884496688843, 0.15527793765068054, 0.08669085800647736, -0.09911661595106125, -0.01777106523513794, -0.28589683771133423, -0.25642937421798706, -0.13895249366760254, -0.11212453246116638, 0.09492151439189911, 0.10812976956367493, 0.009403929114341736, 0.036621950566768646, -0.13918262720108032, 0.31598952412605286, -0.15963372588157654, -0.012956254184246063, -0.0807807594537735, -0.14506131410598755, 0.06584468483924866, 0.398258775472641, -0.04854254797101021, 0.3250451385974884, -0.25344914197921753, 0.36709341406822205, -0.2172859162092209, -0.08726289123296738, -0.18394267559051514, -0.01640198566019535, 0.03621739521622658, -0.14460191130638123, -0.17136137187480927, 0.14301800727844238, 0.02385593205690384, 0.09558700025081635, -0.5890865921974182, 0.1705954670906067, 0.5964586734771729, 0.3627699911594391, 0.08906702697277069, 0.14307251572608948, -0.38273948431015015, 0.07040206342935562, 0.05304764211177826, -0.16833451390266418, -0.018216829746961594, -0.03026195615530014, 0.026721913367509842, 0.4416581392288208, 0.06854454427957535, 0.49505138397216797, -0.16350454092025757, -0.37926697731018066, 0.0803724080324173, -0.005489591509103775, -0.10701994597911835, 0.10034120827913284, -0.19523288309574127, 0.3120451867580414, 0.0794612318277359, 0.17959608137607574, 0.07277266681194305, -0.07508332282304764, 0.14552520215511322, 0.03968117758631706, 0.15009208023548126, 0.12535229325294495, -0.05723414570093155, -0.13115260004997253, 0.09702564775943756, -0.1329796016216278, 0.28843677043914795, 0.12092268466949463, -0.038989659398794174, 0.2562408745288849, 0.05649595707654953, 0.08756300806999207, -0.00017519481480121613, -0.14437347650527954, -0.001049053855240345, 0.21208924055099487, -0.2239607721567154, 0.07284419983625412, -0.27287694811820984, 0.6060189604759216, -0.049169883131980896, 0.09544680267572403, -0.33859530091285706, -0.09210877120494843, -0.06274673342704773, 0.002587977796792984, 0.09822039306163788, 0.34360238909721375, -0.1709401160478592, -0.19691485166549683, 0.2545108497142792, -0.4133622646331787, 0.13754983246326447, -0.311947226524353, 0.11397986114025116, 0.30891329050064087, 0.031179316341876984, -0.14146599173545837, 0.104791060090065, -0.011112697422504425, 0.4723314940929413, -0.19796675443649292, 0.2521704435348511, -0.11959430575370789, -0.27131369709968567, 0.05517737567424774, -0.20427046716213226, 0.039014458656311035, -0.17604492604732513, 0.09395809471607208, -0.05429552495479584, -0.16742420196533203, -0.08800800144672394, 0.11935247480869293, -0.14079144597053528, -0.36477193236351013, -0.08019867539405823, -0.2770189046859741, -0.10866984724998474, -0.3531920909881592, 0.3078141212463379, -0.39603105187416077, -0.22242321074008942, 0.03136875480413437, 0.2199118286371231, 0.12384727597236633, 0.06254729628562927, -0.5043158531188965, -0.07219021022319794, -0.4082339107990265, 0.011502290144562721, -0.08226960152387619, -0.04175817221403122, -0.130038782954216, -0.11297130584716797, -0.30763939023017883, -0.12827935814857483, 0.0269228033721447, -0.21918846666812897, -0.22416406869888306, -0.04851074144244194, 0.04676874727010727, -0.03737373277544975, 0.09758041799068451, -0.05112183094024658, 0.32305648922920227, 0.05616334080696106, -0.07203004509210587, -0.03618975728750229, 0.40397265553474426, 0.066368967294693, 0.4826402962207794, -0.00037419795989990234, 0.17930082976818085, -0.08246573060750961, 0.12287243455648422, 0.09139982610940933, 0.37159857153892517, -0.2616322338581085, 0.07145701348781586, -0.2777745723724365, 0.7384755611419678, 0.4009125828742981, 0.09370234608650208, -0.14538124203681946, -0.0028681897092610598, -0.3424452841281891, 0.014436949044466019, 0.4323728382587433, -0.11657245457172394, 0.20434710383415222, 0.18369059264659882, -0.05789768323302269, -0.05972408875823021, 0.04944286122918129, 0.4901334047317505, 0.11109603941440582, -0.11145807057619095, -0.5631418228149414, -0.08501870185136795, -0.1348414272069931, 0.2852122187614441, 0.19608786702156067, 0.28587237000465393, -0.12356522679328918, -0.039457425475120544, 0.33777448534965515, -0.3107191026210785, 0.2853658199310303, -0.007117994129657745, 0.057986561208963394, -0.15526653826236725, 0.15009406208992004, 0.10258536040782928, 0.033632054924964905, -0.12546581029891968, 0.006121966987848282, -0.05832362920045853, 0.07928398996591568, -0.19625189900398254, -0.19375136494636536, 0.009963921271264553, -0.3003464639186859, -0.1554342806339264, 0.15528753399848938, 0.45821744203567505, -0.34151768684387207, 0.05698085203766823, 0.1993337869644165, 0.020044732838869095, 0.2227654904127121, -0.3398490846157074, 0.5124050974845886, 0.1023181825876236, 0.03597045689821243, -0.09408463537693024, 0.001322716474533081, 0.13558799028396606, 0.30350810289382935, 0.15692253410816193, -0.08648357540369034, 0.04343587905168533, -0.004169362597167492, -0.0924336239695549, -0.0320613831281662, -0.04656653851270676, 0.3804974853992462, 0.24681369960308075, -0.1718449741601944, -0.2065904438495636, -0.4398258328437805, -0.01214425265789032, 0.3403922915458679, -0.2502089738845825, -0.2632623314857483, -9.366601943969727, -0.03698889911174774, 0.09059382975101471, 0.0657469779253006, -0.07990171015262604, 0.20296457409858704, -0.10787740349769592, 0.28351929783821106, -0.035349875688552856, 0.10108017921447754, -0.22438064217567444, 0.4036257863044739, -0.021205618977546692, -0.22187919914722443, 0.3451302647590637, -0.03751656413078308, 0.10893028974533081, -0.0941224992275238, -0.27542078495025635, 0.16690489649772644, 0.018786128610372543, -0.06380653381347656, 0.07630609720945358, 0.28142139315605164, 0.27457958459854126, 0.20518726110458374, -0.0859936773777008, -0.2821873128414154, 0.1343104988336563, -0.1720045506954193, 0.03435481712222099, 0.04800213873386383, -0.09688539057970047, 0.18386109173297882, -0.22449104487895966, -0.11907730996608734, -0.01326019037514925, 0.03435317054390907, 0.04267284274101257, -0.3111000061035156, -0.13725578784942627, 0.10416676104068756, 0.23016566038131714, -0.25521132349967957, 0.014710713177919388, -0.29256200790405273, 0.20750416815280914, 0.47653159499168396, -0.13309279084205627, 0.08833090215921402, 0.3863731622695923, 0.03793209046125412, -0.08140140026807785, 0.2614653706550598, -0.3512170612812042, 0.2775576114654541, -0.2373458594083786, 0.131789430975914, 0.09744308888912201, -0.013522803783416748, 0.13204503059387207, -0.17406266927719116, 0.17540252208709717, 0.10853340476751328, 0.47181618213653564, -0.07715298980474472, -0.2730068564414978, 0.4600951075553894, 0.45808666944503784, 0.3454088866710663, -0.12549686431884766, -0.05388197302818298, 0.12131898105144501, 0.1809058040380478, -0.11009307205677032, -0.030628951266407967, 0.3567965626716614, -0.09758570790290833, 0.055429425090551376, 0.08204713463783264, -0.21439149975776672, 0.16302081942558289, 0.24144524335861206, -0.1949339658021927, -0.1774263232946396, 0.3287617862224579, -0.16179999709129333, 0.4746057689189911, 0.020060259848833084, 0.09751077741384506, -0.09014739841222763, -0.12403254210948944, -0.09189917147159576, 0.1462092101573944, 0.20306995511054993, 0.28203898668289185, -0.29945108294487, -0.11241541057825089, 0.16176092624664307, -0.01644950546324253, -0.33634573221206665, 0.013927942141890526, 0.24131333827972412, -0.3650461733341217, -0.0772232711315155, 0.28570929169654846, 0.37383371591567993, 0.07348119467496872, -0.06471753865480423, -0.07844731211662292, 0.09921148419380188, -0.19493257999420166, 0.382946640253067, 0.22008241713047028, 0.21085186302661896, 0.17040443420410156, 0.3445993959903717, 0.2605762779712677, 0.02563455142080784, 0.1885545551776886, 0.1898258477449417, -0.08065429329872131, 0.3874787390232086, -0.15567606687545776, -0.2719019055366516, 0.02224550023674965, 0.005780886858701706, 0.245831698179245, -0.18409442901611328, -0.10143281519412994, 0.15822243690490723, 0.08194249123334885, -0.10774782299995422, 0.2816721498966217, -0.20791396498680115, 0.13271421194076538, 0.028751321136951447, 0.04475313052535057, -0.23993784189224243, -0.2218043953180313, -0.13324376940727234, -0.18116983771324158, -0.014183565974235535, 0.21441543102264404, -0.09396912157535553, -0.00032810308039188385, 0.020903728902339935, -0.7015573382377625, -0.32981449365615845, 0.12433826923370361, -0.19202351570129395, 0.11416293680667877, -0.0519988089799881, 0.16768097877502441, 0.14196987450122833, 0.06375252455472946, -0.46451473236083984, -0.23073886334896088, -0.272379606962204, 0.07856641709804535, 0.19603823125362396, 0.11236335337162018, 0.3399568200111389, -0.15786153078079224, 0.12779860198497772, 0.25497978925704956, 0.13745388388633728, -0.19167083501815796, 0.02918647974729538, -0.47067928314208984, -0.3293639123439789, -0.16746069490909576, -0.19154615700244904, -0.14248092472553253, -0.20385678112506866, 0.06859815865755081, -0.17894405126571655, 0.012386702001094818, 0.23282013833522797, 0.05266069993376732, -0.2519559860229492, -0.05668827146291733, -0.22991101443767548, -0.603053092956543, -0.04251920431852341, -0.19827014207839966, 0.03996402397751808, 0.11620436608791351, 0.08555348962545395, 0.16175085306167603, 0.24528107047080994, 0.03252340108156204, 0.08259940147399902, -0.20086124539375305, 0.07148102670907974, 0.06421016156673431, -0.23629319667816162, 0.463976114988327, -0.010460194200277328, -0.07567713409662247, 0.2776714563369751, -0.14413484930992126, -0.19440627098083496, 0.18132048845291138, -0.3644018769264221, 0.24985474348068237, -0.1047636866569519, -0.1341945081949234, -0.2782049775123596, 0.36596137285232544, 0.13411346077919006], [0.3823629915714264, 0.24579977989196777, -0.08718182891607285, -0.03372907266020775, -0.1428762823343277, -0.1092958077788353, -0.052675969898700714, 0.2452751100063324, 0.5187880396842957, 0.2552550733089447, -0.10842166095972061, 0.06292585283517838, -0.2544250786304474, 0.08090028166770935, -0.5691377520561218, -0.15035997331142426, -0.27731215953826904, -0.14814597368240356, 0.19213376939296722, -0.20615164935588837, 0.0019193422049283981, -0.358379602432251, -0.0044135432690382, -0.234135240316391, -0.26036548614501953, -0.18018868565559387, 0.23800811171531677, 0.45515912771224976, -0.4396810829639435, 0.6045843958854675, -0.019741404801607132, 0.46570566296577454, -0.3768956661224365, -0.28572699427604675, 0.1318778395652771, -0.024248797446489334, 0.3452652096748352, 0.19282439351081848, 0.1286582499742508, 0.29397454857826233, 0.24991407990455627, -0.019298303872346878, 0.19234581291675568, -0.22324539721012115, -0.046273451298475266, 0.06327149271965027, -0.08159145712852478, 0.44787776470184326, -0.19636988639831543, 0.2596324682235718, -0.3083482086658478, -0.25764167308807373, 0.02066071145236492, -0.07045002281665802, -0.3340165913105011, -0.021396048367023468, -0.04810284823179245, -0.11320020258426666, -0.10858806222677231, 0.32812201976776123, -0.3674348294734955, -0.16187450289726257, -0.08883693814277649, 0.5081311464309692, -0.09277713298797607, -0.02089427039027214, -0.2644682228565216, -0.20506933331489563, 0.17829158902168274, 0.10403907299041748, -0.15772080421447754, -0.15206247568130493, 0.39665815234184265, -0.38191187381744385, 0.12200307101011276, 0.045277759432792664, 0.017230309545993805, 0.4901367425918579, 0.035339970141649246, -0.008641418069601059, 0.31642064452171326, -0.17762188613414764, -0.0704711452126503, 0.5571051239967346, -0.2638857960700989, -0.0712246224284172, -0.11405476182699203, 0.46067091822624207, 0.053321897983551025, 0.032012104988098145, 0.005136895924806595, -0.1885298192501068, 0.010964794084429741, -0.10392475873231888, 0.12616150081157684, 0.7058190107345581, -0.061849646270275116, 0.21607398986816406, 0.24438956379890442, 0.23063400387763977, -0.27346596121788025, -0.10492974519729614, -0.1504765748977661, -0.2377689778804779, 0.3695226311683655, 0.19657060503959656, 0.24025167524814606, -0.014135241508483887, 0.08255040645599365, 0.3319106698036194, 0.03918396681547165, 0.21912223100662231, 0.05751587450504303, -0.16781048476696014, -0.07343678176403046, 0.23630940914154053, 0.3231891691684723, -0.30898746848106384, 0.08871583640575409, -0.011479664593935013, -0.3192184567451477, -0.0563940666615963, 0.14068922400474548, 0.6920206546783447, -0.20446057617664337, 0.3595508933067322, 0.19435906410217285, 0.10769753158092499, 0.5411924123764038, 0.29319190979003906, -0.6022917628288269, 0.20184728503227234, 0.03656753525137901, 0.17785625159740448, 0.08368560671806335, 0.14706119894981384, 0.11317725479602814, 0.24075990915298462, -0.6032564043998718, 0.02045469731092453, -0.16695734858512878, -0.22349178791046143, 0.23396626114845276, 0.08133886754512787, -0.44535672664642334, -0.10237875580787659, -0.406735897064209, 0.18133549392223358, -0.02923944965004921, -0.055598679929971695, -0.3421664535999298, -0.22140756249427795, -0.16144266724586487, -0.29443126916885376, -0.17452296614646912, -0.008400406688451767, -0.43795493245124817, -0.4243912994861603, 0.1142486184835434, 0.14131468534469604, 0.6214553117752075, 0.1336943805217743, -0.46046096086502075, -0.2998085021972656, -0.2340288758277893, 0.007547719404101372, 0.4799855351448059, -0.001612657681107521, 0.14118114113807678, 0.2453574687242508, -0.16134808957576752, -0.22601734101772308, 0.2629127502441406, 0.4414936900138855, 0.21319997310638428, 0.11839810013771057, -0.003395264968276024, -0.5471818447113037, 0.1511160135269165, -0.3636054992675781, 0.16817714273929596, -0.2215580940246582, 0.18257568776607513, -0.4323127269744873, -0.0616983026266098, 0.03172852471470833, 0.24412305653095245, 0.08103620260953903, 0.02027219533920288, 0.0731850415468216, -0.028020735830068588, -0.1415819674730301, -0.044298917055130005, 0.5554309487342834, 0.3889588713645935, -0.2967846095561981, -0.14436133205890656, -0.17448776960372925, 0.01986595243215561, 0.26570793986320496, -0.15192218124866486, 0.051861561834812164, -0.016262896358966827, -0.036896515637636185, 0.2324572205543518, -0.38243207335472107, -0.08224846422672272, -0.2413715422153473, 0.20538653433322906, -0.24634483456611633, -0.32528963685035706, -0.23222903907299042, -0.16927023231983185, 0.025435959920287132, -0.14403773844242096, 0.05939799174666405, -0.22315137088298798, -0.5456604361534119, -0.10062164813280106, 0.1844283938407898, -0.018119197338819504, -0.054993294179439545, -0.32121986150741577, 0.1880553811788559, -0.2557257413864136, 0.3125682771205902, 0.1963091492652893, 0.14559747278690338, -0.3863615095615387, -0.04313904047012329, 0.03897445276379585, 0.1235593631863594, 0.4075010120868683, 0.41988405585289, 0.057404547929763794, -0.18481311202049255, -0.1763508915901184, -0.08396944403648376, -0.1418047696352005, 0.41823989152908325, 0.01772041618824005, 0.03600429743528366, -0.14824837446212769, 0.32187342643737793, -0.10084080696105957, 0.5746628046035767, -0.3334254026412964, 0.37276536226272583, -0.034172214567661285, -0.4391342103481293, 0.18501591682434082, -0.08279186487197876, 0.09022320061922073, 0.20215344429016113, 0.08842072635889053, -0.09001151472330093, -0.21112774312496185, -0.2220207154750824, 0.1717149317264557, -0.04178572818636894, 0.37602487206459045, 0.20662784576416016, -0.14381347596645355, -0.27183932065963745, 0.3699129521846771, -0.30086275935173035, 0.17214006185531616, -0.5799869894981384, -0.19345833361148834, 0.09046751260757446, -0.12571385502815247, -0.13514043390750885, -0.2875007688999176, 0.048949260264635086, -0.0004486851394176483, -0.1348862648010254, -0.0431688129901886, -0.17935246229171753, 0.30255550146102905, -0.03146495670080185, 0.3423846960067749, 0.19171908497810364, -0.013063997030258179, 0.48126235604286194, -0.5558990240097046, 0.3210131824016571, 0.321770042181015, -0.020140938460826874, 0.05637248605489731, 0.07524235546588898, -0.33165374398231506, -0.12884065508842468, -0.0563751682639122, -0.16716217994689941, 0.03459715098142624, 0.46460869908332825, -0.3292822241783142, 0.6532592177391052, 0.177957221865654, 0.12345893681049347, -0.01998448744416237, 0.029077105224132538, 0.08306026458740234, -0.32249996066093445, -0.297528475522995, 0.004723850637674332, -0.1857171356678009, -0.075266532599926, -0.1301923543214798, -0.01047445647418499, 0.3317281901836395, -0.04712473973631859, -0.14589759707450867, 0.17074981331825256, -0.1922217309474945, 0.33266860246658325, -0.2819855511188507, -0.30626773834228516, 0.22004279494285583, 0.08131887018680573, -0.19860094785690308, -0.3631499111652374, -0.10484537482261658, 0.2064119428396225, -0.06385724246501923, 0.19993075728416443, 0.03272971138358116, 0.10273449122905731, -0.06997745484113693, -0.18024305999279022, 0.09397156536579132, 0.29604199528694153, -0.0666084811091423, 0.018605299293994904, 0.07999469339847565, -0.0747951865196228, 0.023088710382580757, 0.0656549483537674, 0.3455536961555481, 0.9307916760444641, 0.009902440011501312, 0.02912180870771408, -0.007139958441257477, -0.5677604675292969, 0.209100604057312, -0.09354457259178162, 0.11994579434394836, -0.029280778020620346, -0.22184866666793823, 0.15307754278182983, -0.2125876247882843, 0.27426326274871826, -0.4218657612800598, 0.0159568153321743, 0.7385221719741821, 0.1632889211177826, -0.12164408713579178, -0.3413624167442322, -0.28304246068000793, 0.12716050446033478, 0.16272157430648804, -0.027993053197860718, -0.2398909479379654, -0.0005797096528112888, 0.37569981813430786, 0.035674482583999634, -0.05368031561374664, 0.8584954142570496, -0.2956337630748749, -0.26744166016578674, 0.200886532664299, -0.24574601650238037, -0.13632577657699585, 0.1797948181629181, -0.2774275541305542, 0.2884630858898163, -0.21639417111873627, 0.26369884610176086, -0.11611001193523407, 0.043091997504234314, 0.11411334574222565, 0.14815177023410797, -0.22292940318584442, -0.09091033041477203, -0.01595701277256012, -0.17418041825294495, 0.014910664409399033, 0.1549435704946518, 0.3663758933544159, -0.005145404487848282, 0.17418834567070007, 0.1932494044303894, 0.004383021499961615, 0.04139130935072899, -0.04315060004591942, 0.13079434633255005, -0.379960298538208, 0.23980720341205597, -0.06382820010185242, 0.019906945526599884, -0.3006502389907837, 0.6090632081031799, -0.32387471199035645, 0.027373148128390312, -0.6659833788871765, 0.08329902589321136, 0.1636039763689041, -0.1220368966460228, -0.2077823281288147, -0.07596997916698456, -0.33273446559906006, -0.3217048645019531, 0.32733625173568726, -0.20776863396167755, 0.2890129089355469, -0.37381699681282043, 0.13736101984977722, 0.29845282435417175, 0.46889376640319824, -0.37508001923561096, 0.15695936977863312, 0.15622934699058533, 0.3194252550601959, 0.08006113767623901, 0.38219019770622253, -0.3077895939350128, -0.24209162592887878, 0.06342333555221558, -0.5160461664199829, 0.24525830149650574, -0.22654516994953156, 0.20209693908691406, -0.27943629026412964, 0.09248319268226624, -0.129792720079422, 0.24282626807689667, -0.003477012738585472, -0.12386544793844223, -0.07118740677833557, -0.7185469269752502, -0.14458294212818146, -0.5881714224815369, 0.2890641987323761, -0.2597030699253082, -0.06935614347457886, 0.2104426920413971, 0.08234255015850067, -0.046622827649116516, -0.1251193881034851, -0.5866027474403381, 0.09484916925430298, -0.1192261129617691, 0.015186520293354988, -0.05927974730730057, -0.19472244381904602, -0.2914622128009796, -0.02985626459121704, -0.17889511585235596, 0.00764484703540802, 0.26964378356933594, -0.2620092034339905, -0.1625794619321823, -0.13017332553863525, 0.17808254063129425, 0.15202105045318604, 0.21792598068714142, -0.26106899976730347, 0.6216241121292114, -0.17964494228363037, -0.036664023995399475, 0.17190930247306824, 0.12437938153743744, 0.2622244656085968, -0.050923414528369904, 0.3063041567802429, 0.19899611175060272, 0.03161180019378662, 0.45595940947532654, -0.016344016417860985, 0.06904606521129608, -0.2614419758319855, -0.1418941468000412, -0.12085848301649094, 0.25561586022377014, 0.21915733814239502, 0.1055346131324768, -0.047553129494190216, 0.127593994140625, -0.1248454675078392, -0.04522616043686867, 0.3696657121181488, -0.09443075954914093, 0.1924169361591339, 0.3646475672721863, -0.43445226550102234, -0.0019482497591525316, 0.220521479845047, 0.2716915011405945, 0.43580684065818787, -0.216310054063797, -0.7443090081214905, -0.5214373469352722, -0.14462342858314514, 0.3008437752723694, 0.08447963744401932, 0.2593758702278137, -0.030639510601758957, -0.270440012216568, 0.18402740359306335, -0.5331836938858032, 0.2494477927684784, -0.20861828327178955, -0.09629841148853302, -0.18622824549674988, -0.12149699032306671, 0.06950722634792328, 0.17859143018722534, 0.0878605842590332, 0.2450937032699585, -0.10329689830541611, 0.34231799840927124, -0.3875190019607544, -0.362228661775589, -0.14002589881420135, -0.3545128405094147, -0.03188034147024155, 0.22981560230255127, 0.4945932626724243, -0.1370219588279724, 0.2620116174221039, 0.2399878203868866, 0.23180903494358063, -0.08425980061292648, -0.14716173708438873, 0.6053506135940552, -0.1332700550556183, 0.008959822356700897, 0.05623491853475571, 0.16103395819664001, 0.18102189898490906, 0.16574089229106903, -0.04725885018706322, 0.006591640412807465, 0.00859363004565239, 0.008371971547603607, 0.0013404116034507751, -0.18016374111175537, 0.08639861643314362, 0.5136325359344482, 0.09627602994441986, -0.07490146160125732, -0.15681348741054535, -0.37033066153526306, -0.06372034549713135, 0.2085009515285492, -0.6387378573417664, -0.33795595169067383, -9.15461254119873, 0.15600216388702393, -0.06962843984365463, 0.12770617008209229, -0.2085164189338684, 0.15980984270572662, -0.18676017224788666, -0.011760495603084564, -0.07243997603654861, 0.009299267083406448, 0.019625797867774963, 0.35550951957702637, 0.1760159432888031, 0.01718129590153694, 0.2411736696958542, -0.2669965624809265, 0.22761544585227966, -0.052778784185647964, -0.7893332839012146, 0.04964486137032509, 0.05677402764558792, -0.25833845138549805, -0.1523277908563614, 0.45494288206100464, 0.42816275358200073, 0.36510002613067627, 0.0821518674492836, -0.09928638488054276, -0.011589152738451958, -0.010014582425355911, 0.19050239026546478, 0.24238483607769012, -0.3624488413333893, -0.13314691185951233, -0.18882057070732117, 0.018621796742081642, 0.03330333158373833, -0.10750970244407654, 0.6391485333442688, -0.5911198258399963, 0.005588127300143242, -0.007388778030872345, 0.16256552934646606, -0.4176327586174011, 0.31913551688194275, -0.35232239961624146, 0.08588457107543945, 0.5597542524337769, -0.06465702503919601, 0.08228342980146408, 0.7292640209197998, 0.022198215126991272, 0.03619338572025299, 0.2392527461051941, -0.4528154134750366, 0.2246614396572113, -0.11912907660007477, 0.530571460723877, 0.24714630842208862, -0.0020122909918427467, -0.21688348054885864, -0.06278195232152939, -0.13489440083503723, 0.15426421165466309, 0.42004936933517456, 0.19647039473056793, -0.39333534240722656, 0.1716458648443222, 0.5036208033561707, 0.3563389182090759, 0.051614947617053986, -0.31105515360832214, 0.26753270626068115, 0.24186386168003082, -0.21682727336883545, -0.39963945746421814, 0.27768149971961975, 0.17425857484340668, 0.21169595420360565, -0.21199318766593933, -0.7213564515113831, 0.061913058161735535, 0.4033706784248352, -0.36141103506088257, -0.059761881828308105, 0.4359537959098816, 0.06914381682872772, 0.43320372700691223, 0.010347548872232437, 0.167608380317688, -0.05283074826002121, 0.010445788502693176, 0.16876739263534546, 0.06081058830022812, 0.5466907024383545, 0.22459948062896729, 0.08494476974010468, 0.06982854008674622, -0.15754106640815735, -0.08481825143098831, -0.11829420179128647, 0.3406267762184143, 0.41935715079307556, -0.25648829340934753, -0.019389737397432327, 0.0018512967508286238, 0.04906197637319565, 0.1430124044418335, -0.12312701344490051, 0.2170712649822235, 0.13481853902339935, 0.18579241633415222, 0.38987281918525696, 0.1728990375995636, 0.6384111642837524, 0.26980191469192505, 0.34237492084503174, 0.2713671922683716, 0.010905332863330841, 0.5257003307342529, -0.21283449232578278, -0.24341720342636108, -0.09039563685655594, -0.19281047582626343, -0.14619439840316772, 0.10482348501682281, 0.06611882150173187, -0.11952704191207886, 0.018710922449827194, -0.09458042681217194, 0.19921080768108368, 0.22622917592525482, -0.32025212049484253, 0.40567314624786377, -0.45681232213974, 0.2816997468471527, 0.016629870980978012, 0.14572496712207794, -0.1800861805677414, -0.44859981536865234, -0.13944432139396667, 0.07238256931304932, -0.09430050104856491, 0.06174073368310928, -0.08220136165618896, 0.13210324943065643, 0.01491072028875351, -0.567788302898407, -0.2591153085231781, -0.015192504972219467, -0.22261938452720642, 0.3619789481163025, -0.051447805017232895, 0.07505878061056137, -0.06798630952835083, 0.09277749806642532, -0.25615355372428894, -0.39515990018844604, -0.2766737937927246, 0.18316014111042023, 0.07902280241250992, 0.24213233590126038, 0.5926663279533386, -0.37461674213409424, 0.2806849479675293, 0.09993106126785278, 0.2605714499950409, 0.05951576307415962, 0.043022990226745605, -0.42874622344970703, -0.59908127784729, -0.20583418011665344, 0.3793479800224304, -0.20298004150390625, -0.13656172156333923, -0.03978428617119789, -0.24001115560531616, 0.0378732904791832, 0.30165714025497437, 0.04729468375444412, -0.04221374914050102, -0.23823460936546326, -0.5069867372512817, -0.542182207107544, 0.16108283400535583, -0.06384153664112091, 0.12816573679447174, -0.10614005476236343, -0.12786008417606354, 0.5055442452430725, 0.2163478136062622, -0.08227743208408356, 0.13435816764831543, -0.17266082763671875, 0.03576253354549408, -0.1590992957353592, -0.2882118225097656, 0.584393322467804, -0.349406898021698, 0.1181112602353096, 0.042957961559295654, 0.19590038061141968, -0.07968922704458237, 0.11667603999376297, -0.6262651681900024, -0.08071321249008179, 0.2567211091518402, 0.31967484951019287, -0.015750866383314133, 0.1311897337436676, -0.03537600859999657], [0.6313725113868713, -0.14031898975372314, 0.06957705318927765, -0.11336904764175415, 0.18976588547229767, -0.20666439831256866, 0.06791183352470398, -0.1308213621377945, -0.2620885372161865, 0.49984613060951233, 0.11390441656112671, 0.4919518530368805, -0.6916219592094421, 0.27284228801727295, -0.6178339719772339, -0.5236562490463257, 0.2413109540939331, -0.07380987703800201, 0.3295702338218689, -0.3795270621776581, -0.4141543209552765, -0.09094443172216415, -0.4112972021102905, 0.010213959962129593, 0.19642320275306702, -0.18295928835868835, 0.3304482400417328, 0.7620978951454163, -0.3245584964752197, 0.8482449054718018, -0.10557982325553894, 0.05126455798745155, 0.21825005114078522, -0.3420880138874054, -0.00782206654548645, -0.023407485336065292, -0.12604257464408875, 0.2018105387687683, -0.16868530213832855, 0.03623431548476219, 0.9033979773521423, -0.02407967671751976, -0.19260174036026, 0.11036892235279083, -0.6813373565673828, -0.3595188856124878, -0.4945199489593506, 0.4059286117553711, -0.2085675299167633, 0.091687873005867, 0.25980669260025024, -0.37916216254234314, -0.03209886699914932, -0.21067510545253754, -0.18130454421043396, -0.46493202447891235, -0.012083576992154121, -0.175134539604187, 0.3871234357357025, 0.1305590569972992, 0.37924161553382874, -0.2840731143951416, 0.07066354155540466, 0.4981714189052582, -0.058073706924915314, -0.2151445895433426, -0.24745222926139832, -0.4147176444530487, 0.2668631374835968, -0.488997220993042, -0.427899569272995, 0.11935597658157349, 0.7343865036964417, -0.6214666962623596, -0.1043572872877121, -0.4249173402786255, 0.4750206470489502, 0.24849456548690796, -0.2559225857257843, -0.08234365284442902, 0.5628872513771057, 0.021103519946336746, 0.11388556659221649, 1.0374696254730225, -0.1618083119392395, 0.12349595874547958, 0.289667010307312, 0.1894322782754898, 0.10191380977630615, 0.22304853796958923, -0.3987312316894531, -0.29689475893974304, 0.2468823492527008, -0.5937645435333252, 0.017898790538311005, 0.19326625764369965, -0.3224502503871918, 0.25136861205101013, 0.29353582859039307, 0.2827831506729126, -8.757971227169037e-05, -0.19850197434425354, 0.21266904473304749, 0.27340686321258545, -0.06906025111675262, -0.4840516448020935, 0.1210966631770134, -0.504745602607727, -0.3476306200027466, 0.775140106678009, -0.26160120964050293, 1.0407679080963135, 0.7607909440994263, -0.01883409172296524, 0.21341900527477264, 0.5090873837471008, 0.3343612253665924, -0.34932783246040344, -0.042343202978372574, -0.16055521368980408, -0.032203882932662964, -0.11988309025764465, 0.42455458641052246, 0.06752276420593262, 0.1792115569114685, -0.044243305921554565, -0.16379767656326294, 0.349122017621994, 1.1336841583251953, 0.13648174703121185, -0.6083831787109375, -0.1383308470249176, 0.49692419171333313, 0.09810187667608261, 0.3111633062362671, 0.20108100771903992, -0.33201807737350464, 0.45817506313323975, -0.8757376074790955, 0.6175810098648071, -0.3894899785518646, -0.45172178745269775, 0.7470201849937439, -0.09955509752035141, -0.6843249797821045, -0.20208406448364258, -0.42673027515411377, 0.5145745873451233, -0.028768222779035568, 0.20911341905593872, -0.5665951371192932, -0.30192112922668457, 0.8615359663963318, -0.09927266836166382, 0.4716019034385681, 0.040372006595134735, -0.24402648210525513, -0.8215358257293701, 0.05626863241195679, -0.09048488736152649, 0.2528313398361206, -0.14425179362297058, -0.7928469181060791, -0.007432572543621063, -0.19958481192588806, 0.15487320721149445, 0.90489262342453, 0.2806093990802765, 0.4777456223964691, 0.13346649706363678, -0.038868192583322525, -0.4582534432411194, 0.2139875441789627, -0.147506982088089, 0.1750277578830719, 0.4623481035232544, 0.33522194623947144, -0.29672664403915405, 0.42380058765411377, -0.08089113235473633, 0.2870122790336609, -0.420610249042511, -0.33339858055114746, -0.782915472984314, -0.23034346103668213, 0.5373598337173462, 0.1460486501455307, 0.44249871373176575, 0.9085501432418823, 0.06990009546279907, 0.5085984468460083, 0.011227540671825409, -0.14845573902130127, -0.46493351459503174, -0.8041539788246155, -0.5090417861938477, -0.27539676427841187, -0.19897222518920898, -0.1396782398223877, 0.3981747329235077, -0.5992901921272278, 0.18723492324352264, -0.15611203014850616, -0.07073451578617096, 0.3071027994155884, -0.2827783524990082, -0.05903174355626106, 0.0730675458908081, 0.06964018940925598, -0.6998203992843628, -0.17259132862091064, 0.179074227809906, -0.19048714637756348, 0.04516194015741348, -0.9026461839675903, -0.0802030861377716, 0.28460612893104553, -0.6384872794151306, 0.19914457201957703, 0.7095851898193359, 0.27523618936538696, -0.06641540676355362, -0.2531915307044983, 0.10302326828241348, -0.6603383421897888, 0.2979336380958557, -0.15829463303089142, -0.3815236985683441, -0.26502469182014465, -0.021740786731243134, 0.29293298721313477, 0.1477038562297821, -0.019645653665065765, 0.3792758882045746, 0.0045597143471241, -0.1672721803188324, -0.2732677459716797, 0.34003737568855286, -0.886237382888794, 0.0962274968624115, -0.24160674214363098, -0.09003851562738419, 0.4274868965148926, -0.2211504876613617, -0.4065636992454529, 0.6251347064971924, -0.2756110429763794, 0.5939953327178955, -0.38903874158859253, -0.510817289352417, 0.3183134198188782, -0.3168448805809021, -0.2681300640106201, 0.41623789072036743, 0.9462732672691345, 0.13693581521511078, 0.23101113736629486, 0.25615477561950684, -0.22905993461608887, 0.6072061061859131, 0.16833607852458954, 0.4111286401748657, 0.39278966188430786, 0.059378281235694885, 0.3230675458908081, -0.6919573545455933, -0.05842374637722969, 0.11505433171987534, -0.29161208868026733, 0.3584311902523041, -0.19233329594135284, -0.30612578988075256, 0.31182777881622314, -0.37963953614234924, -0.22102661430835724, 0.09463535994291306, 0.36495786905288696, -0.6056001782417297, 0.3489021062850952, -0.24577881395816803, 0.19320978224277496, 0.15868836641311646, -0.06699146330356598, 0.4799221158027649, -0.884768009185791, 0.2815551161766052, -0.06662480533123016, -0.18659822642803192, 0.058253414928913116, -0.09979391098022461, -0.11708168685436249, 0.2083790898323059, -0.07420603930950165, 0.1721474677324295, 0.1703052520751953, 0.12900415062904358, -0.4998857378959656, 0.7558649778366089, -0.015502292662858963, 0.06442080438137054, 0.3305303454399109, 0.8283334374427795, -0.038416292518377304, 0.2342841476202011, -0.9868950843811035, 0.041967183351516724, -0.016582973301410675, -0.12211237102746964, 0.17240281403064728, 0.06523459404706955, 0.3959435820579529, 0.34462806582450867, 0.21423321962356567, 0.044286370277404785, -0.5262155532836914, 0.1646420657634735, -0.1962914913892746, 0.07164117693901062, 0.11874134093523026, 0.1241612434387207, -0.15864849090576172, -0.10760269314050674, -0.3839622437953949, 0.22197486460208893, -0.4428686499595642, 0.6074826717376709, -0.09788385033607483, -0.22849178314208984, -0.3279389441013336, -0.8703381419181824, 0.4083680212497711, 0.342514306306839, 0.11812746524810791, -0.2997777462005615, -0.052457913756370544, 0.2533751428127289, 0.45119017362594604, -0.43050500750541687, 0.7452706098556519, 1.2150087356567383, 0.4344535171985626, -0.25079283118247986, 0.21780195832252502, 0.06795810908079147, 0.17853544652462006, 0.18480530381202698, -0.49350589513778687, -0.13263051211833954, -0.22927245497703552, -0.09193892776966095, -0.18031659722328186, 0.0004793405532836914, -0.4676973521709442, 0.24877922236919403, 0.9261631965637207, 0.43039828538894653, 0.21703386306762695, -0.09037863463163376, 0.1019388884305954, -0.1271166205406189, 0.09105181694030762, -0.44945216178894043, 0.08467195183038712, 0.06244402751326561, -0.15072937309741974, -0.3267689049243927, -0.04897678643465042, 0.9980999231338501, -0.7255148887634277, -0.380208820104599, 0.24849209189414978, 0.09413550794124603, 0.4460546672344208, 0.2972966730594635, -0.09807123243808746, 0.2598033845424652, 0.09941624104976654, 0.5142059922218323, -0.14138448238372803, -0.18370003998279572, 0.007364004850387573, 0.31412649154663086, -0.8898927569389343, -0.043533384799957275, -0.03940368816256523, 0.07970006763935089, 0.03192581981420517, -0.0026301443576812744, 0.9144034385681152, 0.24297265708446503, 0.5937528610229492, 0.02273419126868248, 0.27876022458076477, 0.07244329899549484, -0.297497421503067, 0.26249343156814575, -0.6128591895103455, 0.38695135712623596, 0.28387588262557983, 0.42935091257095337, -0.7331459522247314, 0.3377583920955658, -0.34232673048973083, -0.08474916964769363, -0.5199788808822632, -0.17463187873363495, -0.48743629455566406, 0.23086576163768768, -0.20049181580543518, -0.027268392965197563, -0.22954952716827393, -0.7097245454788208, 0.14650632441043854, -0.016855623573064804, 0.510771632194519, -0.598193347454071, -0.04425426572561264, 0.20312334597110748, 0.18183329701423645, -0.38258054852485657, 0.24028539657592773, -0.32436639070510864, 0.2619100511074066, 0.39776867628097534, 0.9783296585083008, -0.3383243978023529, -0.22568368911743164, -0.2174760103225708, -0.057710323482751846, -0.39269036054611206, -0.39220499992370605, 0.14669354259967804, -0.31084901094436646, 0.5998696088790894, 0.03246629983186722, -0.17806485295295715, -0.09588615596294403, 0.08549429476261139, -0.08701588958501816, -0.7246958017349243, -0.062437258660793304, -0.4600260853767395, 0.24783357977867126, -0.377760648727417, -0.15288248658180237, -0.2505456805229187, 0.060338884592056274, -0.4932495653629303, 0.12304019182920456, -0.5250387191772461, -0.3225320875644684, 0.14481419324874878, 0.1913832724094391, 0.29356032609939575, -0.3307219445705414, -0.9207022786140442, -0.007357999682426453, -0.15433168411254883, -0.21179790794849396, 0.022550925612449646, -0.5197021961212158, 0.2805052399635315, -0.1821206510066986, 0.008254016749560833, -0.05921952798962593, 0.23479348421096802, -0.8892221450805664, 0.3745669722557068, -0.432894229888916, -0.3029073476791382, 0.3723370432853699, 0.5086461901664734, 0.7121142745018005, 0.736998438835144, -0.06307321786880493, 0.04372750222682953, 0.08044295012950897, 0.06822755187749863, -0.4085704982280731, 0.27006885409355164, -0.329196959733963, -0.4807852804660797, -0.1463247835636139, 0.582045316696167, 0.43646037578582764, 0.5530061721801758, 0.32818683981895447, -0.22729671001434326, -0.33288341760635376, 0.36890676617622375, 0.373213529586792, -0.06203961744904518, -0.02613726444542408, 0.1435360312461853, -0.05206077918410301, -0.016661642119288445, 0.2510730028152466, 0.09506385773420334, 0.5745196342468262, -0.7038902640342712, -1.1296943426132202, -0.5757264494895935, 0.14868924021720886, -0.028660684823989868, 0.4119620621204376, 0.7020825743675232, -0.7203642725944519, -0.7296328544616699, 0.2872525751590729, -0.020695894956588745, -0.35710659623146057, -0.29670071601867676, -0.13298140466213226, 0.12923681735992432, -0.17195773124694824, 0.025273099541664124, 0.00031629204750061035, 0.5072084069252014, 0.30051475763320923, -0.3313290774822235, 0.20616191625595093, -0.04950626194477081, -0.22640936076641083, -0.13982662558555603, -0.22117219865322113, -0.32874786853790283, 0.31777429580688477, 1.1528650522232056, 0.0010672397911548615, 0.4268517792224884, 0.33161890506744385, 0.10624320060014725, 0.1258830428123474, -0.16842657327651978, 0.7393417954444885, -0.5182115435600281, -0.44420796632766724, -0.22373813390731812, 0.07409892976284027, 0.2899455428123474, 0.02298257313668728, -0.1495884209871292, -0.00019546225666999817, -0.18238615989685059, -0.059551604092121124, -0.09249185770750046, -0.06415894627571106, 0.11376869678497314, -0.09319141507148743, 0.14357678592205048, -0.3419162631034851, -0.1050061285495758, -0.28982478380203247, -0.10781580209732056, 0.6143164038658142, 0.07767036557197571, -0.3304526209831238, -8.390636444091797, 0.1320580393075943, 0.04550471901893616, -0.06575988978147507, -0.0009813681244850159, -0.03128984943032265, -0.3699610233306885, 0.0011714454740285873, -0.24115686118602753, -0.19825299084186554, 0.6334407925605774, 0.3850739598274231, 0.7058143019676208, -0.5181047916412354, 0.09950365126132965, -0.4232482314109802, 0.3180994391441345, 0.3115483224391937, -0.20478849112987518, 0.02746054343879223, -0.2627723515033722, 0.21436193585395813, 0.2672123610973358, 1.1001867055892944, 0.5092993974685669, 0.46877652406692505, 0.0026521608233451843, 0.10173855721950531, -0.021973788738250732, -0.6071487069129944, 0.2594844400882721, 0.08421462029218674, -0.3652445375919342, -0.18387670814990997, -0.17929978668689728, 0.2239282876253128, 0.2137986272573471, 0.24705876410007477, 0.3596667945384979, -0.6068421602249146, -0.512055516242981, -0.31046685576438904, -0.2579287886619568, -0.520807683467865, 0.5546791553497314, 0.13012538850307465, 0.09457801282405853, 0.5355965495109558, 0.21643856167793274, 0.3159256875514984, 0.6432400941848755, 0.209067240357399, -0.2358843833208084, 0.11293789744377136, -0.493613600730896, 0.11758778989315033, -0.3865949213504791, 0.5582266449928284, 0.7155185341835022, 0.04934531822800636, 0.22861996293067932, -0.45015668869018555, 0.14438366889953613, 0.10149625688791275, -0.04098023101687431, 0.01932460069656372, -0.7511959671974182, -0.18479286134243011, 0.39766448736190796, 0.45351582765579224, -0.2316667139530182, -0.6189934611320496, 0.10046739131212234, 0.22708547115325928, -0.15002387762069702, -0.1535177081823349, -0.19488021731376648, 0.1951528638601303, 0.2707552909851074, -0.667884349822998, -0.10594012588262558, 0.34432315826416016, 0.3123517632484436, -0.3489677309989929, -0.07709723711013794, 0.3893482983112335, 0.1499929130077362, 0.8471225500106812, -0.08368673920631409, -0.08163603395223618, 0.5700660943984985, -0.04164687171578407, -0.367424875497818, 0.3261553943157196, -0.3585408926010132, -0.02845924347639084, -0.07666607201099396, 0.2658247649669647, 0.022790223360061646, 0.10076836496591568, -0.2526594400405884, 0.35459834337234497, 0.2872040867805481, -0.22740159928798676, -0.5814393758773804, -0.11028800159692764, -0.09662483632564545, -0.3136782646179199, 0.3153148293495178, 0.1135098785161972, 0.4046229422092438, 0.5481486916542053, 0.36306172609329224, 0.031034212559461594, 0.6732267141342163, 0.06857866048812866, 0.3193463981151581, 0.021463368088006973, 0.6684978604316711, 0.43400925397872925, -0.26900410652160645, -0.043104417622089386, 0.03325595706701279, -0.02592070773243904, -0.09558817744255066, 0.2334839254617691, 0.3560830354690552, -0.06907603144645691, -0.03543383255600929, 0.3481728732585907, 0.8461227416992188, 0.43575695157051086, -0.38625070452690125, 0.18645569682121277, -0.5128536224365234, 0.39712509512901306, -0.15303657948970795, 0.02667274698615074, -0.4750761091709137, -0.3767031133174896, 0.0608682706952095, -0.3028483986854553, 0.4841308891773224, -0.3576071560382843, -0.11911362409591675, -0.3376753330230713, -0.39923667907714844, -0.7426508069038391, -0.006302915513515472, 0.1933249831199646, -0.7035825252532959, 0.3111550211906433, -0.13892143964767456, 0.10759500414133072, -0.045392829924821854, 0.11936621367931366, 0.29588979482650757, -0.20948868989944458, -0.2838281989097595, 0.06421247124671936, 0.06531906872987747, -0.16028925776481628, 1.0967260599136353, -0.4658368229866028, 0.6020936965942383, -0.03578602522611618, 0.31264179944992065, -0.4573931097984314, 0.436866819858551, -0.5722507834434509, -0.573904275894165, -0.6357215642929077, 0.4699590802192688, 0.08057095110416412, -0.443699449300766, -0.6649087071418762, -0.025755275040864944, -0.56944340467453, 0.27646249532699585, -0.21320240199565887, -0.08048992604017258, -0.11005473136901855, -0.4533065855503082, -0.40513136982917786, 0.12937518954277039, -0.04331409931182861, 0.2829039692878723, 0.17058424651622772, -0.08908174932003021, 0.739143967628479, 0.11104462295770645, -0.5519606471061707, -0.05287713557481766, 0.12010882049798965, -0.05381344258785248, 0.3602379858493805, -0.4777016341686249, 0.3221657872200012, -0.4626947045326233, 0.06532201170921326, 0.5380730032920837, -0.0140729621052742, 0.09694413095712662, -0.42994359135627747, -0.8386026620864868, -0.20694869756698608, 0.3857470154762268, -0.2609311044216156, 0.6922351121902466, 0.2360512763261795, -0.25320494174957275], [0.2694227695465088, 0.18687105178833008, -0.26515281200408936, 0.4209515452384949, 0.4698294699192047, -0.12748967111110687, -0.19511952996253967, 0.24542728066444397, 0.036281317472457886, -0.15047411620616913, 0.23158569633960724, 0.26327329874038696, -0.014743898063898087, 0.3360103368759155, -0.2797852158546448, -0.41641101241111755, -0.3365481495857239, -0.33695030212402344, 0.05247960984706879, -0.14054900407791138, -0.1400851458311081, -0.5264855027198792, -0.1559157818555832, -0.21819692850112915, -0.22810868918895721, -0.31206315755844116, -0.29717087745666504, 0.8516254425048828, -0.3454667925834656, 0.34898340702056885, -0.5871726870536804, -0.2037065178155899, 0.057258717715740204, 0.24855777621269226, 0.1651616394519806, 0.2430390566587448, 0.3193356692790985, 0.050626687705516815, 0.05518463999032974, 0.08537136018276215, 0.5629952549934387, -0.2882135212421417, 0.04413244128227234, 0.3411387503147125, 0.3017233610153198, -0.26282408833503723, 0.19278624653816223, -0.11165903508663177, -0.18215420842170715, 0.021167095750570297, -0.08783742785453796, -0.16906000673770905, -0.2164364457130432, 0.16466781497001648, -0.31144100427627563, -0.17488177120685577, -0.10493788123130798, 0.23596948385238647, 0.18282681703567505, 0.2472693771123886, -0.04106921702623367, -0.4339936077594757, -0.187173992395401, 0.6130402088165283, -0.12684234976768494, -0.1295163929462433, 0.3877394199371338, -0.36124271154403687, 0.1001954898238182, -0.16235050559043884, -0.34425827860832214, 0.3594825267791748, 0.033838480710983276, -0.5919926166534424, 0.047889091074466705, -0.7506787776947021, -0.26187658309936523, 0.0033158957958221436, -0.06619786471128464, -0.07586362957954407, 0.5213898420333862, 0.1916595846414566, -0.3923391103744507, 0.5491846203804016, -0.2144528329372406, -0.10964164137840271, -0.2846520245075226, 0.7085619568824768, -0.06223445385694504, 0.40993908047676086, -0.11830738186836243, -0.19412513077259064, -0.008427978493273258, 0.06267762929201126, 0.4821130335330963, -0.033145688474178314, -0.5168681740760803, 0.17972560226917267, -0.28223904967308044, 0.1271950751543045, -0.16027109324932098, -0.5287970304489136, -0.0860535055398941, -0.6043046712875366, 0.3303118646144867, 0.06798219680786133, -0.1120811402797699, -0.54244464635849, 0.12290722131729126, 0.7432272434234619, 0.18520435690879822, 0.2509646713733673, 0.19165858626365662, -0.042356666177511215, -0.17623430490493774, 0.43593865633010864, -0.14377564191818237, -0.4904855489730835, 0.10222328454256058, 0.40693408250808716, 0.11537133902311325, 0.2541921138763428, 0.00898607075214386, -0.06309053301811218, 0.22426490485668182, -0.33955127000808716, -0.0378464050590992, 0.061622485518455505, 0.5023917555809021, 0.3778253197669983, -0.5108306407928467, -0.26694270968437195, -0.13927803933620453, 0.6639295816421509, -0.004836639389395714, 0.19729918241500854, -0.7504661083221436, 0.5561506152153015, -0.784744381904602, -0.16725829243659973, -0.08993488550186157, -0.40608835220336914, 0.36935898661613464, -0.11342289298772812, -0.029264500364661217, 0.2799450159072876, 0.2018796056509018, 0.2506440281867981, 0.3552517890930176, -0.06673408299684525, -0.730624258518219, 0.24445731937885284, 0.3114364445209503, -0.11257268488407135, 0.01966938003897667, 0.09918966144323349, 0.24128657579421997, -0.30914074182510376, 0.06789810210466385, 0.13162313401699066, 0.660102128982544, -0.14317694306373596, -0.4038543999195099, 0.05888327583670616, 0.16447195410728455, -0.08371081948280334, 0.6677091121673584, 0.3309004306793213, 0.24833989143371582, 0.09111291170120239, -0.358089417219162, -0.1265973448753357, 0.2644094228744507, 0.05024189502000809, -0.3295303285121918, 0.021599777042865753, 0.4425051510334015, -0.19530804455280304, 0.07050105929374695, 0.07469826191663742, 0.05178825557231903, 0.021056383848190308, -0.3400038480758667, -0.7011303305625916, -0.01264762319624424, 0.3545309603214264, -0.06570155918598175, 0.1819383203983307, 0.6951771974563599, 0.3865332305431366, 0.6882008910179138, -0.6138981580734253, -0.023787712678313255, -0.16260197758674622, -0.4365321397781372, -0.6136295795440674, -0.8233477473258972, 0.0454617515206337, 0.06748487055301666, 0.14683035016059875, -0.1286977231502533, 0.00849195197224617, -0.5707991719245911, -0.3980202078819275, -0.08200284838676453, -0.5276908874511719, -0.15020033717155457, 0.6022560000419617, -0.33285510540008545, -0.8678920269012451, 0.29318541288375854, -0.32730209827423096, -0.03753156214952469, -0.016108794137835503, -0.19597890973091125, -0.13000701367855072, 0.17245568335056305, -0.7513468861579895, -0.059292517602443695, 0.637892484664917, -0.049023423343896866, 0.028738372027873993, -0.3196020722389221, 0.2046603411436081, -0.02821115404367447, -0.1323666274547577, 0.3677474856376648, 0.03831331431865692, -0.19229403138160706, -0.43958497047424316, -0.0252449382096529, -0.13189385831356049, 0.6591299772262573, -0.29394257068634033, -0.07033876329660416, -0.011824868619441986, -0.2747907340526581, -0.1423616111278534, -0.7374554872512817, 0.666926383972168, -0.2324511706829071, -0.045404255390167236, -0.4473242461681366, 0.40520399808883667, -0.007733268663287163, 0.2798425555229187, -0.34157055616378784, 0.5062310099601746, -0.036384373903274536, -0.5151755213737488, 0.28258657455444336, -0.383375883102417, -0.6511617302894592, 0.5844888091087341, 0.6531119346618652, -0.2987004816532135, 0.019835442304611206, 0.07377108931541443, -0.29370301961898804, 0.20533645153045654, -0.04880174994468689, 0.20067942142486572, 0.1996454894542694, -0.043751657009124756, -0.328021764755249, 0.06524798274040222, -0.2296154797077179, -0.5050731301307678, -0.26919257640838623, 0.3708595335483551, 0.07178138196468353, -0.43878939747810364, 0.5951964855194092, 0.03682154417037964, 0.10593277215957642, 0.19679468870162964, 0.22227096557617188, -0.2214249223470688, 0.35219520330429077, -0.19406317174434662, 0.3930310606956482, 0.260748028755188, -0.23885759711265564, 0.21730779111385345, -0.4246404469013214, 0.44711196422576904, -0.01810188591480255, -0.012946173548698425, 0.15463818609714508, -0.5048247575759888, -0.25515881180763245, 0.1281595230102539, -0.163725808262825, -0.559838593006134, 0.23666775226593018, 0.1009206622838974, -0.253125935792923, 0.38826653361320496, -0.04423465579748154, 0.2201204001903534, -0.1569768190383911, 0.32889699935913086, 0.2482323944568634, -0.3276827931404114, -0.21646174788475037, 0.02953897975385189, 0.12626031041145325, 0.33695244789123535, 0.4246000647544861, 0.08922350406646729, 0.850498378276825, 0.406248539686203, -0.10051435977220535, 0.09341515600681305, -0.1680409461259842, -0.06217801570892334, -0.09935946017503738, 0.0681227445602417, -0.2897231876850128, 0.06734956800937653, -0.15211611986160278, -0.02136784791946411, -0.06075230985879898, 0.8056520223617554, 0.14369933307170868, 0.02958182618021965, 0.4312472939491272, -0.41469407081604004, -0.06480314582586288, -0.3444015383720398, -0.017087051644921303, -0.3303286135196686, 0.0881558358669281, -0.2918327748775482, -0.06104590743780136, -0.2412584275007248, 0.04923365265130997, 0.289969265460968, 0.711322009563446, 0.7468677163124084, 0.41552186012268066, 0.3044678568840027, -0.10238809883594513, -0.32429996132850647, 0.08778777718544006, 0.20473411679267883, -0.4458651542663574, 0.18089549243450165, 0.18311277031898499, -0.2648172974586487, -0.06403037905693054, 0.17161978781223297, -0.13263562321662903, -0.16077129542827606, 0.8510411977767944, 0.09694691002368927, -0.24207068979740143, -0.04735979437828064, -0.020376015454530716, 0.18721447885036469, 0.11938942968845367, -0.4313398599624634, -0.26842373609542847, -0.11928721517324448, 0.11918434500694275, -0.19703054428100586, 0.18998175859451294, 0.6640069484710693, -0.3699226677417755, -0.24647627770900726, 0.6430111527442932, -0.08192677050828934, 0.2956361174583435, 0.10893400758504868, -0.46021151542663574, 0.27921998500823975, 0.1121840849518776, 0.18243403732776642, 0.0619739405810833, -0.4834687113761902, 0.192201167345047, 0.16405867040157318, -0.1264282912015915, -0.4367600977420807, 0.22110681235790253, 0.16704481840133667, -0.33790159225463867, 0.5876883268356323, 0.552577793598175, -0.2760242521762848, 0.34261107444763184, -0.008865442126989365, -0.003855281975120306, -0.580778181552887, 0.3400532603263855, 0.20281659066677094, -0.5112974047660828, 0.1053946316242218, 0.3492337465286255, 0.23274019360542297, -0.28887829184532166, -0.0824461355805397, -0.071620874106884, -0.06231044977903366, -0.3113253712654114, -0.10391279309988022, -0.11982560902833939, -0.1711224466562271, 0.3078521490097046, -0.01401233859360218, -0.2401736080646515, -0.4002930819988251, 0.21727097034454346, 0.34847670793533325, 0.2941616177558899, -0.33069926500320435, -0.11242812126874924, 0.08037951588630676, 0.6879349946975708, 0.007956970483064651, -0.16635215282440186, 0.3708684742450714, -0.20978772640228271, 0.03639990836381912, 0.6844386458396912, 0.0948076918721199, 0.017345719039440155, -0.43002405762672424, -0.365989625453949, 0.2225092053413391, 0.0772361159324646, 0.18180960416793823, 0.36615532636642456, 0.3058539927005768, 0.05212932825088501, 0.0845792219042778, 0.24446848034858704, -0.33324122428894043, 0.11258720606565475, -0.8610460758209229, -0.1759267896413803, -0.4786045551300049, -0.05843757838010788, -0.44053182005882263, -0.18306106328964233, -0.3101024627685547, 0.2651844024658203, -0.19049561023712158, -0.29529112577438354, -0.49997013807296753, 0.20065172016620636, -0.10987908393144608, 0.0864541307091713, 0.10775378346443176, -0.33348777890205383, -0.6499359011650085, 0.028284043073654175, 0.03639501333236694, -0.5130285024642944, -0.09280421584844589, -0.5261701941490173, 0.04586509242653847, 0.15724211931228638, 0.5098111629486084, 0.5319172739982605, -0.026481006294488907, -0.29864317178726196, 0.6779351234436035, -0.3875519335269928, -0.23678892850875854, -0.04278689622879028, 0.44427505135536194, 0.4473474323749542, 0.6639462113380432, 0.18990245461463928, -0.18779504299163818, 0.31332337856292725, 0.20174643397331238, -0.003072872757911682, 0.01575114205479622, -0.5003499388694763, -0.03727762773633003, 0.12179812788963318, 0.18289896845817566, 0.7774764895439148, 0.5613930225372314, -0.05463237315416336, -0.1390029788017273, -0.31958702206611633, 0.928501546382904, -0.13654939830303192, 0.3248920738697052, 0.07287450134754181, 0.27678126096725464, -0.626169741153717, -0.14966093003749847, -0.12812823057174683, -0.1870044320821762, 0.050530023872852325, -0.410916805267334, -0.7365883588790894, -0.38491350412368774, -0.30457252264022827, 0.5879066586494446, 0.37978240847587585, 0.5291815400123596, -0.5514408349990845, 0.18096280097961426, 0.04645834118127823, -0.3131847679615021, 0.31747716665267944, -0.6432811617851257, -0.4769057631492615, 0.10547269880771637, -0.03189811483025551, 0.07535183429718018, 0.2767500877380371, 0.19400960206985474, 0.11751741170883179, -0.12680065631866455, 0.35305941104888916, -0.22075510025024414, -0.11292359977960587, 0.41282618045806885, -0.40528884530067444, 0.20844358205795288, 0.4611849784851074, 0.2228797823190689, -0.28844451904296875, 0.37772688269615173, 0.1459883153438568, 0.16936318576335907, -0.3750317394733429, -0.24233563244342804, 0.6657810211181641, -0.36819592118263245, -0.6827123761177063, 0.010757803916931152, 0.055428121238946915, 0.28859183192253113, -0.4343412220478058, -0.23511186242103577, 0.22620464861392975, -0.07730116695165634, -0.12988802790641785, 0.28185421228408813, -0.0050092535093426704, 0.048045676201581955, -0.36349910497665405, 0.1612810343503952, 0.12560054659843445, -0.46996092796325684, 0.14981088042259216, -0.3371887803077698, 0.6120694279670715, -0.08687802404165268, -0.07495733350515366, -8.7399320602417, 0.5221039056777954, 0.30773431062698364, 0.013170607388019562, -0.35548415780067444, 0.21739652752876282, -0.26709139347076416, 0.19452239573001862, -0.5196400284767151, -0.3506416380405426, 0.6013440489768982, 0.5426059365272522, 0.4651124179363251, 0.0020726025104522705, -0.005727408453822136, -0.16155125200748444, -0.01842355914413929, 0.2672898471355438, -0.22664937376976013, -0.11020083725452423, 0.413745641708374, 0.4111434817314148, 0.03245888650417328, 0.5597721338272095, 0.697912871837616, 0.6656554937362671, -0.004115574061870575, 0.1040898784995079, 0.18698054552078247, -0.06555033475160599, -0.01683807000517845, 0.4346494972705841, -0.6983956694602966, 0.06058267131447792, -0.23232433199882507, 0.1567363440990448, 0.06485864520072937, -0.04099564999341965, 0.9228827953338623, -0.7396030426025391, -0.18142399191856384, -0.16779622435569763, -0.1332886964082718, -0.30066704750061035, 0.3657771944999695, 0.33175036311149597, -0.09921552985906601, 0.6081824898719788, -0.5724518299102783, -0.11054549366235733, 0.2219167947769165, 0.25727617740631104, 0.2852492332458496, 0.051562704145908356, -0.3708173930644989, 0.0049291811883449554, -0.1986963003873825, 0.6495769023895264, 0.2874566912651062, 0.29805466532707214, -0.04131639376282692, -0.2461610734462738, 0.12413667142391205, 0.1045299544930458, 0.07468568533658981, 0.5399040579795837, 0.178116574883461, -0.022252561524510384, 0.13990458846092224, 0.5776178240776062, 0.0536041259765625, -0.4904802143573761, 0.17972499132156372, -0.10564854741096497, -0.372232049703598, -0.8422694802284241, 0.18295803666114807, 0.3133326470851898, 0.07182593643665314, -0.21321985125541687, -0.4198428690433502, 0.04861082881689072, 0.30710822343826294, -0.022598855197429657, -0.1709175854921341, 0.127005934715271, 0.15287941694259644, 0.6606981754302979, -0.14036297798156738, 0.01514370646327734, 0.2927888333797455, -0.1961510181427002, -0.15266257524490356, 0.5522702932357788, -0.024294894188642502, 0.1337774246931076, 0.3105001151561737, -0.018052395433187485, -0.5909653902053833, 0.12295568734407425, -0.16767704486846924, 0.134924054145813, 0.055108409374952316, -0.03898158669471741, -0.29427972435951233, -0.03628598153591156, -0.30850520730018616, -0.3078480660915375, -0.2972078025341034, 0.18154405057430267, 0.13797785341739655, 0.2443951964378357, 0.2371072918176651, -0.1742258071899414, 0.579199492931366, 0.14039337635040283, 0.09525447338819504, -0.19247958064079285, -0.13347990810871124, 0.2870076596736908, 0.20347408950328827, -0.048388853669166565, -0.0864279493689537, -0.4805326461791992, -0.0918365865945816, -0.001454520970582962, -0.10523445904254913, 0.23927460610866547, 0.2526284158229828, 0.07905274629592896, -0.03695997595787048, 0.20021724700927734, -0.30227380990982056, 0.17081566154956818, -0.2782219350337982, 0.25029394030570984, -0.4651472866535187, -0.050935354083776474, -0.28737810254096985, -0.5542107820510864, -0.3011263310909271, -0.23090893030166626, 0.562179446220398, -0.32621222734451294, 0.09596429765224457, 0.047819025814533234, 0.007472984492778778, -0.382053941488266, 0.40433546900749207, -0.17662695050239563, -0.12857107818126678, 0.045825500041246414, 0.3957775831222534, 0.2743188440799713, -0.11224917322397232, -0.36262989044189453, 0.03427135944366455, -0.1067330464720726, -0.3959684669971466, 0.08448168635368347, -0.14483420550823212, -0.4258227050304413, 0.7112773656845093, 0.003595218062400818, 0.7761449217796326, 0.1468634009361267, -0.10401710867881775, -0.2701071500778198, 0.07311495393514633, 0.21740250289440155, 0.051417190581560135, -0.39034104347229004, 0.13680146634578705, 0.3677067160606384, -0.033725157380104065, -0.5801034569740295, -0.00835222564637661, 0.09533507376909256, 0.8655377626419067, 0.061249494552612305, 0.4495171010494232, 0.328502357006073, -0.2930587828159332, -0.42379623651504517, -0.4946387708187103, 0.10259094834327698, 0.2855274975299835, -0.5457701086997986, 0.13854433596134186, 0.29823780059814453, 0.1684335470199585, 0.19794301688671112, 0.22866007685661316, 0.6466639637947083, -0.4892605245113373, -0.21975645422935486, -0.15695726871490479, 0.1948913186788559, 0.11337397992610931, -0.023571930825710297, -0.10184995830059052, -0.16716268658638, 0.467502236366272, 0.0870448425412178, -0.6642866134643555, -0.27216869592666626, 0.07079839706420898, 0.38687437772750854, 0.41791489720344543, -0.0071305278688669205, 0.07489483803510666], [0.21675726771354675, 0.18694715201854706, -0.6106574535369873, 0.2873840928077698, 0.5920844078063965, -0.31547343730926514, -0.056222494691610336, 0.3856016993522644, 0.022789886221289635, -0.1287389099597931, 0.009002447128295898, 0.3767077624797821, -0.24644488096237183, 0.22535766661167145, -0.3884575366973877, -0.5637937188148499, -0.19696873426437378, -0.3680388629436493, 0.14362859725952148, -0.41078102588653564, -0.1735447198152542, -0.658141016960144, -0.05621229484677315, -0.06382226198911667, 0.017664708197116852, -0.02925977110862732, -0.2187916785478592, 0.7584237456321716, -0.20420506596565247, 0.26531875133514404, -0.4653257131576538, -0.28165194392204285, -0.17314383387565613, 0.2764322757720947, 0.31974488496780396, 0.33525073528289795, 0.28000181913375854, 0.3071137070655823, -0.01918569952249527, -0.14652091264724731, 0.663665771484375, -0.16079214215278625, -0.18773391842842102, 0.14123104512691498, 0.07129186391830444, -0.2107688933610916, 0.10745496302843094, -0.1876397728919983, -0.16684874892234802, -0.18712696433067322, -0.047795042395591736, -0.12826916575431824, -0.2473227083683014, 0.043861307203769684, -0.1570352017879486, -0.5362147688865662, -0.1357598751783371, -0.08912691473960876, 0.22805127501487732, 0.40312260389328003, -0.02563237026333809, -0.2182813286781311, 0.013545704074203968, 0.416093647480011, -0.051559071987867355, -0.45307016372680664, -0.23981520533561707, -0.2900655269622803, 0.15789738297462463, -0.11962425708770752, -0.6440066695213318, 0.40915822982788086, 0.20158958435058594, -0.5906944274902344, 0.02547026053071022, -0.5588525533676147, 0.16948693990707397, 0.14160612225532532, -0.16533491015434265, -0.016669370234012604, 0.6178382039070129, 0.34877076745033264, -0.44495970010757446, 0.7183665633201599, -0.21746860444545746, 0.14900198578834534, -0.19494007527828217, 0.5730181932449341, 0.08703579753637314, 0.3529229462146759, -0.14120712876319885, -0.3622298836708069, 0.08549463748931885, -0.30395880341529846, 0.39347371459007263, 0.08791176974773407, -0.3120633363723755, 0.3806827664375305, -0.303663969039917, 0.4523285925388336, -0.12209179997444153, -0.7121140956878662, -0.056878238916397095, -0.45337405800819397, 0.1996273547410965, 0.3587673306465149, -0.17654924094676971, -0.6466209292411804, 0.24707068502902985, 0.7084510326385498, 0.2293146550655365, 0.25342506170272827, 0.3841410279273987, -0.21956424415111542, 0.056568071246147156, 0.4210571050643921, -0.2681901454925537, -0.6369276642799377, -0.129250168800354, 0.22251082956790924, 0.029436198994517326, -0.03425753489136696, 0.03738667070865631, -0.154491126537323, 0.3562650978565216, 0.02806505188345909, -0.2556697130203247, 0.2455786168575287, 0.4089786112308502, -0.1014547124505043, -0.5305987000465393, -0.3002851903438568, -0.059395160526037216, 0.871047854423523, -0.09480754286050797, 0.1197485625743866, -0.5987950563430786, 0.8272440433502197, -0.9551699757575989, -0.24169401824474335, -0.45874759554862976, -0.38916072249412537, 0.30079567432403564, -0.06766447424888611, -0.05960390716791153, 0.38414105772972107, 0.18011124432086945, 0.36077165603637695, 0.23308223485946655, -0.3892208933830261, -0.9360716342926025, 0.3900943398475647, 0.5687101483345032, -0.529249370098114, -0.05594992637634277, 0.16961753368377686, -0.2598445415496826, -0.44172802567481995, 0.07436823099851608, 0.05451621860265732, 0.7427425980567932, -0.13651341199874878, -0.5626574754714966, -0.061471208930015564, 0.41013315320014954, 0.1879732757806778, 0.7334685325622559, 0.48405829071998596, 0.2974451780319214, -0.060787662863731384, -0.32003018260002136, -0.1682654470205307, 0.2118174284696579, 0.33096858859062195, -0.450397789478302, 0.00033595040440559387, 0.4733361601829529, -0.18978771567344666, 0.24500665068626404, -0.20769572257995605, 0.11773297190666199, 0.14873239398002625, -0.43286916613578796, -0.6150556802749634, 0.04131573438644409, 0.4411071240901947, 0.10142306238412857, 0.3673914074897766, 0.33466970920562744, 0.22716155648231506, 0.6796135306358337, -0.2023577094078064, 0.07607250660657883, -0.34105047583580017, -0.2398185133934021, -0.6132663488388062, -0.36654922366142273, 0.08862250298261642, 0.12924593687057495, 0.5043178200721741, -0.06902646273374557, 0.12245436012744904, -0.6076048612594604, -0.12896130979061127, 0.31778910756111145, -0.38721007108688354, -0.1184476763010025, 0.8375170230865479, -0.29018816351890564, -0.9084680080413818, 0.0050949230790138245, -0.06401651352643967, 0.16757726669311523, 0.11830051243305206, -0.5027004480361938, 0.30401089787483215, 0.3009868562221527, -0.665032148361206, 0.10721589624881744, 0.55155348777771, -0.06650182604789734, -0.07900708168745041, -0.5257756114006042, 0.05559355020523071, -0.31546711921691895, -0.24803049862384796, 0.5601329207420349, -0.17656315863132477, -0.4073822498321533, -0.2575538158416748, 0.2558152973651886, -0.2655184864997864, 0.6638979315757751, -0.3318619430065155, 0.14514467120170593, 0.027714580297470093, -0.1911347210407257, -0.17293037474155426, -0.7369176149368286, 0.41182637214660645, -0.26122215390205383, 0.12222909927368164, -0.1982111632823944, 0.5925332903862, -0.12556661665439606, -0.0844338983297348, -0.2441396415233612, 0.24235552549362183, 0.04997602477669716, -0.8227630257606506, 0.25063470005989075, -0.7115713357925415, -0.03623051568865776, 0.3454199433326721, 0.6625128388404846, -0.3706003427505493, 0.22684550285339355, -0.14842726290225983, -0.3289288878440857, 0.2639656066894531, 0.09764820337295532, 0.6086519956588745, -0.07445690780878067, -0.3629249036312103, -0.2713456153869629, -0.3817955553531647, -0.5297406911849976, -0.5131616592407227, -0.05112861096858978, 0.13749751448631287, -0.010499291121959686, -0.30536943674087524, 0.8986954092979431, 0.013604499399662018, 0.08450713008642197, 0.1310945749282837, 0.4795761704444885, -0.5821084976196289, 0.36039993166923523, 0.17626896500587463, 0.1603943556547165, 0.13812825083732605, -0.3381963074207306, 0.3621543347835541, -0.450155645608902, 0.4682020843029022, 0.09642861783504486, -0.09410333633422852, 0.44583767652511597, -0.43979597091674805, -0.17619293928146362, 0.27393966913223267, -0.048839814960956573, -0.4897949695587158, 0.5245158672332764, 0.043672237545251846, -0.39696329832077026, 0.4169918894767761, 0.2673807144165039, 0.17465879023075104, 0.07889167219400406, 0.4776201844215393, 0.11507701873779297, -0.4812121093273163, -0.06809729337692261, -0.04841933399438858, 0.2232542335987091, 0.16015690565109253, 0.0845487117767334, -0.0011016149073839188, 0.44329601526260376, 0.14310204982757568, 0.016795583069324493, 0.12234577536582947, -0.18122926354408264, -0.30790984630584717, 0.14971719682216644, -0.21984818577766418, -0.5771579146385193, 0.08320575952529907, -0.0399797223508358, -0.12733712792396545, 0.05885583907365799, 0.2538534700870514, 0.1548115462064743, -0.3989080786705017, 0.4114290475845337, 0.021982818841934204, 0.18155688047409058, -0.36432725191116333, -0.2366032898426056, -0.643845796585083, 0.131061851978302, -0.362440288066864, 0.2748139500617981, -0.5353101491928101, 0.20550918579101562, 0.10948573052883148, 0.5232912302017212, 0.7352790236473083, 0.36365389823913574, 0.37390854954719543, -0.03432425111532211, -0.24855086207389832, 0.09620445966720581, 0.14042255282402039, -0.3208846151828766, -0.09539774805307388, -0.008151151239871979, -0.1457166075706482, -0.08219432830810547, 0.08048323541879654, -0.15254023671150208, 0.32943782210350037, 0.9168616533279419, -0.19901010394096375, -0.29944247007369995, 0.04383806884288788, -0.2563328444957733, 0.20616093277931213, 0.04960557818412781, -0.29385364055633545, -0.4009372591972351, 0.11093148589134216, 0.09308859705924988, 0.10604317486286163, -0.007985306903719902, 0.32581597566604614, -0.46341472864151, 0.06009110435843468, 0.5307115912437439, 0.18973973393440247, 0.33129802346229553, 0.12760668992996216, -0.5121766328811646, 0.31646713614463806, -0.21123924851417542, 0.34127500653266907, -0.10431946814060211, -0.16039374470710754, 0.2048206925392151, -0.039244215935468674, -0.26410648226737976, -0.2730564475059509, -0.05151064693927765, 0.0835188552737236, -0.19721080362796783, 0.5307374596595764, 0.4634118974208832, -0.5015968084335327, 0.7367498278617859, 0.06452430784702301, 0.047287944704294205, -0.5850098729133606, 0.41948777437210083, 0.2035728543996811, -0.5750139951705933, 0.30877503752708435, 0.11239059269428253, 0.2307250201702118, -0.05145325884222984, -0.025583527982234955, -0.05126562342047691, 0.010128457099199295, -0.5415843725204468, 0.13945703208446503, 0.14895619451999664, -0.3398248255252838, 0.28522270917892456, -0.029187584295868874, -0.3100869953632355, -0.5598621368408203, 0.2739082872867584, 0.2793040871620178, 0.539311408996582, -0.4591515064239502, -0.12803374230861664, 0.40820273756980896, 0.4612746834754944, -0.18782298266887665, -0.19991636276245117, 0.22922518849372864, -0.2561807334423065, 0.21367008984088898, 0.8945695161819458, 0.02157915011048317, 0.15492844581604004, -0.5814710855484009, -0.7744506597518921, 0.5570762753486633, 0.19569247961044312, 0.3796755373477936, 0.2721787691116333, 0.2715854346752167, 0.15378150343894958, 0.2934040129184723, 0.2316390573978424, -0.4039565622806549, 0.15901416540145874, -0.7878912091255188, 0.013050791807472706, -0.41695061326026917, 0.008331548422574997, -0.19698387384414673, -0.11856309324502945, -0.12738971412181854, 0.2657119631767273, -0.22378888726234436, -0.33216625452041626, -0.4337957203388214, 0.08886188268661499, -0.055674389004707336, 0.16353535652160645, 0.3032069802284241, -0.19052430987358093, -0.9893769025802612, -0.15309567749500275, 0.40402621030807495, -0.4360467791557312, 0.23366516828536987, -0.5637724995613098, -0.11904285848140717, 0.39151468873023987, 0.5919243693351746, 0.33633795380592346, 0.06388655304908752, -0.08010635524988174, 0.7222572565078735, -0.40784814953804016, -0.39546847343444824, 0.3606373071670532, 0.24798914790153503, 0.35323387384414673, 0.6862947344779968, 0.1032063364982605, -0.2069782167673111, 0.11697488278150558, -0.1893565058708191, 0.0815945491194725, -0.1497277468442917, -0.23967759311199188, -0.12599916756153107, -0.16038566827774048, -0.04927661642432213, 0.7605155110359192, 0.31746092438697815, -0.21151861548423767, -0.0658518448472023, -0.35214853286743164, 0.2636092007160187, -0.2500585913658142, 0.309175968170166, -0.01487993635237217, 0.545622706413269, -0.948310911655426, -0.14607934653759003, 0.05139070376753807, 0.11347614228725433, -0.07025954127311707, -0.4634127914905548, -0.8723312616348267, -0.6069110631942749, -0.33691924810409546, 0.3574675917625427, 0.5712382793426514, 0.27099522948265076, -0.1671939641237259, 0.07293704897165298, 0.1445491909980774, -0.1933932900428772, 0.385899156332016, -0.5799559354782104, -0.37697577476501465, 0.0380210280418396, 0.1657232940196991, -0.07230666279792786, 0.1273898482322693, -0.06513147056102753, 0.25974220037460327, -0.05353264510631561, 0.36357641220092773, -0.19507309794425964, -0.08123349398374557, 0.6822183132171631, -0.7260228991508484, 0.6252458095550537, 0.6508884429931641, 0.1752508580684662, -0.18174046277999878, 0.7182517051696777, 0.004749767482280731, 0.40391746163368225, -0.23916058242321014, 0.1672612726688385, 0.5680826306343079, -0.3417397141456604, -0.5446969270706177, 0.0750170424580574, -0.15047501027584076, 0.35862234234809875, -0.2279053032398224, -0.31234875321388245, 0.09713022410869598, 0.046047404408454895, 0.025808922946453094, -0.09621822088956833, -0.17580951750278473, -0.14598803222179413, -0.05558958649635315, 0.17526164650917053, -0.15883755683898926, -0.34482109546661377, 0.20236298441886902, -0.11200131475925446, 0.23139208555221558, -0.10076513886451721, -0.20153695344924927, -8.632612228393555, 0.39723026752471924, 0.022948481142520905, 0.027825888246297836, -0.24308103322982788, 0.17131930589675903, 0.18695005774497986, 0.5450649857521057, -0.5029392242431641, -0.23268605768680573, 0.6270901560783386, 0.5734466910362244, 0.26861491799354553, -0.10372938215732574, -0.04627836123108864, -0.36580589413642883, 0.021803826093673706, -0.06938524544239044, -0.2694628834724426, 0.1190902516245842, 0.6865010857582092, 0.5239899158477783, 0.12212865054607391, 0.709588348865509, 0.7534929513931274, 0.24234342575073242, 0.2702275514602661, -0.02373010665178299, 0.1806946098804474, 0.0011549722403287888, -0.048135410994291306, 0.15996591746807098, -0.4761889576911926, -0.08486100286245346, -0.1994042843580246, 0.07114855200052261, 0.19292142987251282, -0.2644544243812561, 0.6939991116523743, -0.687049925327301, 0.049770887941122055, -0.010947093367576599, -0.3097406029701233, -0.3850564658641815, 0.4855397641658783, 0.07297660410404205, -0.3513886630535126, 0.26631656289100647, -0.8126983642578125, 0.016636092215776443, 0.40075960755348206, 0.2816947400569916, 0.07359680533409119, 0.4672580063343048, -0.1741679310798645, 0.11376703530550003, -0.014479231089353561, 0.13926295936107635, 0.4371281862258911, 0.12073343992233276, -0.06042851507663727, -0.36328163743019104, 0.12728512287139893, -0.12433765828609467, 0.06236473470926285, 0.5753517150878906, -0.028616834431886673, -0.17061728239059448, -0.07417016476392746, 0.2803603708744049, -0.12210249900817871, -0.09102039784193039, 0.0005684942007064819, -0.34495893120765686, -0.6662858724594116, -0.3936399817466736, 0.2646704912185669, 0.4635116457939148, 0.34345462918281555, 0.05631779879331589, -0.36156317591667175, 0.35856980085372925, -0.23323559761047363, -0.2513936460018158, -0.13450153172016144, 0.08272244036197662, -0.06622254103422165, 0.2296375036239624, 0.31812572479248047, 0.016616540029644966, 0.2722945809364319, -0.018980223685503006, -0.0633564367890358, 0.49253758788108826, 0.3152557611465454, 0.1345100998878479, 0.23436720669269562, 0.108012855052948, -0.22333672642707825, -0.06974408030509949, -0.2350625991821289, -0.017823971807956696, -0.2934857904911041, -0.040796659886837006, -0.0745135247707367, -0.2587381601333618, -0.20473070442676544, -0.21635949611663818, 0.06597723066806793, 0.24489319324493408, 0.38953933119773865, 0.3008309304714203, 0.2530340552330017, 0.16881181299686432, 0.5386483073234558, 0.2919425666332245, 0.3706168234348297, -0.4677117168903351, -0.3038578927516937, 0.5291129350662231, -0.32382357120513916, 0.10190144181251526, 0.1942758858203888, -0.14471659064292908, -0.3226494789123535, -0.24138090014457703, -0.09153519570827484, -0.16590231657028198, -0.016419468447566032, 0.17755556106567383, 0.4296972453594208, 0.14136384427547455, -0.2922155559062958, 0.31859642267227173, -0.39460834860801697, 0.26499196887016296, -0.20877347886562347, -0.09856133908033371, -0.2188153713941574, -0.40678614377975464, -0.3733581006526947, -0.14416202902793884, 0.8231528401374817, -0.025538370013237, 0.37315109372138977, 0.037842996418476105, -0.09784937649965286, -0.3972833752632141, 0.45084357261657715, -0.07054276764392853, -0.22397732734680176, -0.3559727668762207, 0.3560633361339569, 0.16886937618255615, 0.1286536306142807, -0.13758069276809692, -0.046509161591529846, -0.28409695625305176, -0.4443574547767639, 0.038607966154813766, -0.0719938799738884, -0.29888033866882324, 0.553840160369873, -0.17051129043102264, 0.47576844692230225, 0.03705393522977829, -0.3495628833770752, -0.6819285154342651, 0.24842946231365204, -0.07873792201280594, -0.07055769860744476, -0.11679182201623917, 0.23200853168964386, 0.6049155592918396, 0.09405936300754547, -0.3566862642765045, -0.2357226461172104, -0.1001727283000946, 0.8498965501785278, -0.30474603176116943, 0.5007315278053284, 0.20294275879859924, -0.5684839487075806, -0.3112375736236572, -0.5115618705749512, 0.22873841226100922, 0.24084314703941345, -0.6049665212631226, 0.2123992145061493, 0.34368896484375, 0.4990989863872528, 0.3925827145576477, 0.08222965896129608, 0.383858323097229, -0.1760312169790268, -0.28323861956596375, -0.23402686417102814, 0.020609356462955475, 0.3622288703918457, 0.2038635015487671, -0.018686357885599136, 0.024280130863189697, 0.6061596870422363, -0.0944543108344078, -0.6815438270568848, -0.1757863461971283, 0.024186447262763977, 0.4148237407207489, 0.4720073640346527, -0.052662432193756104, -0.053775083273649216], [0.33968469500541687, -0.038054801523685455, -0.01913938671350479, 0.06792828440666199, 0.33913928270339966, -0.21111945807933807, -0.17572258412837982, 0.12200884521007538, -0.057986386120319366, 0.049105748534202576, 0.02676239050924778, 0.055315952748060226, -0.13286805152893066, 0.2992810308933258, -0.7156616449356079, -0.31548750400543213, -0.03609918802976608, -0.1859106868505478, 0.1731017529964447, -0.23684018850326538, -0.1894305795431137, -0.6148513555526733, -0.3294677734375, -0.20504429936408997, -0.13943415880203247, 0.16410306096076965, 0.3213198184967041, 0.7941765189170837, 0.0936661958694458, 0.13732244074344635, -0.22481590509414673, 0.17609083652496338, 0.21789774298667908, 0.06022851914167404, 0.44920602440834045, -0.05352252721786499, -0.044040583074092865, -0.012841500341892242, -0.1206304058432579, 0.26373758912086487, 0.9018928408622742, 0.08322084695100784, -0.29322054982185364, 0.3593466579914093, 0.0013464316725730896, -0.0858117863535881, 0.187503844499588, -0.08360084891319275, -0.407937228679657, -0.01067354530096054, 0.5252236723899841, 0.017931126058101654, 0.05352631211280823, -0.10640639066696167, 0.029783552512526512, -0.25116080045700073, -0.17341677844524384, 0.04579351469874382, -0.23576444387435913, 0.3645976185798645, -0.07392462342977524, 0.23749980330467224, 0.02232932485640049, 0.8096154928207397, -0.0035338997840881348, -0.07318854331970215, 0.0023835599422454834, -0.15368863940238953, 0.16685551404953003, -0.06735534965991974, -0.5781926512718201, 0.16601116955280304, 0.23178532719612122, -0.4266001582145691, -0.16541346907615662, -0.16937802731990814, -0.03328695893287659, 0.2553181052207947, 0.14376191794872284, 0.23146411776542664, 0.577495276927948, 0.29105207324028015, 0.0780966728925705, 0.43322083353996277, -0.0150093212723732, -0.14270611107349396, 0.05020729452371597, 0.3569577634334564, -0.0023473240435123444, 0.12009231746196747, -0.2919706404209137, -0.04907870665192604, 0.3250582814216614, -0.02810988388955593, 0.33042845129966736, 0.36542823910713196, -0.45722657442092896, 0.3372584879398346, -0.28697532415390015, 0.11580006033182144, 0.09330825507640839, -0.2430485337972641, 0.047517381608486176, -0.443149209022522, 0.03253813087940216, 0.2548060715198517, -0.12564602494239807, -0.4659537076950073, -0.04833890497684479, 0.5428686738014221, 0.025056544691324234, -0.06420811265707016, 0.24032244086265564, -0.13828144967556, 0.23253725469112396, -0.06204114481806755, 0.09055598825216293, -0.22233876585960388, 0.4166964292526245, 0.0034521035850048065, 0.5034510493278503, 0.040433369576931, -0.07465900480747223, 0.18895654380321503, -0.0831390842795372, 0.18107086420059204, -0.05684176832437515, 0.10168130695819855, 0.4793926179409027, 0.18209417164325714, -0.5044084787368774, 0.1658705472946167, 0.0213802307844162, 0.19239264726638794, -0.01842322200536728, 0.3414321541786194, -0.5505747199058533, 0.3790561854839325, -1.3066253662109375, 0.05941981077194214, -0.37861964106559753, -0.0585947185754776, 0.3859742283821106, -0.052811168134212494, -0.17229020595550537, 0.11704187095165253, -0.12794214487075806, 0.2069476991891861, 0.242210254073143, -0.06605006754398346, -0.5679479241371155, -0.10293255746364594, 0.3830637037754059, -0.8561143279075623, 0.07371294498443604, 0.07643438130617142, -0.39546436071395874, -0.2210681140422821, 0.23938491940498352, -0.20494478940963745, 0.4201259911060333, -0.3645715117454529, -0.5548312664031982, -0.1468602418899536, 0.047780998051166534, -0.015529964119195938, 0.49881958961486816, 0.4427138566970825, 0.21777291595935822, 0.4053924083709717, -0.1678595095872879, -0.264170378446579, 0.33636873960494995, 0.08633751422166824, -0.42264285683631897, -0.31682702898979187, 0.5464037656784058, 0.029449462890625, 0.4055854082107544, -0.09608697891235352, 0.004002966918051243, -0.5817972421646118, -0.3969559967517853, -0.2394210696220398, 0.07858675718307495, 0.11913280934095383, -0.0508757121860981, 0.36831438541412354, -0.07570352405309677, 0.42123496532440186, 0.4939812421798706, -0.20561300218105316, -0.1779112070798874, -0.15388533473014832, -0.31108278036117554, -0.5939528942108154, -0.17066071927547455, 0.17156055569648743, -0.07668009400367737, 0.0004834271967411041, -0.37110456824302673, 0.03770918399095535, -0.09258855879306793, -0.005914273671805859, -0.0860971212387085, -0.032380446791648865, -0.2754209041595459, 0.8694865703582764, -0.33358871936798096, -0.21866202354431152, 0.040210481733083725, -0.3090094327926636, -0.04817509651184082, -0.2756023406982422, -0.4269787073135376, -0.1827034056186676, -0.12652476131916046, -0.6637669801712036, -0.07584704458713531, 0.35716482996940613, 0.029874535277485847, -0.26208627223968506, -0.3629477620124817, 0.11706453561782837, 0.07383215427398682, 0.3908099830150604, 0.28208115696907043, 0.20676136016845703, 0.15447048842906952, -0.18454886972904205, -0.07590466737747192, 0.1823451668024063, 0.4545033276081085, -0.07130464911460876, -0.34553828835487366, -0.45775672793388367, -0.32059788703918457, -0.1368516981601715, -0.2764351963996887, 0.5886492729187012, -0.08406385779380798, -0.16448456048965454, -0.19481465220451355, 0.2890525162220001, -0.041504740715026855, 0.2981632947921753, -0.27441203594207764, 0.08519469201564789, -0.14010997116565704, -0.9690768122673035, -0.22538061439990997, -0.21181833744049072, 0.06789327412843704, 0.3839343786239624, 0.0936054065823555, -0.17531998455524445, 0.23997096717357635, -0.06581372022628784, 0.1529180109500885, 0.5361158847808838, 0.03709510713815689, 0.11824531853199005, -0.18014061450958252, -0.398334264755249, -0.3722728192806244, -0.45353183150291443, -0.04883312061429024, -0.8027214407920837, -0.1862415075302124, 0.1543966829776764, -0.32457098364830017, 0.11612121015787125, 0.3878292143344879, 0.31140732765197754, 0.3193584382534027, 0.07234787940979004, 0.34831151366233826, -0.28096696734428406, 0.5971637964248657, -0.1579178124666214, 0.05588441714644432, 0.23838122189044952, 0.005328197032213211, 0.2639167010784149, -0.6125940084457397, 0.3701477646827698, 0.20188680291175842, 0.10071548819541931, 0.03522162139415741, -0.1465284526348114, -0.4816431999206543, -0.1416504830121994, -0.19172072410583496, 0.08669175207614899, 0.2228003442287445, -0.2395600974559784, -0.27438655495643616, 0.022329851984977722, -0.2878367602825165, 0.4304519295692444, 0.13322220742702484, 0.10404088348150253, 0.33985280990600586, -0.0543561726808548, -0.3934575319290161, 0.15364950895309448, 0.155852273106575, 0.1002618744969368, -0.020548082888126373, -0.010267706587910652, 0.6349913477897644, -0.007747405208647251, -0.1777653992176056, 0.06983985006809235, -0.07601526379585266, 0.5824539661407471, -0.18859633803367615, -0.21475854516029358, -0.11271513253450394, 0.2298884093761444, 0.22054769098758698, -0.4169546067714691, 0.23720750212669373, 0.7698234915733337, 0.18428586423397064, 0.21907082200050354, 0.24158240854740143, -0.09914836287498474, 0.3492513597011566, -0.38683995604515076, 0.059073299169540405, -0.46320223808288574, 0.2442854940891266, -0.20172809064388275, 0.32046547532081604, -0.023577632382512093, 0.24475476145744324, -0.038436755537986755, 0.017866067588329315, 1.0587660074234009, 0.1866186559200287, 0.33125531673431396, 0.11762848496437073, -0.40579068660736084, 0.10992918908596039, 0.1962176114320755, -0.021595381200313568, -0.013711806386709213, -0.20062538981437683, 0.12210696190595627, 0.05859752744436264, -0.006907682865858078, -0.18386918306350708, 0.13853052258491516, 0.15153369307518005, 0.1047365739941597, -0.2043565809726715, -0.15541085600852966, -0.17676760256290436, 0.2653176486492157, -0.017249934375286102, -0.26331645250320435, -0.1147581934928894, 0.025723837316036224, 0.15480458736419678, -0.07206980139017105, -0.10789836198091507, 0.7121308445930481, 0.0628005638718605, -0.12935777008533478, 0.5505635738372803, -0.12859031558036804, 0.12606410682201385, 0.44745415449142456, -0.3592584431171417, 0.013853800483047962, -0.2961376905441284, 0.1963329166173935, -0.13202384114265442, -0.4426705837249756, 0.19753476977348328, 0.1516134887933731, -0.49287518858909607, -0.07639303803443909, 0.0776291936635971, 0.20861290395259857, -0.36086493730545044, 0.3550143837928772, 0.3845573365688324, 0.20882703363895416, 0.26117974519729614, -0.08406133949756622, 0.2028985470533371, -0.37756243348121643, 0.07268048077821732, -0.04261178523302078, -0.6549588441848755, -0.03016846626996994, 0.2097492665052414, 0.2433057725429535, -0.325183242559433, 0.13750819861888885, -0.18704438209533691, 0.2893754541873932, -0.3872547447681427, -0.026092886924743652, -0.2717503607273102, -0.07591331005096436, 0.19881629943847656, -0.15089799463748932, -0.09630902111530304, -0.5229339599609375, 0.2707701027393341, -0.6755081415176392, 0.16998958587646484, -0.6933586001396179, -0.24037691950798035, 0.04302452877163887, 0.45709043741226196, -0.21936219930648804, -0.2373236119747162, 0.900032639503479, 0.2319069504737854, 0.38871824741363525, 0.4053195118904114, 0.031130559742450714, -0.13484084606170654, -0.23942779004573822, -0.6795269846916199, 0.10691658407449722, 0.2685331106185913, 0.34459179639816284, 0.048962973058223724, 0.2608930766582489, 0.0612788200378418, -0.13417930901050568, 0.11749912798404694, -0.005125269293785095, 0.4920177161693573, -0.8578382730484009, 0.19981558620929718, -0.34019556641578674, 0.2588789463043213, -0.35402432084083557, -0.23384203016757965, 0.316262811422348, 0.3630962371826172, -0.25411808490753174, 0.22629179060459137, -0.7205439209938049, -0.03823656216263771, -0.17333325743675232, 0.008393717929720879, 0.45592886209487915, -0.1270100474357605, -0.7147315144538879, -0.16340593993663788, 0.12153317779302597, -0.026980344206094742, 0.2329166829586029, -0.6845414638519287, -0.06886251270771027, 0.23542046546936035, 0.48270946741104126, 0.5969367027282715, 0.10922014713287354, -0.32651838660240173, 0.6025382876396179, -0.49443572759628296, -0.35741251707077026, -0.09149292856454849, 0.09411796927452087, 0.5573835372924805, 0.4086257517337799, 0.6693495512008667, -0.01650482788681984, 0.06436366587877274, 0.17572174966335297, 0.10620059818029404, 0.2102687507867813, -0.4016694724559784, 0.04669669270515442, -0.2562025785446167, 0.30242934823036194, 0.4178078770637512, 0.16724950075149536, 0.08801276981830597, -0.006451549008488655, 0.02868388593196869, 0.4976264536380768, -0.32672691345214844, 0.042158253490924835, -0.2068287432193756, 0.4522145390510559, -0.3414430618286133, -0.13808506727218628, -0.12461765110492706, 0.25941744446754456, -0.06827302277088165, -0.4143426716327667, -0.9292768836021423, -0.4325728118419647, 0.005189515650272369, 0.2512662410736084, 0.36798059940338135, 0.4536654055118561, -0.5834941864013672, 0.051015451550483704, -0.11471264809370041, -0.4514193832874298, -0.04878371208906174, -0.25640344619750977, -0.2533656358718872, 0.24656780064105988, 0.11464328318834305, -0.04992220178246498, 0.3425554037094116, 0.18897134065628052, 0.0966319590806961, -0.2687777280807495, 0.2032618671655655, -0.2691522538661957, -0.32691243290901184, 0.35016676783561707, -0.5190102458000183, 0.2944587171077728, 1.1080299615859985, 0.42330223321914673, -0.25764212012290955, 0.4613398015499115, 0.24500668048858643, 0.29333025217056274, 0.31757354736328125, -0.15338420867919922, 0.674625813961029, 0.006161663681268692, -0.019058261066675186, 0.14532405138015747, 0.09763482213020325, 0.10541848093271255, 0.06839914619922638, -0.482342392206192, 0.34495776891708374, 0.13113458454608917, -0.22794204950332642, 0.24570101499557495, -0.27381449937820435, 0.0035894792526960373, 0.002948448061943054, -0.017464958131313324, 0.23581236600875854, -0.4789887070655823, 0.2217543125152588, 0.2242479771375656, 0.006995553150773048, -0.41728657484054565, -0.08015446364879608, -8.860600471496582, 0.2856850028038025, -0.17647559940814972, 0.24685105681419373, -0.056665170937776566, -0.052621081471443176, -0.1137780100107193, -0.09625722467899323, -0.07382141798734665, -0.23029468953609467, 0.3201140761375427, 0.18570692837238312, 0.6527218222618103, -0.36287984251976013, 0.02981598861515522, -0.2763594388961792, 0.025053128600120544, 0.01631603017449379, -0.6391695737838745, -0.0841391384601593, 0.2140914797782898, 0.5456488132476807, 0.002825014293193817, 0.6995939016342163, 0.7646263241767883, 0.11862348765134811, 0.2749285399913788, -0.2935780882835388, 0.08958185464143753, -0.2524263858795166, -0.059417132288217545, 0.1770537942647934, -0.4209252893924713, -0.4073668122291565, -0.1681363880634308, 0.22129899263381958, -0.028244540095329285, -0.08187317848205566, 0.8247658014297485, -0.7723333835601807, -0.09423858672380447, -0.24033932387828827, -0.1371265947818756, -0.4055306613445282, 0.26194247603416443, 0.1500813066959381, -0.023824680596590042, 0.5129762291908264, -0.34435057640075684, 0.010329222306609154, 0.4337896406650543, 0.054855987429618835, -0.04639900475740433, 0.18404772877693176, -0.3011806011199951, -0.15222248435020447, -0.03268221765756607, 0.12160679697990417, 0.06278706341981888, -0.22814306616783142, 0.34630918502807617, -0.09397856146097183, 0.16428163647651672, -0.07051490247249603, -0.01595974527299404, 0.14617964625358582, -0.32404834032058716, -0.171282559633255, 0.27920496463775635, 0.6370334625244141, 0.11362448334693909, -0.43676283955574036, 0.3100537061691284, -0.36607787013053894, -0.23986440896987915, -0.30834969878196716, 0.0611722394824028, 0.12278448045253754, -0.10607839375734329, 0.07168643921613693, -0.8475634455680847, 0.5554154515266418, 0.14378957450389862, -0.5929624438285828, -0.011267328634858131, -0.08380668610334396, -0.13293921947479248, 0.28587082028388977, 0.2649802267551422, -0.025730490684509277, 0.051444925367832184, -0.010339882224798203, 0.04877181351184845, 0.045529887080192566, -0.13012129068374634, 0.25620558857917786, 0.07202979922294617, -0.069230817258358, -0.02680373191833496, 0.2811368703842163, -0.5618110299110413, 0.2543026804924011, 0.18109574913978577, 0.156451016664505, -0.14483672380447388, -0.3327048122882843, 0.07740345597267151, -0.22594991326332092, -0.2022741436958313, 0.1657940000295639, 0.3589406907558441, 0.3614020049571991, 0.6304442882537842, -0.22295165061950684, 0.37824833393096924, 0.1832365095615387, 0.32997679710388184, -0.20750203728675842, 0.31068938970565796, 0.48873570561408997, 0.07625105232000351, -0.1862163245677948, 0.009557850658893585, -0.3226909041404724, -0.20996351540088654, -0.047419048845767975, -0.25776004791259766, 0.0012588482350111008, 0.21380622684955597, -0.09273950755596161, 0.2780090272426605, -0.13183224201202393, -0.574213981628418, 0.2663777470588684, -0.3812020421028137, 0.545492947101593, -0.24471281468868256, 0.23834064602851868, -0.38185080885887146, -0.5009742975234985, -0.8225723505020142, 0.11588387191295624, 0.6699065566062927, 0.10971779376268387, 0.30286961793899536, -0.09675302356481552, 0.20649360120296478, -0.6606454849243164, 0.1650453507900238, 0.11973100900650024, -0.3313119411468506, 0.1569918394088745, 0.3441873788833618, 0.10334203392267227, 0.09085985273122787, 0.13283273577690125, 0.17186154425144196, -0.41878819465637207, 0.14537805318832397, -0.19501353800296783, 0.04509773105382919, 0.008777689188718796, 0.33286046981811523, -0.21470165252685547, 0.23970000445842743, 0.25765877962112427, -0.07939142733812332, -0.2986452579498291, -0.10029037296772003, -0.37773120403289795, -0.14668439328670502, -0.14250993728637695, -0.21031370759010315, 0.2993900179862976, -0.234854057431221, -0.2645323872566223, 0.2943950891494751, 0.02678033709526062, 0.23632530868053436, -0.36617952585220337, 0.3541885018348694, 0.06242983788251877, -0.26317065954208374, -0.33744359016418457, -0.4158528447151184, 0.015028003603219986, 0.35655248165130615, -0.18568354845046997, 0.060416847467422485, 0.5487732887268066, 0.4662728011608124, 0.03977096080780029, 0.1485128402709961, 0.32196861505508423, -0.09697858989238739, 0.04894348606467247, -0.016871482133865356, 0.15311205387115479, 0.06138080358505249, -0.044637128710746765, 0.31185436248779297, -0.23393183946609497, 0.40920740365982056, -0.1682378351688385, -0.658228874206543, -0.16496065258979797, -0.23476667702198029, 0.5109800696372986, 0.3723911941051483, -0.05640055611729622, -0.17161308228969574], [0.012665441259741783, -0.03867662698030472, -0.21065478026866913, 0.22846701741218567, 0.2443542182445526, -0.20974449813365936, -0.11810222268104553, -0.20068661868572235, -0.07854267209768295, 0.21221354603767395, 0.33045968413352966, 0.7416202425956726, 0.19361162185668945, 0.3507384955883026, -0.2636037766933441, -0.4677535891532898, -0.29105669260025024, -0.5253797769546509, 0.17655479907989502, -0.3042899966239929, -0.1602257490158081, -0.5922594666481018, 0.0034166499972343445, -0.23079490661621094, 0.2209012508392334, -0.07868178188800812, 0.1482759267091751, 0.3107043504714966, 0.22101834416389465, 0.864733874797821, 0.21413899958133698, -0.34352177381515503, 0.21573784947395325, 0.3228539526462555, 0.42461958527565, 0.10095784068107605, -0.027594469487667084, -0.11877049505710602, -0.20437470078468323, 0.3680333197116852, 0.3730396628379822, -0.05027981102466583, -0.2874264717102051, -0.01777462847530842, 0.01183374598622322, 0.04872438311576843, -0.039166610687971115, -0.43769434094429016, -0.6222200989723206, 0.06482638418674469, -0.014520221389830112, -0.07266196608543396, -0.14922508597373962, -0.4034806489944458, -0.1871131956577301, -0.3786337971687317, -0.4118684232234955, -0.09849784523248672, -0.23620513081550598, 0.4555566906929016, 0.19635090231895447, 0.14609961211681366, -0.4818122088909149, 0.6916606426239014, 0.26661956310272217, -0.21639657020568848, -0.05562468618154526, -0.3630261719226837, -0.19703754782676697, -0.3972740173339844, -0.3770339787006378, 0.42726588249206543, 0.5690855383872986, -0.2888854742050171, 0.0032397154718637466, -0.45574837923049927, 0.3841787576675415, 0.09533993899822235, 0.050338298082351685, 0.06790503114461899, 0.11839918792247772, 0.2399647831916809, 0.04459695518016815, 0.39933454990386963, -0.2241145670413971, 0.01358342170715332, -0.19853027164936066, 0.35192108154296875, 0.0492970272898674, 0.8050971031188965, -0.479764848947525, -0.041681189090013504, 0.42590799927711487, -0.19521084427833557, 0.21968379616737366, 0.17404446005821228, -0.5999624133110046, 0.40800562500953674, -0.11885598301887512, 0.11713550239801407, -0.11161249876022339, -0.578132152557373, 0.005752936005592346, -0.18163585662841797, -0.21221627295017242, 0.21635746955871582, 0.15222077071666718, -0.1584145724773407, -0.16046547889709473, 0.057770051062107086, -0.09198753535747528, 0.2819066643714905, 0.2830679416656494, -0.15064150094985962, 0.21572628617286682, 0.5764349102973938, -0.08626344054937363, -0.42075616121292114, 0.41341301798820496, 0.3447003960609436, 0.41949301958084106, -0.19412581622600555, 0.08144760131835938, 0.4607613682746887, 0.09370554983615875, 0.22373445332050323, -0.05594748258590698, 0.18658998608589172, 0.4143676161766052, 0.046065621078014374, -0.5888677835464478, 0.18309028446674347, 0.4142678380012512, 0.39928099513053894, -0.03670988976955414, 0.19226300716400146, -0.1947619616985321, 0.7496246695518494, -1.063663125038147, -0.3824554681777954, -0.3372074365615845, -0.5173752307891846, 0.41176697611808777, -0.12659066915512085, 0.0943734347820282, 0.07606666535139084, 0.12474258244037628, 0.524468719959259, 0.27122992277145386, -0.19645129144191742, -0.7549119591712952, -0.20373781025409698, 0.7854649424552917, -0.3349495530128479, -0.19490009546279907, -0.13361245393753052, -0.5476192831993103, -0.012998580932617188, 0.47559821605682373, -0.22788375616073608, 0.6918699145317078, -0.01124502718448639, -0.6957643032073975, 0.014921899884939194, 0.1443069875240326, 0.32301464676856995, 0.9428105354309082, 0.4998299181461334, 0.4263635277748108, -0.027417344972491264, -0.1918536275625229, -0.22657650709152222, 0.5439422726631165, -0.05756000801920891, 0.22845618426799774, -0.09797026216983795, 0.8597968816757202, -0.1549416333436966, -0.1075330451130867, -0.10131499171257019, -0.14042188227176666, -0.20714205503463745, -0.9910450577735901, -0.5967710018157959, -0.05163820832967758, 0.6304163932800293, -0.29687657952308655, 0.3523106575012207, 0.027521364390850067, 0.4645853042602539, 0.4008716344833374, -0.4204697012901306, -0.11106306314468384, -0.27185332775115967, -0.2808450162410736, -0.4674856662750244, -0.20704875886440277, 0.20769691467285156, 0.15170925855636597, -0.1638982594013214, -0.3523399233818054, -0.1866905838251114, 0.44637370109558105, -0.2424502819776535, 0.1517471969127655, -0.3866284489631653, -0.014703337103128433, 0.7431206107139587, -0.2859238088130951, 0.34839585423469543, -0.327595055103302, -0.10473774373531342, -0.0585169643163681, 0.34469884634017944, -0.3192300498485565, -0.06703414022922516, -0.003852643072605133, -0.6820645928382874, -0.21028992533683777, -0.03258756920695305, -0.06198577210307121, 0.005173251032829285, -0.000692073255777359, -0.013085657730698586, -0.05550502613186836, 0.35099101066589355, 0.1067483127117157, 0.19527360796928406, 0.34095945954322815, -0.1610785573720932, -0.4126301407814026, 0.04992280155420303, 0.1524062603712082, 0.02411136031150818, 0.037145137786865234, -0.33825623989105225, 0.19033196568489075, -0.31364285945892334, -0.1489151567220688, 0.5019358396530151, 0.06055055558681488, -0.10375762730836868, -0.29450613260269165, 0.40209197998046875, -0.16506563127040863, 0.2596864700317383, -0.1004563719034195, 0.39824172854423523, -0.5458877086639404, -1.189724087715149, -0.11251628398895264, -0.4382132291793823, 0.27244025468826294, 0.455877423286438, 1.089760661125183, -0.19896338880062103, 0.3513810336589813, 0.0826638787984848, 0.4795914590358734, 0.19926083087921143, 0.19817103445529938, 0.22115495800971985, -0.042310185730457306, 0.1289438009262085, -0.2100505381822586, -0.46045243740081787, 0.06714370846748352, -0.023943787440657616, -0.3697165250778198, -0.09001310169696808, -0.25196877121925354, -0.6723289489746094, 0.3528478443622589, 0.10592352598905563, 0.11527222394943237, 0.05198775976896286, 0.47822827100753784, -0.2663267254829407, 0.5892441272735596, -0.229753315448761, 0.11854362487792969, 0.23235860466957092, -0.2389744222164154, 0.13684120774269104, -1.1109282970428467, 0.42678749561309814, -0.30504873394966125, 0.28677740693092346, 0.0920921117067337, -0.2512177526950836, -0.12148734927177429, 0.12624701857566833, -0.3836682438850403, -0.2073061764240265, -0.15514104068279266, -0.3180076479911804, -0.10324867069721222, 0.45047661662101746, 0.11897829174995422, 0.44811761379241943, 0.1735893338918686, 0.0652996301651001, 0.3463761508464813, -0.21461701393127441, -0.20856231451034546, 0.0040597571060061455, 0.31859922409057617, 0.13750673830509186, 0.26958465576171875, 0.4200425148010254, 0.4301983416080475, -0.3082553744316101, -0.11379449814558029, 0.08657245337963104, -0.034524597227573395, 0.06097732484340668, -0.4743368923664093, -0.18741098046302795, -0.5955690145492554, 0.35892170667648315, 0.27562636137008667, -0.14611545205116272, -0.5704567432403564, 0.6705670356750488, 0.25173747539520264, -0.06536901742219925, 0.6356232166290283, -0.3789665102958679, 0.14887122809886932, -0.5479921102523804, -0.07635972648859024, -0.19705410301685333, 0.35448405146598816, -0.32715827226638794, 0.6532269716262817, 0.0874057412147522, 0.14167946577072144, -0.13134238123893738, 0.5797852277755737, 0.8800935745239258, 0.4654238522052765, 0.43047189712524414, -0.08237698674201965, -0.46956196427345276, -0.06219299137592316, 0.15345627069473267, -0.3812975287437439, -0.04369034618139267, -0.0013713352382183075, 0.11946536600589752, 0.19328120350837708, -0.09543398022651672, -0.019780948758125305, 0.26072147488594055, 0.5641851425170898, 0.002978600561618805, -0.40710774064064026, 0.3426801562309265, -0.20165233314037323, 0.01226319745182991, -0.06275202333927155, -0.5159357786178589, -0.24086670577526093, -0.5395171046257019, 0.1584784835577011, -0.3478451073169708, -0.3969348669052124, 0.0426679402589798, -0.5621662139892578, 0.031225722283124924, 0.6997800469398499, -0.1320996880531311, 0.4936090111732483, -0.015358984470367432, -0.21711112558841705, 0.09779848903417587, -0.1650865226984024, 0.1918678879737854, 0.3326316475868225, -0.5509154796600342, 0.3629441559314728, 0.4751565754413605, -0.384640097618103, 0.03218294680118561, -0.13297779858112335, -0.11581575870513916, -0.3095415234565735, 0.2405407875776291, 0.12152878195047379, 0.04742987081408501, 0.4363986551761627, -0.08502079546451569, 0.3262328505516052, -0.6360945701599121, 0.031209982931613922, 0.09179620444774628, -0.4498707056045532, -0.10464431345462799, 0.1340370774269104, 0.141027569770813, -0.4053237736225128, -0.029079444706439972, -0.10027912259101868, -0.6398870944976807, -0.4241752624511719, -0.12216179072856903, 0.09821970760822296, -0.38201481103897095, 0.49835601449012756, 0.19204117357730865, -0.32916948199272156, -0.5280749797821045, 0.2326067090034485, -0.5873927474021912, 0.03393971174955368, -0.4599185585975647, -0.031539931893348694, 0.03667773678898811, 0.10168057680130005, 0.2908765375614166, -0.6557542681694031, 0.8703190088272095, 0.1793687790632248, 0.1686014086008072, 0.6646550893783569, 0.04241953045129776, -0.15885061025619507, -0.3014768362045288, -0.6172956824302673, 0.23591983318328857, 0.17455929517745972, 0.15380388498306274, 0.05513434112071991, 0.06413212418556213, -0.3219284117221832, -0.08783417195081711, 0.5052260160446167, 0.2550666630268097, 0.4501296579837799, -1.0913140773773193, -0.10954074561595917, -0.5540887713432312, -0.12060263752937317, -0.11509139835834503, -0.16188640892505646, 0.17474474012851715, 0.5558081865310669, -0.34130850434303284, 0.2834737002849579, -0.5875041484832764, -0.12556129693984985, -0.14010047912597656, 0.30627763271331787, 0.6949763894081116, -0.14437831938266754, -0.8486879467964172, -0.3475261926651001, -0.06839131563901901, -0.3273664116859436, 0.2966501712799072, -0.5295954942703247, -0.0735199898481369, 0.3724121153354645, 0.1217552125453949, 0.4228006899356842, 0.4301334619522095, -0.2712278962135315, 0.6818569302558899, -0.20258504152297974, -0.27077582478523254, 0.0028697922825813293, -0.11070869863033295, 0.33721163868904114, 0.699354887008667, 0.8538262844085693, -0.42652827501296997, -0.1318872570991516, 0.23085235059261322, -0.11749748885631561, -0.08345291018486023, -0.568291425704956, 0.0055103786289691925, 0.18131764233112335, 0.48737412691116333, 0.952759861946106, 0.013635387644171715, 0.3085997402667999, -0.1809530109167099, 0.5217254161834717, 0.46261855959892273, -0.3323557674884796, 0.074064239859581, -0.26846933364868164, 0.4774499237537384, -0.6302460432052612, -0.3478396534919739, -0.22146663069725037, -0.09640289843082428, 0.0831504538655281, -0.7587718367576599, -1.3149795532226562, -0.036204613745212555, 0.02880120277404785, 0.08579130470752716, 0.30735769867897034, 0.647537350654602, -0.3302381634712219, 0.07805690914392471, 0.11117510497570038, -0.6571770906448364, 0.1315212994813919, -0.5168362855911255, -0.40891051292419434, 0.6202753782272339, 0.19990912079811096, 0.10945659875869751, -0.003033779561519623, 0.058864958584308624, 0.3927468955516815, 0.02364114671945572, 1.0527026653289795, -0.04721205309033394, -0.3153626620769501, 0.25708648562431335, -0.11626467108726501, 0.848753035068512, 0.18440638482570648, 0.25627315044403076, 0.16761863231658936, 0.928937554359436, 0.4550413489341736, 0.31152766942977905, 0.07945157587528229, 0.037708356976509094, 0.45100483298301697, -0.38495033979415894, -0.08502981811761856, -0.13572439551353455, -0.6747609972953796, 0.24908316135406494, -0.26634377241134644, 0.11572127044200897, 0.5132036805152893, 0.2631639540195465, -0.47342005372047424, -0.3457152843475342, -0.07106732577085495, 0.07991892099380493, -0.23509126901626587, -0.36439454555511475, -0.04433076083660126, -0.43154284358024597, -0.4442215859889984, -0.0977063924074173, 0.42374709248542786, -0.2020091414451599, -0.28040802478790283, -8.50994873046875, 0.4533027410507202, -0.32877516746520996, 0.016079556196928024, -0.06597720831632614, 0.2746048867702484, 0.02183636650443077, 0.1167118102312088, -0.692050039768219, -0.5958706736564636, 0.1550450325012207, 0.001719363033771515, 0.3421759307384491, -0.4151235520839691, -0.01864670217037201, 0.0012230649590492249, 0.09014561772346497, 0.32379987835884094, -0.0022945585660636425, 0.12563654780387878, 0.7178553938865662, 0.8270361423492432, 0.3147282004356384, 0.8234497308731079, 0.41689038276672363, 0.15849721431732178, -0.14311273396015167, -0.1119115799665451, 0.38619568943977356, -0.3280758857727051, 0.08322805166244507, 0.1718815118074417, -0.5274198651313782, -0.23441144824028015, -0.40262940526008606, -0.04669457674026489, 0.2432301938533783, -0.2419825941324234, 0.5685031414031982, -0.3948175311088562, -0.2148965746164322, 0.1481996327638626, 0.08109692484140396, -0.10431507974863052, 0.2273508459329605, 0.04604180157184601, 0.06053724139928818, 0.5147913694381714, -0.8539201617240906, 0.1276281177997589, 0.3686116337776184, 0.2805492877960205, 0.19540132582187653, 0.16751199960708618, -0.18018318712711334, -0.007783288136124611, -0.38526153564453125, 0.622636616230011, 0.2547464370727539, -0.3199341297149658, -0.11726834625005722, -0.7310479879379272, 0.2686865031719208, -0.3467426598072052, 0.03567051142454147, 0.23187227547168732, -0.04997049644589424, 0.07638173550367355, 0.6554485559463501, 0.0312053170055151, 0.1282469481229782, -0.22539007663726807, 0.3837287127971649, -0.19113466143608093, -0.2618872821331024, -0.7696822285652161, 0.01390928402543068, 0.029351823031902313, -0.2561672627925873, -0.6523751020431519, -0.05507630854845047, 0.46158742904663086, 0.015865247696638107, -0.6181442737579346, -0.24263107776641846, -0.5379987955093384, -0.07328467816114426, 0.2872307002544403, 0.23216256499290466, -0.014477070420980453, 0.11287438869476318, -0.47030776739120483, -0.1298762857913971, 0.1989005208015442, 0.30873024463653564, 0.19937804341316223, 0.11494232714176178, 0.17436684668064117, -0.2603624165058136, -0.06244225054979324, -0.30919086933135986, 0.5015994906425476, 0.013648655265569687, 0.37720268964767456, -0.9184978604316711, -0.15489140152931213, -0.33982738852500916, -0.15424132347106934, -0.0257132388651371, 0.06320954859256744, -0.04973140358924866, 0.5021929740905762, 0.45058953762054443, -0.5344915986061096, 0.4159787893295288, 0.14667657017707825, -0.053839508444070816, 0.18234851956367493, -0.16977493464946747, 0.38115590810775757, -0.18791861832141876, -0.10401993244886398, -0.0782923623919487, -0.16268974542617798, -0.6169965267181396, -0.28572630882263184, 0.23644934594631195, -0.2743992209434509, -0.015034276060760021, 0.26637738943099976, 0.17376860976219177, 0.1734205037355423, -0.6917710900306702, 0.398654580116272, -0.37439343333244324, 0.24481841921806335, 0.17613554000854492, 0.17836323380470276, 0.0871862918138504, -0.29947495460510254, -0.455044150352478, 0.14198166131973267, 0.887540340423584, 0.34486663341522217, 0.2668355107307434, 0.42366552352905273, -0.040903620421886444, -0.8909193873405457, 0.2672751247882843, -0.21567711234092712, -0.15951675176620483, 0.03819020092487335, 0.7484596967697144, -0.3645921051502228, 0.0801972821354866, -0.4452466666698456, -0.195580393075943, -0.10370219498872757, -0.37581196427345276, -0.031038574874401093, -0.12623855471611023, -0.01880893111228943, 0.6533531546592712, 0.038609474897384644, 0.628230631351471, 0.4837321639060974, -0.22726041078567505, 0.01161586306989193, 0.18998046219348907, 0.421414315700531, -0.13341796398162842, -0.08564545959234238, 0.18018105626106262, 0.19540999829769135, -0.07177404314279556, -0.26801761984825134, 0.3880716562271118, -0.5766482949256897, 0.9587733745574951, 0.05457557737827301, -0.022092163562774658, 0.05831579118967056, -0.35316818952560425, -0.6552655696868896, 0.07134458422660828, 0.5186196565628052, 0.25824448466300964, -0.3886009454727173, 0.3039199113845825, 0.37143057584762573, 0.12560755014419556, -0.21366488933563232, 0.14498522877693176, -0.08526819944381714, -0.2716187834739685, 0.22783967852592468, -0.3122240900993347, -0.01506134681403637, 0.29128676652908325, 0.09254308044910431, 0.08940690755844116, -0.12090986222028732, 0.18652667105197906, -0.4270095229148865, -0.3988215923309326, -0.2083718478679657, 0.09088582545518875, 0.5235143899917603, 0.6460532546043396, 0.31609076261520386, -0.14334997534751892], [0.3708844482898712, 0.10447302460670471, 0.04943698272109032, -0.17731508612632751, 0.24324384331703186, -0.08481597900390625, 0.056473806500434875, -0.23289084434509277, -0.40995877981185913, 0.05927691608667374, -0.11436209827661514, 0.5937070250511169, 0.32784828543663025, 0.22844499349594116, -0.1796855926513672, -0.07366061955690384, -0.0295094083994627, -0.20870135724544525, 0.37659895420074463, 0.13037662208080292, -0.16254296898841858, -0.10142138600349426, -0.17342263460159302, 0.06494271010160446, -0.14322012662887573, -0.7204619646072388, -0.6594939827919006, 0.5865563154220581, -0.30034855008125305, 0.010452255606651306, 0.12365975975990295, -0.33843305706977844, 0.15094439685344696, 0.11827804893255234, 0.04580070823431015, -0.20662498474121094, 0.021241195499897003, 0.32226210832595825, -0.049097105860710144, 0.26734545826911926, 0.19192591309547424, -0.06763945519924164, -0.09880517423152924, -0.7100434303283691, -0.2466057538986206, -0.22347405552864075, -0.18762832880020142, -0.17649425566196442, -0.33192357420921326, 0.5194172859191895, -0.47126856446266174, -0.4083330035209656, -0.22280456125736237, -0.33209678530693054, 0.3349166512489319, -0.15052638947963715, 0.18827985227108002, -0.33233192563056946, -0.012101735919713974, 0.5443034172058105, 0.12627041339874268, 0.06351543962955475, -0.1660040318965912, 0.5828795433044434, 0.003251679241657257, -0.09477850794792175, 0.06386078894138336, -0.21903900802135468, -0.449188768863678, -0.5490793585777283, -0.1929129660129547, 0.9226824045181274, -0.3325096070766449, -0.10000506043434143, -0.019067810848355293, -0.4540598392486572, 0.020918188616633415, 0.32973068952560425, 0.2343870997428894, 0.5314800143241882, 0.4178832769393921, 0.4353178143501282, 0.11703552305698395, 0.3668971061706543, 0.150242418050766, 0.36451077461242676, -0.7198484539985657, -0.006229212507605553, 0.0857107937335968, 0.7465320825576782, -0.06113904342055321, -0.03624218702316284, 0.10422852635383606, -0.5921494960784912, -0.010843440890312195, 0.034099772572517395, -0.2651616036891937, 0.2284107804298401, -0.42070820927619934, 0.12324176728725433, 0.13423298299312592, -0.15292875468730927, -0.2898099720478058, -0.3883887529373169, 0.38480713963508606, 0.033804770559072495, -0.6519349217414856, -0.3512883186340332, 0.13625864684581757, 0.259732186794281, 0.02423061430454254, 0.1336130052804947, 0.15676113963127136, -0.04562743380665779, 0.13752228021621704, 0.18335703015327454, -0.1783837080001831, -0.22380271553993225, 0.16242757439613342, 0.23301315307617188, 0.37354978919029236, 0.32313165068626404, 0.14873231947422028, -0.05004942789673805, 0.11685463041067123, 0.19210785627365112, -0.04597226530313492, -0.05276355892419815, 0.16085416078567505, 0.1290670931339264, -0.365179181098938, 0.21353211998939514, 0.5959843993186951, 0.2626301050186157, -0.23272374272346497, -0.24029356241226196, -0.23707866668701172, 0.5496057868003845, -1.1259846687316895, 0.28174668550491333, -0.2726166248321533, -0.354337602853775, 0.15926605463027954, -0.022635377943515778, -0.16574397683143616, 0.27296000719070435, 0.16460487246513367, 0.5074357986450195, 0.12390011548995972, -0.299344003200531, -0.4195939898490906, 0.12114192545413971, 0.6760751008987427, -0.286057710647583, 0.14001691341400146, 0.24639829993247986, -0.3152259290218353, 0.06579574942588806, 0.7344549298286438, 0.03270097076892853, 0.24222181737422943, 0.03999686241149902, -0.4295991063117981, 0.03078244999051094, 0.32559341192245483, 0.626750648021698, 0.578345775604248, 0.1451898217201233, 0.41902273893356323, -0.29522767663002014, -0.24787747859954834, 0.016315320506691933, -0.03663710504770279, 0.4896790683269501, -0.3028557300567627, 0.05111999437212944, 0.7265470623970032, 0.0071478113532066345, 0.3777618110179901, 0.07591366767883301, -0.3727160096168518, -0.3239779770374298, -0.48266732692718506, -0.5294420123100281, 0.17151817679405212, 0.2778831720352173, -0.19319143891334534, -0.32950320839881897, 0.294538676738739, 0.06348145753145218, 0.2701400816440582, -0.3653182089328766, -0.3851172626018524, 0.05429339036345482, -0.5998162031173706, -0.10651730746030807, -0.20578260719776154, -0.11020063608884811, 0.49915510416030884, 0.1357782781124115, -0.6827345490455627, 0.18352170288562775, -0.04088392108678818, -0.1422387808561325, -0.13414129614830017, 0.007392445579171181, -0.34108075499534607, 0.42742693424224854, 0.15665285289287567, 0.23800551891326904, 0.0322643481194973, -0.7614330649375916, -0.40489959716796875, 0.31820157170295715, -0.5858607888221741, -0.4957540035247803, 0.17809323966503143, -0.02884020283818245, 0.210120290517807, -0.024368267506361008, 0.23924775421619415, 0.32735663652420044, -0.30217444896698, 0.1004081517457962, -0.290918231010437, 0.16703087091445923, 0.37910768389701843, -0.4991876184940338, 0.11614647507667542, 0.055288370698690414, -0.21691401302814484, -0.4277365207672119, -0.27529284358024597, -0.32242271304130554, 0.3070594370365143, 0.21559754014015198, 0.07399774342775345, -0.05347041040658951, -0.42919260263442993, -0.349883109331131, 0.024392984807491302, -0.011844504624605179, 0.1912294626235962, 0.20870909094810486, 0.13716919720172882, 0.3241170048713684, -0.40538787841796875, 0.5529733300209045, -0.03661660850048065, -0.8306543231010437, 0.04266565293073654, -0.12633976340293884, -0.43588411808013916, -0.4007106125354767, 1.1719568967819214, 0.2878141403198242, 0.008119788952171803, 0.24205540120601654, 0.1996820867061615, 0.05652058124542236, 0.011238284409046173, 0.7854359745979309, 0.2911531925201416, 0.3160698711872101, 0.1857461929321289, -0.24106910824775696, 0.03445739299058914, -0.555721640586853, -0.34288614988327026, 0.7539339065551758, 0.34647274017333984, -0.36033228039741516, 0.4015360176563263, 0.49476736783981323, -0.1841815859079361, -0.25681328773498535, 0.573433518409729, -0.2706787586212158, 0.7447963356971741, -0.038092464208602905, 0.5293856263160706, 0.5940942168235779, -0.0032181330025196075, 0.42532458901405334, -0.16524788737297058, 0.26702529191970825, -0.15071755647659302, 0.3525625169277191, -0.6022828817367554, -0.3751002550125122, -0.07629971206188202, -0.011039342731237411, -0.2400301992893219, -0.4018212556838989, -0.4227135479450226, 0.023549366742372513, -0.43885573744773865, 0.22940954566001892, 0.09070092439651489, 0.7421317100524902, 0.12702985107898712, 0.029313601553440094, 0.22006455063819885, 0.32415667176246643, -0.20068597793579102, -0.10715417563915253, 0.013196565210819244, -0.33440375328063965, 0.6898704767227173, 0.46250978112220764, 0.6176748871803284, -0.2331400215625763, -0.5673489570617676, -0.13938817381858826, -0.15527889132499695, 0.27808964252471924, -0.004368024878203869, -0.1747458577156067, -0.35546359419822693, -0.1787463128566742, -0.27680763602256775, -0.15490922331809998, -0.3536135256290436, 0.8288833498954773, 0.4144570231437683, 0.2796156406402588, 0.35593482851982117, 0.18069098889827728, 0.036123938858509064, -0.2093162089586258, -0.07136400043964386, -0.2992447316646576, -0.18230462074279785, -0.37942659854888916, 0.4219048023223877, 0.06825344264507294, 0.3061487078666687, 0.264531672000885, 0.18286843597888947, 0.34981662034988403, 0.4439644515514374, 0.3614453375339508, 0.38028115034103394, 0.06375210732221603, 0.4109951853752136, -0.08709223568439484, -0.3361666798591614, 0.1654260903596878, 0.35610198974609375, 0.2086489200592041, -0.02796352654695511, -0.34353193640708923, -0.24888360500335693, 0.18956173956394196, 0.49620234966278076, 0.19928774237632751, -0.09285124391317368, 0.3486486077308655, 0.07535966485738754, -0.198783740401268, 0.20539982616901398, 0.03416382521390915, -0.3188458979129791, -0.5331363081932068, 0.17864912748336792, -0.44029781222343445, -0.34165406227111816, 0.7464748024940491, -0.7808305621147156, 0.24435760080814362, 0.7487239837646484, -0.39726823568344116, 0.2510579526424408, -0.08678911626338959, -0.22054673731327057, 0.24988433718681335, -0.12951038777828217, 0.15112939476966858, 0.2619656026363373, -0.4359123110771179, 0.053595513105392456, 0.52635657787323, -0.2539001405239105, -0.37554532289505005, -0.12699851393699646, -0.04041798412799835, -0.5520140528678894, 0.3690061569213867, 0.17425262928009033, 0.3989201784133911, -0.11215853691101074, -0.3432880938053131, -0.12609954178333282, -0.46516039967536926, 0.1523093283176422, 0.3468303680419922, -0.7822152376174927, -0.43248721957206726, 0.05933234840631485, 0.2724964916706085, -0.36232781410217285, -0.31163489818573, 0.13609570264816284, -0.21259629726409912, -0.5089889168739319, -0.441789448261261, 0.061653148382902145, -0.36914581060409546, 0.5588892698287964, 0.02319747395813465, -0.043135032057762146, -0.19368299841880798, 0.3625667095184326, 0.06890484690666199, 0.13978292047977448, -0.33755531907081604, -0.05474955588579178, 0.29890257120132446, 0.3340992331504822, -0.12890112400054932, 0.000588543713092804, 0.07947830110788345, 0.16020631790161133, 0.09766347706317902, 0.6268406510353088, 0.2594635486602783, -0.4131191372871399, -0.49940061569213867, -0.6097818613052368, -0.08773021399974823, 0.08622841536998749, 0.6743874549865723, 0.17937318980693817, 0.7273771166801453, -0.504463791847229, -0.2527411878108978, 0.1957833170890808, -0.17932552099227905, -0.12500140070915222, -0.49927788972854614, -0.5049956440925598, 0.04735765978693962, 0.17117473483085632, -0.7615442872047424, -0.25418969988822937, -0.10158464312553406, 0.08673671633005142, -0.08106012642383575, 0.016967903822660446, -0.5959686040878296, -0.004203412681818008, 0.10719237476587296, -0.2771017551422119, 0.2986541986465454, -0.27223068475723267, -0.816669225692749, -0.12239396572113037, -0.33123156428337097, -0.44631022214889526, 0.23415663838386536, -0.2094249278306961, -0.2093610018491745, 0.3221780061721802, -0.22197166085243225, 0.001924632117152214, 0.08090996742248535, -0.08896300196647644, 0.5439643263816833, -0.4785774052143097, -0.5067277550697327, 0.3322056233882904, 0.057014718651771545, -0.15106649696826935, 0.7526130080223083, 0.37774884700775146, -0.35290035605430603, -0.08125786483287811, -0.02828572876751423, -0.042993828654289246, 0.361908495426178, -0.3283354640007019, -0.08889643847942352, -0.32100149989128113, 0.29682260751724243, 0.4732632339000702, 0.39780759811401367, 0.31854453682899475, -0.25932231545448303, -0.32791998982429504, 0.5729842782020569, 0.23400110006332397, 0.06840068846940994, -0.1670747846364975, 0.4560512900352478, -0.2894524931907654, 0.14525437355041504, -0.22161497175693512, 0.2251691222190857, 0.2067079395055771, -0.8146927952766418, -0.6047760248184204, 0.009737253189086914, -0.23463591933250427, 0.2966180741786957, -0.05275775492191315, 0.8930398225784302, 0.13711950182914734, -0.07216539233922958, -0.03843849152326584, -0.8510465025901794, 0.23291310667991638, -0.5057570338249207, -0.3954509496688843, 0.7845516204833984, -0.22298529744148254, -0.3708687424659729, 0.08025331050157547, 0.1142100989818573, 0.16451048851013184, 0.23732827603816986, 0.3619910180568695, 0.24851703643798828, 0.0284339040517807, 0.22291970252990723, -0.014068405143916607, 0.38651615381240845, 0.28111207485198975, 0.09535817801952362, 0.016285181045532227, 0.18387623131275177, -0.05165162310004234, 0.072795070707798, 0.021742580458521843, 0.012336350977420807, 0.12363458424806595, -0.32083606719970703, -0.18244409561157227, -0.400656133890152, -0.17326156795024872, 0.34359151124954224, -0.31905969977378845, -0.439275860786438, 0.09501959383487701, 0.056399114429950714, -0.137039914727211, -0.69788658618927, -0.32534071803092957, 0.23222947120666504, 0.29898276925086975, -0.06456078588962555, 0.1793254315853119, -0.09107431769371033, 0.13890650868415833, -0.3906101882457733, 0.46077412366867065, -0.3357657790184021, -0.06608101725578308, -8.711892127990723, 0.31179875135421753, -0.02811896800994873, -0.1300811469554901, -0.3579627573490143, 0.21677923202514648, -0.06323538720607758, 0.45739537477493286, -0.4943837523460388, -0.09492874890565872, 0.7447832226753235, -0.43427222967147827, 0.28768330812454224, -0.40370917320251465, 0.19190555810928345, -0.1461469829082489, 0.26760226488113403, -0.21091777086257935, 0.001115165650844574, -0.014476194977760315, 0.5833396315574646, 0.22704608738422394, 0.09077563881874084, 0.85371994972229, 0.09129464626312256, 0.3913863003253937, -0.07421645522117615, 0.11108648031949997, 0.24762599170207977, -0.7289461493492126, 0.12207363545894623, -0.04274815320968628, -0.07077766209840775, -0.1611345112323761, 0.12400543689727783, 0.10785742849111557, -0.08494860678911209, -0.35924410820007324, 0.7078220248222351, -0.4272310733795166, -0.017866473644971848, 0.25621354579925537, -0.0451793372631073, -0.3679029941558838, 0.3154848515987396, 0.19538912177085876, 0.03130529820919037, 0.4511030614376068, -0.19622327387332916, -0.0518609844148159, 0.24667233228683472, 0.15276359021663666, 0.7211194634437561, -0.06076701357960701, -0.5444245338439941, -0.49656298756599426, 0.40569180250167847, 0.4440007507801056, 0.029572945088148117, -0.013110248371958733, -0.6865999698638916, -0.5462875962257385, -0.045095257461071014, -0.080973319709301, -0.09479992091655731, 0.721089780330658, 0.027321279048919678, -0.03275919705629349, 0.9986321926116943, -0.18165941536426544, 0.0023667141795158386, -0.4168865382671356, 0.5057397484779358, -0.3149242401123047, 0.3413124978542328, -0.39861100912094116, -0.05308554321527481, 0.013443153351545334, -0.2446574866771698, -0.12696190178394318, -0.2929713726043701, 0.30260056257247925, 0.13629677891731262, 0.06920652091503143, -0.268837571144104, -0.07520732283592224, 0.26727530360221863, 0.19662514328956604, 0.08014687895774841, -0.2884804904460907, 0.46062925457954407, 0.0836530402302742, -0.07481114566326141, 0.38333860039711, 0.15385760366916656, -0.02185799926519394, 0.2955425977706909, 0.19197818636894226, -0.28150007128715515, 0.33054786920547485, -0.5391947031021118, -0.07265900820493698, -0.08587897568941116, -0.2715631127357483, -0.2526584267616272, 0.18634100258350372, -0.06468847393989563, -0.4941188395023346, 0.28510600328445435, 0.49160441756248474, 0.06304788589477539, 0.34661197662353516, 0.12314499914646149, -0.4125077724456787, 0.7752244472503662, -0.28925061225891113, 0.375900536775589, -0.414596825838089, -0.24577778577804565, 0.44916245341300964, -0.09594336897134781, -0.17402029037475586, 0.30547764897346497, -0.35956722497940063, -0.12858165800571442, 0.154567152261734, 0.07979421317577362, -0.4441538453102112, 0.23805028200149536, -0.32717907428741455, 0.16793057322502136, 0.3030855357646942, -0.21844081580638885, 0.32840749621391296, -0.3858298659324646, -0.2420341968536377, 0.1988975554704666, -0.09544777870178223, -0.3557593822479248, -0.36121952533721924, -0.12831982970237732, 0.13794416189193726, 0.5916174650192261, 0.056113746017217636, 0.17593006789684296, -0.0845564529299736, -0.42163050174713135, -0.2600246071815491, -0.09409119188785553, 0.08946657925844193, -0.21758386492729187, -0.10478337109088898, 0.12483444809913635, 0.10801985114812851, 0.13472801446914673, -0.19895721971988678, 0.17834891378879547, -0.027336183935403824, -0.38903263211250305, 0.04186670109629631, 0.1452944427728653, 0.09928523749113083, 0.36443328857421875, 0.04190058261156082, 0.6698012948036194, 0.4731510281562805, 0.008510672487318516, 0.42504173517227173, 0.18820257484912872, -0.14786621928215027, -0.06125657632946968, 0.12228039652109146, -0.29983842372894287, -0.07930976152420044, 0.21923956274986267, -0.47577720880508423, -0.27339527010917664, -0.20852231979370117, 0.7988735437393188, 0.08110757172107697, -0.0017296532168984413, 0.44069796800613403, -0.5115231275558472, -0.1567312777042389, 0.20251891016960144, 0.32508397102355957, 0.571584165096283, -0.1235167607665062, -0.11525261402130127, 0.01984180510044098, -0.14709827303886414, -0.03890836983919144, -0.28190094232559204, 0.3738020062446594, -0.006123565137386322, 0.39305534958839417, 0.1357990950345993, 0.09131117910146713, 0.03942178934812546, 0.11612613499164581, -0.13112495839595795, 0.2988743484020233, 0.541593611240387, -0.3565653860569, -0.1193774864077568, 0.010566085577011108, -0.14544685184955597, 0.09606161713600159, 0.26157841086387634, -0.10951752960681915, -0.5304795503616333], [-0.004664473235607147, -0.2367280125617981, 0.1356082409620285, -0.3399556279182434, -0.3126266598701477, 0.035850975662469864, 0.21428585052490234, 0.05387043580412865, -0.028084706515073776, 0.23944929242134094, 0.3085823953151703, -0.03499962016940117, -0.06756184250116348, -0.05205962061882019, -0.06382812559604645, 0.17867964506149292, 0.0008707456290721893, -0.5276013612747192, 0.2556794285774231, -0.22054550051689148, -0.18795545399188995, -0.11385427415370941, 0.027347572147846222, -0.2689991295337677, 0.026714220643043518, -0.6091954708099365, -0.2060701698064804, 0.3120245039463043, 0.25012174248695374, 0.34797486662864685, 0.19703495502471924, 0.06776195764541626, 0.10486500710248947, 0.3915182054042816, 0.09261370450258255, -0.1433480679988861, 0.05712579935789108, 0.17470261454582214, 0.3090960383415222, 0.34245362877845764, 0.6466614603996277, 0.0020170211791992188, -0.30368271470069885, -0.16746433079242706, -0.21543648838996887, -0.13601315021514893, -0.2819094657897949, 0.16527611017227173, -0.5433924198150635, 0.015317931771278381, 0.1973964273929596, -0.19139310717582703, -0.32437947392463684, -0.1866227686405182, 0.46067214012145996, -0.3790495991706848, -0.02369008958339691, 0.08914248645305634, 0.0868629664182663, 0.06742444634437561, -0.16124311089515686, 0.386950820684433, -0.35834071040153503, 0.17246945202350616, 0.05062151700258255, 0.3256021738052368, 0.28365054726600647, -0.3666634261608124, -0.03217746317386627, -0.3593539595603943, -0.08398573845624924, 0.4298251271247864, -0.22892186045646667, 0.1675349473953247, -0.2400248646736145, -0.37545299530029297, 0.12041252851486206, -0.08218643814325333, -0.030284009873867035, 0.5058320164680481, 0.05405931919813156, 0.37833335995674133, -0.12116535007953644, 0.29449567198753357, 0.35207051038742065, 0.24584119021892548, -0.4733016788959503, -0.5167449116706848, 0.11035099625587463, 0.517768144607544, -0.06195054575800896, -0.2802249789237976, -0.4336704909801483, -0.4315502643585205, 0.1953037530183792, -0.06196778267621994, -0.04208250343799591, -0.05636744201183319, 0.03305778652429581, -0.015587964095175266, 0.2279939353466034, -0.10002771019935608, -0.33962005376815796, -0.2198268324136734, 0.07001063227653503, 0.003711741417646408, -0.3039458394050598, -0.43309080600738525, -0.06854399293661118, 0.08711504191160202, 0.04128868877887726, 0.22037699818611145, 0.47301310300827026, -0.34574711322784424, 0.1936783492565155, 0.46379339694976807, 0.006000729743391275, 0.11556822806596756, 0.4136549234390259, -0.3776968717575073, -0.43280044198036194, 0.03305897116661072, -0.6771371364593506, 0.3971130847930908, 0.17893601953983307, -0.17908397316932678, -0.028065357357263565, 0.4062768816947937, 0.47900721430778503, 0.02948816493153572, -0.30698883533477783, -0.2262391895055771, 0.30078980326652527, -0.015371926128864288, -0.23712611198425293, -0.17406830191612244, -0.18825773894786835, 1.0468895435333252, -0.5301336646080017, -0.08121059089899063, -0.024139508605003357, -0.15951892733573914, 0.1863057017326355, 0.33342429995536804, 0.33588311076164246, 0.03083193302154541, -0.3949030637741089, 0.22306521236896515, 0.27067795395851135, -0.18117588758468628, -0.023521166294813156, 0.28460562229156494, 0.2448733001947403, -0.32960325479507446, -0.05457283556461334, 0.23941829800605774, -0.23106971383094788, 0.0930337905883789, 0.24415668845176697, -0.19874903559684753, 0.35805821418762207, -0.2945731580257416, -0.4403800666332245, -0.059760987758636475, -0.05514154210686684, 0.1661626249551773, -0.2415565550327301, 0.13275077939033508, -0.005451313219964504, 0.12104043364524841, -0.38213154673576355, -0.010071911849081516, 0.10271286964416504, 0.45960521697998047, -0.1682269424200058, 0.31589242815971375, 0.6721460819244385, -0.42455852031707764, -0.04877232760190964, 0.13705840706825256, 0.02384834736585617, -0.13952989876270294, -0.047793637961149216, -0.14311237633228302, -0.031759001314640045, -0.07363694906234741, -0.0576971210539341, -0.01953940838575363, -0.2941246032714844, 0.01825912669301033, 0.15709613263607025, 0.002276010811328888, -0.3396013081073761, -0.21886619925498962, -0.3668825626373291, 0.00918850302696228, -0.3096331059932709, 0.028712734580039978, 0.11477606743574142, 0.018035821616649628, -0.35724973678588867, 0.22081498801708221, 0.28644663095474243, 0.2308349460363388, 0.4534105360507965, 0.25728505849838257, 0.14654894173145294, -0.12081440538167953, -0.0973111018538475, -0.09084427356719971, -0.22572290897369385, -0.43271660804748535, 0.2549004554748535, 0.2642078101634979, -0.5950902104377747, -0.371797114610672, -0.35752972960472107, 0.02195119485259056, -0.006299234926700592, 0.05271688103675842, 0.4908617436885834, 0.061443991959095, -0.3071855306625366, -0.1312437504529953, -0.025368239730596542, -0.10453367233276367, 0.2613663971424103, -0.10622571408748627, -0.009426122531294823, -0.02153792232275009, -0.08760644495487213, -0.19898883998394012, 0.0602039098739624, -0.21606993675231934, 0.24358278512954712, -0.38977232575416565, -0.33428776264190674, -0.2199835628271103, -0.3957900404930115, 0.12524375319480896, 0.19775453209877014, 0.005802938714623451, -0.05610116571187973, -0.06624428927898407, 0.42367807030677795, -0.02926526591181755, -0.014493927359580994, 0.24104315042495728, -0.07134107500314713, -0.274953693151474, 0.1509915292263031, 0.04659415781497955, -0.32846975326538086, 0.17555436491966248, 0.14396414160728455, 0.2916248142719269, 0.4659845232963562, 0.3632936179637909, 0.09540290385484695, 0.07870727777481079, 0.077994704246521, 0.34066280722618103, 0.08793917298316956, -0.08884825557470322, 0.051545143127441406, -0.24294239282608032, -0.01789379119873047, 0.4818171262741089, -0.19595730304718018, 0.27836287021636963, 0.029017865657806396, 0.5520382523536682, 0.11247869580984116, 0.4302225708961487, -0.4360121190547943, 0.08184333890676498, 0.3171612322330475, -0.15153534710407257, 0.3589698374271393, -0.2512056827545166, 0.28045588731765747, 0.6320582032203674, -0.010794054716825485, 0.31312695145606995, -0.15016530454158783, 0.14583323895931244, 0.14460280537605286, 0.29275181889533997, 0.0006342288106679916, 0.06688536703586578, 0.1667822301387787, 0.25839680433273315, -0.38066595792770386, -0.1137448251247406, 0.015381732024252415, -0.00815519317984581, -0.14159563183784485, 0.15396332740783691, -0.1819169968366623, -0.1392422616481781, 0.2989363670349121, -0.14230969548225403, 0.023496560752391815, 0.06769071519374847, -0.15191879868507385, 0.09324885159730911, -0.2520947754383087, 0.2653173506259918, 0.08798100054264069, 0.5319379568099976, -0.4233943819999695, 0.050124652683734894, -0.21982207894325256, -0.02643308788537979, -0.3280687630176544, -0.4205015003681183, -0.17796118557453156, 0.31383463740348816, -0.5738390684127808, 0.10028816759586334, -0.3001367747783661, 0.21995913982391357, -0.40167316794395447, 0.2735739052295685, -0.1138351708650589, 0.16793620586395264, 0.33168449997901917, -0.03538803383708, -0.16075676679611206, -0.011707575991749763, 0.25991395115852356, -0.26220378279685974, 0.062276262789964676, -0.2653050124645233, 0.09871211647987366, -0.374748557806015, -0.2999286353588104, 0.06965460628271103, -0.22125095129013062, 0.30590614676475525, 0.06234901398420334, 0.17230156064033508, 0.1564248502254486, -0.013019797392189503, 0.35174626111984253, -0.03340798616409302, -0.10587970912456512, -0.11184857785701752, 0.18242652714252472, 0.2669914662837982, 0.10607147216796875, -0.058743249624967575, -0.18341201543807983, -0.1472739428281784, 0.34998202323913574, -0.21574747562408447, -0.32677730917930603, 0.4784605801105499, 0.07592836022377014, 0.3277764320373535, -0.1939571499824524, -0.11187012493610382, 0.0004533939063549042, -0.06645175069570541, 0.039673347026109695, 0.18847644329071045, 0.1721411645412445, 0.47481805086135864, -0.628849446773529, -0.23595046997070312, 0.45899537205696106, -0.11034755408763885, -0.12384836375713348, 0.08745982497930527, -0.17992831766605377, 0.1244579628109932, -0.19661706686019897, 0.01318979263305664, 0.31797683238983154, 0.14498554170131683, -0.1658584028482437, 0.03594454005360603, -0.04843666031956673, 0.18392248451709747, -0.1777079552412033, -0.01729162409901619, 0.28382694721221924, 0.12902621924877167, 0.2894645929336548, 0.40377506613731384, -0.0409732349216938, -0.09912887215614319, -0.031440410763025284, -0.23347653448581696, 0.15730521082878113, -0.027285337448120117, -0.32263416051864624, -0.06903262436389923, -0.05592798441648483, 0.03345360606908798, -0.4141436517238617, -0.01722429320216179, 0.02832721918821335, -0.04432116448879242, -0.05311783403158188, -0.5288850665092468, 0.2696628272533417, 0.1819974184036255, 0.31494542956352234, -0.10223492234945297, 0.23798543214797974, 0.11828017979860306, -0.038073983043432236, -0.007314300164580345, -0.18563619256019592, -0.17810066044330597, 0.03884606808423996, 0.32688677310943604, -0.10248617082834244, 0.26740843057632446, 0.06026091054081917, -0.19478511810302734, 0.17353945970535278, -0.37595754861831665, -0.040681563317775726, 0.16602930426597595, -0.02420291304588318, 0.00776099506765604, -0.6431299448013306, -0.054875947535037994, 0.0004473738372325897, 0.3993891775608063, 0.09876920282840729, 0.21325945854187012, 0.12115664780139923, -0.23625782132148743, 0.020669560879468918, -0.5288486480712891, -0.28056061267852783, 0.13345280289649963, -0.25190454721450806, 0.09125913679599762, -0.4305952489376068, 0.013533391058444977, 0.007723771966993809, 0.4633572995662689, 0.41150185465812683, 0.028007550165057182, 0.36098194122314453, -0.06518034636974335, -0.2896091938018799, -0.32590267062187195, -0.2619744539260864, 0.20141170918941498, -0.054421380162239075, -0.46016648411750793, 0.06627291440963745, -0.1455397605895996, -0.37296366691589355, 0.000764060765504837, -0.1220225989818573, -0.10973301529884338, 0.2719919979572296, 0.20628146827220917, -0.06858094036579132, 0.4637821912765503, 0.03474108874797821, 0.5918530225753784, -0.09491433948278427, -0.10218194127082825, 0.40651649236679077, 0.0009476356208324432, -0.2746722102165222, 0.05057312548160553, 0.05627832189202309, 0.19611848890781403, -0.020238004624843597, 0.27823400497436523, 0.07121592015028, 0.5762139558792114, -0.25338301062583923, 0.20160062611103058, -0.30499377846717834, 0.4468214213848114, 0.03288908302783966, 0.252197265625, -0.27592259645462036, 0.09584449231624603, -0.026543468236923218, 0.3808552920818329, -0.24742001295089722, 0.08365984261035919, -0.45893460512161255, 0.3818398118019104, -0.24997517466545105, 0.02410692162811756, -0.12960396707057953, -0.06565562635660172, 0.12004466354846954, -0.27749302983283997, -0.35753414034843445, 0.2586674094200134, -0.22228679060935974, -0.11909481883049011, 0.23855248093605042, 0.017525572329759598, -0.08837449550628662, -0.2990253269672394, 0.082334503531456, -0.48769649863243103, 0.014517119154334068, -0.2951209545135498, -0.1426544040441513, 0.31224390864372253, 0.023358844220638275, -0.2800728678703308, -0.005971856415271759, 0.5032219290733337, -0.018008887767791748, 0.09911702573299408, -0.020655427128076553, -0.1477813720703125, 0.09302496910095215, 0.17971932888031006, -0.31073126196861267, 0.19227099418640137, -0.04983530193567276, 0.4771447777748108, 0.14275403320789337, 0.19185377657413483, -0.3645564913749695, 0.022304773330688477, 0.23587282001972198, 0.46129003167152405, -0.004134245216846466, -0.22268283367156982, -0.08844181895256042, 0.04754012078046799, 0.18620887398719788, -0.2060704231262207, -0.3580535054206848, 0.303302139043808, 0.143650621175766, -0.2166295349597931, -0.3494378626346588, -0.2564031183719635, -0.09487155079841614, 0.41607409715652466, 0.4103747606277466, 0.028908655047416687, 0.1914011836051941, -0.15172408521175385, 0.08709120005369186, -0.04174060374498367, 0.30879834294319153, 0.18566082417964935, -0.15635809302330017, -9.174301147460938, 0.05431247875094414, -0.06279422342777252, -0.25711777806282043, -0.2896462380886078, -0.14246773719787598, -0.023475944995880127, -0.20743657648563385, -0.11500987410545349, 0.10156121850013733, -0.20913687348365784, -0.17551319301128387, 0.2764666676521301, -0.19374677538871765, -0.40734216570854187, 0.1506538838148117, 0.2912045419216156, 0.2162630259990692, -0.11110621690750122, -0.0019152797758579254, 0.1558293104171753, -0.12189002335071564, -0.4348944425582886, 0.7305111289024353, 0.27862173318862915, 0.026593197137117386, -0.27142468094825745, 0.23116254806518555, -0.25636059045791626, -0.2069854885339737, -0.4275592565536499, -0.13156339526176453, -0.14074593782424927, 0.29813000559806824, -0.34125739336013794, 0.01131613552570343, 0.04837704077363014, -0.2943207025527954, 0.05537772178649902, -0.10420653969049454, 0.4845416247844696, 0.42414599657058716, 0.036112312227487564, 0.038487453013658524, 0.014836604706943035, -0.13910162448883057, 0.19685550034046173, 0.229939267039299, -0.47875064611434937, -0.061286766082048416, 0.5394629240036011, -0.2833232879638672, 0.6338278651237488, 0.3123135566711426, -0.30087411403656006, -0.3281779885292053, -0.028992213308811188, 0.07580702751874924, -0.08673674613237381, 0.14990097284317017, 0.1416606903076172, -0.2865314781665802, -0.17317260801792145, -0.12587134540081024, 0.21738483011722565, 0.2411983460187912, 0.1611834317445755, -0.18859878182411194, 0.4931761920452118, 0.5099217295646667, 0.19218920171260834, 0.16403567790985107, 0.20402610301971436, -0.06519222259521484, 0.055099889636039734, 0.1628412902355194, 0.15870963037014008, 0.008629269897937775, -0.07442460209131241, 0.10827042907476425, 0.11056102812290192, 0.007740373723208904, 0.4080221354961395, 0.5627896189689636, -0.27248522639274597, 0.3777191638946533, 0.03086361289024353, 0.3885485827922821, -0.1309266984462738, -0.1715676486492157, 0.26624998450279236, 0.0429304838180542, 0.1908002495765686, -0.43344080448150635, 0.06599940359592438, 0.09569696336984634, -0.004243683069944382, -0.12406191229820251, -0.27725711464881897, -0.0406748466193676, -0.05458664149045944, -0.19222021102905273, 0.30171236395835876, -0.12496673315763474, 0.05834028124809265, 0.6712788939476013, 0.037405941635370255, -0.38748496770858765, 0.23289157450199127, 0.19278034567832947, -0.2353646457195282, -0.014771007001399994, 0.04333849251270294, -0.11202840507030487, 0.12701469659805298, -0.36236467957496643, 0.5027397871017456, -0.5885637998580933, 0.42824533581733704, 0.03928046673536301, -0.16268453001976013, -0.05739104747772217, 0.17829552292823792, -0.36073753237724304, 0.16629675030708313, 0.2577678859233856, 0.0555667020380497, -0.20885293185710907, -0.10918332636356354, -0.30793124437332153, 0.2511211037635803, 0.44440650939941406, -0.25546109676361084, 0.02361387573182583, 0.173561692237854, -0.13328465819358826, -0.07780037075281143, -0.20902836322784424, 0.1861424446105957, -0.20728130638599396, -0.09293468296527863, 0.27324482798576355, 0.28023239970207214, -0.06868799775838852, 0.10903945565223694, -0.42228004336357117, 0.12584568560123444, -0.6390741467475891, -0.2166615128517151, 0.1402595192193985, -0.005853191018104553, 0.14153487980365753, 0.2106359899044037, -0.19400136172771454, 0.49962177872657776, 0.548600435256958, -0.09172005206346512, -0.2956694960594177, -0.11230146884918213, 0.2528446912765503, -0.18027478456497192, 0.25729286670684814, 0.13856393098831177, -0.2921449840068817, 0.36315080523490906, 0.3340280055999756, -0.3945442736148834, 0.09211175888776779, 0.1233142763376236, -0.19016635417938232, 0.11464041471481323, 0.1956901252269745, -0.2351842075586319, -0.325971782207489, 0.014071295037865639, -0.47010472416877747, -0.12876862287521362, 0.010677099227905273, -0.05425914376974106, 0.2884008288383484, -0.19316507875919342, -0.1237034797668457, -0.29366305470466614, 0.2873757481575012, -0.06457880884408951, -0.02432890236377716, 0.14336058497428894, -0.5676229000091553, 0.3278089463710785, -0.058600373566150665, -0.08919940888881683, 0.2567427158355713, -0.08704163879156113, 0.44402262568473816, 0.10612138360738754, 0.0858364924788475, 0.046238187700510025, 0.3996817469596863, -0.05379917100071907, 0.2639933228492737, 0.11988136172294617, 0.2559369206428528, 0.4931361973285675, 0.08227188140153885, -0.307583749294281, -0.2639603316783905, -0.16441480815410614, 0.35765156149864197, 0.08906647562980652, 0.3086337447166443, -0.11423825472593307], [-0.04557669535279274, -0.4223315119743347, 0.18854132294654846, -0.0697607696056366, 0.012378664687275887, 0.35224807262420654, 0.27332979440689087, 0.07165101170539856, -0.2498217672109604, 0.29006654024124146, -0.08997548371553421, -0.1397622674703598, -0.2242782711982727, 0.35227376222610474, -0.2658797800540924, 0.21436433494091034, 0.25134000182151794, -0.2736896872520447, 0.1849599927663803, -0.057425159960985184, -0.13720427453517914, -0.18158860504627228, -0.10457013547420502, -0.01462086383253336, -0.23902465403079987, -0.32767218351364136, 0.03211609646677971, 0.11029232293367386, 0.19657450914382935, 0.2509821951389313, 0.19730688631534576, 0.08386662602424622, 0.0044576385989785194, 0.3466002941131592, -0.023024916648864746, -0.2666873037815094, 0.5511372685432434, 0.10911180078983307, 0.2498055398464203, -0.04182552173733711, 0.377175897359848, 0.09819117933511734, -0.0007464848458766937, 0.005262475460767746, 0.1346348226070404, -0.07720259577035904, 0.048544734716415405, 0.423015832901001, -0.388110488653183, 0.2375093549489975, 0.24914789199829102, -0.5027158260345459, -0.023271122947335243, -0.062224335968494415, -0.06268985569477081, -0.5185350775718689, 0.10513325780630112, 0.04133330658078194, 0.3489668071269989, -0.047852709889411926, 0.013493575155735016, 0.20291155576705933, -0.3138832449913025, 0.4074641466140747, 0.13320009410381317, 0.2851201891899109, -0.05881071835756302, -0.46112290024757385, 0.32256197929382324, -0.21960507333278656, -0.19718247652053833, -0.3599955439567566, -0.34399494528770447, 0.02026837319135666, 0.021013382822275162, -0.13072681427001953, 0.07880886644124985, 0.10160429775714874, 0.30966851115226746, 0.7226552963256836, -0.2171124964952469, 0.0012764472048729658, 0.21012412011623383, 0.1066627949476242, 0.29390180110931396, 0.05755646154284477, -0.11946535855531693, -0.2396402359008789, 0.028648564592003822, 0.21929870545864105, 0.2392159402370453, -0.3327260911464691, -0.17897801101207733, -0.16364189982414246, 0.1716841459274292, 0.24040192365646362, 0.008834166452288628, -0.031744055449962616, -0.27798372507095337, -0.150135800242424, 0.05629776045680046, -0.25409433245658875, 0.01771734654903412, -0.04998963326215744, -0.2526940703392029, 0.027775410562753677, -0.35900288820266724, -0.12437044084072113, 0.37610185146331787, 0.2492203712463379, 0.07066598534584045, 0.06067761778831482, 0.03533709794282913, -0.6384361982345581, 0.07701876759529114, 0.07412286102771759, 0.05692065507173538, 0.08350303024053574, 0.2969922721385956, -0.14086514711380005, -0.6920318007469177, -0.201698437333107, -0.13656018674373627, 0.205353245139122, 0.2312365472316742, 0.2259962558746338, 0.16005295515060425, 0.15540368854999542, 0.14568616449832916, -0.15050926804542542, -0.008748024702072144, 0.22591248154640198, 0.2931140959262848, -0.17543742060661316, -0.17522312700748444, -0.12868523597717285, -0.13153938949108124, 0.6597387194633484, -0.2946237325668335, -0.15858548879623413, -0.22545814514160156, 0.024147190153598785, -0.13345570862293243, 0.14239071309566498, 0.4063887298107147, -0.008544683456420898, -0.1525040864944458, 0.18209882080554962, -0.08347252011299133, 0.1894996613264084, -0.2676224410533905, -0.14031200110912323, 0.14272208511829376, -0.1059730052947998, -0.1982070952653885, 0.08079928904771805, -0.3358883261680603, 0.32384636998176575, 0.44362518191337585, 0.13441012799739838, -0.16874940693378448, -0.4071545898914337, -0.0696941539645195, -0.02394907921552658, 0.18745416402816772, 0.283092200756073, -0.28722718358039856, -0.10017180442810059, -0.04856262356042862, 0.2521427869796753, -0.26012110710144043, 0.004295870661735535, 0.1312771588563919, 0.13541525602340698, 0.07440944015979767, 0.08080406486988068, 0.24080422520637512, 0.08773264288902283, 0.1999262571334839, -0.012659028172492981, -0.002823133021593094, 0.009723730385303497, -0.3270431458950043, 0.1883690357208252, -0.10311105847358704, -0.11711184680461884, 0.19573159515857697, 0.01436062902212143, 0.2933529019355774, 0.11378572136163712, -0.12508544325828552, 0.0776732936501503, -0.2698338031768799, 0.08706766366958618, -0.4949278235435486, 0.3265570402145386, -0.2856146991252899, 0.18797239661216736, 0.026168793439865112, 0.4141189754009247, -0.19178754091262817, 0.20196504890918732, 0.22912807762622833, 0.14760833978652954, 0.6469283103942871, 0.44530051946640015, -0.031698886305093765, 0.06307560950517654, -0.08259657025337219, -0.11043491214513779, 0.027379576116800308, -0.12767069041728973, 0.31308579444885254, -0.06347835808992386, -0.10971558094024658, -0.20447582006454468, 0.0870039314031601, 0.2830561697483063, 0.07141374051570892, 0.13145875930786133, 0.21075484156608582, 0.13809281587600708, -0.31839507818222046, 0.038619283586740494, -0.19712628424167633, -0.08146493136882782, 0.12446330487728119, -0.04694435000419617, 0.12780910730361938, -0.12861467897891998, 0.08556736260652542, -0.11652150750160217, -0.20474696159362793, -0.13853424787521362, -0.1378156989812851, -0.5716503858566284, -0.45341020822525024, 0.03599343076348305, -0.18179064989089966, -0.14724621176719666, 0.2207011580467224, -0.2846672832965851, -0.10712399333715439, -0.015706613659858704, 0.1467975527048111, 0.008982587605714798, -0.07291468232870102, 0.15701335668563843, 0.1186995655298233, 0.16537894308567047, 0.1483527570962906, 0.08505257964134216, 0.2690012753009796, 0.14457541704177856, 0.2630753517150879, 0.022291943430900574, 0.23847761750221252, -0.0019073113799095154, 0.0064340680837631226, -0.089928038418293, 0.08963985741138458, 0.7780316472053528, 0.10168658941984177, 0.0638972669839859, 0.08710654079914093, 0.05844992399215698, -0.08767247945070267, 0.33762499690055847, 0.09033092856407166, 0.056072745472192764, 0.48081645369529724, 0.42602983117103577, 0.030933715403079987, 0.3387916386127472, -0.29297804832458496, -0.15068039298057556, 0.0213521346449852, 0.28768348693847656, 0.32445669174194336, -0.09505465626716614, 0.20539066195487976, 0.26912322640419006, -0.262430876493454, 0.1375647336244583, -0.13332992792129517, 0.10677146166563034, 0.36449378728866577, 0.14963912963867188, -0.09943075478076935, -0.09389205276966095, 0.13928234577178955, 0.31883567571640015, -0.32405349612236023, -0.2607608437538147, 0.040325138717889786, -0.2823587656021118, -0.3235636353492737, 0.21226751804351807, -0.06274516880512238, -0.07606492191553116, 0.3278083801269531, -0.35594600439071655, 0.028433755040168762, 0.3329157531261444, 0.053797200322151184, -0.29656141996383667, -0.39382824301719666, -0.1373191773891449, -0.08220622688531876, 0.3616252541542053, -0.39504656195640564, 0.10171151906251907, 0.0885363444685936, 0.09927909076213837, -0.21105742454528809, -0.11045917123556137, -0.2814682424068451, 0.4225928783416748, -0.5924720168113708, 0.13617153465747833, 0.03371153771877289, 0.4601442217826843, -0.2076849788427353, -0.026061400771141052, -0.06269460916519165, 0.18600310385227203, 0.1792464703321457, -0.0565655380487442, -0.41280657052993774, 0.003912122920155525, -0.1209840252995491, -0.26162242889404297, 0.2607008218765259, 0.23715926706790924, -0.3114028871059418, -0.31547921895980835, -0.17696765065193176, -0.17796611785888672, -0.47791945934295654, 0.146941676735878, 0.17678138613700867, 0.1777704656124115, 0.18824955821037292, -0.2391252964735031, 0.4762856066226959, 0.0523751936852932, 0.06590215116739273, -0.2226855456829071, 0.06929562985897064, 0.36580049991607666, 0.2524838447570801, -0.5146889686584473, 0.10711178928613663, 0.0470694862306118, 0.548148512840271, -0.26803359389305115, -0.31387463212013245, -0.26403743028640747, -0.0325404591858387, 0.25835680961608887, -0.09889157116413116, -0.2644772529602051, -0.24609695374965668, 0.034202151000499725, -0.270181804895401, 0.397546648979187, 0.002477504312992096, 0.4684488773345947, -0.20182546973228455, 0.1056206077337265, 0.044404566287994385, -0.12218314409255981, -0.315459668636322, 0.38300764560699463, -0.4438723623752594, 0.13062554597854614, -0.05120033398270607, -0.09969396889209747, 0.6700222492218018, -0.09940139204263687, -0.23215728998184204, -0.3285839557647705, -0.18814437091350555, 0.2603764235973358, 0.03273940831422806, -0.34373560547828674, 0.4135761260986328, 0.18537969887256622, 0.4843152165412903, 0.3720076084136963, 0.19741451740264893, -0.1041032150387764, -0.35940277576446533, -0.32088059186935425, -0.3051198720932007, -0.005754522979259491, -0.1623917818069458, -0.2513543963432312, -0.1831376850605011, 0.26601460576057434, -0.3729594945907593, 0.07894465327262878, -0.14844539761543274, -0.07001164555549622, -0.2833918631076813, -0.32549959421157837, -0.08080946654081345, 0.12279269099235535, 0.2923005521297455, 0.004203745163977146, 0.19572412967681885, 0.09659845381975174, 0.07918891310691833, 0.04113645479083061, -0.23111173510551453, -0.35242795944213867, 0.4294827878475189, 0.3663591146469116, -0.257077693939209, 0.09986612945795059, -0.012562595307826996, 0.08977515250444412, 0.20390620827674866, -0.18157421052455902, 0.18454301357269287, 0.06416024267673492, -0.23602454364299774, -0.09936743974685669, -1.0093029737472534, 0.21894457936286926, 0.011454526335000992, 0.0620737262070179, 0.45640337467193604, 0.0202987939119339, 0.15459734201431274, -0.36907529830932617, 0.08488361537456512, -0.2714359164237976, -0.29098251461982727, -0.09440796077251434, -0.31428107619285583, 0.07488168776035309, -0.470375657081604, -0.2999911904335022, -0.2140682488679886, 0.43048998713493347, 0.3336397409439087, 0.2625994384288788, 0.3173496723175049, -0.19028741121292114, 0.26882338523864746, -0.02708517014980316, -0.33208394050598145, -0.24633340537548065, 0.11255800724029541, -0.37474560737609863, -0.07059937715530396, -0.11496807634830475, -0.6168148517608643, -0.1271771788597107, -0.02741164341568947, 0.10653157532215118, 0.26127856969833374, -0.1523333489894867, 0.23331457376480103, -0.034232646226882935, 0.23909860849380493, 0.523853600025177, 0.035708941519260406, 0.14538592100143433, 0.40849387645721436, 0.296999990940094, -0.23603564500808716, 0.46628257632255554, 0.6161164045333862, -0.013627603650093079, 0.10587187856435776, 0.22076261043548584, 0.10984311252832413, 0.47405627369880676, 0.007343091070652008, -0.159935861825943, -0.20105013251304626, 0.4251514971256256, 0.21924756467342377, -0.12263807654380798, -0.3423334062099457, 0.044696249067783356, -0.201966792345047, 0.08401164412498474, 0.29454997181892395, 0.05725664645433426, -0.12381811439990997, 0.29211732745170593, -0.4045808017253876, 0.056113630533218384, 0.17294734716415405, -0.16002939641475677, 0.01638193614780903, -0.1069554015994072, -0.2617948353290558, 0.24056729674339294, -0.02140987664461136, 0.04950627312064171, 0.19038507342338562, 0.11133459210395813, -0.17052072286605835, 0.08462508022785187, 0.18292149901390076, -0.3840569257736206, -0.04287966340780258, 0.11230874061584473, 0.12513573467731476, 0.13238376379013062, 0.1564064919948578, -0.13244187831878662, -0.15901389718055725, 0.3771388828754425, -0.2718997597694397, 0.2050643116235733, -0.011183004826307297, -0.015456244349479675, -0.001171611249446869, -0.1332702785730362, -0.28126659989356995, -0.05531545355916023, -0.03908239305019379, 0.42871010303497314, -0.09917598962783813, 0.2815605401992798, -0.6209322214126587, -0.08566353470087051, -0.11965424567461014, 0.3643215596675873, -0.05117131024599075, 0.04731480032205582, 0.1444062888622284, 0.23488715291023254, -0.029203340411186218, 0.06723974645137787, -0.2493348866701126, 0.4165852963924408, 0.25087887048721313, -0.06733497977256775, -0.18460358679294586, 0.10515294969081879, -0.19073307514190674, 0.25827449560165405, 0.08639667928218842, 0.33820533752441406, 0.05657780170440674, 0.18038901686668396, 0.07484189420938492, -0.11072486639022827, 0.424700528383255, -0.27026480436325073, 0.01960698515176773, -9.194235801696777, 0.27039408683776855, 0.09668068587779999, -0.6352270245552063, -0.11759918928146362, 0.046268656849861145, -0.24162282049655914, -0.1710585653781891, -0.0009496910497546196, 0.31427329778671265, -0.08825986087322235, -0.03402526676654816, -0.05438027158379555, 0.15751218795776367, -0.09681868553161621, -0.10932251811027527, -0.046466097235679626, -0.059846870601177216, -0.151474267244339, -0.05545494705438614, 0.06885642558336258, -0.3384914696216583, -0.2866637706756592, 0.5970602631568909, 0.2954506576061249, -0.0932922288775444, -0.42091435194015503, -0.03879980370402336, 0.133407324552536, -0.16214197874069214, -0.06985995918512344, -0.04750225692987442, -0.11780291795730591, 0.17719417810440063, -0.22573821246623993, -0.17190150916576385, -0.30074983835220337, -0.024618756026029587, -0.09879625588655472, -0.3141823410987854, 0.2504415512084961, 0.017465047538280487, 0.30198827385902405, -0.2254745364189148, -0.2132682502269745, -0.20823383331298828, 0.4130302667617798, 0.2713167369365692, -0.5354369282722473, 0.1424306482076645, 0.7224356532096863, 0.0017223097383975983, -0.1358424425125122, 0.31825971603393555, -0.4317985773086548, 0.13487869501113892, -0.3764066994190216, -0.1007649153470993, -0.39663049578666687, 0.031096328049898148, 0.08129115402698517, -0.2496935874223709, -0.35269996523857117, -0.11966894567012787, -0.08583708852529526, 0.03059099242091179, 0.12090674042701721, 0.17711462080478668, 0.7386245131492615, 0.16696788370609283, 0.44556868076324463, 0.02020872011780739, 0.326076477766037, -0.129349946975708, -0.023414423689246178, 0.03572896495461464, 0.27716487646102905, -0.1734381467103958, -0.10812928527593613, 0.6831799149513245, -0.15273258090019226, 0.12582138180732727, -0.11091431230306625, 0.20471183955669403, -0.29871535301208496, -0.005753947421908379, -0.042923323810100555, 0.3329046070575714, -0.09848056733608246, -0.20456840097904205, 0.14922012388706207, -0.033867377787828445, -0.07386216521263123, 0.15511682629585266, -0.0968998521566391, 0.023903891444206238, -0.05845136567950249, 0.011032868176698685, -0.4965513348579407, -0.16641110181808472, -0.11283019185066223, -0.0756620243191719, -0.010846763849258423, -0.030466437339782715, 0.13067792356014252, 0.4117744266986847, 0.3287428617477417, -0.037856221199035645, -0.0916774645447731, 0.13944226503372192, -0.1715661585330963, 0.15007007122039795, -0.08233384788036346, -0.10633055865764618, -0.34143388271331787, -0.34929537773132324, 0.3393087089061737, -0.43204474449157715, 0.5488647818565369, 0.05811662971973419, -0.03958303481340408, 0.13814160227775574, 0.42283686995506287, -0.5008385181427002, 0.1728058010339737, 0.11769382655620575, -0.05567371845245361, 0.0004235208034515381, 0.1889674812555313, 0.052371177822351456, 0.1584310531616211, 0.17230281233787537, -0.6202335357666016, 0.04381505399942398, 0.26127544045448303, -0.011774284765124321, -0.2426822930574417, -0.47211843729019165, 0.19055384397506714, -0.19653013348579407, 0.14785578846931458, 0.31248173117637634, -0.09049544483423233, 0.09742625057697296, -0.012049812823534012, -0.007778041064739227, 0.2168327420949936, -0.7584303617477417, 0.0024579912424087524, -0.21105825901031494, -0.14352789521217346, 0.12104608863592148, -0.16404636204242706, 0.004433855414390564, 0.03723328560590744, 0.24040740728378296, -0.12109130620956421, -0.17256653308868408, 0.4589798152446747, 0.1873178333044052, -0.18390870094299316, 0.1681268811225891, 0.25062307715415955, -0.018679171800613403, 0.24992449581623077, -0.22879602015018463, -0.4938497543334961, 0.17293637990951538, 0.22128356993198395, -0.31552043557167053, -0.18948329985141754, 0.12093392759561539, -0.15015363693237305, -0.4947355389595032, 0.1670226752758026, -0.13152165710926056, -0.4852352738380432, 0.02593322843313217, 0.2768077850341797, 0.09550485759973526, 0.0940571129322052, 0.2662649154663086, -0.4630052149295807, 0.4622439444065094, 0.12164435535669327, -0.09520754218101501, 0.30536532402038574, -0.6041322350502014, 0.08499015122652054, 0.26276952028274536, 0.11789842694997787, 0.39634233713150024, -0.14591005444526672, -0.022157130762934685, 0.16415759921073914, -0.4944925606250763, -0.07885070145130157, 0.7101251482963562, -0.18847432732582092, 0.3309550881385803, 0.016067348420619965, 0.25994446873664856, 0.4240685999393463, 0.016469202935695648, -0.14988303184509277, 0.10280700773000717, 0.07536709308624268, 0.20262128114700317, 0.1786249428987503, -0.2731562852859497, 0.1300116330385208], [-0.14449335634708405, -0.1631539762020111, 0.3205398619174957, 0.019185174256563187, 0.3361489474773407, 0.26038771867752075, 0.03432781249284744, 0.2223549485206604, 0.08064443618059158, 0.27185937762260437, 0.11595159769058228, -0.18014933168888092, 0.0384373739361763, 0.3845173120498657, 0.21027299761772156, -0.059986501932144165, 0.09033234417438507, -0.05575304478406906, 0.08292530477046967, -0.00647768285125494, -0.30527740716934204, -0.48890191316604614, 0.08980880677700043, 0.039628610014915466, -0.03885931521654129, -0.4015251398086548, 0.24098829925060272, 0.32310524582862854, 0.26498162746429443, -0.07720354944467545, 0.12214968353509903, 0.2522416114807129, 0.117071732878685, 0.26337704062461853, 0.02673223614692688, -0.08892090618610382, 0.2845373749732971, 0.08156117796897888, 0.09369510412216187, 0.33394187688827515, 0.26641640067100525, 0.23141735792160034, -0.3623952865600586, 0.08555451035499573, -0.07579562813043594, 0.08162371814250946, -0.16775110363960266, -0.20786212384700775, -0.3007061779499054, 0.35631757974624634, 0.06450652331113815, -0.47656553983688354, -0.3370693624019623, -0.16343292593955994, 0.16486100852489471, -0.44152235984802246, -0.014243531972169876, 0.1985832005739212, 0.012708745896816254, -0.049665629863739014, -0.1249384805560112, 0.16201366484165192, -0.17651674151420593, 0.6513285636901855, -0.12458894401788712, -0.036582108587026596, -0.0038743503391742706, -0.25581157207489014, 0.18798482418060303, -0.1329999566078186, -0.11249831318855286, -0.3852957487106323, -0.25219595432281494, 0.07925098389387131, 0.24188518524169922, -0.0622713603079319, -0.2664366364479065, 0.13328814506530762, -0.13109242916107178, 0.332745760679245, 0.1741453856229782, 0.42412737011909485, 0.21105997264385223, 0.656721293926239, 0.08008438348770142, 0.19652527570724487, -0.02311495877802372, -0.0706186294555664, 0.00230574794113636, 0.19307047128677368, 0.04537332057952881, -0.3006291091442108, -0.10561150312423706, -0.32007789611816406, 0.1917339563369751, 0.36961305141448975, -0.0026519764214754105, 0.0727132111787796, -0.01969115063548088, -0.12297995388507843, -0.025833452120423317, -0.052765559405088425, 0.0386059433221817, -0.11669714003801346, -0.2131728082895279, -0.05617580935359001, -0.43334656953811646, -0.08231763541698456, 0.30647414922714233, -0.0411703884601593, -0.02687428891658783, -0.007541030645370483, 0.24658240377902985, -0.11029157787561417, -0.0685470923781395, 0.166516974568367, 0.11884444952011108, 0.04434795677661896, 0.0194748155772686, 0.051887381821870804, -0.06297829747200012, -0.654091477394104, -0.09822885692119598, -0.12856808304786682, 0.02817133069038391, 0.030734803527593613, 0.24980297684669495, -0.10653489083051682, 0.32563316822052, 0.12693138420581818, -0.3246503472328186, 0.04692748561501503, 0.1167011559009552, 0.06627953052520752, -0.16752341389656067, -0.3598087728023529, -0.06799968332052231, 0.7430668473243713, -0.5396180748939514, -0.2509176433086395, -0.20889687538146973, -0.18480125069618225, -0.03394479677081108, 0.17505541443824768, -0.0515998899936676, -0.2118821144104004, -0.2042263150215149, -0.3230762183666229, -0.15685813128948212, -0.10204792767763138, -0.11239523440599442, 0.2636142373085022, 0.20630903542041779, -0.13805371522903442, -0.2169581651687622, -0.08404716849327087, -0.4951968789100647, -0.12472252547740936, 0.5660322904586792, -0.06186113506555557, 0.30058571696281433, -0.1181705966591835, -0.46433988213539124, -0.0329509973526001, 0.24332818388938904, 0.04472377523779869, 0.22989389300346375, 0.11816731095314026, -0.1046358272433281, -0.013502554967999458, -0.06805707514286041, 0.05572357773780823, -0.05041373521089554, 0.38823267817497253, -0.0642351433634758, 0.20804055035114288, 0.5506133437156677, -0.03706301748752594, -0.024778930470347404, -0.21477961540222168, -0.08329835534095764, -0.21319162845611572, 0.018299955874681473, 0.11236650496721268, -0.23514407873153687, 0.0762309655547142, -0.1935034692287445, -0.320023775100708, 0.13543188571929932, -0.050635889172554016, -0.18587271869182587, -0.16174928843975067, -0.4808344841003418, 0.08245743811130524, -0.20413365960121155, 0.16693177819252014, -0.2097766399383545, 0.22366774082183838, 0.19557338953018188, 0.2652122378349304, -0.19188717007637024, -0.3056272268295288, 0.3345699906349182, -0.01782657578587532, 0.41577014327049255, -0.03471173346042633, -0.19599319994449615, 0.46616318821907043, -0.12385295331478119, 0.1778285801410675, -0.14756083488464355, -0.2035052627325058, 0.32812798023223877, 0.3062759041786194, -0.2326420098543167, -0.1389840543270111, 0.492717981338501, 0.20900027453899384, -0.07087726145982742, 0.08408982306718826, -0.030609726905822754, 0.26650702953338623, -0.28140825033187866, -0.05643169581890106, -0.34402215480804443, -0.09611871093511581, -0.013720773160457611, -0.3494740426540375, 0.15450412034988403, 0.023497063666582108, 0.10720924288034439, 0.2015308290719986, 0.27048739790916443, 0.02818765863776207, 0.31737712025642395, -0.2004593312740326, -0.32649579644203186, -0.08530224859714508, -0.43057703971862793, -0.12281084805727005, 0.11570844799280167, 0.02489721216261387, -0.24016019701957703, 0.28029412031173706, -0.18109048902988434, 0.25041377544403076, -0.34516146779060364, 0.2638554275035858, -0.2643674612045288, -0.022335652261972427, -0.0518694631755352, 0.2286609709262848, 0.24673232436180115, -0.15453651547431946, 0.04929429292678833, -0.23366567492485046, -0.0219544880092144, 0.021141596138477325, -0.1277574747800827, 0.09967151284217834, 0.003664221614599228, 0.622330904006958, 0.4576075077056885, 0.030171215534210205, 0.19974705576896667, -0.0019003916531801224, -0.19388863444328308, 0.08592250198125839, -0.19722972810268402, 0.2249065637588501, 0.37207117676734924, 0.3634985387325287, -0.30978602170944214, 0.26290008425712585, -0.18280695378780365, -0.1336548775434494, 0.16729208827018738, 0.08581264317035675, 0.5078896880149841, -0.3796800971031189, 0.28534072637557983, 0.5873092412948608, -0.23161455988883972, 0.5123541355133057, -0.3990411162376404, 0.21910153329372406, -0.22101494669914246, -0.06888909637928009, -0.001038912683725357, -0.038211558014154434, -0.14826750755310059, -0.12497095763683319, -0.2737874984741211, -0.3764188289642334, 0.3119787871837616, -0.22775307297706604, 0.1456587016582489, 0.33163541555404663, 0.006925053894519806, 0.10515722632408142, 0.16515427827835083, -0.24830153584480286, -0.0654902309179306, 0.3345283269882202, -0.05094406008720398, 0.10776916891336441, 0.08167754113674164, 0.04548955336213112, 0.0827580988407135, 0.026000790297985077, -0.5029618740081787, -0.12809546291828156, -0.1683642566204071, 0.05432771146297455, -0.1966233253479004, -0.3275023102760315, -0.26699748635292053, 0.20200283825397491, -0.1874769628047943, -0.2506272792816162, -0.08746573328971863, 0.24945321679115295, -0.2767435312271118, 0.14042086899280548, 0.148429736495018, 0.28797098994255066, 0.0425100214779377, 0.09902866184711456, -0.25476205348968506, 0.2696032226085663, -0.00200737826526165, 0.13283032178878784, -0.05654994025826454, 0.13466951251029968, 0.06587789952754974, -0.16836492717266083, -0.07778330147266388, 0.1839173287153244, -0.14142031967639923, 0.4890531897544861, 0.3514920175075531, -0.3248635232448578, -0.023965924978256226, -0.0743362233042717, 0.3369322717189789, 0.11186330020427704, 0.11546541005373001, 0.03520327806472778, -0.057742003351449966, 0.3415309488773346, -0.06119367480278015, -0.2945293188095093, -0.040497586131095886, -0.12558510899543762, 0.7610944509506226, -0.32121792435646057, -0.3271319568157196, 0.16615892946720123, -0.024932850152254105, 0.12330768257379532, 0.15729865431785583, -0.18796709179878235, -0.10719934105873108, -0.28301334381103516, -0.08368262648582458, -0.035939864814281464, 0.17022234201431274, 0.376287043094635, -0.18715313076972961, -0.15671178698539734, 0.30873727798461914, 0.14483678340911865, -0.24145297706127167, 0.03713340312242508, -0.030106106773018837, 0.11747100204229355, -0.18291601538658142, -0.13955256342887878, 0.4678570032119751, 0.08770738542079926, 0.16371136903762817, -0.19829939305782318, -0.18636350333690643, 0.339116632938385, -0.05831558257341385, -0.5815808176994324, 0.042246606200933456, -0.10285823792219162, 0.33130261301994324, 0.41388756036758423, 0.21473857760429382, 0.015176419168710709, -0.06923776865005493, -0.04513106867671013, -0.046044379472732544, -0.02578110247850418, -0.3576105535030365, 0.07669457048177719, -0.03363483399152756, -0.09220592677593231, -0.5518990755081177, 0.07339747250080109, 0.14959678053855896, 0.13539442420005798, -0.3074464499950409, -0.34911108016967773, 0.09950442612171173, 0.17483647167682648, 0.0942489504814148, -0.2850342392921448, 0.028036661446094513, -0.23921996355056763, -0.022112393751740456, -0.09751695394515991, -0.0805731937289238, -0.1105133593082428, 0.22145907580852509, 0.4077565371990204, -0.11462975293397903, -0.20825210213661194, 0.2808470129966736, 0.08254896849393845, 0.060456532984972, -0.05832478031516075, 0.09100377559661865, -0.06462666392326355, -0.024765703827142715, -0.02188890427350998, -0.6500186920166016, -0.008973674848675728, -0.31735092401504517, 0.18009108304977417, 0.38080257177352905, 0.1686895787715912, 0.2694006562232971, -0.16304141283035278, 0.04728082939982414, -0.18533334136009216, -0.6570030450820923, -0.33678895235061646, -0.01088615320622921, -0.03712722286581993, -0.3177385628223419, -0.02405444346368313, -0.18125315010547638, 0.03323780745267868, 0.21528635919094086, 0.37879687547683716, 0.013405237346887589, -0.3470004200935364, -0.10127890110015869, -0.2397027611732483, -0.06777817755937576, 0.11681345105171204, -0.10309094190597534, -0.4038284718990326, -0.042704589664936066, 0.20889407396316528, -0.5771760940551758, 0.03887166455388069, 0.0423419289290905, -0.18465334177017212, 0.024798907339572906, -0.14252598583698273, -0.17583626508712769, -0.017210084944963455, 0.15383858978748322, 0.462101548910141, 0.11529847979545593, -0.014813996851444244, 0.3342974781990051, -0.11591392755508423, -0.17468886077404022, 0.4540708363056183, 0.31792348623275757, 0.30443260073661804, -0.14935408532619476, 0.0968894436955452, 0.2423630654811859, 0.25383979082107544, -0.009713288396596909, -0.21002043783664703, -0.21014615893363953, 0.6948778629302979, -0.031119415536522865, 0.01890949159860611, -0.27907365560531616, 0.16912569105625153, -0.01990843564271927, 0.1774173229932785, 0.14070266485214233, -0.165542334318161, -0.052502527832984924, 0.08521412312984467, -0.023898575454950333, -0.09133042395114899, 0.051661696285009384, 0.10807451605796814, -0.2631966769695282, -0.04912685975432396, -0.4261249303817749, 0.10559358447790146, 0.18063005805015564, 0.08569389581680298, 0.3356303572654724, 0.14267373085021973, -0.16072459518909454, -0.010671837255358696, 0.10778345912694931, -0.7069032192230225, 0.14960315823554993, 0.1812853366136551, 0.17128625512123108, -0.08045558631420135, 0.14507922530174255, -0.16232606768608093, -0.136666938662529, 0.5764288902282715, 0.005489178001880646, 0.027330048382282257, -0.05481318011879921, -0.27604183554649353, 0.13773517310619354, -0.3920976221561432, -0.047567278146743774, 0.44853854179382324, 0.26469868421554565, 0.30730724334716797, 0.3309480547904968, 0.06082401052117348, -0.3572070896625519, 0.05240399390459061, -0.19065211713314056, 0.2287389039993286, 0.12563100457191467, 0.05821757763624191, 0.0045155808329582214, -0.08230460435152054, 0.190166175365448, -0.0728168785572052, 0.04268718510866165, 0.17423036694526672, 0.0920504778623581, -0.04662594199180603, 0.1380513608455658, -0.15592455863952637, -0.30589357018470764, 0.39372122287750244, -0.11559693515300751, 0.291525661945343, -0.12804439663887024, 0.1038806214928627, 0.26239630579948425, -0.2886712849140167, 0.17655721306800842, -0.25413525104522705, -0.2926851212978363, -9.239119529724121, 0.22741298377513885, -0.017329640686511993, -0.3597554862499237, -0.01328270137310028, 0.014634855091571808, -0.2713943123817444, -0.05926487222313881, 0.20609185099601746, -0.15665960311889648, -0.11617951095104218, -0.0664890930056572, -0.03494303673505783, 0.0976991355419159, 0.162091463804245, -0.18989332020282745, 0.051973842084407806, 0.2021738886833191, -0.11338577419519424, 0.23448972404003143, 0.14795070886611938, -0.4111629128456116, 0.019436512142419815, 0.7353203892707825, 0.33345919847488403, 0.17421048879623413, -0.07361740618944168, -0.02425810694694519, 0.16906891763210297, -0.25711679458618164, -0.14229661226272583, -0.2124897539615631, -0.045730818063020706, 0.1298518180847168, -0.24386169016361237, 0.23884901404380798, -0.11889512836933136, -0.16451415419578552, 0.012092236429452896, -0.518151044845581, 0.12948568165302277, 0.06634373962879181, 0.018925048410892487, -0.05219132453203201, -0.3561917245388031, -0.2890465259552002, -0.1101989671587944, 0.6863071918487549, -0.10823330283164978, 0.2957409918308258, 0.5840725898742676, -0.43284857273101807, 0.3582708239555359, 0.32049092650413513, -0.2437952160835266, -0.1922321766614914, 0.056184981018304825, 0.08424008637666702, -0.09483518451452255, -0.20141670107841492, -0.2691272497177124, -0.18050222098827362, -0.29120364785194397, 0.3390677273273468, 0.20003807544708252, 0.42113155126571655, -0.4899221658706665, 0.34206074476242065, 0.3296875059604645, 0.00018476694822311401, 0.09441013634204865, -0.04561200365424156, 0.2227165400981903, -0.1918356716632843, 0.25168928503990173, 0.17544373869895935, 0.08290882408618927, 0.14313870668411255, -0.11428707093000412, 0.7067729234695435, -0.391538143157959, 0.2868152856826782, 0.4803047180175781, 0.386606901884079, 0.06717811524868011, 0.5737918615341187, 0.03150598704814911, 0.09849561005830765, -0.21284914016723633, -0.051389098167419434, -0.061017341911792755, 0.14569324254989624, 0.010446052998304367, -0.08125127106904984, -0.024869613349437714, 0.30524927377700806, -0.20027798414230347, 0.2908080816268921, -0.13585186004638672, 0.15457989275455475, -0.12574496865272522, 0.054655104875564575, 0.032350972294807434, -0.17604611814022064, 0.05400537699460983, 0.5190836191177368, 0.1835712194442749, -0.11459294706583023, -0.0670507475733757, -0.2156996876001358, 0.025985408574342728, 0.1904958188533783, 0.19228056073188782, 0.016939856112003326, -0.2039840668439865, -0.3346197009086609, 0.35813018679618835, -0.31903350353240967, 0.07374870032072067, 0.3297264277935028, -0.347830206155777, -0.10547173768281937, 0.44112399220466614, -0.27356189489364624, 0.05664605647325516, 0.5247349143028259, -0.12489582598209381, -0.12827329337596893, -0.0017168154008686543, -0.09738187491893768, 0.16843900084495544, 0.2892622649669647, -0.40875694155693054, 0.11170469224452972, -0.05018862336874008, 0.047105614095926285, 0.15911512076854706, -0.1452593356370926, -0.01932436227798462, -0.4222152531147003, 0.1610669493675232, 0.052567362785339355, 0.1901310235261917, -0.061181023716926575, 0.11153808236122131, 0.04352204501628876, -0.08097968250513077, -0.4711061418056488, -0.5034747123718262, -0.18602246046066284, -0.5547815561294556, 0.4064415693283081, -0.12978330254554749, 0.10126537829637527, -0.12844379246234894, 0.4423421621322632, -0.05272587388753891, -0.24981752038002014, 0.08025351166725159, -0.038362763822078705, 0.03836582601070404, 0.4487774670124054, 0.12264614552259445, -0.30813121795654297, 0.6494701504707336, 0.2800830602645874, -0.16931240260601044, 0.18055380880832672, -0.03393649309873581, -0.3069167733192444, -0.21302291750907898, -0.11739194393157959, -0.3187333941459656, -0.2390594631433487, -0.007133706472814083, -0.185886949300766, -0.4029560983181, 0.06281064450740814, 0.32527589797973633, 0.17500513792037964, 0.19235429167747498, 0.2600322365760803, -0.5148755311965942, 0.11685019731521606, 0.2188311517238617, 0.3270144760608673, 0.008148521184921265, -0.14738571643829346, 0.2921135425567627, 0.3201252222061157, -0.01851911097764969, -0.28270474076271057, 0.04137139022350311, 0.008697282522916794, 0.2811974883079529, -0.18119223415851593, -0.1892862468957901, 0.5723574757575989, 0.003196030855178833, 0.24436014890670776, 0.39681968092918396, -0.05481415241956711, 0.3295942544937134, -0.07664494216442108, -0.33255255222320557, -0.214104562997818, -0.09498659521341324, 0.08635862171649933, 0.1824028342962265, 0.009477343410253525, -0.15814583003520966], [0.4654894173145294, 0.11043821275234222, -0.26834988594055176, 0.18723583221435547, 0.2957651615142822, -0.22702723741531372, -0.0530204102396965, -0.5511546730995178, 0.5955270528793335, -0.5873902440071106, 0.013133091852068901, 0.2220633327960968, -0.04540594667196274, -0.016307950019836426, -1.2033182382583618, -0.3532877564430237, 0.20120692253112793, 0.26057785749435425, 0.587637722492218, 0.2088930904865265, -0.26196959614753723, -0.28541651368141174, -0.198667511343956, -0.3132381737232208, -0.08342728018760681, 0.11876606196165085, -0.1503915786743164, 1.1377307176589966, -0.3285759687423706, 0.7955911159515381, -0.40890738368034363, 0.8387071490287781, -0.06811170279979706, 0.5376164317131042, -0.2651660442352295, 0.06604228168725967, 0.1352192461490631, -0.14552095532417297, -0.7750295996665955, -0.03803703561425209, 0.18091611564159393, 0.3369581401348114, 0.028637712821364403, -0.6668619513511658, -0.006874926388263702, -0.5116186141967773, -0.7402507662773132, 0.23095451295375824, -0.4387139081954956, 0.28493812680244446, -0.12885147333145142, -1.218320608139038, -0.2973710596561432, -0.4756845533847809, 0.6092484593391418, -0.537589430809021, -0.5193622708320618, 0.36354461312294006, 0.21667328476905823, 0.29329028725624084, 0.21761935949325562, -0.12131643295288086, 0.48034268617630005, 1.2145864963531494, -0.5166987180709839, -0.31347382068634033, -0.026314299553632736, -0.6599839925765991, -0.37928977608680725, -0.31044840812683105, -0.21898889541625977, 0.5297498106956482, 0.5444419980049133, -0.539799153804779, 0.38813331723213196, -0.8191372752189636, 0.27656787633895874, 1.0995036363601685, -0.6498328447341919, 0.3841063678264618, 0.4531204402446747, 0.09764367341995239, 0.07486826181411743, 0.3567051291465759, 0.028497502207756042, 0.6429508924484253, -0.15303267538547516, 0.2439015656709671, 0.2993422746658325, 0.9641827344894409, -0.4717850983142853, 0.021242627874016762, -0.6000286340713501, -0.24085819721221924, 0.5043191909790039, 0.09677395969629288, -0.41393110156059265, 0.6900203227996826, 0.17336246371269226, 0.15158024430274963, -0.13213388621807098, 0.08284896612167358, 0.1485251486301422, 0.15120574831962585, 0.12498464435338974, -0.26917898654937744, -0.5356420874595642, -1.2366973161697388, 0.4993109107017517, 0.9220710396766663, -0.3264230489730835, 0.11969238519668579, 0.2848585844039917, -0.7385687232017517, 0.20137743651866913, 0.9365453720092773, 0.09845786541700363, -0.4834440350532532, 0.12119654566049576, -0.41176536679267883, -0.17963680624961853, -0.3045315742492676, -0.24499405920505524, 0.33083575963974, 0.3081408441066742, 0.14560633897781372, -0.10441721975803375, 0.15839995443820953, 0.6871557831764221, 0.0498475506901741, -0.8253177404403687, 0.030648421496152878, 0.2761242985725403, 0.5259912014007568, 0.19370214641094208, -0.13224786520004272, -0.10753806680440903, 0.9586361050605774, -3.813800811767578, 0.23223701119422913, -0.6632780432701111, -0.3680892884731293, 0.40804043412208557, -0.14503517746925354, -0.23344996571540833, 0.24569809436798096, 0.32152462005615234, 0.7911300659179688, 0.2140287607908249, -0.4403854310512543, -0.6317588090896606, 0.2210991531610489, 0.20769982039928436, -0.541439414024353, 0.5001213550567627, -0.3229798376560211, -0.17359842360019684, -0.7084497213363647, 0.4428349435329437, -0.7742903232574463, -0.7021398544311523, -0.4583418667316437, -0.7936153411865234, -0.14199288189411163, -0.07487412542104721, -0.3631729483604431, 1.3794636726379395, 0.3269609212875366, 0.7344601154327393, 0.7675866484642029, -0.01660742796957493, -0.9351587891578674, -0.4899023175239563, 0.12049475312232971, -0.0027625816874206066, 0.3531509339809418, 0.346111923456192, -0.593695342540741, 0.5310942530632019, -0.06040142476558685, 0.3205955922603607, -0.22202512621879578, -0.5733547806739807, -0.7644500136375427, -0.8860660791397095, 0.4879727363586426, -0.06401439011096954, 1.2080304622650146, 1.5833022594451904, 0.2433224469423294, 0.3733783960342407, -0.8099433183670044, -0.6470146179199219, -0.39828839898109436, -0.6930180191993713, -0.39720577001571655, -0.861406147480011, 0.2741694152355194, 0.22815383970737457, 0.9389650225639343, -0.7344536185264587, 0.08576922118663788, -0.28261321783065796, -0.2947580814361572, 0.3762696087360382, -0.4481288492679596, -0.08733189105987549, -0.2918977737426758, -0.05026647076010704, -0.9652209877967834, -0.9996371865272522, 0.07211758196353912, 0.1891270875930786, 0.4046311378479004, -0.3205966353416443, -0.21745061874389648, -0.13009332120418549, -0.4195195138454437, -0.16187366843223572, -0.6368948221206665, -0.08897803723812103, 0.18422582745552063, -0.04119217395782471, -0.27687644958496094, -0.32602524757385254, 0.27656838297843933, 0.5366106629371643, -0.26568299531936646, -0.014188539236783981, -0.33209624886512756, 0.5620726346969604, -0.01305042952299118, -0.03545578569173813, -0.7158896923065186, 0.4809400737285614, 0.3830980360507965, -0.8801310062408447, 0.7279726266860962, -0.5706659555435181, 0.07033231854438782, -0.45787450671195984, 0.04601885378360748, 0.8038738965988159, -0.27355054020881653, -0.45156657695770264, 0.4795044958591461, 0.0242098867893219, 0.5006715059280396, 0.00890425220131874, -0.2762029767036438, 0.506317675113678, -0.21376852691173553, -0.6244929432868958, -0.09236832708120346, 0.4667204022407532, 0.12963922321796417, 0.004775116220116615, -0.08967031538486481, -0.4846196472644806, 0.3217809200286865, -0.14127376675605774, 0.5704653263092041, 0.5797309279441833, 0.13464108109474182, 0.04893440753221512, -0.42098289728164673, 0.21508705615997314, -0.19462357461452484, -0.4349418878555298, 0.845370352268219, 0.12942664325237274, -0.457387775182724, 0.49495258927345276, 0.27548864483833313, -0.7688992619514465, 0.10398335009813309, 0.9820021390914917, 0.053666822612285614, 1.2819966077804565, -0.624751091003418, 0.3678833842277527, 0.5018703937530518, -1.0053805112838745, 1.2279595136642456, -0.8794523477554321, 0.33571574091911316, -0.20759984850883484, -0.2565005123615265, 0.014990027993917465, 0.2764659523963928, 0.2346225380897522, -0.09039532393217087, -0.40136298537254333, -0.07191390544176102, 0.060702815651893616, -0.2503424286842346, -0.6588804125785828, 0.38211169838905334, 0.04058031365275383, 0.8069978356361389, 0.7665249109268188, -0.10819616913795471, -0.17723146080970764, 0.4018602967262268, -5.851110458374023, -0.3085881471633911, 0.2426316738128662, 0.4549787938594818, 0.08596020936965942, 0.3916188180446625, 1.0126819610595703, 0.5824242830276489, -0.2431260049343109, -0.1235741600394249, -0.7528764605522156, -0.6147701740264893, -0.6317735314369202, 0.28537818789482117, -0.40672066807746887, 0.04674103856086731, -0.2003089040517807, 0.5846601128578186, -0.9981533885002136, 0.3160993754863739, -0.6571874022483826, -0.29259225726127625, -0.16188108921051025, 0.4992738366127014, -0.2984810769557953, -0.8365101218223572, 0.2782762050628662, 0.08858794718980789, -0.454304963350296, 0.12814770638942719, 0.44727203249931335, -0.2568231523036957, 0.2979755103588104, 0.13114336133003235, 0.7664825320243835, 1.0877060890197754, 0.6856462359428406, 0.3360762298107147, 0.3716621398925781, -0.25853678584098816, -0.11763784289360046, 0.21964342892169952, -0.49256178736686707, -0.4044773578643799, 0.33163782954216003, 0.026387212797999382, 0.1583588570356369, 0.1943376064300537, -0.2652241289615631, -0.05611550435423851, 0.885421872138977, -0.6352717280387878, -0.010774258524179459, -0.4099433720111847, 0.2723485827445984, 0.1507328897714615, -0.14114299416542053, -0.5807573199272156, 0.5496654510498047, -0.3150806128978729, 0.11876222491264343, 0.1930810809135437, -0.2846556305885315, 0.7677062153816223, 0.04895222932100296, 0.6306065917015076, 1.1466875076293945, -0.4132266938686371, 0.25823119282722473, 0.19502171874046326, -0.49302318692207336, 1.1373316049575806, 0.4181619882583618, 0.13438494503498077, 0.1231212466955185, -0.6974990963935852, 0.12117721140384674, 0.29035302996635437, -0.20283812284469604, -0.10016318410634995, -0.23598900437355042, -0.42470085620880127, -0.10133705288171768, 0.1203376054763794, 1.3492101430892944, 0.6085999608039856, 0.7004407048225403, -0.24608193337917328, 0.4800698757171631, -0.4647999405860901, -0.3929060101509094, 0.10084870457649231, -0.9169567823410034, 0.7015301585197449, -0.03153874725103378, -0.011391319334506989, -0.8936432600021362, 0.44117119908332825, -0.3793241083621979, 0.13412514328956604, -0.5204213261604309, -0.668268084526062, -0.11903559416532516, 0.8409027457237244, -0.02343713492155075, 0.18814408779144287, -0.3187887370586395, -0.7176612019538879, 0.6336289644241333, 0.7703372836112976, 0.7950488924980164, -0.843489408493042, 0.43829086422920227, 0.7951538562774658, 0.37346336245536804, 0.08246209472417831, 0.23883777856826782, 0.08206144720315933, 0.30756983160972595, 0.39969193935394287, 1.4394437074661255, -0.023716524243354797, 0.05062732845544815, -0.29192230105400085, 0.12687797844409943, 0.9559256434440613, -0.3525204062461853, 0.24000774323940277, -0.003920823335647583, 0.5027098059654236, -0.17940281331539154, -0.28130295872688293, 0.31234249472618103, 0.025855138897895813, -0.6982427835464478, -0.5397928357124329, -0.3763062655925751, -1.1134291887283325, 0.07051222026348114, -1.1069718599319458, 0.2030913382768631, -0.5362915396690369, 0.0398784875869751, 0.20820830762386322, 0.14161896705627441, -1.0084840059280396, -0.38812851905822754, -0.022056609392166138, -0.1916947066783905, 0.29090654850006104, -0.6088250875473022, -0.17805030941963196, 0.6136375069618225, -0.384456068277359, -0.3271275460720062, -0.16879841685295105, -0.6687805652618408, 0.3756493926048279, -0.48161935806274414, 0.6322696208953857, 3.2369229793548584, 0.4039619565010071, -0.30613765120506287, 1.0271446704864502, -0.943071722984314, -0.41111767292022705, 0.920590877532959, -0.03608645126223564, 0.8251722455024719, 1.2026984691619873, -0.01591392420232296, 0.24024464190006256, -0.2968371510505676, -0.011097608134150505, 0.2734566926956177, 0.20552793145179749, 0.03597977012395859, -0.2849334180355072, -0.15028955042362213, 1.119614839553833, 1.379240870475769, 0.45617350935935974, 0.35024183988571167, -0.07426370680332184, -0.41395702958106995, 0.8857184052467346, 0.8073617219924927, 0.18068927526474, -0.9134783744812012, 0.11125990748405457, -0.09780243039131165, 0.211455836892128, -0.026368966326117516, 0.10625862330198288, 0.6124239563941956, -0.11053149402141571, -1.2370904684066772, -0.45356643199920654, -0.19731581211090088, 0.30618569254875183, 0.6396693587303162, 1.1683223247528076, -0.27079740166664124, -0.7019719481468201, -0.1810619831085205, -1.226638674736023, 0.23758265376091003, -0.9138877391815186, -0.5815601348876953, 0.04347272589802742, 0.1202511265873909, 0.07776075601577759, 0.7887870669364929, -0.023781966418027878, 0.06343593448400497, -0.15358489751815796, 0.040936652570962906, -0.5610849261283875, -0.9248234033584595, -0.15204881131649017, -0.11188013106584549, -0.03304427117109299, -0.06052740663290024, 1.2541898488998413, 0.24209453165531158, 0.44363150000572205, -0.6858518123626709, -0.2844357490539551, -0.42990800738334656, 0.27251505851745605, 0.9118722081184387, -0.40647587180137634, -0.625239908695221, -0.567584753036499, 0.12345823645591736, 0.414022296667099, 0.14712566137313843, 0.3535783886909485, 0.21146400272846222, -0.613388180732727, 0.1285100132226944, -0.34024253487586975, -0.17991937696933746, 0.4871528148651123, -0.27396196126937866, 0.4292379915714264, 0.019729312509298325, -0.2018030285835266, -0.5774161219596863, -0.02984326332807541, 1.3626617193222046, -0.3532937169075012, -1.0332679748535156, -5.763160705566406, -0.07676146924495697, 0.184270977973938, -0.16921672224998474, -0.254606693983078, 0.3893015384674072, -0.21596981585025787, 0.15180139243602753, 0.31479892134666443, -0.1344662755727768, -0.06200174242258072, 0.4589468240737915, 0.14315557479858398, -0.25789040327072144, -0.12583836913108826, -0.8353057503700256, -0.010925829410552979, -0.38085827231407166, -0.03043130785226822, 0.6732924580574036, 0.14080530405044556, 0.618973970413208, 0.07079694420099258, 1.159740924835205, 0.8841744661331177, 0.4472358822822571, -0.20110765099525452, 0.08895015716552734, 0.09187516570091248, -0.9068166613578796, -0.26606109738349915, 0.47182759642601013, -0.40126660466194153, -0.30795297026634216, -0.627945601940155, 0.10834804177284241, -0.2053036391735077, 0.1496681571006775, 0.5063924789428711, -0.609593391418457, -0.3344927132129669, 0.24492831528186798, -0.38873207569122314, 0.5308738946914673, 0.019002461805939674, -0.2156262993812561, -0.5673199892044067, 0.3426479399204254, -0.13116401433944702, 0.5314899682998657, 3.567579746246338, -0.18553784489631653, 0.27181532979011536, -0.46915340423583984, -1.0789825916290283, -0.0025986861437559128, -0.3706228733062744, 0.587479829788208, 0.8784301280975342, -0.24501332640647888, -0.14660269021987915, -0.7504581809043884, -0.4773026704788208, -0.2675057351589203, -0.33814018964767456, 0.17863067984580994, -0.806555986404419, 0.17292943596839905, 1.4016826152801514, 0.07855422049760818, -0.001603923738002777, -0.4597685635089874, 0.5743340253829956, 0.4676313102245331, -0.4226994514465332, 0.10253600031137466, -0.6730073690414429, 0.17501643300056458, -0.5333731174468994, -0.4007100760936737, -1.0860830545425415, 0.8817253708839417, 0.26735919713974, -0.5542879700660706, 0.21683594584465027, 0.5272144079208374, -0.2589913010597229, 0.10977374017238617, -0.08572861552238464, 0.5789380669593811, 0.6402820944786072, -0.38965725898742676, -0.9566528797149658, 0.6111325621604919, -0.5258020162582397, 0.039735808968544006, 0.036936741322278976, 0.38461750745773315, -0.3820982575416565, -0.016504976898431778, -0.39267462491989136, 0.4560343623161316, 0.009874582290649414, -0.11135396361351013, -0.18379250168800354, -0.08371130377054214, 0.5903748869895935, -0.8201739192008972, -0.135445237159729, 0.5060463547706604, 0.766019880771637, -0.14356175065040588, 0.44536805152893066, 0.42111337184906006, 0.4377340078353882, -0.29950618743896484, 1.2269351482391357, -0.09824533760547638, 0.2912620007991791, 0.9975751042366028, -0.3712436854839325, -0.19158145785331726, 0.5065935254096985, -0.4684150218963623, -0.1414606273174286, 0.15675297379493713, 0.8915008306503296, -0.6274997591972351, -0.048706892877817154, -0.4529705345630646, 1.0391870737075806, 0.2122168093919754, -0.4160793423652649, 0.2671622633934021, -0.4379371106624603, 0.19427083432674408, 0.2500212490558624, -0.7049245238304138, -0.32327061891555786, -0.22374801337718964, -0.4205388128757477, 0.01925092190504074, 1.179418683052063, -0.2774454951286316, 0.10850656032562256, -0.32877010107040405, -0.14922800660133362, -1.0233789682388306, -0.4601137042045593, 0.7560641169548035, -0.4844372272491455, 0.047500062733888626, -0.06963533163070679, 0.10465963929891586, 0.033599983900785446, 0.14113308489322662, -0.19128632545471191, -0.361373633146286, -0.2980160713195801, -0.3598926067352295, 0.4341036081314087, -0.020610474050045013, 0.44449669122695923, -0.8830326199531555, 0.7749056816101074, 0.4209442138671875, -0.4599795937538147, 0.3312045931816101, -0.016075260937213898, -0.5068599581718445, 0.03159567341208458, -0.500325620174408, 0.11383259296417236, 0.24035461246967316, -0.5243141055107117, -0.6898265480995178, 0.49090322852134705, 0.1555444300174713, 0.7527214288711548, -0.20736080408096313, -0.30138006806373596, -0.13085299730300903, -0.6310431361198425, -0.33574923872947693, 0.763245165348053, 0.12495581060647964, 0.16714996099472046, 0.08060861378908157, 0.11245983839035034, 0.4177664518356323, 0.08867421001195908, -0.18439282476902008, -0.7453161478042603, 0.04576174542307854, 0.5826347470283508, 0.09595245122909546, -0.1660180389881134, -0.09017221629619598, -0.27680858969688416, 0.6474421620368958, 0.6948055624961853, -0.06934209913015366, 0.5305617451667786, -0.10651139914989471, -0.4250534176826477, -0.2561434209346771, -0.09910188615322113, 0.12393892556428909, 0.05262273550033569, 0.30118685960769653, -0.37509506940841675], [0.3917511999607086, 8.635595440864563e-05, -0.31291675567626953, 0.015266616828739643, 0.40529048442840576, -0.32534462213516235, -0.2893548607826233, -0.33520734310150146, 0.7197523713111877, -0.6448236107826233, -0.07549993693828583, -0.013692107051610947, -0.4527363181114197, -0.3582969903945923, -1.3783453702926636, -0.22130738198757172, -0.07547478377819061, 0.5717795491218567, 0.3559461236000061, 0.44347286224365234, -0.22540761530399323, -0.45698311924934387, -0.3317769169807434, -0.5573011636734009, -0.21146300435066223, 0.32782110571861267, -0.05695983022451401, 1.2404893636703491, -0.5506126880645752, 1.0653306245803833, -0.809890627861023, 1.0852917432785034, 0.004626124165952206, 0.6403528451919556, -0.33314231038093567, 0.2544229030609131, 0.16288024187088013, -0.32272592186927795, -0.5419325828552246, 0.108510822057724, -0.29740583896636963, 0.2613193094730377, 0.3826451003551483, -0.9011558890342712, -0.10040171444416046, -0.8678568601608276, -0.6743202805519104, 0.3683330714702606, -0.8229953050613403, 0.3081687092781067, 0.04873724654316902, -1.5424106121063232, -0.06377977877855301, -0.24971559643745422, 0.7818925380706787, -0.41056787967681885, -0.9482374787330627, 0.6298878788948059, 0.18852123618125916, 0.3589542508125305, 0.21351438760757446, 0.11499449610710144, 0.38510242104530334, 1.4510166645050049, -0.8266939520835876, -0.2442750483751297, -0.1622021198272705, -0.5884474515914917, -0.3924707770347595, -0.3896591067314148, 0.06109333783388138, 0.7531521916389465, 0.506671130657196, -0.5928577184677124, 0.200041264295578, -0.9519700407981873, 0.4841200113296509, 1.2467056512832642, -0.5195986032485962, 0.4843975603580475, 0.40738046169281006, -0.06575103104114532, -0.3117671310901642, 0.4383648633956909, -0.14559370279312134, 0.8500023484230042, -0.6049043536186218, 0.09153632819652557, -0.009845264256000519, 1.0159618854522705, -0.3356606960296631, 0.14999480545520782, -0.6077625751495361, -0.18737860023975372, 0.7315276265144348, -0.051885999739170074, -0.23498991131782532, 1.0498485565185547, 0.5669063925743103, 0.2716476023197174, -0.19665831327438354, 0.11662639677524567, -0.045589979737997055, 0.5245760083198547, 0.40138110518455505, -0.19796587526798248, -0.34931665658950806, -1.922621250152588, 0.7351671457290649, 1.2070112228393555, -0.20429454743862152, 0.16380751132965088, 0.23861832916736603, -0.9157007932662964, -0.042193636298179626, 0.8400729894638062, -0.03297162801027298, -0.6526119112968445, 0.17363178730010986, -0.7202339768409729, -0.33005204796791077, -0.29155200719833374, -0.10310645401477814, 0.7045700550079346, 0.1979290097951889, 0.3258175253868103, -0.2140451967716217, 0.3308667540550232, 0.5192630887031555, -0.04011886566877365, -0.7509034276008606, -0.020085956901311874, 0.30532321333885193, 0.5904781818389893, 0.363409161567688, -0.05055578052997589, 0.08226868510246277, 0.9940880537033081, -4.314724922180176, 0.2105378806591034, -0.9361454248428345, -0.5804166793823242, 0.4564390778541565, -0.1723853051662445, -0.06495283544063568, 0.8701990842819214, -0.006688572466373444, 1.0399081707000732, 0.14829616248607635, -0.6692538857460022, -0.689632773399353, 0.46170854568481445, -0.04509188234806061, -0.8682974576950073, 0.32635697722435, -0.2974013090133667, -0.31962236762046814, -0.6619302034378052, 0.33000823855400085, -1.0344163179397583, -0.8182358741760254, -0.699190616607666, -0.8009049892425537, -0.4503844976425171, 0.0063369981944561005, -0.24588871002197266, 1.7452949285507202, 0.2937737703323364, 0.9083425998687744, 1.1899155378341675, 0.002782624214887619, -1.361130714416504, -1.094400405883789, 0.13807833194732666, 0.13352517783641815, 0.24109873175621033, 0.7516187429428101, -1.0718708038330078, 0.5756682753562927, -0.16231872141361237, 0.313158243894577, -0.27420851588249207, -0.8553286194801331, -0.874034583568573, -0.7199791669845581, 0.558434009552002, 0.08285390585660934, 1.591774344444275, 1.4359111785888672, 0.20721670985221863, 0.24107776582241058, -0.9820447564125061, -0.5001153349876404, -0.37497714161872864, -0.6392908096313477, -0.20129621028900146, -1.2109625339508057, 0.17782145738601685, 0.1703062653541565, 0.9933180212974548, -0.7528210282325745, -0.03759848326444626, -0.37012332677841187, -0.2779015302658081, 0.5040481090545654, -0.4408581554889679, -0.1447470635175705, -0.8201087713241577, -0.07309279590845108, -0.9931111335754395, -1.1780844926834106, 0.1186905950307846, 0.6377182006835938, 0.11918161064386368, -0.5142499208450317, -0.1513451188802719, -0.6142631769180298, -0.26653873920440674, -0.17637726664543152, -0.5640511512756348, 0.2693857252597809, 0.2173648178577423, 0.023297837004065514, -0.2452409267425537, -0.0636153370141983, 0.16639137268066406, 0.9570271372795105, 0.04519171267747879, 0.3280656337738037, -0.5058577656745911, 0.5990293622016907, -0.21304471790790558, 0.12615038454532623, -0.7132428884506226, 0.40320366621017456, -0.0030953064560890198, -1.1416128873825073, 0.831649661064148, -0.6242884397506714, 0.4067727029323578, -0.7019165754318237, -0.014058517292141914, 0.9820279479026794, -0.6200796365737915, -0.5384580492973328, 0.6696479320526123, 0.2190830409526825, 0.2233043611049652, 0.4146031141281128, -0.12458309531211853, 0.8590620160102844, -0.21450984477996826, -0.5335723757743835, 0.12978440523147583, 0.14730188250541687, -0.12889547646045685, -0.05226488783955574, -0.3330591917037964, -0.6865809559822083, 0.027281448245048523, -0.30211949348449707, 0.5613494515419006, 0.4275086224079132, 0.12465867400169373, 0.11962320655584335, -0.3969079554080963, 0.4365241229534149, -0.12044888734817505, -0.2264842987060547, 0.8228073120117188, 0.0657913088798523, -0.7073961496353149, -0.15465638041496277, 0.4819207489490509, -0.7201834917068481, 0.36174342036247253, 1.1880661249160767, 0.3348652422428131, 1.6101268529891968, -0.6689332723617554, 0.03890424594283104, 0.447412371635437, -1.166121244430542, 1.5609456300735474, -1.041880488395691, 0.6989039182662964, -0.10028250515460968, -0.32619646191596985, 0.08954273909330368, 0.4235723912715912, 0.08392170816659927, -0.26865458488464355, -0.7987748980522156, 0.14356760680675507, -0.014251219108700752, -0.07587452977895737, -0.8440542817115784, 0.5891208052635193, -0.30267152190208435, 0.9599822163581848, 0.9340072274208069, -0.39348211884498596, -0.33986642956733704, 0.643796443939209, -6.826337814331055, -0.5086752772331238, 0.17870336771011353, 0.6238018274307251, 0.1394173949956894, 0.3210550844669342, 0.9235976934432983, 0.43191346526145935, -0.2906796634197235, -0.38022494316101074, -0.9716144800186157, -0.694267988204956, -0.7844295501708984, 0.2376907914876938, -0.5971628427505493, -0.002046652138233185, -0.030448805540800095, 0.645369827747345, -0.9788151383399963, 0.09054473787546158, -0.9445149898529053, -0.3319454491138458, -0.007725441828370094, 0.607787013053894, -0.2966134548187256, -1.2035466432571411, 0.3690754771232605, -0.038955993950366974, -0.7439172863960266, -0.006349056959152222, 0.3248569071292877, -0.5223125219345093, 0.11377573013305664, 0.3443804383277893, 0.4716399908065796, 1.1537479162216187, 0.8121623396873474, 0.5461893677711487, 0.45240193605422974, -0.2213592529296875, -0.15327556431293488, 0.33121827244758606, -0.5518469214439392, -0.678277850151062, 0.5133925676345825, 0.402304470539093, 0.14115826785564423, 0.29075002670288086, -0.024717193096876144, 0.08491872251033783, 0.921018123626709, -0.2879924178123474, -0.04782577231526375, -0.5053457021713257, 0.21841320395469666, 0.4679972529411316, -0.014353815466165543, -0.7730737328529358, 0.9231590032577515, 0.05259397625923157, 0.22300250828266144, 0.1078283041715622, 0.010817356407642365, 0.9999500513076782, -0.12450405955314636, 0.4990394711494446, 1.0115092992782593, -0.4379339814186096, 0.23307225108146667, 0.2548093795776367, -0.7180497646331787, 1.3532142639160156, 0.24980320036411285, 0.17581266164779663, 0.3233334720134735, -0.638397753238678, 0.07708859443664551, 0.7091219425201416, 0.005495619028806686, -0.35136523842811584, -0.038551364094018936, -0.3510929346084595, 0.00397153664380312, 0.16934959590435028, 1.5372825860977173, 1.1136419773101807, 0.7352331876754761, -0.28503572940826416, 0.49368178844451904, -0.7871935367584229, -0.6050614714622498, 0.04660464823246002, -1.1912435293197632, 0.6440482139587402, 0.0028819069266319275, 0.15334442257881165, -1.2287653684616089, 0.4190655052661896, -0.4223547577857971, 0.14481273293495178, -0.40111231803894043, -0.7347565293312073, -0.2865203320980072, 0.9997579455375671, -0.08869180828332901, 0.5487560033798218, -0.45917651057243347, -1.1062649488449097, 0.6217547655105591, 0.9437935948371887, 0.8012492656707764, -1.1136499643325806, 0.5368541479110718, 0.7680180072784424, 0.47978290915489197, 0.3459845781326294, 0.1467248797416687, 0.1359429657459259, 0.7835057973861694, 0.4469226002693176, 1.7099075317382812, 0.038506895303726196, -0.09668723493814468, -0.18779954314231873, 0.12993191182613373, 1.0523271560668945, -0.33576786518096924, 0.6085627675056458, 0.020616427063941956, 0.2843513786792755, -0.23907235264778137, -0.32857534289360046, 0.12957806885242462, 0.16030457615852356, -1.020740032196045, -0.4548885226249695, -0.4569661021232605, -1.166473627090454, 0.170490562915802, -1.3774232864379883, 0.09387607127428055, -0.5007357597351074, -0.15069139003753662, 0.2914719879627228, 0.007654841989278793, -1.0564569234848022, -0.3319784998893738, -0.13592366874217987, -0.16020254790782928, 0.12998288869857788, -0.43016478419303894, 0.2369551956653595, 0.6609954237937927, -0.6712338924407959, -0.2250245362520218, -0.172063946723938, -0.6431673169136047, 0.30692386627197266, -0.7205554246902466, 0.7989038825035095, 4.4325666427612305, 0.44527846574783325, -0.30982261896133423, 0.9470233917236328, -1.1439244747161865, -0.19497427344322205, 0.9592440128326416, 0.06687899678945541, 1.1507657766342163, 1.2678804397583008, -0.0391993522644043, 0.007804437540471554, -0.5788955688476562, 0.17352505028247833, 0.6352107524871826, -0.11846588551998138, 0.31136393547058105, -0.10973003506660461, -0.278946191072464, 1.0340461730957031, 1.8182364702224731, 0.687980055809021, 0.24254357814788818, 0.1085764467716217, -0.586096465587616, 0.6562771201133728, 0.9054684638977051, 0.022416651248931885, -1.4240655899047852, 0.47816312313079834, -0.3890568017959595, 0.5806819796562195, -0.3168516457080841, 0.08293072879314423, 0.8087893128395081, 0.15370237827301025, -1.3619866371154785, -0.43319836258888245, -0.2880895137786865, 0.4139567017555237, 0.9535839557647705, 1.3638609647750854, -0.058563198894262314, -0.9955285787582397, -0.19134396314620972, -1.8149276971817017, 0.6526705026626587, -0.6737431883811951, -0.8772157430648804, 0.06721188873052597, 0.2742138206958771, -0.12156409025192261, 0.6201562881469727, -0.22567634284496307, 0.11824706941843033, -0.21834832429885864, 0.01151842251420021, -0.6622000932693481, -1.254254698753357, -0.09067240357398987, -0.4422556757926941, -0.023434696719050407, -0.4265315532684326, 1.7153294086456299, 0.3146451711654663, 0.4438835680484772, -0.6671258807182312, -0.7478103041648865, -0.4609836935997009, 0.22469490766525269, 1.3862351179122925, -0.5764413475990295, -0.4806957542896271, -0.8571406602859497, 0.49894917011260986, 0.724587619304657, 0.1821621209383011, 0.2590923309326172, -0.10683681070804596, -0.8113000988960266, -0.2386743575334549, -0.45976078510284424, 0.06964169442653656, 0.48229771852493286, -0.554623007774353, 0.646910548210144, -0.28751134872436523, -0.32875001430511475, -1.2603695392608643, 0.006325330585241318, 1.4131814241409302, -0.6571083664894104, -1.4225103855133057, -2.078054904937744, 0.02298443764448166, 0.10233758389949799, -0.003399580717086792, -0.35621654987335205, 0.5788530111312866, -0.16970986127853394, 0.2859663665294647, 0.580600380897522, -0.3891565203666687, -0.502643346786499, 0.7934951782226562, -0.2218966782093048, -0.4209829866886139, -0.3564309775829315, -1.0425561666488647, -0.14965522289276123, -0.35616782307624817, 0.016839738935232162, 0.9326879978179932, 0.4841776192188263, 0.7339457869529724, 0.05108314007520676, 1.1123692989349365, 0.9897142052650452, 0.6998375654220581, -0.09726142138242722, -0.0762915313243866, 0.379136323928833, -0.9438835978507996, -0.43254637718200684, 0.671811044216156, -0.5795884728431702, -0.7291701436042786, -0.8957746028900146, 0.08038267493247986, -0.2169850617647171, -0.05699878931045532, 0.8230894207954407, -0.6639714241027832, -0.35089415311813354, 0.40565377473831177, -0.7021516561508179, 1.031722903251648, 0.10629193484783173, -0.03383546322584152, -0.8504801392555237, 0.01391109824180603, -0.2330653965473175, 0.49286845326423645, 4.759525299072266, -0.015554824844002724, 0.19808825850486755, -0.707176923751831, -1.2272170782089233, -0.011262781918048859, -0.2150426208972931, 0.44475504755973816, 0.8638219237327576, -0.09762140363454819, -0.5258951187133789, -0.7413384318351746, -0.24734193086624146, -0.6404787302017212, -0.26665985584259033, 0.360828161239624, -0.8125118613243103, 0.33327656984329224, 1.4232704639434814, 0.07838381081819534, -0.13076184689998627, -0.40092933177948, 0.7880305051803589, 0.41668692231178284, -0.7738544940948486, 0.11889921873807907, -0.3806385397911072, -0.08896394073963165, -0.5792860388755798, -0.9677994847297668, -1.4315621852874756, 0.9141734838485718, 0.3429590165615082, -0.6551821231842041, 0.19097967445850372, 0.58612060546875, -0.49906063079833984, 0.07276257872581482, -0.14183948934078217, 0.8833984136581421, 0.6426307559013367, -0.1557779312133789, -1.4249756336212158, 0.5990691184997559, -1.0641924142837524, -0.06536375731229782, -0.042120859026908875, 0.3563587963581085, -0.5879569053649902, -0.14775216579437256, -0.5383564829826355, 0.5315533876419067, 0.09059982001781464, -0.3590266704559326, -5.5849552154541016e-05, -0.17407286167144775, 0.9481424689292908, -0.9319726228713989, -0.19757592678070068, 0.7075657248497009, 0.9750943183898926, -0.13283821940422058, 0.6058763265609741, 0.5586851239204407, 0.8659490942955017, -0.5638596415519714, 1.250487208366394, 0.24258022010326385, 0.3228873014450073, 1.2561864852905273, -0.09771271795034409, -0.059596188366413116, 0.2907507121562958, -0.6137334704399109, -0.17094014585018158, 0.12563729286193848, 0.9313368201255798, -0.8765061497688293, -0.3979213833808899, -0.6720440983772278, 1.0932565927505493, 0.13298861682415009, -0.396914541721344, 0.18010155856609344, -0.25946280360221863, 0.13557302951812744, 0.2768421173095703, -0.7232820391654968, -0.48993268609046936, -0.07392921298742294, -0.6020047068595886, 0.12580110132694244, 1.1428462266921997, -0.06536775082349777, 0.1738065928220749, -0.2137218415737152, -0.17590273916721344, -1.6807539463043213, -0.4994503855705261, 1.2556034326553345, -0.5175157785415649, 0.05761026218533516, -0.006646011024713516, 0.2052716612815857, 0.4983882009983063, 0.0017309645190835, -0.5299400687217712, -0.3452112078666687, -0.2539721727371216, -0.6363417506217957, 0.3898210823535919, 0.06548063457012177, 0.46021243929862976, -1.3737925291061401, 0.4640277326107025, 0.4014434218406677, -0.6827329397201538, 0.11104185879230499, -0.21132129430770874, -0.7249432802200317, -0.20273669064044952, -0.779238224029541, 0.3726999759674072, 0.36532533168792725, -0.7564888596534729, -0.5476481914520264, 0.5456399321556091, 0.2275409996509552, 0.6879032850265503, -0.12595447897911072, -0.5463359355926514, -0.2550378143787384, -0.7125440239906311, -0.5142189264297485, 0.6893101334571838, 0.13248883187770844, 0.18398810923099518, 0.21611946821212769, 0.21772682666778564, 0.49136072397232056, 0.12061519175767899, -0.09483487159013748, -0.6932971477508545, -0.06707797944545746, 0.7541966438293457, -0.020082784816622734, -0.19594985246658325, -0.27787962555885315, -0.21220572292804718, 0.8011991381645203, 0.9930813908576965, 0.03558262437582016, 0.6983540058135986, -0.07737454771995544, -0.5450835824012756, 0.06758289784193039, -0.14218971133232117, 0.2618408799171448, 0.025760412216186523, 0.5159785747528076, -0.43881064653396606]]]\n"
     ]
    },
    {
     "data": {
      "application/vnd.jupyter.widget-view+json": {
       "model_id": "c8ea4d9a4cc143db9061449a4e03d52d",
       "version_major": 2,
       "version_minor": 0
      },
      "text/plain": [
       "config.json:   0%|          | 0.00/1.15k [00:00<?, ?B/s]"
      ]
     },
     "metadata": {},
     "output_type": "display_data"
    },
    {
     "name": "stderr",
     "output_type": "stream",
     "text": [
      "c:\\Users\\saima\\Documents\\virtualenvs\\text_summarization_huggingFace\\Lib\\site-packages\\huggingface_hub\\file_download.py:159: UserWarning: `huggingface_hub` cache-system uses symlinks by default to efficiently store duplicated files but your machine does not support them in C:\\Users\\saima\\.cache\\huggingface\\hub\\models--facebook--bart-large-mnli. Caching files will still work but in a degraded version that might require more space on your disk. This warning can be disabled by setting the `HF_HUB_DISABLE_SYMLINKS_WARNING` environment variable. For more details, see https://huggingface.co/docs/huggingface_hub/how-to-cache#limitations.\n",
      "To support symlinks on Windows, you either need to activate Developer Mode or to run Python as an administrator. In order to see activate developer mode, see this article: https://docs.microsoft.com/en-us/windows/apps/get-started/enable-your-device-for-development\n",
      "  warnings.warn(message)\n"
     ]
    },
    {
     "data": {
      "application/vnd.jupyter.widget-view+json": {
       "model_id": "49b163d7838b474dbd104cc0dfb112ec",
       "version_major": 2,
       "version_minor": 0
      },
      "text/plain": [
       "model.safetensors:   0%|          | 0.00/1.63G [00:00<?, ?B/s]"
      ]
     },
     "metadata": {},
     "output_type": "display_data"
    },
    {
     "data": {
      "application/vnd.jupyter.widget-view+json": {
       "model_id": "a658742b2df44e02b1d511796598896c",
       "version_major": 2,
       "version_minor": 0
      },
      "text/plain": [
       "tokenizer_config.json:   0%|          | 0.00/26.0 [00:00<?, ?B/s]"
      ]
     },
     "metadata": {},
     "output_type": "display_data"
    },
    {
     "data": {
      "application/vnd.jupyter.widget-view+json": {
       "model_id": "7d7335016e9b4170b48d33b0f383308f",
       "version_major": 2,
       "version_minor": 0
      },
      "text/plain": [
       "vocab.json:   0%|          | 0.00/899k [00:00<?, ?B/s]"
      ]
     },
     "metadata": {},
     "output_type": "display_data"
    },
    {
     "data": {
      "application/vnd.jupyter.widget-view+json": {
       "model_id": "3ef5086ee05c4ba8a09de7be494e180e",
       "version_major": 2,
       "version_minor": 0
      },
      "text/plain": [
       "merges.txt:   0%|          | 0.00/456k [00:00<?, ?B/s]"
      ]
     },
     "metadata": {},
     "output_type": "display_data"
    },
    {
     "data": {
      "application/vnd.jupyter.widget-view+json": {
       "model_id": "9df8a32d05e94d56afec6970a82db979",
       "version_major": 2,
       "version_minor": 0
      },
      "text/plain": [
       "tokenizer.json:   0%|          | 0.00/1.36M [00:00<?, ?B/s]"
      ]
     },
     "metadata": {},
     "output_type": "display_data"
    },
    {
     "name": "stdout",
     "output_type": "stream",
     "text": [
      "{'sequence': 'This is a great product.', 'labels': ['positive', 'negative'], 'scores': [0.9981971383094788, 0.001802844344638288]}\n"
     ]
    },
    {
     "data": {
      "application/vnd.jupyter.widget-view+json": {
       "model_id": "0084076b2b73414f947001c7b7f4e747",
       "version_major": 2,
       "version_minor": 0
      },
      "text/plain": [
       "config.json:   0%|          | 0.00/1.58k [00:00<?, ?B/s]"
      ]
     },
     "metadata": {},
     "output_type": "display_data"
    },
    {
     "name": "stderr",
     "output_type": "stream",
     "text": [
      "c:\\Users\\saima\\Documents\\virtualenvs\\text_summarization_huggingFace\\Lib\\site-packages\\huggingface_hub\\file_download.py:159: UserWarning: `huggingface_hub` cache-system uses symlinks by default to efficiently store duplicated files but your machine does not support them in C:\\Users\\saima\\.cache\\huggingface\\hub\\models--facebook--bart-large-cnn. Caching files will still work but in a degraded version that might require more space on your disk. This warning can be disabled by setting the `HF_HUB_DISABLE_SYMLINKS_WARNING` environment variable. For more details, see https://huggingface.co/docs/huggingface_hub/how-to-cache#limitations.\n",
      "To support symlinks on Windows, you either need to activate Developer Mode or to run Python as an administrator. In order to see activate developer mode, see this article: https://docs.microsoft.com/en-us/windows/apps/get-started/enable-your-device-for-development\n",
      "  warnings.warn(message)\n"
     ]
    },
    {
     "data": {
      "application/vnd.jupyter.widget-view+json": {
       "model_id": "13e09af8817a41f8a82e486ba0036ed9",
       "version_major": 2,
       "version_minor": 0
      },
      "text/plain": [
       "model.safetensors:   0%|          | 0.00/1.63G [00:00<?, ?B/s]"
      ]
     },
     "metadata": {},
     "output_type": "display_data"
    },
    {
     "data": {
      "application/vnd.jupyter.widget-view+json": {
       "model_id": "94cd9dfbbd3f4c01b4cb5d2f28bf1ea1",
       "version_major": 2,
       "version_minor": 0
      },
      "text/plain": [
       "generation_config.json:   0%|          | 0.00/363 [00:00<?, ?B/s]"
      ]
     },
     "metadata": {},
     "output_type": "display_data"
    },
    {
     "data": {
      "application/vnd.jupyter.widget-view+json": {
       "model_id": "e36332232c364716908fdea4274675af",
       "version_major": 2,
       "version_minor": 0
      },
      "text/plain": [
       "vocab.json:   0%|          | 0.00/899k [00:00<?, ?B/s]"
      ]
     },
     "metadata": {},
     "output_type": "display_data"
    },
    {
     "data": {
      "application/vnd.jupyter.widget-view+json": {
       "model_id": "3e1295e03d9f4f83835512c23225b8c0",
       "version_major": 2,
       "version_minor": 0
      },
      "text/plain": [
       "merges.txt:   0%|          | 0.00/456k [00:00<?, ?B/s]"
      ]
     },
     "metadata": {},
     "output_type": "display_data"
    },
    {
     "data": {
      "application/vnd.jupyter.widget-view+json": {
       "model_id": "45c7feecb69b44078c20fb6b882c4b46",
       "version_major": 2,
       "version_minor": 0
      },
      "text/plain": [
       "tokenizer.json:   0%|          | 0.00/1.36M [00:00<?, ?B/s]"
      ]
     },
     "metadata": {},
     "output_type": "display_data"
    },
    {
     "name": "stderr",
     "output_type": "stream",
     "text": [
      "Your max_length is set to 142, but your input_length is only 36. Since this is a summarization task, where outputs shorter than the input are typically wanted, you might consider decreasing max_length manually, e.g. summarizer('...', max_length=18)\n"
     ]
    },
    {
     "name": "stdout",
     "output_type": "stream",
     "text": [
      "[{'summary_text': \"Amanda: Ask Larry. He called her last time we were at the park together. Hannah: I'd rather you texted him. Amanda: Just text him. He's a good guy. He'll call you back if he doesn't like the way you look.\"}]\n"
     ]
    },
    {
     "ename": "KeyError",
     "evalue": "\"Unknown task conversational, available tasks are ['audio-classification', 'automatic-speech-recognition', 'depth-estimation', 'document-question-answering', 'feature-extraction', 'fill-mask', 'image-classification', 'image-feature-extraction', 'image-segmentation', 'image-to-image', 'image-to-text', 'mask-generation', 'ner', 'object-detection', 'question-answering', 'sentiment-analysis', 'summarization', 'table-question-answering', 'text-classification', 'text-generation', 'text-to-audio', 'text-to-speech', 'text2text-generation', 'token-classification', 'translation', 'video-classification', 'visual-question-answering', 'vqa', 'zero-shot-audio-classification', 'zero-shot-classification', 'zero-shot-image-classification', 'zero-shot-object-detection', 'translation_XX_to_YY']\"",
     "output_type": "error",
     "traceback": [
      "\u001b[1;31m---------------------------------------------------------------------------\u001b[0m",
      "\u001b[1;31mKeyError\u001b[0m                                  Traceback (most recent call last)",
      "Cell \u001b[1;32mIn[4], line 47\u001b[0m\n\u001b[0;32m     44\u001b[0m \u001b[38;5;28mprint\u001b[39m(dialogue_summarizer(\u001b[38;5;124m\"\u001b[39m\u001b[38;5;124mAmanda: Ask Larry. Amanda: He called her last time we were at the park together. Hannah: I\u001b[39m\u001b[38;5;124m'\u001b[39m\u001b[38;5;124md rather you texted him. Amanda: Just text him.\u001b[39m\u001b[38;5;124m\"\u001b[39m))\n\u001b[0;32m     46\u001b[0m \u001b[38;5;66;03m# Conversational\u001b[39;00m\n\u001b[1;32m---> 47\u001b[0m conversational \u001b[38;5;241m=\u001b[39m \u001b[43mpipeline\u001b[49m\u001b[43m(\u001b[49m\u001b[38;5;124;43m'\u001b[39;49m\u001b[38;5;124;43mconversational\u001b[39;49m\u001b[38;5;124;43m'\u001b[39;49m\u001b[43m)\u001b[49m\n\u001b[0;32m     48\u001b[0m \u001b[38;5;28mprint\u001b[39m(conversational(\u001b[38;5;124m\"\u001b[39m\u001b[38;5;124mWhat is the weather today?\u001b[39m\u001b[38;5;124m\"\u001b[39m))\n",
      "File \u001b[1;32mc:\\Users\\saima\\Documents\\virtualenvs\\text_summarization_huggingFace\\Lib\\site-packages\\transformers\\pipelines\\__init__.py:849\u001b[0m, in \u001b[0;36mpipeline\u001b[1;34m(task, model, config, tokenizer, feature_extractor, image_processor, framework, revision, use_fast, token, device, device_map, torch_dtype, trust_remote_code, model_kwargs, pipeline_class, **kwargs)\u001b[0m\n\u001b[0;32m    842\u001b[0m         pipeline_class \u001b[38;5;241m=\u001b[39m get_class_from_dynamic_module(\n\u001b[0;32m    843\u001b[0m             class_ref,\n\u001b[0;32m    844\u001b[0m             model,\n\u001b[0;32m    845\u001b[0m             code_revision\u001b[38;5;241m=\u001b[39mcode_revision,\n\u001b[0;32m    846\u001b[0m             \u001b[38;5;241m*\u001b[39m\u001b[38;5;241m*\u001b[39mhub_kwargs,\n\u001b[0;32m    847\u001b[0m         )\n\u001b[0;32m    848\u001b[0m \u001b[38;5;28;01melse\u001b[39;00m:\n\u001b[1;32m--> 849\u001b[0m     normalized_task, targeted_task, task_options \u001b[38;5;241m=\u001b[39m \u001b[43mcheck_task\u001b[49m\u001b[43m(\u001b[49m\u001b[43mtask\u001b[49m\u001b[43m)\u001b[49m\n\u001b[0;32m    850\u001b[0m     \u001b[38;5;28;01mif\u001b[39;00m pipeline_class \u001b[38;5;129;01mis\u001b[39;00m \u001b[38;5;28;01mNone\u001b[39;00m:\n\u001b[0;32m    851\u001b[0m         pipeline_class \u001b[38;5;241m=\u001b[39m targeted_task[\u001b[38;5;124m\"\u001b[39m\u001b[38;5;124mimpl\u001b[39m\u001b[38;5;124m\"\u001b[39m]\n",
      "File \u001b[1;32mc:\\Users\\saima\\Documents\\virtualenvs\\text_summarization_huggingFace\\Lib\\site-packages\\transformers\\pipelines\\__init__.py:533\u001b[0m, in \u001b[0;36mcheck_task\u001b[1;34m(task)\u001b[0m\n\u001b[0;32m    488\u001b[0m \u001b[38;5;28;01mdef\u001b[39;00m \u001b[38;5;21mcheck_task\u001b[39m(task: \u001b[38;5;28mstr\u001b[39m) \u001b[38;5;241m-\u001b[39m\u001b[38;5;241m>\u001b[39m Tuple[\u001b[38;5;28mstr\u001b[39m, Dict, Any]:\n\u001b[0;32m    489\u001b[0m \u001b[38;5;250m    \u001b[39m\u001b[38;5;124;03m\"\"\"\u001b[39;00m\n\u001b[0;32m    490\u001b[0m \u001b[38;5;124;03m    Checks an incoming task string, to validate it's correct and return the default Pipeline and Model classes, and\u001b[39;00m\n\u001b[0;32m    491\u001b[0m \u001b[38;5;124;03m    default models if they exist.\u001b[39;00m\n\u001b[1;32m   (...)\u001b[0m\n\u001b[0;32m    531\u001b[0m \n\u001b[0;32m    532\u001b[0m \u001b[38;5;124;03m    \"\"\"\u001b[39;00m\n\u001b[1;32m--> 533\u001b[0m     \u001b[38;5;28;01mreturn\u001b[39;00m \u001b[43mPIPELINE_REGISTRY\u001b[49m\u001b[38;5;241;43m.\u001b[39;49m\u001b[43mcheck_task\u001b[49m\u001b[43m(\u001b[49m\u001b[43mtask\u001b[49m\u001b[43m)\u001b[49m\n",
      "File \u001b[1;32mc:\\Users\\saima\\Documents\\virtualenvs\\text_summarization_huggingFace\\Lib\\site-packages\\transformers\\pipelines\\base.py:1336\u001b[0m, in \u001b[0;36mPipelineRegistry.check_task\u001b[1;34m(self, task)\u001b[0m\n\u001b[0;32m   1333\u001b[0m         \u001b[38;5;28;01mreturn\u001b[39;00m task, targeted_task, (tokens[\u001b[38;5;241m1\u001b[39m], tokens[\u001b[38;5;241m3\u001b[39m])\n\u001b[0;32m   1334\u001b[0m     \u001b[38;5;28;01mraise\u001b[39;00m \u001b[38;5;167;01mKeyError\u001b[39;00m(\u001b[38;5;124mf\u001b[39m\u001b[38;5;124m\"\u001b[39m\u001b[38;5;124mInvalid translation task \u001b[39m\u001b[38;5;132;01m{\u001b[39;00mtask\u001b[38;5;132;01m}\u001b[39;00m\u001b[38;5;124m, use \u001b[39m\u001b[38;5;124m'\u001b[39m\u001b[38;5;124mtranslation_XX_to_YY\u001b[39m\u001b[38;5;124m'\u001b[39m\u001b[38;5;124m format\u001b[39m\u001b[38;5;124m\"\u001b[39m)\n\u001b[1;32m-> 1336\u001b[0m \u001b[38;5;28;01mraise\u001b[39;00m \u001b[38;5;167;01mKeyError\u001b[39;00m(\n\u001b[0;32m   1337\u001b[0m     \u001b[38;5;124mf\u001b[39m\u001b[38;5;124m\"\u001b[39m\u001b[38;5;124mUnknown task \u001b[39m\u001b[38;5;132;01m{\u001b[39;00mtask\u001b[38;5;132;01m}\u001b[39;00m\u001b[38;5;124m, available tasks are \u001b[39m\u001b[38;5;132;01m{\u001b[39;00m\u001b[38;5;28mself\u001b[39m\u001b[38;5;241m.\u001b[39mget_supported_tasks()\u001b[38;5;250m \u001b[39m\u001b[38;5;241m+\u001b[39m\u001b[38;5;250m \u001b[39m[\u001b[38;5;124m'\u001b[39m\u001b[38;5;124mtranslation_XX_to_YY\u001b[39m\u001b[38;5;124m'\u001b[39m]\u001b[38;5;132;01m}\u001b[39;00m\u001b[38;5;124m\"\u001b[39m\n\u001b[0;32m   1338\u001b[0m )\n",
      "\u001b[1;31mKeyError\u001b[0m: \"Unknown task conversational, available tasks are ['audio-classification', 'automatic-speech-recognition', 'depth-estimation', 'document-question-answering', 'feature-extraction', 'fill-mask', 'image-classification', 'image-feature-extraction', 'image-segmentation', 'image-to-image', 'image-to-text', 'mask-generation', 'ner', 'object-detection', 'question-answering', 'sentiment-analysis', 'summarization', 'table-question-answering', 'text-classification', 'text-generation', 'text-to-audio', 'text-to-speech', 'text2text-generation', 'token-classification', 'translation', 'video-classification', 'visual-question-answering', 'vqa', 'zero-shot-audio-classification', 'zero-shot-classification', 'zero-shot-image-classification', 'zero-shot-object-detection', 'translation_XX_to_YY']\""
     ]
    }
   ],
   "source": [
    "# The pipeline function provides an easy way to use pre-trained models for various tasks.\n",
    "# Below are examples of tasks you can perform using the pipeline, along with their corresponding task identifiers.\n",
    "\n",
    "from transformers import pipeline\n",
    "\n",
    "# Text Classification (Sentiment Analysis)\n",
    "classifier = pipeline('sentiment-analysis')\n",
    "print(classifier(\"I love this!\"))\n",
    "\n",
    "# Named Entity Recognition (NER)\n",
    "ner = pipeline('ner')\n",
    "print(ner(\"Hugging Face Inc. is a company based in New York City.\"))\n",
    "\n",
    "# Question Answering\n",
    "qa = pipeline('question-answering')\n",
    "print(qa(question=\"What's the capital of France?\", context=\"The capital of France is Paris.\"))\n",
    "\n",
    "# Text Generation\n",
    "text_generator = pipeline('text-generation')\n",
    "print(text_generator(\"Once upon a time,\"))\n",
    "\n",
    "# Translation (English to French)\n",
    "translator = pipeline('translation_en_to_fr')\n",
    "print(translator(\"Hello, how are you?\"))\n",
    "\n",
    "# Summarization\n",
    "summarizer = pipeline('summarization')\n",
    "print(summarizer(\"The Eiffel Tower is a wrought-iron lattice tower on the Champ de Mars in Paris, France.\"))\n",
    "\n",
    "# Text2Text Generation\n",
    "text2text_generator = pipeline('text2text-generation')\n",
    "print(text2text_generator(\"Translate English to German: Hello\"))\n",
    "\n",
    "# Feature Extraction\n",
    "feature_extractor = pipeline('feature-extraction')\n",
    "print(feature_extractor(\"Hugging Face Inc. is a company based in New York City.\"))\n",
    "\n",
    "# Zero-Shot Classification\n",
    "zero_shot_classifier = pipeline('zero-shot-classification')\n",
    "print(zero_shot_classifier(\"This is a great product.\", candidate_labels=[\"positive\", \"negative\"]))\n",
    "\n",
    "# Dialogue Summarization\n",
    "dialogue_summarizer = pipeline('summarization', model='facebook/bart-large-cnn')\n",
    "print(dialogue_summarizer(\"Amanda: Ask Larry. Amanda: He called her last time we were at the park together. Hannah: I'd rather you texted him. Amanda: Just text him.\"))\n",
    "\n",
    "# Conversational\n",
    "conversational = pipeline('conversational')\n",
    "print(conversational(\"What is the weather today?\"))\n"
   ]
  },
  {
   "cell_type": "code",
   "execution_count": null,
   "metadata": {},
   "outputs": [],
   "source": []
  }
 ],
 "metadata": {
  "kernelspec": {
   "display_name": "Text Summarization (HuggingFace)",
   "language": "python",
   "name": "text_summarization_huggingface"
  },
  "language_info": {
   "codemirror_mode": {
    "name": "ipython",
    "version": 3
   },
   "file_extension": ".py",
   "mimetype": "text/x-python",
   "name": "python",
   "nbconvert_exporter": "python",
   "pygments_lexer": "ipython3",
   "version": "3.11.4"
  }
 },
 "nbformat": 4,
 "nbformat_minor": 2
}
